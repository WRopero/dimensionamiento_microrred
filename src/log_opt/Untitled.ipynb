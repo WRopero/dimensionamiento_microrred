{
 "cells": [
  {
   "cell_type": "code",
   "execution_count": 1,
   "id": "4c2ca062",
   "metadata": {
    "ExecuteTime": {
     "end_time": "2021-09-18T23:05:52.089507Z",
     "start_time": "2021-09-18T23:05:52.077503Z"
    }
   },
   "outputs": [],
   "source": [
    "import re\n",
    "import os"
   ]
  },
  {
   "cell_type": "code",
   "execution_count": 2,
   "id": "b825b2ee",
   "metadata": {
    "ExecuteTime": {
     "end_time": "2021-09-18T23:05:53.098562Z",
     "start_time": "2021-09-18T23:05:53.082556Z"
    }
   },
   "outputs": [],
   "source": [
    "directory = [i.replace(\".txt\",\"\") for i in os.listdir(os.getcwd()) if \"txt\" in i]"
   ]
  },
  {
   "cell_type": "code",
   "execution_count": 3,
   "id": "f17e8e6b",
   "metadata": {
    "ExecuteTime": {
     "end_time": "2021-09-18T23:05:54.904300Z",
     "start_time": "2021-09-18T23:05:54.882080Z"
    }
   },
   "outputs": [],
   "source": [
    "def obtain_second_time_gap(simulacion):\n",
    "    \"\"\"\n",
    "\n",
    "    \"\"\"\n",
    "    with open(f'{simulacion}.txt') as f:\n",
    "        lines = \" \".join(f.readlines())\n",
    "    patron = re.compile('gap\\s*[0-9]\\.[0-9]*')\n",
    "\n",
    "    patron2 = re.compile('in\\s*[0-9]*\\.[0-9]*\\sseconds')\n",
    "    return (simulacion, float(patron.search(lines)[0].split()[1]),\n",
    "            float(patron2.search(lines)[0].split()[1]))"
   ]
  },
  {
   "cell_type": "code",
   "execution_count": 4,
   "id": "c38eba07",
   "metadata": {
    "ExecuteTime": {
     "end_time": "2021-09-18T23:05:59.448226Z",
     "start_time": "2021-09-18T23:05:57.855247Z"
    },
    "scrolled": true
   },
   "outputs": [
    {
     "name": "stdout",
     "output_type": "stream",
     "text": [
      "error en: 1008\n",
      "error en: 113\n",
      "error en: 114\n",
      "error en: 115\n",
      "error en: 116\n",
      "error en: 14\n",
      "error en: 16\n",
      "error en: 18\n",
      "error en: 2000\n",
      "error en: 21\n",
      "error en: 3000\n",
      "error en: 40\n",
      "error en: 41\n",
      "error en: 42\n",
      "error en: 43\n",
      "error en: 44\n",
      "error en: 52\n",
      "error en: 59\n",
      "error en: 60\n",
      "error en: 600\n",
      "error en: 61\n",
      "error en: 62\n",
      "error en: 63\n",
      "error en: 64\n",
      "error en: 66\n",
      "error en: 71\n",
      "error en: 82\n",
      "error en: 83\n",
      "error en: 84\n",
      "error en: 85\n",
      "error en: 86\n",
      "error en: 88\n"
     ]
    }
   ],
   "source": [
    "info = []\n",
    "for i in directory:\n",
    "    try:\n",
    "        info.append(obtain_second_time_gap(i))\n",
    "    except:\n",
    "        print(\"error en:\",i)"
   ]
  },
  {
   "cell_type": "code",
   "execution_count": 6,
   "id": "818f194f",
   "metadata": {
    "ExecuteTime": {
     "end_time": "2021-09-18T23:06:16.854910Z",
     "start_time": "2021-09-18T23:06:15.388959Z"
    }
   },
   "outputs": [],
   "source": [
    "import pandas as pd"
   ]
  },
  {
   "cell_type": "code",
   "execution_count": 8,
   "id": "e1db2139",
   "metadata": {
    "ExecuteTime": {
     "end_time": "2021-09-18T23:07:16.135443Z",
     "start_time": "2021-09-18T23:07:16.115541Z"
    }
   },
   "outputs": [
    {
     "data": {
      "text/plain": [
       "('1', 4.9583, 287.73)"
      ]
     },
     "execution_count": 8,
     "metadata": {},
     "output_type": "execute_result"
    }
   ],
   "source": [
    "info[0]"
   ]
  },
  {
   "cell_type": "code",
   "execution_count": 9,
   "id": "c11089f9",
   "metadata": {
    "ExecuteTime": {
     "end_time": "2021-09-18T23:07:33.650309Z",
     "start_time": "2021-09-18T23:07:33.635716Z"
    },
    "scrolled": true
   },
   "outputs": [],
   "source": [
    "info_final = pd.DataFrame(info)\n",
    "info_final.columns =['id_simulacion','gap_percentaje','time_seconds']"
   ]
  },
  {
   "cell_type": "code",
   "execution_count": 12,
   "id": "9ef3f50f",
   "metadata": {
    "ExecuteTime": {
     "end_time": "2021-09-18T23:09:22.370676Z",
     "start_time": "2021-09-18T23:09:22.274674Z"
    },
    "scrolled": true
   },
   "outputs": [],
   "source": [
    "info_final.to_excel('ouput_times.xlsx', index=False)"
   ]
  }
 ],
 "metadata": {
  "hide_input": false,
  "kernelspec": {
   "display_name": "Python 3",
   "language": "python",
   "name": "python3"
  },
  "language_info": {
   "codemirror_mode": {
    "name": "ipython",
    "version": 3
   },
   "file_extension": ".py",
   "mimetype": "text/x-python",
   "name": "python",
   "nbconvert_exporter": "python",
   "pygments_lexer": "ipython3",
   "version": "3.7.6"
  },
  "toc": {
   "base_numbering": 1,
   "nav_menu": {},
   "number_sections": true,
   "sideBar": true,
   "skip_h1_title": false,
   "title_cell": "Table of Contents",
   "title_sidebar": "Contents",
   "toc_cell": false,
   "toc_position": {},
   "toc_section_display": true,
   "toc_window_display": false
  },
  "varInspector": {
   "cols": {
    "lenName": 16,
    "lenType": 16,
    "lenVar": 40
   },
   "kernels_config": {
    "python": {
     "delete_cmd_postfix": "",
     "delete_cmd_prefix": "del ",
     "library": "var_list.py",
     "varRefreshCmd": "print(var_dic_list())"
    },
    "r": {
     "delete_cmd_postfix": ") ",
     "delete_cmd_prefix": "rm(",
     "library": "var_list.r",
     "varRefreshCmd": "cat(var_dic_list()) "
    }
   },
   "types_to_exclude": [
    "module",
    "function",
    "builtin_function_or_method",
    "instance",
    "_Feature"
   ],
   "window_display": false
  }
 },
 "nbformat": 4,
 "nbformat_minor": 5
}
