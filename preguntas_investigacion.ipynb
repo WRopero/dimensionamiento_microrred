{
 "cells": [
  {
   "cell_type": "code",
   "execution_count": 1,
   "id": "56e73166",
   "metadata": {
    "ExecuteTime": {
     "end_time": "2021-10-10T00:49:51.558642Z",
     "start_time": "2021-10-10T00:49:48.286372Z"
    }
   },
   "outputs": [
    {
     "name": "stderr",
     "output_type": "stream",
     "text": [
      "In C:\\Users\\wrope\\anaconda3\\lib\\site-packages\\matplotlib\\mpl-data\\stylelib\\_classic_test.mplstyle: \n",
      "The text.latex.preview rcparam was deprecated in Matplotlib 3.3 and will be removed two minor releases later.\n",
      "In C:\\Users\\wrope\\anaconda3\\lib\\site-packages\\matplotlib\\mpl-data\\stylelib\\_classic_test.mplstyle: \n",
      "The mathtext.fallback_to_cm rcparam was deprecated in Matplotlib 3.3 and will be removed two minor releases later.\n",
      "In C:\\Users\\wrope\\anaconda3\\lib\\site-packages\\matplotlib\\mpl-data\\stylelib\\_classic_test.mplstyle: Support for setting the 'mathtext.fallback_to_cm' rcParam is deprecated since 3.3 and will be removed two minor releases later; use 'mathtext.fallback : 'cm' instead.\n",
      "In C:\\Users\\wrope\\anaconda3\\lib\\site-packages\\matplotlib\\mpl-data\\stylelib\\_classic_test.mplstyle: \n",
      "The validate_bool_maybe_none function was deprecated in Matplotlib 3.3 and will be removed two minor releases later.\n",
      "In C:\\Users\\wrope\\anaconda3\\lib\\site-packages\\matplotlib\\mpl-data\\stylelib\\_classic_test.mplstyle: \n",
      "The savefig.jpeg_quality rcparam was deprecated in Matplotlib 3.3 and will be removed two minor releases later.\n",
      "In C:\\Users\\wrope\\anaconda3\\lib\\site-packages\\matplotlib\\mpl-data\\stylelib\\_classic_test.mplstyle: \n",
      "The keymap.all_axes rcparam was deprecated in Matplotlib 3.3 and will be removed two minor releases later.\n",
      "In C:\\Users\\wrope\\anaconda3\\lib\\site-packages\\matplotlib\\mpl-data\\stylelib\\_classic_test.mplstyle: \n",
      "The animation.avconv_path rcparam was deprecated in Matplotlib 3.3 and will be removed two minor releases later.\n",
      "In C:\\Users\\wrope\\anaconda3\\lib\\site-packages\\matplotlib\\mpl-data\\stylelib\\_classic_test.mplstyle: \n",
      "The animation.avconv_args rcparam was deprecated in Matplotlib 3.3 and will be removed two minor releases later.\n"
     ]
    }
   ],
   "source": [
    "import pandas as pd\n",
    "import sqlite3\n",
    "import os\n",
    "import seaborn as sns\n",
    "import matplotlib.pyplot as plt\n",
    "import warnings\n",
    "warnings.filterwarnings('ignore')\n",
    "import numpy as np\n",
    "import plotly.express as px"
   ]
  },
  {
   "cell_type": "code",
   "execution_count": 2,
   "id": "16e3be1e",
   "metadata": {
    "ExecuteTime": {
     "end_time": "2021-10-10T00:49:52.615106Z",
     "start_time": "2021-10-10T00:49:51.574260Z"
    }
   },
   "outputs": [],
   "source": [
    "info_tiempos = pd.read_excel(r'ouput_times.xlsx')"
   ]
  },
  {
   "cell_type": "markdown",
   "id": "e2972346",
   "metadata": {},
   "source": [
    "# Preparación de los datos simulados para analisis"
   ]
  },
  {
   "cell_type": "markdown",
   "id": "52dde2aa",
   "metadata": {},
   "source": [
    "#### Función para leer datos"
   ]
  },
  {
   "cell_type": "markdown",
   "id": "b11eca90",
   "metadata": {},
   "source": [
    "#### Exploración de datos"
   ]
  },
  {
   "cell_type": "code",
   "execution_count": 3,
   "id": "3d279c44",
   "metadata": {
    "ExecuteTime": {
     "end_time": "2021-10-10T02:59:07.058257Z",
     "start_time": "2021-10-10T02:59:07.042610Z"
    }
   },
   "outputs": [],
   "source": [
    "def conexion_bd(sql=None, database = None,update=True):\n",
    "    \n",
    "    sqlite3.register_adapter(np.int64, lambda val: int(val))\n",
    "    sqlite3.register_adapter(np.int32, lambda val: int(val))\n",
    "\n",
    "    con = sqlite3.connect(os.getcwd() + os.sep + database)\n",
    "    \n",
    "    try:\n",
    "        if update == True:\n",
    "            cur = con.cursor()\n",
    "            cur.execute(sql)\n",
    "            con.commit()\n",
    "            df=None\n",
    "        else:\n",
    "            df= pd.read_sql_query(sql, con=con)\n",
    "    except:\n",
    "        print(sql)\n",
    "        df=None\n",
    "    con.close()\n",
    "    \n",
    "    return df"
   ]
  },
  {
   "cell_type": "code",
   "execution_count": 4,
   "id": "bc3fe53e",
   "metadata": {
    "ExecuteTime": {
     "end_time": "2021-10-10T02:59:08.159930Z",
     "start_time": "2021-10-10T02:59:07.827732Z"
    }
   },
   "outputs": [],
   "source": [
    "df1 = conexion_bd(sql='select*from parametros', database = 'result_op.db',update=False) \n",
    "df2 = conexion_bd(sql='select*from parametros', database = 'result_op__.db',update=False)\n",
    "df = pd.concat([df1,df2]).drop_duplicates().reset_index(drop=True)"
   ]
  },
  {
   "cell_type": "code",
   "execution_count": 15,
   "id": "9c5eb9ee",
   "metadata": {
    "ExecuteTime": {
     "end_time": "2021-10-10T03:01:02.088076Z",
     "start_time": "2021-10-10T03:01:02.034676Z"
    }
   },
   "outputs": [
    {
     "data": {
      "text/html": [
       "<div>\n",
       "<style scoped>\n",
       "    .dataframe tbody tr th:only-of-type {\n",
       "        vertical-align: middle;\n",
       "    }\n",
       "\n",
       "    .dataframe tbody tr th {\n",
       "        vertical-align: top;\n",
       "    }\n",
       "\n",
       "    .dataframe thead th {\n",
       "        text-align: right;\n",
       "    }\n",
       "</style>\n",
       "<table border=\"1\" class=\"dataframe\">\n",
       "  <thead>\n",
       "    <tr style=\"text-align: right;\">\n",
       "      <th></th>\n",
       "      <th>id_simulacion</th>\n",
       "      <th>n_pv</th>\n",
       "      <th>n_dg</th>\n",
       "      <th>p_dg</th>\n",
       "      <th>min_dg</th>\n",
       "      <th>efi_dg</th>\n",
       "      <th>lpsp</th>\n",
       "      <th>p_bat</th>\n",
       "      <th>cond_init_bat</th>\n",
       "      <th>val_aux_bateria</th>\n",
       "      <th>...</th>\n",
       "      <th>plim</th>\n",
       "      <th>oym_dg</th>\n",
       "      <th>asc</th>\n",
       "      <th>lcoe</th>\n",
       "      <th>asc_incentivo</th>\n",
       "      <th>lcoe_incentivo</th>\n",
       "      <th>cost_e_dg</th>\n",
       "      <th>cost_e_pv</th>\n",
       "      <th>cost_e_bat</th>\n",
       "      <th>cost_e_ens</th>\n",
       "    </tr>\n",
       "  </thead>\n",
       "  <tbody>\n",
       "    <tr>\n",
       "      <th>113</th>\n",
       "      <td>10</td>\n",
       "      <td>190</td>\n",
       "      <td>1</td>\n",
       "      <td>10.0</td>\n",
       "      <td>0.9</td>\n",
       "      <td>1</td>\n",
       "      <td>0.05</td>\n",
       "      <td>40.32</td>\n",
       "      <td>40.32</td>\n",
       "      <td>0.01</td>\n",
       "      <td>...</td>\n",
       "      <td>79900.0</td>\n",
       "      <td>13597737.29</td>\n",
       "      <td>17016.74</td>\n",
       "      <td>0.54</td>\n",
       "      <td>16237.73</td>\n",
       "      <td>0.51</td>\n",
       "      <td>2736.86</td>\n",
       "      <td>63.56</td>\n",
       "      <td>931.6</td>\n",
       "      <td>1355.5</td>\n",
       "    </tr>\n",
       "  </tbody>\n",
       "</table>\n",
       "<p>1 rows × 57 columns</p>\n",
       "</div>"
      ],
      "text/plain": [
       "     id_simulacion  n_pv  n_dg  p_dg  min_dg  efi_dg  lpsp  p_bat  \\\n",
       "113             10   190     1  10.0     0.9       1  0.05  40.32   \n",
       "\n",
       "     cond_init_bat  val_aux_bateria  ...     plim       oym_dg       asc  \\\n",
       "113          40.32             0.01  ...  79900.0  13597737.29  17016.74   \n",
       "\n",
       "     lcoe  asc_incentivo  lcoe_incentivo  cost_e_dg  cost_e_pv  cost_e_bat  \\\n",
       "113  0.54       16237.73            0.51    2736.86      63.56       931.6   \n",
       "\n",
       "     cost_e_ens  \n",
       "113      1355.5  \n",
       "\n",
       "[1 rows x 57 columns]"
      ]
     },
     "execution_count": 15,
     "metadata": {},
     "output_type": "execute_result"
    }
   ],
   "source": [
    "df2[df2['id_simulacion']==10]"
   ]
  },
  {
   "cell_type": "code",
   "execution_count": 5,
   "id": "efdb03e5",
   "metadata": {
    "ExecuteTime": {
     "end_time": "2021-10-10T02:59:08.507249Z",
     "start_time": "2021-10-10T02:59:08.406915Z"
    }
   },
   "outputs": [
    {
     "data": {
      "text/plain": [
       "125"
      ]
     },
     "execution_count": 5,
     "metadata": {},
     "output_type": "execute_result"
    }
   ],
   "source": [
    "len(df.query('optimizacion==\"optimal\"' ))"
   ]
  },
  {
   "cell_type": "code",
   "execution_count": 6,
   "id": "b0d8f848",
   "metadata": {
    "ExecuteTime": {
     "end_time": "2021-10-10T02:59:21.139753Z",
     "start_time": "2021-10-10T02:59:11.351703Z"
    }
   },
   "outputs": [],
   "source": [
    "df3 = conexion_bd(sql=\"\"\"select id_simulacion, energia_PV, energia_Dg, \n",
    "                        energia_carga_bateria, energia_descarga_bateria, \n",
    "                        energia_ENS, \"SOC(t)_bateria\",load, p_bat_pv, p_bat_dg \n",
    "                        from resultados\"\"\",\n",
    "                  database='result_op.db',\n",
    "                  update=False)\n",
    "df4 = conexion_bd(sql=\"\"\"select id_simulacion, energia_PV, energia_Dg, \n",
    "                        energia_carga_bateria, energia_descarga_bateria, \n",
    "                        energia_ENS, \"SOC(t)_bateria\", load, p_bat_pv, \n",
    "                        p_bat_dg from resultados\"\"\",\n",
    "                  database='result_op__.db',\n",
    "                  update=False)\n",
    "df0 = pd.concat([df3, df4]).reset_index(drop=True)"
   ]
  },
  {
   "cell_type": "code",
   "execution_count": 7,
   "id": "b4cbb56e",
   "metadata": {
    "ExecuteTime": {
     "end_time": "2021-10-10T02:59:21.393694Z",
     "start_time": "2021-10-10T02:59:21.371527Z"
    }
   },
   "outputs": [],
   "source": [
    "def promedio_horas_sin_servicio(bd,id):\n",
    "    conteo_horas =  conexion_bd(sql=f\"\"\"select id_simulacion,\n",
    "                            energia_ENS, energia_Dg from resultados where id_simulacion={id}\"\"\",\n",
    "                      database=bd,\n",
    "                      update=False)\n",
    "    def horas(x):\n",
    "        if x>0:\n",
    "            y=1\n",
    "        else:\n",
    "            y=0\n",
    "        return y\n",
    "    conteo_horas[\"hora_ens\"] = conteo_horas['energia_ENS'].apply(lambda x: horas(x))\n",
    "    horas = conteo_horas['hora_ens'].to_list()\n",
    "    def chunks(lst, n):\n",
    "        \"\"\"Yield successive n-sized chunks from lst.\"\"\"\n",
    "        for i in range(0, len(lst), n):\n",
    "            yield lst[i:i + n]\n",
    "    nueva_horas = list(chunks(horas, 24))        \n",
    "    lista_horas = [sum(i) for i in nueva_horas]\n",
    "    return (id,round(sum(lista_horas)/365,1))"
   ]
  },
  {
   "cell_type": "code",
   "execution_count": 8,
   "id": "ea328aa4",
   "metadata": {
    "ExecuteTime": {
     "end_time": "2021-10-10T02:59:21.594288Z",
     "start_time": "2021-10-10T02:59:21.556475Z"
    }
   },
   "outputs": [
    {
     "name": "stdout",
     "output_type": "stream",
     "text": [
      "[29, 30, 31, 32, 33, 34, 35, 36, 37, 38, 39, 40, 41, 42, 43, 44, 45, 46, 47, 48, 49, 50, 51, 52, 53, 54, 55, 56, 57, 59, 60, 61, 62, 63, 64, 65, 66, 67, 68, 69, 70, 58, 72, 73, 74, 75, 76, 77, 78, 79, 80, 81, 82, 83, 84, 85, 86, 87, 88, 89, 90, 91, 92, 93, 94, 95, 96, 97, 98, 99, 100, 101, 102, 103, 104, 105, 106, 107, 108, 109, 110, 111, 112, 1, 2, 3, 4, 5, 6, 7, 8, 9, 10, 11, 12, 13, 14, 15, 16, 17, 18, 19, 20, 21, 200, 300, 400, 500, 600, 700, 800, 900, 901, 902, 903, 904, 905, 906, 907, 909]\n"
     ]
    }
   ],
   "source": [
    "busqueda =  df2['id_simulacion'].to_list()\n",
    "busqueda = list(dict.fromkeys(busqueda))\n",
    "print(busqueda) \n",
    "#df2['id_simulacion'].to_list() +\n",
    "busqueda2 =  df1['id_simulacion'].to_list()\n",
    "busqueda2 = list(dict.fromkeys(busqueda2))"
   ]
  },
  {
   "cell_type": "code",
   "execution_count": 9,
   "id": "b58f370d",
   "metadata": {
    "ExecuteTime": {
     "end_time": "2021-10-10T02:59:21.772672Z",
     "start_time": "2021-10-10T02:59:21.757062Z"
    }
   },
   "outputs": [
    {
     "data": {
      "text/plain": [
       "17"
      ]
     },
     "execution_count": 9,
     "metadata": {},
     "output_type": "execute_result"
    }
   ],
   "source": [
    "len(busqueda2)"
   ]
  },
  {
   "cell_type": "code",
   "execution_count": 18,
   "id": "04c9a558",
   "metadata": {
    "ExecuteTime": {
     "end_time": "2021-10-10T03:12:59.083137Z",
     "start_time": "2021-10-10T03:12:58.998472Z"
    }
   },
   "outputs": [
    {
     "data": {
      "text/plain": [
       "(1007, 2.6)"
      ]
     },
     "execution_count": 18,
     "metadata": {},
     "output_type": "execute_result"
    }
   ],
   "source": [
    "promedio_horas_sin_servicio('result_op.db',1007)"
   ]
  },
  {
   "cell_type": "code",
   "execution_count": null,
   "id": "0de566d6",
   "metadata": {},
   "outputs": [],
   "source": []
  },
  {
   "cell_type": "code",
   "execution_count": 84,
   "id": "22a9e513",
   "metadata": {
    "ExecuteTime": {
     "end_time": "2021-09-30T03:02:14.316771Z",
     "start_time": "2021-09-30T03:01:29.185755Z"
    }
   },
   "outputs": [],
   "source": [
    "horas1 = [promedio_horas_sin_servicio('result_op__.db',i) for i in busqueda]    \n",
    "horas2 = [promedio_horas_sin_servicio('result_op.db',i) for i in busqueda2]    "
   ]
  },
  {
   "cell_type": "code",
   "execution_count": 85,
   "id": "d71fd285",
   "metadata": {
    "ExecuteTime": {
     "end_time": "2021-09-30T03:02:59.389311Z",
     "start_time": "2021-09-30T03:02:59.373339Z"
    }
   },
   "outputs": [],
   "source": [
    "horas_final = pd.DataFrame(horas1+horas2).sort_values(by=1, ascending=False)\n",
    "horas_final.columns = ['id_simulacion','h_sin_servicio']\n",
    "horas_final['h_con_servicio'] = horas_final['h_sin_servicio'].apply(lambda x: 24-x)"
   ]
  },
  {
   "cell_type": "code",
   "execution_count": 123,
   "id": "95ddfe3b",
   "metadata": {
    "ExecuteTime": {
     "end_time": "2021-09-30T03:40:04.881238Z",
     "start_time": "2021-09-30T03:40:04.865268Z"
    }
   },
   "outputs": [
    {
     "data": {
      "text/plain": [
       "137"
      ]
     },
     "execution_count": 123,
     "metadata": {},
     "output_type": "execute_result"
    }
   ],
   "source": [
    "len(horas_final)"
   ]
  },
  {
   "cell_type": "code",
   "execution_count": 90,
   "id": "776c5bdb",
   "metadata": {
    "ExecuteTime": {
     "end_time": "2021-09-30T03:05:10.707294Z",
     "start_time": "2021-09-30T03:05:10.695323Z"
    }
   },
   "outputs": [],
   "source": [
    "df0 = df0.groupby('id_simulacion').sum().reset_index()"
   ]
  },
  {
   "cell_type": "code",
   "execution_count": 134,
   "id": "d1c2e6bd",
   "metadata": {
    "ExecuteTime": {
     "end_time": "2021-09-30T03:45:42.515388Z",
     "start_time": "2021-09-30T03:45:42.475373Z"
    }
   },
   "outputs": [],
   "source": [
    "df_analisis = df.merge(df0, left_on='id_simulacion', right_on='id_simulacion')\n",
    "df_analisis = df_analisis.merge(info_tiempos,\n",
    "                       left_on='id_simulacion',\n",
    "                       right_on='id_simulacion',\n",
    "                       how='left')\n",
    "df_analisis = df_analisis.merge(horas_final,\n",
    "                       left_on='id_simulacion',\n",
    "                       right_on='id_simulacion',\n",
    "                       how='left')"
   ]
  },
  {
   "cell_type": "code",
   "execution_count": 137,
   "id": "3fe28b99",
   "metadata": {
    "ExecuteTime": {
     "end_time": "2021-09-30T03:46:06.648353Z",
     "start_time": "2021-09-30T03:46:06.624354Z"
    }
   },
   "outputs": [],
   "source": [
    "df_analisis = df_analisis.drop_duplicates(subset =\"id_simulacion\")"
   ]
  },
  {
   "cell_type": "code",
   "execution_count": 138,
   "id": "9fc06515",
   "metadata": {
    "ExecuteTime": {
     "end_time": "2021-09-30T03:46:09.284139Z",
     "start_time": "2021-09-30T03:46:09.188132Z"
    }
   },
   "outputs": [
    {
     "data": {
      "text/html": [
       "<div>\n",
       "<style scoped>\n",
       "    .dataframe tbody tr th:only-of-type {\n",
       "        vertical-align: middle;\n",
       "    }\n",
       "\n",
       "    .dataframe tbody tr th {\n",
       "        vertical-align: top;\n",
       "    }\n",
       "\n",
       "    .dataframe thead th {\n",
       "        text-align: right;\n",
       "    }\n",
       "</style>\n",
       "<table border=\"1\" class=\"dataframe\">\n",
       "  <thead>\n",
       "    <tr style=\"text-align: right;\">\n",
       "      <th></th>\n",
       "      <th>id_simulacion</th>\n",
       "      <th>n_pv</th>\n",
       "      <th>n_dg</th>\n",
       "      <th>p_dg</th>\n",
       "      <th>min_dg</th>\n",
       "      <th>efi_dg</th>\n",
       "      <th>lpsp</th>\n",
       "      <th>p_bat</th>\n",
       "      <th>cond_init_bat</th>\n",
       "      <th>val_aux_bateria</th>\n",
       "      <th>...</th>\n",
       "      <th>energia_descarga_bateria</th>\n",
       "      <th>energia_ENS</th>\n",
       "      <th>SOC(t)_bateria</th>\n",
       "      <th>load</th>\n",
       "      <th>p_bat_pv</th>\n",
       "      <th>p_bat_dg</th>\n",
       "      <th>gap_percentaje</th>\n",
       "      <th>time_seconds</th>\n",
       "      <th>h_sin_servicio</th>\n",
       "      <th>h_con_servicio</th>\n",
       "    </tr>\n",
       "  </thead>\n",
       "  <tbody>\n",
       "    <tr>\n",
       "      <th>0</th>\n",
       "      <td>110</td>\n",
       "      <td>379</td>\n",
       "      <td>1</td>\n",
       "      <td>0.0</td>\n",
       "      <td>0.0</td>\n",
       "      <td>1</td>\n",
       "      <td>0.05</td>\n",
       "      <td>120.96</td>\n",
       "      <td>120.96</td>\n",
       "      <td>0.01</td>\n",
       "      <td>...</td>\n",
       "      <td>46903.635155</td>\n",
       "      <td>9673.377226</td>\n",
       "      <td>1.545402e+06</td>\n",
       "      <td>145867.8140</td>\n",
       "      <td>68871.219445</td>\n",
       "      <td>0.0</td>\n",
       "      <td>0.0001</td>\n",
       "      <td>1.71</td>\n",
       "      <td>10.7</td>\n",
       "      <td>13.3</td>\n",
       "    </tr>\n",
       "    <tr>\n",
       "      <th>4</th>\n",
       "      <td>111</td>\n",
       "      <td>378</td>\n",
       "      <td>1</td>\n",
       "      <td>0.0</td>\n",
       "      <td>0.0</td>\n",
       "      <td>1</td>\n",
       "      <td>0.05</td>\n",
       "      <td>120.96</td>\n",
       "      <td>120.96</td>\n",
       "      <td>0.01</td>\n",
       "      <td>...</td>\n",
       "      <td>34960.130237</td>\n",
       "      <td>7784.991602</td>\n",
       "      <td>8.328204e+05</td>\n",
       "      <td>109400.8605</td>\n",
       "      <td>48395.032348</td>\n",
       "      <td>0.0</td>\n",
       "      <td>0.0001</td>\n",
       "      <td>2.25</td>\n",
       "      <td>10.6</td>\n",
       "      <td>13.4</td>\n",
       "    </tr>\n",
       "    <tr>\n",
       "      <th>8</th>\n",
       "      <td>112</td>\n",
       "      <td>420</td>\n",
       "      <td>1</td>\n",
       "      <td>0.0</td>\n",
       "      <td>0.0</td>\n",
       "      <td>1</td>\n",
       "      <td>0.05</td>\n",
       "      <td>80.64</td>\n",
       "      <td>80.64</td>\n",
       "      <td>0.01</td>\n",
       "      <td>...</td>\n",
       "      <td>34983.212695</td>\n",
       "      <td>7720.533455</td>\n",
       "      <td>8.331031e+05</td>\n",
       "      <td>109400.8605</td>\n",
       "      <td>48424.746024</td>\n",
       "      <td>0.0</td>\n",
       "      <td>0.0002</td>\n",
       "      <td>2.26</td>\n",
       "      <td>10.5</td>\n",
       "      <td>13.5</td>\n",
       "    </tr>\n",
       "    <tr>\n",
       "      <th>12</th>\n",
       "      <td>117</td>\n",
       "      <td>420</td>\n",
       "      <td>1</td>\n",
       "      <td>0.0</td>\n",
       "      <td>0.0</td>\n",
       "      <td>1</td>\n",
       "      <td>0.05</td>\n",
       "      <td>100.80</td>\n",
       "      <td>100.80</td>\n",
       "      <td>0.01</td>\n",
       "      <td>...</td>\n",
       "      <td>11806.510784</td>\n",
       "      <td>1604.400016</td>\n",
       "      <td>6.080199e+05</td>\n",
       "      <td>36466.9535</td>\n",
       "      <td>19362.848090</td>\n",
       "      <td>0.0</td>\n",
       "      <td>0.0000</td>\n",
       "      <td>2.28</td>\n",
       "      <td>2.4</td>\n",
       "      <td>21.6</td>\n",
       "    </tr>\n",
       "    <tr>\n",
       "      <th>13</th>\n",
       "      <td>1000</td>\n",
       "      <td>420</td>\n",
       "      <td>1</td>\n",
       "      <td>0.0</td>\n",
       "      <td>0.0</td>\n",
       "      <td>1</td>\n",
       "      <td>0.05</td>\n",
       "      <td>100.80</td>\n",
       "      <td>100.80</td>\n",
       "      <td>0.01</td>\n",
       "      <td>...</td>\n",
       "      <td>11806.510784</td>\n",
       "      <td>1604.400016</td>\n",
       "      <td>6.080199e+05</td>\n",
       "      <td>36466.9535</td>\n",
       "      <td>19362.848090</td>\n",
       "      <td>0.0</td>\n",
       "      <td>0.0000</td>\n",
       "      <td>2.13</td>\n",
       "      <td>2.4</td>\n",
       "      <td>21.6</td>\n",
       "    </tr>\n",
       "    <tr>\n",
       "      <th>...</th>\n",
       "      <td>...</td>\n",
       "      <td>...</td>\n",
       "      <td>...</td>\n",
       "      <td>...</td>\n",
       "      <td>...</td>\n",
       "      <td>...</td>\n",
       "      <td>...</td>\n",
       "      <td>...</td>\n",
       "      <td>...</td>\n",
       "      <td>...</td>\n",
       "      <td>...</td>\n",
       "      <td>...</td>\n",
       "      <td>...</td>\n",
       "      <td>...</td>\n",
       "      <td>...</td>\n",
       "      <td>...</td>\n",
       "      <td>...</td>\n",
       "      <td>...</td>\n",
       "      <td>...</td>\n",
       "      <td>...</td>\n",
       "      <td>...</td>\n",
       "    </tr>\n",
       "    <tr>\n",
       "      <th>124</th>\n",
       "      <td>904</td>\n",
       "      <td>400</td>\n",
       "      <td>1</td>\n",
       "      <td>0.0</td>\n",
       "      <td>0.0</td>\n",
       "      <td>1</td>\n",
       "      <td>0.10</td>\n",
       "      <td>120.96</td>\n",
       "      <td>120.96</td>\n",
       "      <td>0.01</td>\n",
       "      <td>...</td>\n",
       "      <td>12086.802823</td>\n",
       "      <td>1497.446377</td>\n",
       "      <td>7.115401e+05</td>\n",
       "      <td>36466.9535</td>\n",
       "      <td>20634.254429</td>\n",
       "      <td>0.0</td>\n",
       "      <td>0.0001</td>\n",
       "      <td>1.78</td>\n",
       "      <td>2.1</td>\n",
       "      <td>21.9</td>\n",
       "    </tr>\n",
       "    <tr>\n",
       "      <th>125</th>\n",
       "      <td>905</td>\n",
       "      <td>399</td>\n",
       "      <td>1</td>\n",
       "      <td>0.0</td>\n",
       "      <td>0.0</td>\n",
       "      <td>1</td>\n",
       "      <td>0.05</td>\n",
       "      <td>120.96</td>\n",
       "      <td>120.96</td>\n",
       "      <td>0.01</td>\n",
       "      <td>...</td>\n",
       "      <td>12082.181065</td>\n",
       "      <td>1511.189635</td>\n",
       "      <td>7.114748e+05</td>\n",
       "      <td>36466.9535</td>\n",
       "      <td>20628.246576</td>\n",
       "      <td>0.0</td>\n",
       "      <td>0.0002</td>\n",
       "      <td>5.08</td>\n",
       "      <td>2.1</td>\n",
       "      <td>21.9</td>\n",
       "    </tr>\n",
       "    <tr>\n",
       "      <th>126</th>\n",
       "      <td>906</td>\n",
       "      <td>398</td>\n",
       "      <td>1</td>\n",
       "      <td>0.0</td>\n",
       "      <td>0.0</td>\n",
       "      <td>1</td>\n",
       "      <td>0.05</td>\n",
       "      <td>120.96</td>\n",
       "      <td>120.96</td>\n",
       "      <td>0.01</td>\n",
       "      <td>...</td>\n",
       "      <td>12077.618071</td>\n",
       "      <td>1524.908029</td>\n",
       "      <td>7.116138e+05</td>\n",
       "      <td>36466.9535</td>\n",
       "      <td>20624.192095</td>\n",
       "      <td>0.0</td>\n",
       "      <td>0.0001</td>\n",
       "      <td>2.75</td>\n",
       "      <td>2.1</td>\n",
       "      <td>21.9</td>\n",
       "    </tr>\n",
       "    <tr>\n",
       "      <th>127</th>\n",
       "      <td>907</td>\n",
       "      <td>390</td>\n",
       "      <td>1</td>\n",
       "      <td>0.0</td>\n",
       "      <td>0.0</td>\n",
       "      <td>1</td>\n",
       "      <td>0.10</td>\n",
       "      <td>120.96</td>\n",
       "      <td>120.96</td>\n",
       "      <td>0.01</td>\n",
       "      <td>...</td>\n",
       "      <td>12038.758792</td>\n",
       "      <td>1638.469308</td>\n",
       "      <td>7.131143e+05</td>\n",
       "      <td>36466.9535</td>\n",
       "      <td>20592.580336</td>\n",
       "      <td>0.0</td>\n",
       "      <td>0.0004</td>\n",
       "      <td>2.03</td>\n",
       "      <td>2.3</td>\n",
       "      <td>21.7</td>\n",
       "    </tr>\n",
       "    <tr>\n",
       "      <th>128</th>\n",
       "      <td>909</td>\n",
       "      <td>389</td>\n",
       "      <td>1</td>\n",
       "      <td>0.0</td>\n",
       "      <td>0.0</td>\n",
       "      <td>1</td>\n",
       "      <td>0.10</td>\n",
       "      <td>120.96</td>\n",
       "      <td>120.96</td>\n",
       "      <td>0.01</td>\n",
       "      <td>...</td>\n",
       "      <td>60112.446426</td>\n",
       "      <td>8417.465674</td>\n",
       "      <td>3.566629e+06</td>\n",
       "      <td>182334.7675</td>\n",
       "      <td>102877.514325</td>\n",
       "      <td>0.0</td>\n",
       "      <td>0.0000</td>\n",
       "      <td>2.08</td>\n",
       "      <td>11.6</td>\n",
       "      <td>12.4</td>\n",
       "    </tr>\n",
       "  </tbody>\n",
       "</table>\n",
       "<p>105 rows × 70 columns</p>\n",
       "</div>"
      ],
      "text/plain": [
       "     id_simulacion  n_pv  n_dg  p_dg  min_dg  efi_dg  lpsp   p_bat  \\\n",
       "0              110   379     1   0.0     0.0       1  0.05  120.96   \n",
       "4              111   378     1   0.0     0.0       1  0.05  120.96   \n",
       "8              112   420     1   0.0     0.0       1  0.05   80.64   \n",
       "12             117   420     1   0.0     0.0       1  0.05  100.80   \n",
       "13            1000   420     1   0.0     0.0       1  0.05  100.80   \n",
       "..             ...   ...   ...   ...     ...     ...   ...     ...   \n",
       "124            904   400     1   0.0     0.0       1  0.10  120.96   \n",
       "125            905   399     1   0.0     0.0       1  0.05  120.96   \n",
       "126            906   398     1   0.0     0.0       1  0.05  120.96   \n",
       "127            907   390     1   0.0     0.0       1  0.10  120.96   \n",
       "128            909   389     1   0.0     0.0       1  0.10  120.96   \n",
       "\n",
       "     cond_init_bat  val_aux_bateria  ...  energia_descarga_bateria  \\\n",
       "0           120.96             0.01  ...              46903.635155   \n",
       "4           120.96             0.01  ...              34960.130237   \n",
       "8            80.64             0.01  ...              34983.212695   \n",
       "12          100.80             0.01  ...              11806.510784   \n",
       "13          100.80             0.01  ...              11806.510784   \n",
       "..             ...              ...  ...                       ...   \n",
       "124         120.96             0.01  ...              12086.802823   \n",
       "125         120.96             0.01  ...              12082.181065   \n",
       "126         120.96             0.01  ...              12077.618071   \n",
       "127         120.96             0.01  ...              12038.758792   \n",
       "128         120.96             0.01  ...              60112.446426   \n",
       "\n",
       "     energia_ENS  SOC(t)_bateria         load       p_bat_pv  p_bat_dg  \\\n",
       "0    9673.377226    1.545402e+06  145867.8140   68871.219445       0.0   \n",
       "4    7784.991602    8.328204e+05  109400.8605   48395.032348       0.0   \n",
       "8    7720.533455    8.331031e+05  109400.8605   48424.746024       0.0   \n",
       "12   1604.400016    6.080199e+05   36466.9535   19362.848090       0.0   \n",
       "13   1604.400016    6.080199e+05   36466.9535   19362.848090       0.0   \n",
       "..           ...             ...          ...            ...       ...   \n",
       "124  1497.446377    7.115401e+05   36466.9535   20634.254429       0.0   \n",
       "125  1511.189635    7.114748e+05   36466.9535   20628.246576       0.0   \n",
       "126  1524.908029    7.116138e+05   36466.9535   20624.192095       0.0   \n",
       "127  1638.469308    7.131143e+05   36466.9535   20592.580336       0.0   \n",
       "128  8417.465674    3.566629e+06  182334.7675  102877.514325       0.0   \n",
       "\n",
       "     gap_percentaje  time_seconds  h_sin_servicio  h_con_servicio  \n",
       "0            0.0001          1.71            10.7            13.3  \n",
       "4            0.0001          2.25            10.6            13.4  \n",
       "8            0.0002          2.26            10.5            13.5  \n",
       "12           0.0000          2.28             2.4            21.6  \n",
       "13           0.0000          2.13             2.4            21.6  \n",
       "..              ...           ...             ...             ...  \n",
       "124          0.0001          1.78             2.1            21.9  \n",
       "125          0.0002          5.08             2.1            21.9  \n",
       "126          0.0001          2.75             2.1            21.9  \n",
       "127          0.0004          2.03             2.3            21.7  \n",
       "128          0.0000          2.08            11.6            12.4  \n",
       "\n",
       "[105 rows x 70 columns]"
      ]
     },
     "execution_count": 138,
     "metadata": {},
     "output_type": "execute_result"
    }
   ],
   "source": [
    "df_analisis.drop_duplicates()"
   ]
  },
  {
   "cell_type": "code",
   "execution_count": 139,
   "id": "80d54c95",
   "metadata": {
    "ExecuteTime": {
     "end_time": "2021-09-30T03:46:18.782122Z",
     "start_time": "2021-09-30T03:46:18.767151Z"
    }
   },
   "outputs": [
    {
     "data": {
      "text/plain": [
       "Index(['id_simulacion', 'n_pv', 'n_dg', 'p_dg', 'min_dg', 'efi_dg', 'lpsp',\n",
       "       'p_bat', 'cond_init_bat', 'val_aux_bateria', 'DOD', 'n_bat',\n",
       "       'self_dis_coef', 'max_ciclos_descarga', 'efficiency_inversor',\n",
       "       'efficiency_charging', 'C_rate', 'cost_pv', 'cost_dg', 'cost_bat',\n",
       "       'cost_pens', 'optimizacion', 'lpsp_result', 'ens_result',\n",
       "       'ciclos_bat_result', 'vida_proyecto', 'ir', 'crf', 'cpv_ins',\n",
       "       'cbat_ins', 'cdg_ins', 'capital_cpv', 'capital_cbat', 'capital_cdg',\n",
       "       'kbat', 'kdg', 'ybat', 'ydg', 'rc_bat', 'rc_dg', 'factor_bat',\n",
       "       'factor_pv', 'oym_pv', 'oym_bat', 'ipp_actual', 'trm', 'pami', 'plim',\n",
       "       'oym_dg', 'asc', 'lcoe', 'asc_incentivo', 'lcoe_incentivo', 'cost_e_dg',\n",
       "       'cost_e_pv', 'cost_e_bat', 'cost_e_ens', 'energia_PV', 'energia_Dg',\n",
       "       'energia_carga_bateria', 'energia_descarga_bateria', 'energia_ENS',\n",
       "       'SOC(t)_bateria', 'load', 'p_bat_pv', 'p_bat_dg', 'gap_percentaje',\n",
       "       'time_seconds', 'h_sin_servicio', 'h_con_servicio'],\n",
       "      dtype='object')"
      ]
     },
     "execution_count": 139,
     "metadata": {},
     "output_type": "execute_result"
    }
   ],
   "source": [
    "df_analisis.columns"
   ]
  },
  {
   "cell_type": "code",
   "execution_count": 140,
   "id": "a9f1bf6f",
   "metadata": {
    "ExecuteTime": {
     "end_time": "2021-09-30T03:46:21.855122Z",
     "start_time": "2021-09-30T03:46:21.843123Z"
    },
    "scrolled": true
   },
   "outputs": [],
   "source": [
    "df_analisis['energy_dg'] = df_analisis['p_bat_dg'] +df_analisis['energia_Dg'] "
   ]
  },
  {
   "cell_type": "code",
   "execution_count": 141,
   "id": "f9fcdff6",
   "metadata": {
    "ExecuteTime": {
     "end_time": "2021-09-30T03:46:23.548551Z",
     "start_time": "2021-09-30T03:46:23.524547Z"
    }
   },
   "outputs": [
    {
     "data": {
      "text/html": [
       "<div>\n",
       "<style scoped>\n",
       "    .dataframe tbody tr th:only-of-type {\n",
       "        vertical-align: middle;\n",
       "    }\n",
       "\n",
       "    .dataframe tbody tr th {\n",
       "        vertical-align: top;\n",
       "    }\n",
       "\n",
       "    .dataframe thead th {\n",
       "        text-align: right;\n",
       "    }\n",
       "</style>\n",
       "<table border=\"1\" class=\"dataframe\">\n",
       "  <thead>\n",
       "    <tr style=\"text-align: right;\">\n",
       "      <th></th>\n",
       "      <th>lpsp_result</th>\n",
       "      <th>lpsp</th>\n",
       "    </tr>\n",
       "  </thead>\n",
       "  <tbody>\n",
       "    <tr>\n",
       "      <th>0</th>\n",
       "      <td>4.97</td>\n",
       "      <td>0.05</td>\n",
       "    </tr>\n",
       "    <tr>\n",
       "      <th>4</th>\n",
       "      <td>0.00</td>\n",
       "      <td>0.05</td>\n",
       "    </tr>\n",
       "    <tr>\n",
       "      <th>8</th>\n",
       "      <td>0.00</td>\n",
       "      <td>0.05</td>\n",
       "    </tr>\n",
       "    <tr>\n",
       "      <th>12</th>\n",
       "      <td>4.40</td>\n",
       "      <td>0.05</td>\n",
       "    </tr>\n",
       "    <tr>\n",
       "      <th>13</th>\n",
       "      <td>4.40</td>\n",
       "      <td>0.05</td>\n",
       "    </tr>\n",
       "  </tbody>\n",
       "</table>\n",
       "</div>"
      ],
      "text/plain": [
       "    lpsp_result  lpsp\n",
       "0          4.97  0.05\n",
       "4          0.00  0.05\n",
       "8          0.00  0.05\n",
       "12         4.40  0.05\n",
       "13         4.40  0.05"
      ]
     },
     "execution_count": 141,
     "metadata": {},
     "output_type": "execute_result"
    }
   ],
   "source": [
    "df_analisis[['lpsp_result','lpsp']].head()"
   ]
  },
  {
   "cell_type": "code",
   "execution_count": 148,
   "id": "a5c4e876",
   "metadata": {
    "ExecuteTime": {
     "end_time": "2021-09-30T03:48:05.332870Z",
     "start_time": "2021-09-30T03:48:05.276888Z"
    }
   },
   "outputs": [],
   "source": [
    "df_1 =df_analisis.query('optimizacion==\"optimal\" and p_dg !=0 and lpsp_result>5')[['lpsp_result','id_simulacion']].head(15)\n",
    "df_1.columns = ['lpsp','id_simulacion']\n",
    "df_1['lpsp']=df_1['lpsp'].apply(lambda x: x/100)\n",
    "df_1['id_simulacion']=df_1['id_simulacion'].apply(lambda x: str(x)+'_')\n",
    "df_1['Type'] =\"RESULT\"\n",
    "df_2 =df_analisis.query('optimizacion==\"optimal\" and p_dg !=0 and lpsp_result>5')[['lpsp','id_simulacion']].head(15)\n",
    "df_2['Type'] =\"OBJETIVE\"\n",
    "df_2['id_simulacion']=df_2['id_simulacion'].apply(lambda x: str(x)+'_')\n",
    "\n",
    "df_lpsp = pd.concat([df_1,df_2])"
   ]
  },
  {
   "cell_type": "code",
   "execution_count": 149,
   "id": "7eade0d1",
   "metadata": {
    "ExecuteTime": {
     "end_time": "2021-09-30T03:48:06.152872Z",
     "start_time": "2021-09-30T03:48:05.908872Z"
    },
    "scrolled": true
   },
   "outputs": [
    {
     "data": {
      "text/plain": [
       "<AxesSubplot:xlabel='lpsp_result', ylabel='h_sin_servicio'>"
      ]
     },
     "execution_count": 149,
     "metadata": {},
     "output_type": "execute_result"
    },
    {
     "data": {
      "image/png": "[encoded data removed]",
      "text/plain": [
       "<Figure size 432x288 with 1 Axes>"
      ]
     },
     "metadata": {
      "needs_background": "light"
     },
     "output_type": "display_data"
    }
   ],
   "source": [
    "sns.barplot(data=df_analisis.drop_duplicates().query('optimizacion==\"optimal\" and id_simulacion==10 and p_dg !=0 '),\n",
    "             x='lpsp_result',\n",
    "             y='h_sin_servicio')"
   ]
  },
  {
   "cell_type": "code",
   "execution_count": 150,
   "id": "13e9df1c",
   "metadata": {
    "ExecuteTime": {
     "end_time": "2021-09-30T03:48:07.603642Z",
     "start_time": "2021-09-30T03:48:06.720870Z"
    }
   },
   "outputs": [
    {
     "data": {
      "application/vnd.plotly.v1+json": {
       "config": {
        "plotlyServerURL": "https://plot.ly"
       },
       "data": [
        {
         "alignmentgroup": "True",
         "hovertemplate": "Type=RESULT<br>id_simulacion=%{x}<br>lpsp=%{y}<extra></extra>",
         "legendgroup": "RESULT",
         "marker": {
          "color": "#1F77B4"
         },
         "name": "RESULT",
         "offsetgroup": "RESULT",
         "orientation": "v",
         "showlegend": true,
         "textposition": "auto",
         "type": "bar",
         "x": [
          "72_",
          "73_",
          "75_",
          "87_",
          "89_",
          "90_",
          "91_",
          "1_",
          "2_",
          "3_",
          "4_",
          "5_",
          "6_",
          "7_",
          "8_"
         ],
         "xaxis": "x",
         "y": [
          0.0518,
          0.05140000000000001,
          0.0518,
          0.0966,
          0.0916,
          0.0822,
          0.0783,
          0.09119999999999999,
          0.0931,
          0.08779999999999999,
          0.0785,
          0.0641,
          0.0713,
          0.0794,
          0.0797
         ],
         "yaxis": "y"
        },
        {
         "alignmentgroup": "True",
         "hovertemplate": "Type=OBJETIVE<br>id_simulacion=%{x}<br>lpsp=%{y}<extra></extra>",
         "legendgroup": "OBJETIVE",
         "marker": {
          "color": "#FF7F0E"
         },
         "name": "OBJETIVE",
         "offsetgroup": "OBJETIVE",
         "orientation": "v",
         "showlegend": true,
         "textposition": "auto",
         "type": "bar",
         "x": [
          "72_",
          "73_",
          "75_",
          "87_",
          "89_",
          "90_",
          "91_",
          "1_",
          "2_",
          "3_",
          "4_",
          "5_",
          "6_",
          "7_",
          "8_"
         ],
         "xaxis": "x",
         "y": [
          0.1,
          0.1,
          0.1,
          0.1,
          0.1,
          0.1,
          0.1,
          0.1,
          0.1,
          0.1,
          0.1,
          0.1,
          0.1,
          0.1,
          0.09
         ],
         "yaxis": "y"
        }
       ],
       "layout": {
        "barmode": "group",
        "font": {
         "color": "black",
         "family": "Times New Roman",
         "size": 14
        },
        "height": 400,
        "legend": {
         "font": {
          "size": 14
         },
         "orientation": "h",
         "title": {
          "text": "Type"
         },
         "tracegroupgap": 0,
         "x": 1,
         "xanchor": "right",
         "y": 1.02,
         "yanchor": "bottom"
        },
        "margin": {
         "t": 60
        },
        "showlegend": true,
        "template": {
         "data": {
          "pie": [
           {
            "automargin": true,
            "type": "pie"
           }
          ]
         },
         "layout": {
          "yaxis": {
           "showgrid": false
          }
         }
        },
        "title": {
         "font": {
          "family": "Times New Roman"
         }
        },
        "width": 520,
        "xaxis": {
         "anchor": "y",
         "domain": [
          0,
          1
         ],
         "linecolor": "black",
         "nticks": 10,
         "showline": true,
         "title": {
          "text": "Simulation"
         }
        },
        "yaxis": {
         "anchor": "x",
         "domain": [
          0,
          1
         ],
         "linecolor": "black",
         "nticks": 8,
         "showline": true,
         "title": {
          "text": "LPSP"
         }
        }
       }
      },
      "text/html": [
       "<div>                            <div id=\"0afb9aee-d1e5-4083-a452-4da9bef3693e\" class=\"plotly-graph-div\" style=\"height:400px; width:520px;\"></div>            <script type=\"text/javascript\">                require([\"plotly\"], function(Plotly) {                    window.PLOTLYENV=window.PLOTLYENV || {};                                    if (document.getElementById(\"0afb9aee-d1e5-4083-a452-4da9bef3693e\")) {                    Plotly.newPlot(                        \"0afb9aee-d1e5-4083-a452-4da9bef3693e\",                        [{\"alignmentgroup\": \"True\", \"hovertemplate\": \"Type=RESULT<br>id_simulacion=%{x}<br>lpsp=%{y}<extra></extra>\", \"legendgroup\": \"RESULT\", \"marker\": {\"color\": \"#1F77B4\"}, \"name\": \"RESULT\", \"offsetgroup\": \"RESULT\", \"orientation\": \"v\", \"showlegend\": true, \"textposition\": \"auto\", \"type\": \"bar\", \"x\": [\"72_\", \"73_\", \"75_\", \"87_\", \"89_\", \"90_\", \"91_\", \"1_\", \"2_\", \"3_\", \"4_\", \"5_\", \"6_\", \"7_\", \"8_\"], \"xaxis\": \"x\", \"y\": [0.0518, 0.05140000000000001, 0.0518, 0.0966, 0.0916, 0.0822, 0.0783, 0.09119999999999999, 0.0931, 0.08779999999999999, 0.0785, 0.0641, 0.0713, 0.0794, 0.0797], \"yaxis\": \"y\"}, {\"alignmentgroup\": \"True\", \"hovertemplate\": \"Type=OBJETIVE<br>id_simulacion=%{x}<br>lpsp=%{y}<extra></extra>\", \"legendgroup\": \"OBJETIVE\", \"marker\": {\"color\": \"#FF7F0E\"}, \"name\": \"OBJETIVE\", \"offsetgroup\": \"OBJETIVE\", \"orientation\": \"v\", \"showlegend\": true, \"textposition\": \"auto\", \"type\": \"bar\", \"x\": [\"72_\", \"73_\", \"75_\", \"87_\", \"89_\", \"90_\", \"91_\", \"1_\", \"2_\", \"3_\", \"4_\", \"5_\", \"6_\", \"7_\", \"8_\"], \"xaxis\": \"x\", \"y\": [0.1, 0.1, 0.1, 0.1, 0.1, 0.1, 0.1, 0.1, 0.1, 0.1, 0.1, 0.1, 0.1, 0.1, 0.09], \"yaxis\": \"y\"}],                        {\"barmode\": \"group\", \"font\": {\"color\": \"black\", \"family\": \"Times New Roman\", \"size\": 14}, \"height\": 400, \"legend\": {\"font\": {\"size\": 14}, \"orientation\": \"h\", \"title\": {\"text\": \"Type\"}, \"tracegroupgap\": 0, \"x\": 1, \"xanchor\": \"right\", \"y\": 1.02, \"yanchor\": \"bottom\"}, \"margin\": {\"t\": 60}, \"showlegend\": true, \"template\": {\"data\": {\"pie\": [{\"automargin\": true, \"type\": \"pie\"}]}, \"layout\": {\"yaxis\": {\"showgrid\": false}}}, \"title\": {\"font\": {\"family\": \"Times New Roman\"}}, \"width\": 520, \"xaxis\": {\"anchor\": \"y\", \"domain\": [0.0, 1.0], \"linecolor\": \"black\", \"nticks\": 10, \"showline\": true, \"title\": {\"text\": \"Simulation\"}}, \"yaxis\": {\"anchor\": \"x\", \"domain\": [0.0, 1.0], \"linecolor\": \"black\", \"nticks\": 8, \"showline\": true, \"title\": {\"text\": \"LPSP\"}}},                        {\"responsive\": true}                    ).then(function(){\n",
       "                            \n",
       "var gd = document.getElementById('0afb9aee-d1e5-4083-a452-4da9bef3693e');\n",
       "var x = new MutationObserver(function (mutations, observer) {{\n",
       "        var display = window.getComputedStyle(gd).display;\n",
       "        if (!display || display === 'none') {{\n",
       "            console.log([gd, 'removed!']);\n",
       "            Plotly.purge(gd);\n",
       "            observer.disconnect();\n",
       "        }}\n",
       "}});\n",
       "\n",
       "// Listen for the removal of the full notebook cells\n",
       "var notebookContainer = gd.closest('#notebook-container');\n",
       "if (notebookContainer) {{\n",
       "    x.observe(notebookContainer, {childList: true});\n",
       "}}\n",
       "\n",
       "// Listen for the clearing of the current output cell\n",
       "var outputEl = gd.closest('.output');\n",
       "if (outputEl) {{\n",
       "    x.observe(outputEl, {childList: true});\n",
       "}}\n",
       "\n",
       "                        })                };                });            </script>        </div>"
      ]
     },
     "metadata": {},
     "output_type": "display_data"
    }
   ],
   "source": [
    "fig = px.bar(df_lpsp.drop_duplicates(),\n",
    "             x='id_simulacion',\n",
    "             y='lpsp',color='Type',template=\"ygridoff\",width=520,barmode='group',\n",
    "              height=400)\n",
    "fig.update_yaxes(nticks=8)\n",
    "fig.update_xaxes(nticks=10)\n",
    "fig.update_xaxes(title_text='Simulation')\n",
    "fig.update_yaxes(title_text='LPSP')\n",
    "fig.update_xaxes(showline=True, linecolor='black')\n",
    "fig.layout.update(showlegend=True) \n",
    "fig.update_yaxes(showline=True, linecolor='black')\n",
    "fig.update_layout(\n",
    "    font_family=\"Times New Roman\",\n",
    "    title_font_family=\"Times New Roman\",\n",
    "    font_size=14\n",
    "    ,\n",
    "    font_color=\"black\",\n",
    "        legend=dict(\n",
    "    orientation=\"h\",\n",
    "    yanchor=\"bottom\",\n",
    "    y=1.02,\n",
    "    xanchor=\"right\",\n",
    "    x=1,\n",
    "        font_size=14)\n",
    "       \n",
    ")\n",
    "\n",
    "fig.show()\n",
    "\n",
    "fig.write_image(\"lpsp_vs_lpsp_result.eps\")"
   ]
  },
  {
   "cell_type": "code",
   "execution_count": 12,
   "id": "959e68a1",
   "metadata": {
    "ExecuteTime": {
     "end_time": "2021-09-28T03:17:14.706946Z",
     "start_time": "2021-09-28T03:17:14.255954Z"
    }
   },
   "outputs": [
    {
     "data": {
      "image/png": "[encoded data removed]",
      "text/plain": [
       "<Figure size 144x288 with 2 Axes>"
      ]
     },
     "metadata": {
      "needs_background": "light"
     },
     "output_type": "display_data"
    }
   ],
   "source": [
    "data_cor = df_analisis.query('optimizacion==\"optimal\" ')[[\n",
    "    'energia_PV', 'energia_descarga_bateria', 'energy_dg', 'asc','lcoe'\n",
    "    ]]\n",
    "\n",
    "data_cor.columns = ['PV Energy', 'Battery Bank Energy', 'Diesel Energy', 'ASC', 'LCOE']\n",
    "\n",
    "plt.figure(figsize=(2, 4))\n",
    "heatmap = sns.heatmap(data_cor[['PV Energy', 'Battery Bank Energy', 'Diesel Energy', 'LCOE']].corr()[[\n",
    "    'LCOE',\n",
    "]].sort_values(by='LCOE', ascending=False),\n",
    "    vmin=-1,\n",
    "    vmax=1,\n",
    "    annot=True,cmap='Blues', fmt='0.1g')\n",
    "plt.savefig('lcoe_correlation.eps',bbox_inches='tight')"
   ]
  },
  {
   "cell_type": "code",
   "execution_count": 13,
   "id": "2c23030d",
   "metadata": {
    "ExecuteTime": {
     "end_time": "2021-09-28T03:17:15.904282Z",
     "start_time": "2021-09-28T03:17:15.568279Z"
    }
   },
   "outputs": [
    {
     "data": {
      "text/plain": [
       "Text(0.5, 1.0, 'Features Correlating with Sales Price')"
      ]
     },
     "execution_count": 13,
     "metadata": {},
     "output_type": "execute_result"
    },
    {
     "data": {
      "image/png": "[encoded data removed]",
      "text/plain": [
       "<Figure size 288x288 with 2 Axes>"
      ]
     },
     "metadata": {
      "needs_background": "light"
     },
     "output_type": "display_data"
    }
   ],
   "source": [
    "['PV Energy', 'Battery Bank Energy', 'Diesel Energy', 'ASC', 'LCOE']\n",
    "\n",
    "plt.figure(figsize=(4, 4))\n",
    "heatmap = sns.heatmap(df_analisis.query('optimizacion==\"optimal\" ')[[\n",
    "    'energia_PV', 'energia_descarga_bateria', 'energy_dg', 'asc_incentivo',\n",
    "    'lcoe_incentivo'\n",
    "]].corr()[[\n",
    "    'asc_incentivo',\n",
    "]].sort_values(by='asc_incentivo', ascending=False),\n",
    "    vmin=-1,\n",
    "    vmax=1,\n",
    "    annot=True)\n",
    "heatmap.set_title('Features Correlating with Sales Price',\n",
    "                  fontdict={\n",
    "                      'fontsize': 16,\n",
    "                      'fontfamily': 'Times New Roman'\n",
    "                  },\n",
    "                  pad=24)"
   ]
  },
  {
   "cell_type": "code",
   "execution_count": 14,
   "id": "583afece",
   "metadata": {
    "ExecuteTime": {
     "end_time": "2021-09-28T03:17:17.414237Z",
     "start_time": "2021-09-28T03:17:16.938233Z"
    }
   },
   "outputs": [
    {
     "data": {
      "image/png": "[encoded data removed]",
      "text/plain": [
       "<Figure size 144x288 with 2 Axes>"
      ]
     },
     "metadata": {
      "needs_background": "light"
     },
     "output_type": "display_data"
    }
   ],
   "source": [
    "data_cor = df_analisis.query('optimizacion==\"optimal\" ')[[\n",
    "    'energia_PV', 'energia_descarga_bateria', 'energy_dg', 'asc','lcoe','energia_ENS'\n",
    "    ]]\n",
    "\n",
    "data_cor.columns = ['PV Energy', 'Battery Bank Energy', 'Diesel Energy', 'ASC', 'LCOE','ENS']\n",
    "\n",
    "plt.figure(figsize=(2, 4))\n",
    "heatmap = sns.heatmap(data_cor[['PV Energy', 'Battery Bank Energy', 'Diesel Energy', 'ASC','LCOE','ENS']].corr()[[\n",
    "    'ASC','LCOE'\n",
    "]],\n",
    "    vmin=-1,\n",
    "    vmax=1,\n",
    "    annot=True,cmap='Blues', fmt='0.1g')\n",
    "\n",
    "plt.savefig('asc_lcoe_correlation.eps',bbox_inches='tight')"
   ]
  },
  {
   "cell_type": "code",
   "execution_count": 15,
   "id": "ebc3af44",
   "metadata": {
    "ExecuteTime": {
     "end_time": "2021-09-28T03:17:23.844677Z",
     "start_time": "2021-09-28T03:17:23.833677Z"
    }
   },
   "outputs": [
    {
     "data": {
      "text/plain": [
       "'C:\\\\Users\\\\wrope\\\\Documents\\\\01. UdeA\\\\00. Tesis\\\\09. Implementacion\\\\dimensionamiento_microrred'"
      ]
     },
     "execution_count": 15,
     "metadata": {},
     "output_type": "execute_result"
    }
   ],
   "source": [
    "import os\n",
    "os.getcwd()"
   ]
  },
  {
   "cell_type": "code",
   "execution_count": 16,
   "id": "7d5466ec",
   "metadata": {
    "ExecuteTime": {
     "end_time": "2021-09-28T03:17:25.024279Z",
     "start_time": "2021-09-28T03:17:24.617277Z"
    }
   },
   "outputs": [
    {
     "data": {
      "image/png": "[encoded data removed]",
      "text/plain": [
       "<Figure size 720x720 with 2 Axes>"
      ]
     },
     "metadata": {
      "needs_background": "light"
     },
     "output_type": "display_data"
    }
   ],
   "source": [
    "corrMatrix = df_analisis.query('optimizacion==\"optimal\" ')[[\n",
    "    'energia_PV', 'energia_descarga_bateria',\n",
    "    'asc_incentivo', 'lcoe_incentivo', 'energia_Dg']].corr()\n",
    "\n",
    "lower_triang_df = corrMatrix.where(np.tril(np.ones(corrMatrix.shape)).astype(np.bool))\n",
    "\n",
    "plt.figure(figsize=(10, 10))\n",
    "plt.rcParams.update({'font.size': 15,'font.family':'Times New Roman'})\n",
    "\n",
    "\n",
    "\n",
    "\n",
    "sns.heatmap(lower_triang_df,\n",
    "            annot=True,\n",
    "            annot_kws={\"size\": 15},\n",
    "            square=True,\n",
    "            linewidths=.5)\n",
    "plt.show()"
   ]
  },
  {
   "cell_type": "code",
   "execution_count": 17,
   "id": "d17de4f2",
   "metadata": {
    "ExecuteTime": {
     "end_time": "2021-09-28T03:17:30.676061Z",
     "start_time": "2021-09-28T03:17:30.364064Z"
    }
   },
   "outputs": [
    {
     "data": {
      "text/plain": [
       "<AxesSubplot:xlabel='energia_PV', ylabel='Density'>"
      ]
     },
     "execution_count": 17,
     "metadata": {},
     "output_type": "execute_result"
    },
    {
     "data": {
      "image/png": "[encoded data removed]",
      "text/plain": [
       "<Figure size 432x288 with 1 Axes>"
      ]
     },
     "metadata": {
      "needs_background": "light"
     },
     "output_type": "display_data"
    }
   ],
   "source": [
    "sns.distplot( df_analisis.query('optimizacion==\"optimal\" and p_dg !=0 ')[\"energia_PV\"])"
   ]
  },
  {
   "cell_type": "code",
   "execution_count": 18,
   "id": "248f2537",
   "metadata": {
    "ExecuteTime": {
     "end_time": "2021-09-28T03:17:41.326038Z",
     "start_time": "2021-09-28T03:17:40.357039Z"
    },
    "scrolled": false
   },
   "outputs": [
    {
     "data": {
      "image/png": "[encoded data removed]",
      "text/plain": [
       "<Figure size 360x360 with 1 Axes>"
      ]
     },
     "metadata": {
      "needs_background": "light"
     },
     "output_type": "display_data"
    },
    {
     "data": {
      "image/png": "[encoded data removed]",
      "text/plain": [
       "<Figure size 360x360 with 1 Axes>"
      ]
     },
     "metadata": {
      "needs_background": "light"
     },
     "output_type": "display_data"
    }
   ],
   "source": [
    "sns.lmplot(x=\"asc_incentivo\", y=\"energia_Dg\", data=df_analisis.query('optimizacion==\"optimal\" and p_dg !=0 '));\n",
    "sns.lmplot(x=\"asc_incentivo\", y=\"energia_PV\", data=df_analisis.query('optimizacion==\"optimal\" and p_dg !=0 '));"
   ]
  },
  {
   "cell_type": "code",
   "execution_count": 26,
   "id": "610b8380",
   "metadata": {
    "ExecuteTime": {
     "end_time": "2021-09-15T02:49:51.311990Z",
     "start_time": "2021-09-15T02:49:49.661849Z"
    },
    "scrolled": false
   },
   "outputs": [
    {
     "data": {
      "image/png": "[encoded data removed]",
      "text/plain": [
       "<Figure size 720x720 with 1 Axes>"
      ]
     },
     "metadata": {
      "needs_background": "light"
     },
     "output_type": "display_data"
    }
   ],
   "source": [
    "plt.figure(figsize=(10, 10))\n",
    "sns.barplot(data=df_analisis.query('optimizacion==\"optimal\" and p_dg !=0 '), x=\"asc_incentivo\", y=\"lpsp_result\")\n",
    "plt.show()"
   ]
  },
  {
   "cell_type": "code",
   "execution_count": 105,
   "id": "75038b90",
   "metadata": {
    "ExecuteTime": {
     "end_time": "2021-09-28T04:07:43.944654Z",
     "start_time": "2021-09-28T04:07:43.880660Z"
    }
   },
   "outputs": [],
   "source": [
    "bubble_plot1=df_analisis.query('optimizacion==\"optimal\" and p_dg !=0 ')[[\"lcoe_incentivo\",\"energia_Dg\"]]\n",
    "bubble_plot1.columns = ['LCOE','energia']\n",
    "bubble_plot1[\"Type\"]= 'Diesel Energy'\n",
    "#'PV Energy', 'Battery Bank Energy', 'Diesel Energy',\n",
    "bubble_plot2=df_analisis.query('optimizacion==\"optimal\" and p_dg !=0 ')[[\"lcoe_incentivo\",\"energia_descarga_bateria\"]]\n",
    "bubble_plot2.columns = ['LCOE','energia']\n",
    "bubble_plot2[\"Type\"]= 'Battery Bank Energy'\n",
    "#################33\n",
    "bubble_plot3=df_analisis.query('optimizacion==\"optimal\" and p_dg !=0 ')[[\"lcoe_incentivo\",\"energia_PV\"]]\n",
    "bubble_plot3.columns = ['LCOE','energia']\n",
    "bubble_plot3[\"Type\"]= 'PV Energy'"
   ]
  },
  {
   "cell_type": "code",
   "execution_count": 106,
   "id": "450f3eea",
   "metadata": {
    "ExecuteTime": {
     "end_time": "2021-09-28T04:07:46.499164Z",
     "start_time": "2021-09-28T04:07:46.482011Z"
    }
   },
   "outputs": [],
   "source": [
    "analisis_final = pd.concat([bubble_plot3,bubble_plot2,bubble_plot1], axis =0)"
   ]
  },
  {
   "cell_type": "code",
   "execution_count": 107,
   "id": "04908ea7",
   "metadata": {
    "ExecuteTime": {
     "end_time": "2021-09-28T04:07:49.969933Z",
     "start_time": "2021-09-28T04:07:48.541689Z"
    }
   },
   "outputs": [
    {
     "data": {
      "application/vnd.plotly.v1+json": {
       "config": {
        "plotlyServerURL": "https://plot.ly"
       },
       "data": [
        {
         "hovertemplate": "<b>%{hovertext}</b><br><br>Type=PV Energy<br>LCOE=%{x}<br>energia=%{marker.size}<extra></extra>",
         "hovertext": [
          85847.70465815988,
          63224.622232079564,
          63292.533703260895,
          14149.286599999954,
          15833.698599999872,
          17378.62025466612,
          14149.286599999954,
          15833.698599999872,
          17461.38145132706,
          18593.300340665475,
          18593.300340665475,
          15985.011541566368,
          17446.63419999985,
          17105.567781628644,
          12512.201306310222,
          13795.122128536466,
          14555.535988150672,
          30262.339967190237,
          15516.414362487014,
          16221.97837484128,
          13467.779744007346,
          15516.414362487014,
          17026.911982354013,
          17623.845729593337,
          17623.845729593337,
          15253.525802199518,
          16903.201505462577,
          16388.43979265775,
          11007.639789887879,
          12328.416409358235,
          12741.245129162859,
          13312.877087450246,
          72430.47559999932,
          64504.26529414582,
          21058.583632673057,
          72318.87859999941,
          70746.93558244886,
          70354.29078294947,
          69897.73951675021,
          69410.979892048,
          91575.64034420233,
          45228.248770212485,
          44931.61823734674,
          44569.69259232506,
          44186.05844812852,
          21041.396443709025,
          43242.047261901185,
          85984.68820326282,
          43320.45677809917,
          85777.45385926828,
          14145.641884326164,
          16041.27249883716,
          17617.946810986115,
          14125.272585866156,
          15905.547647287918,
          17586.602787307467,
          18736.160599770465,
          18747.3136222064,
          15979.388166793711,
          17624.97621892692,
          17233.1790461877,
          18078.02446085551,
          14833.116401096791,
          12490.17219641756,
          13187.379176851084,
          14036.985239848496,
          14701.592789576385,
          15352.802413432672
         ],
         "legendgroup": "PV Energy",
         "marker": {
          "color": "#1F77B4",
          "size": [
           85847.70465815988,
           63224.622232079564,
           63292.533703260895,
           14149.286599999954,
           15833.698599999872,
           17378.62025466612,
           14149.286599999954,
           15833.698599999872,
           17461.38145132706,
           18593.300340665475,
           18593.300340665475,
           15985.011541566368,
           17446.63419999985,
           17105.567781628644,
           12512.201306310222,
           13795.122128536466,
           14555.535988150672,
           30262.339967190237,
           15516.414362487014,
           16221.97837484128,
           13467.779744007346,
           15516.414362487014,
           17026.911982354013,
           17623.845729593337,
           17623.845729593337,
           15253.525802199518,
           16903.201505462577,
           16388.43979265775,
           11007.639789887879,
           12328.416409358235,
           12741.245129162859,
           13312.877087450246,
           72430.47559999932,
           64504.26529414582,
           21058.583632673057,
           72318.87859999941,
           70746.93558244886,
           70354.29078294947,
           69897.73951675021,
           69410.979892048,
           91575.64034420233,
           45228.248770212485,
           44931.61823734674,
           44569.69259232506,
           44186.05844812852,
           21041.396443709025,
           43242.047261901185,
           85984.68820326282,
           43320.45677809917,
           85777.45385926828,
           14145.641884326164,
           16041.27249883716,
           17617.946810986115,
           14125.272585866156,
           15905.547647287918,
           17586.602787307467,
           18736.160599770465,
           18747.3136222064,
           15979.388166793711,
           17624.97621892692,
           17233.1790461877,
           18078.02446085551,
           14833.116401096791,
           12490.17219641756,
           13187.379176851084,
           14036.985239848496,
           14701.592789576385,
           15352.802413432672
          ],
          "sizemode": "area",
          "sizeref": 407.00284597423257,
          "symbol": "circle"
         },
         "mode": "markers",
         "name": "PV Energy",
         "orientation": "v",
         "showlegend": true,
         "type": "scatter",
         "x": [
          0.26,
          0.27,
          0.27,
          0.41,
          0.44,
          0.55,
          0.41,
          0.44,
          0.46,
          0.58,
          0.58,
          0.45,
          0.45,
          0.48,
          0.45,
          0.46,
          0.46,
          0.48,
          0.33,
          0.38,
          0.27,
          0.33,
          0.38,
          0.41,
          0.41,
          0.31,
          0.37,
          0.38,
          0.31,
          0.33,
          0.34,
          0.36,
          0.54,
          0.28,
          0.51,
          0.51,
          0.44,
          0.42,
          0.41,
          0.39,
          0.23,
          0.34,
          0.34,
          0.34,
          0.35,
          0.61,
          0.35,
          0.23,
          0.35,
          0.23,
          0.51,
          0.52,
          0.58,
          0.51,
          0.52,
          0.57,
          0.59,
          0.55,
          0.5,
          0.51,
          0.5,
          0.54,
          0.46,
          0.46,
          0.45,
          0.46,
          0.47,
          0.47
         ],
         "xaxis": "x",
         "y": [
          85847.70465815988,
          63224.622232079564,
          63292.533703260895,
          14149.286599999954,
          15833.698599999872,
          17378.62025466612,
          14149.286599999954,
          15833.698599999872,
          17461.38145132706,
          18593.300340665475,
          18593.300340665475,
          15985.011541566368,
          17446.63419999985,
          17105.567781628644,
          12512.201306310222,
          13795.122128536466,
          14555.535988150672,
          30262.339967190237,
          15516.414362487014,
          16221.97837484128,
          13467.779744007346,
          15516.414362487014,
          17026.911982354013,
          17623.845729593337,
          17623.845729593337,
          15253.525802199518,
          16903.201505462577,
          16388.43979265775,
          11007.639789887879,
          12328.416409358235,
          12741.245129162859,
          13312.877087450246,
          72430.47559999932,
          64504.26529414582,
          21058.583632673057,
          72318.87859999941,
          70746.93558244886,
          70354.29078294947,
          69897.73951675021,
          69410.979892048,
          91575.64034420233,
          45228.248770212485,
          44931.61823734674,
          44569.69259232506,
          44186.05844812852,
          21041.396443709025,
          43242.047261901185,
          85984.68820326282,
          43320.45677809917,
          85777.45385926828,
          14145.641884326164,
          16041.27249883716,
          17617.946810986115,
          14125.272585866156,
          15905.547647287918,
          17586.602787307467,
          18736.160599770465,
          18747.3136222064,
          15979.388166793711,
          17624.97621892692,
          17233.1790461877,
          18078.02446085551,
          14833.116401096791,
          12490.17219641756,
          13187.379176851084,
          14036.985239848496,
          14701.592789576385,
          15352.802413432672
         ],
         "yaxis": "y"
        },
        {
         "hovertemplate": "<b>%{hovertext}</b><br><br>Type=Battery Bank Energy<br>LCOE=%{x}<br>energia=%{marker.size}<extra></extra>",
         "hovertext": [
          46903.63515496898,
          34960.130236846824,
          34983.21269510512,
          11506.504808133359,
          11118.981457148137,
          9203.434909022475,
          11506.504808133359,
          11118.981457148137,
          10992.757372828843,
          9092.57342949306,
          9092.57342949306,
          11302.116407461168,
          11032.667578259694,
          11190.482049556837,
          11017.493829731055,
          10858.539150819344,
          10831.958223203881,
          21257.79216754598,
          9082.792918419787,
          7725.537116500091,
          9026.644021474845,
          9082.792918419787,
          9410.57051153636,
          7868.65728890177,
          7868.65728890177,
          9460.146349515859,
          9667.824494198945,
          9595.574736605033,
          6401.937501648367,
          6568.8968181435675,
          6803.543803776347,
          6892.392220930529,
          36560.05324861399,
          35491.522915019246,
          10477.63318762018,
          29762.80898865237,
          29736.47573664946,
          29592.182349897743,
          29424.09621947527,
          29190.626905241217,
          40895.979215942345,
          21282.012340264293,
          21192.507467265943,
          21060.17131893568,
          20919.30588248936,
          8796.215676018237,
          20635.067248169682,
          46962.71000019514,
          23661.053667050044,
          46862.106984557824,
          8417.931450148326,
          8141.766280385026,
          7813.960707236179,
          8888.376072662686,
          8898.558261329901,
          8430.431507159561,
          7680.068333969959,
          7667.91031001296,
          9072.968951586681,
          9235.85305880718,
          9951.48867893826,
          8357.945586445505,
          10442.022610587983,
          10048.925994928335,
          10036.5068789766,
          10961.2147406367,
          10886.678547492156,
          10850.444346767119
         ],
         "legendgroup": "Battery Bank Energy",
         "marker": {
          "color": "#FF7F0E",
          "size": [
           46903.63515496898,
           34960.130236846824,
           34983.21269510512,
           11506.504808133359,
           11118.981457148137,
           9203.434909022475,
           11506.504808133359,
           11118.981457148137,
           10992.757372828843,
           9092.57342949306,
           9092.57342949306,
           11302.116407461168,
           11032.667578259694,
           11190.482049556837,
           11017.493829731055,
           10858.539150819344,
           10831.958223203881,
           21257.79216754598,
           9082.792918419787,
           7725.537116500091,
           9026.644021474845,
           9082.792918419787,
           9410.57051153636,
           7868.65728890177,
           7868.65728890177,
           9460.146349515859,
           9667.824494198945,
           9595.574736605033,
           6401.937501648367,
           6568.8968181435675,
           6803.543803776347,
           6892.392220930529,
           36560.05324861399,
           35491.522915019246,
           10477.63318762018,
           29762.80898865237,
           29736.47573664946,
           29592.182349897743,
           29424.09621947527,
           29190.626905241217,
           40895.979215942345,
           21282.012340264293,
           21192.507467265943,
           21060.17131893568,
           20919.30588248936,
           8796.215676018237,
           20635.067248169682,
           46962.71000019514,
           23661.053667050044,
           46862.106984557824,
           8417.931450148326,
           8141.766280385026,
           7813.960707236179,
           8888.376072662686,
           8898.558261329901,
           8430.431507159561,
           7680.068333969959,
           7667.91031001296,
           9072.968951586681,
           9235.85305880718,
           9951.48867893826,
           8357.945586445505,
           10442.022610587983,
           10048.925994928335,
           10036.5068789766,
           10961.2147406367,
           10886.678547492156,
           10850.444346767119
          ],
          "sizemode": "area",
          "sizeref": 407.00284597423257,
          "symbol": "circle"
         },
         "mode": "markers",
         "name": "Battery Bank Energy",
         "orientation": "v",
         "showlegend": true,
         "type": "scatter",
         "x": [
          0.26,
          0.27,
          0.27,
          0.41,
          0.44,
          0.55,
          0.41,
          0.44,
          0.46,
          0.58,
          0.58,
          0.45,
          0.45,
          0.48,
          0.45,
          0.46,
          0.46,
          0.48,
          0.33,
          0.38,
          0.27,
          0.33,
          0.38,
          0.41,
          0.41,
          0.31,
          0.37,
          0.38,
          0.31,
          0.33,
          0.34,
          0.36,
          0.54,
          0.28,
          0.51,
          0.51,
          0.44,
          0.42,
          0.41,
          0.39,
          0.23,
          0.34,
          0.34,
          0.34,
          0.35,
          0.61,
          0.35,
          0.23,
          0.35,
          0.23,
          0.51,
          0.52,
          0.58,
          0.51,
          0.52,
          0.57,
          0.59,
          0.55,
          0.5,
          0.51,
          0.5,
          0.54,
          0.46,
          0.46,
          0.45,
          0.46,
          0.47,
          0.47
         ],
         "xaxis": "x",
         "y": [
          46903.63515496898,
          34960.130236846824,
          34983.21269510512,
          11506.504808133359,
          11118.981457148137,
          9203.434909022475,
          11506.504808133359,
          11118.981457148137,
          10992.757372828843,
          9092.57342949306,
          9092.57342949306,
          11302.116407461168,
          11032.667578259694,
          11190.482049556837,
          11017.493829731055,
          10858.539150819344,
          10831.958223203881,
          21257.79216754598,
          9082.792918419787,
          7725.537116500091,
          9026.644021474845,
          9082.792918419787,
          9410.57051153636,
          7868.65728890177,
          7868.65728890177,
          9460.146349515859,
          9667.824494198945,
          9595.574736605033,
          6401.937501648367,
          6568.8968181435675,
          6803.543803776347,
          6892.392220930529,
          36560.05324861399,
          35491.522915019246,
          10477.63318762018,
          29762.80898865237,
          29736.47573664946,
          29592.182349897743,
          29424.09621947527,
          29190.626905241217,
          40895.979215942345,
          21282.012340264293,
          21192.507467265943,
          21060.17131893568,
          20919.30588248936,
          8796.215676018237,
          20635.067248169682,
          46962.71000019514,
          23661.053667050044,
          46862.106984557824,
          8417.931450148326,
          8141.766280385026,
          7813.960707236179,
          8888.376072662686,
          8898.558261329901,
          8430.431507159561,
          7680.068333969959,
          7667.91031001296,
          9072.968951586681,
          9235.85305880718,
          9951.48867893826,
          8357.945586445505,
          10442.022610587983,
          10048.925994928335,
          10036.5068789766,
          10961.2147406367,
          10886.678547492156,
          10850.444346767119
         ],
         "yaxis": "y"
        },
        {
         "hovertemplate": "<b>%{hovertext}</b><br><br>Type=Diesel Energy<br>LCOE=%{x}<br>energia=%{marker.size}<extra></extra>",
         "hovertext": [
          3443.0969607825405,
          3431.116429218379,
          3404.5806464817447,
          10034.06810000005,
          8448.728600000028,
          8072.06015834655,
          10034.06810000005,
          8448.728600000028,
          6971.41564867284,
          7165.00620000003,
          7165.00620000003,
          8440.494258433557,
          7077.160600000034,
          7401.170486200001,
          12832.696509327037,
          11723.147739673788,
          10972.915801667765,
          21220.731668227898,
          9976.95453275153,
          10644.243603802257,
          12459.749968002023,
          9976.95453275153,
          8489.474705048548,
          9311.808179155061,
          9311.808179155061,
          10647.707621059786,
          8991.509022555134,
          9518.284612994257,
          15534.15405429097,
          14229.00962360421,
          13923.775695531802,
          13406.60861148271,
          98.99810000000004,
          2943.971889564317,
          4182.648697380552,
          2458.8568787098516,
          2929.5247706966575,
          3045.8739385686677,
          3224.2236138024386,
          3420.7355588734645,
          3705.7759087281593,
          3935.669928764756,
          4238.123900887107,
          4698.975592227998,
          5096.747154925475,
          5582.786322695868,
          6087.666408354686,
          3404.5806464817447,
          3481.3582674745767,
          3469.5180494642727,
          10578.933183654806,
          8889.219233440639,
          7832.430923394943,
          10590.933683439222,
          9327.03601826987,
          7848.734513040621,
          7156.643457043886,
          7143.982972833359,
          9220.527492209761,
          7782.776547265948,
          8188.277169873985,
          7478.296707698959,
          10097.805883315203,
          12567.681910335485,
          11907.998150131325,
          11354.28467345434,
          10767.730105868495,
          10161.56831892018
         ],
         "legendgroup": "Diesel Energy",
         "marker": {
          "color": "#2CA02C",
          "size": [
           3443.0969607825405,
           3431.116429218379,
           3404.5806464817447,
           10034.06810000005,
           8448.728600000028,
           8072.06015834655,
           10034.06810000005,
           8448.728600000028,
           6971.41564867284,
           7165.00620000003,
           7165.00620000003,
           8440.494258433557,
           7077.160600000034,
           7401.170486200001,
           12832.696509327037,
           11723.147739673788,
           10972.915801667765,
           21220.731668227898,
           9976.95453275153,
           10644.243603802257,
           12459.749968002023,
           9976.95453275153,
           8489.474705048548,
           9311.808179155061,
           9311.808179155061,
           10647.707621059786,
           8991.509022555134,
           9518.284612994257,
           15534.15405429097,
           14229.00962360421,
           13923.775695531802,
           13406.60861148271,
           98.99810000000004,
           2943.971889564317,
           4182.648697380552,
           2458.8568787098516,
           2929.5247706966575,
           3045.8739385686677,
           3224.2236138024386,
           3420.7355588734645,
           3705.7759087281593,
           3935.669928764756,
           4238.123900887107,
           4698.975592227998,
           5096.747154925475,
           5582.786322695868,
           6087.666408354686,
           3404.5806464817447,
           3481.3582674745767,
           3469.5180494642727,
           10578.933183654806,
           8889.219233440639,
           7832.430923394943,
           10590.933683439222,
           9327.03601826987,
           7848.734513040621,
           7156.643457043886,
           7143.982972833359,
           9220.527492209761,
           7782.776547265948,
           8188.277169873985,
           7478.296707698959,
           10097.805883315203,
           12567.681910335485,
           11907.998150131325,
           11354.28467345434,
           10767.730105868495,
           10161.56831892018
          ],
          "sizemode": "area",
          "sizeref": 407.00284597423257,
          "symbol": "circle"
         },
         "mode": "markers",
         "name": "Diesel Energy",
         "orientation": "v",
         "showlegend": true,
         "type": "scatter",
         "x": [
          0.26,
          0.27,
          0.27,
          0.41,
          0.44,
          0.55,
          0.41,
          0.44,
          0.46,
          0.58,
          0.58,
          0.45,
          0.45,
          0.48,
          0.45,
          0.46,
          0.46,
          0.48,
          0.33,
          0.38,
          0.27,
          0.33,
          0.38,
          0.41,
          0.41,
          0.31,
          0.37,
          0.38,
          0.31,
          0.33,
          0.34,
          0.36,
          0.54,
          0.28,
          0.51,
          0.51,
          0.44,
          0.42,
          0.41,
          0.39,
          0.23,
          0.34,
          0.34,
          0.34,
          0.35,
          0.61,
          0.35,
          0.23,
          0.35,
          0.23,
          0.51,
          0.52,
          0.58,
          0.51,
          0.52,
          0.57,
          0.59,
          0.55,
          0.5,
          0.51,
          0.5,
          0.54,
          0.46,
          0.46,
          0.45,
          0.46,
          0.47,
          0.47
         ],
         "xaxis": "x",
         "y": [
          3443.0969607825405,
          3431.116429218379,
          3404.5806464817447,
          10034.06810000005,
          8448.728600000028,
          8072.06015834655,
          10034.06810000005,
          8448.728600000028,
          6971.41564867284,
          7165.00620000003,
          7165.00620000003,
          8440.494258433557,
          7077.160600000034,
          7401.170486200001,
          12832.696509327037,
          11723.147739673788,
          10972.915801667765,
          21220.731668227898,
          9976.95453275153,
          10644.243603802257,
          12459.749968002023,
          9976.95453275153,
          8489.474705048548,
          9311.808179155061,
          9311.808179155061,
          10647.707621059786,
          8991.509022555134,
          9518.284612994257,
          15534.15405429097,
          14229.00962360421,
          13923.775695531802,
          13406.60861148271,
          98.99810000000004,
          2943.971889564317,
          4182.648697380552,
          2458.8568787098516,
          2929.5247706966575,
          3045.8739385686677,
          3224.2236138024386,
          3420.7355588734645,
          3705.7759087281593,
          3935.669928764756,
          4238.123900887107,
          4698.975592227998,
          5096.747154925475,
          5582.786322695868,
          6087.666408354686,
          3404.5806464817447,
          3481.3582674745767,
          3469.5180494642727,
          10578.933183654806,
          8889.219233440639,
          7832.430923394943,
          10590.933683439222,
          9327.03601826987,
          7848.734513040621,
          7156.643457043886,
          7143.982972833359,
          9220.527492209761,
          7782.776547265948,
          8188.277169873985,
          7478.296707698959,
          10097.805883315203,
          12567.681910335485,
          11907.998150131325,
          11354.28467345434,
          10767.730105868495,
          10161.56831892018
         ],
         "yaxis": "y"
        }
       ],
       "layout": {
        "font": {
         "color": "black",
         "family": "Times New Roman",
         "size": 14
        },
        "height": 400,
        "legend": {
         "font": {
          "size": 14
         },
         "itemsizing": "constant",
         "orientation": "h",
         "title": {
          "text": "Type"
         },
         "tracegroupgap": 0,
         "x": 1,
         "xanchor": "right",
         "y": 1.02,
         "yanchor": "bottom"
        },
        "margin": {
         "t": 60
        },
        "showlegend": true,
        "template": {
         "data": {
          "pie": [
           {
            "automargin": true,
            "type": "pie"
           }
          ]
         },
         "layout": {
          "yaxis": {
           "showgrid": false
          }
         }
        },
        "title": {
         "font": {
          "family": "Times New Roman"
         }
        },
        "width": 520,
        "xaxis": {
         "anchor": "y",
         "domain": [
          0,
          1
         ],
         "linecolor": "black",
         "nticks": 5,
         "showline": true,
         "title": {
          "text": "LCOE"
         },
         "type": "log"
        },
        "yaxis": {
         "anchor": "x",
         "domain": [
          0,
          1
         ],
         "linecolor": "black",
         "nticks": 8,
         "showline": true,
         "title": {
          "text": "Total Energy (kWh/year)"
         }
        }
       }
      },
      "text/html": [
       "<div>                            <div id=\"a95f4dc6-c88a-4e16-8a9f-bd052bf4f556\" class=\"plotly-graph-div\" style=\"height:400px; width:520px;\"></div>            <script type=\"text/javascript\">                require([\"plotly\"], function(Plotly) {                    window.PLOTLYENV=window.PLOTLYENV || {};                                    if (document.getElementById(\"a95f4dc6-c88a-4e16-8a9f-bd052bf4f556\")) {                    Plotly.newPlot(                        \"a95f4dc6-c88a-4e16-8a9f-bd052bf4f556\",                        [{\"hovertemplate\": \"<b>%{hovertext}</b><br><br>Type=PV Energy<br>LCOE=%{x}<br>energia=%{marker.size}<extra></extra>\", \"hovertext\": [85847.70465815988, 63224.622232079564, 63292.533703260895, 14149.286599999954, 15833.698599999872, 17378.62025466612, 14149.286599999954, 15833.698599999872, 17461.38145132706, 18593.300340665475, 18593.300340665475, 15985.011541566368, 17446.63419999985, 17105.567781628644, 12512.201306310222, 13795.122128536466, 14555.535988150672, 30262.339967190237, 15516.414362487014, 16221.97837484128, 13467.779744007346, 15516.414362487014, 17026.911982354013, 17623.845729593337, 17623.845729593337, 15253.525802199518, 16903.201505462577, 16388.43979265775, 11007.639789887879, 12328.416409358235, 12741.245129162859, 13312.877087450246, 72430.47559999932, 64504.26529414582, 21058.583632673057, 72318.87859999941, 70746.93558244886, 70354.29078294947, 69897.73951675021, 69410.979892048, 91575.64034420233, 45228.248770212485, 44931.61823734674, 44569.69259232506, 44186.05844812852, 21041.396443709025, 43242.047261901185, 85984.68820326282, 43320.45677809917, 85777.45385926828, 14145.641884326164, 16041.27249883716, 17617.946810986115, 14125.272585866156, 15905.547647287918, 17586.602787307467, 18736.160599770465, 18747.3136222064, 15979.388166793711, 17624.97621892692, 17233.1790461877, 18078.02446085551, 14833.116401096791, 12490.17219641756, 13187.379176851084, 14036.985239848496, 14701.592789576385, 15352.802413432672], \"legendgroup\": \"PV Energy\", \"marker\": {\"color\": \"#1F77B4\", \"size\": [85847.70465815988, 63224.622232079564, 63292.533703260895, 14149.286599999954, 15833.698599999872, 17378.62025466612, 14149.286599999954, 15833.698599999872, 17461.38145132706, 18593.300340665475, 18593.300340665475, 15985.011541566368, 17446.63419999985, 17105.567781628644, 12512.201306310222, 13795.122128536466, 14555.535988150672, 30262.339967190237, 15516.414362487014, 16221.97837484128, 13467.779744007346, 15516.414362487014, 17026.911982354013, 17623.845729593337, 17623.845729593337, 15253.525802199518, 16903.201505462577, 16388.43979265775, 11007.639789887879, 12328.416409358235, 12741.245129162859, 13312.877087450246, 72430.47559999932, 64504.26529414582, 21058.583632673057, 72318.87859999941, 70746.93558244886, 70354.29078294947, 69897.73951675021, 69410.979892048, 91575.64034420233, 45228.248770212485, 44931.61823734674, 44569.69259232506, 44186.05844812852, 21041.396443709025, 43242.047261901185, 85984.68820326282, 43320.45677809917, 85777.45385926828, 14145.641884326164, 16041.27249883716, 17617.946810986115, 14125.272585866156, 15905.547647287918, 17586.602787307467, 18736.160599770465, 18747.3136222064, 15979.388166793711, 17624.97621892692, 17233.1790461877, 18078.02446085551, 14833.116401096791, 12490.17219641756, 13187.379176851084, 14036.985239848496, 14701.592789576385, 15352.802413432672], \"sizemode\": \"area\", \"sizeref\": 407.00284597423257, \"symbol\": \"circle\"}, \"mode\": \"markers\", \"name\": \"PV Energy\", \"orientation\": \"v\", \"showlegend\": true, \"type\": \"scatter\", \"x\": [0.26, 0.27, 0.27, 0.41, 0.44, 0.55, 0.41, 0.44, 0.46, 0.58, 0.58, 0.45, 0.45, 0.48, 0.45, 0.46, 0.46, 0.48, 0.33, 0.38, 0.27, 0.33, 0.38, 0.41, 0.41, 0.31, 0.37, 0.38, 0.31, 0.33, 0.34, 0.36, 0.54, 0.28, 0.51, 0.51, 0.44, 0.42, 0.41, 0.39, 0.23, 0.34, 0.34, 0.34, 0.35, 0.61, 0.35, 0.23, 0.35, 0.23, 0.51, 0.52, 0.58, 0.51, 0.52, 0.57, 0.59, 0.55, 0.5, 0.51, 0.5, 0.54, 0.46, 0.46, 0.45, 0.46, 0.47, 0.47], \"xaxis\": \"x\", \"y\": [85847.70465815988, 63224.622232079564, 63292.533703260895, 14149.286599999954, 15833.698599999872, 17378.62025466612, 14149.286599999954, 15833.698599999872, 17461.38145132706, 18593.300340665475, 18593.300340665475, 15985.011541566368, 17446.63419999985, 17105.567781628644, 12512.201306310222, 13795.122128536466, 14555.535988150672, 30262.339967190237, 15516.414362487014, 16221.97837484128, 13467.779744007346, 15516.414362487014, 17026.911982354013, 17623.845729593337, 17623.845729593337, 15253.525802199518, 16903.201505462577, 16388.43979265775, 11007.639789887879, 12328.416409358235, 12741.245129162859, 13312.877087450246, 72430.47559999932, 64504.26529414582, 21058.583632673057, 72318.87859999941, 70746.93558244886, 70354.29078294947, 69897.73951675021, 69410.979892048, 91575.64034420233, 45228.248770212485, 44931.61823734674, 44569.69259232506, 44186.05844812852, 21041.396443709025, 43242.047261901185, 85984.68820326282, 43320.45677809917, 85777.45385926828, 14145.641884326164, 16041.27249883716, 17617.946810986115, 14125.272585866156, 15905.547647287918, 17586.602787307467, 18736.160599770465, 18747.3136222064, 15979.388166793711, 17624.97621892692, 17233.1790461877, 18078.02446085551, 14833.116401096791, 12490.17219641756, 13187.379176851084, 14036.985239848496, 14701.592789576385, 15352.802413432672], \"yaxis\": \"y\"}, {\"hovertemplate\": \"<b>%{hovertext}</b><br><br>Type=Battery Bank Energy<br>LCOE=%{x}<br>energia=%{marker.size}<extra></extra>\", \"hovertext\": [46903.63515496898, 34960.130236846824, 34983.21269510512, 11506.504808133359, 11118.981457148137, 9203.434909022475, 11506.504808133359, 11118.981457148137, 10992.757372828843, 9092.57342949306, 9092.57342949306, 11302.116407461168, 11032.667578259694, 11190.482049556837, 11017.493829731055, 10858.539150819344, 10831.958223203881, 21257.79216754598, 9082.792918419787, 7725.537116500091, 9026.644021474845, 9082.792918419787, 9410.57051153636, 7868.65728890177, 7868.65728890177, 9460.146349515859, 9667.824494198945, 9595.574736605033, 6401.937501648367, 6568.8968181435675, 6803.543803776347, 6892.392220930529, 36560.05324861399, 35491.522915019246, 10477.63318762018, 29762.80898865237, 29736.47573664946, 29592.182349897743, 29424.09621947527, 29190.626905241217, 40895.979215942345, 21282.012340264293, 21192.507467265943, 21060.17131893568, 20919.30588248936, 8796.215676018237, 20635.067248169682, 46962.71000019514, 23661.053667050044, 46862.106984557824, 8417.931450148326, 8141.766280385026, 7813.960707236179, 8888.376072662686, 8898.558261329901, 8430.431507159561, 7680.068333969959, 7667.91031001296, 9072.968951586681, 9235.85305880718, 9951.48867893826, 8357.945586445505, 10442.022610587983, 10048.925994928335, 10036.5068789766, 10961.2147406367, 10886.678547492156, 10850.444346767119], \"legendgroup\": \"Battery Bank Energy\", \"marker\": {\"color\": \"#FF7F0E\", \"size\": [46903.63515496898, 34960.130236846824, 34983.21269510512, 11506.504808133359, 11118.981457148137, 9203.434909022475, 11506.504808133359, 11118.981457148137, 10992.757372828843, 9092.57342949306, 9092.57342949306, 11302.116407461168, 11032.667578259694, 11190.482049556837, 11017.493829731055, 10858.539150819344, 10831.958223203881, 21257.79216754598, 9082.792918419787, 7725.537116500091, 9026.644021474845, 9082.792918419787, 9410.57051153636, 7868.65728890177, 7868.65728890177, 9460.146349515859, 9667.824494198945, 9595.574736605033, 6401.937501648367, 6568.8968181435675, 6803.543803776347, 6892.392220930529, 36560.05324861399, 35491.522915019246, 10477.63318762018, 29762.80898865237, 29736.47573664946, 29592.182349897743, 29424.09621947527, 29190.626905241217, 40895.979215942345, 21282.012340264293, 21192.507467265943, 21060.17131893568, 20919.30588248936, 8796.215676018237, 20635.067248169682, 46962.71000019514, 23661.053667050044, 46862.106984557824, 8417.931450148326, 8141.766280385026, 7813.960707236179, 8888.376072662686, 8898.558261329901, 8430.431507159561, 7680.068333969959, 7667.91031001296, 9072.968951586681, 9235.85305880718, 9951.48867893826, 8357.945586445505, 10442.022610587983, 10048.925994928335, 10036.5068789766, 10961.2147406367, 10886.678547492156, 10850.444346767119], \"sizemode\": \"area\", \"sizeref\": 407.00284597423257, \"symbol\": \"circle\"}, \"mode\": \"markers\", \"name\": \"Battery Bank Energy\", \"orientation\": \"v\", \"showlegend\": true, \"type\": \"scatter\", \"x\": [0.26, 0.27, 0.27, 0.41, 0.44, 0.55, 0.41, 0.44, 0.46, 0.58, 0.58, 0.45, 0.45, 0.48, 0.45, 0.46, 0.46, 0.48, 0.33, 0.38, 0.27, 0.33, 0.38, 0.41, 0.41, 0.31, 0.37, 0.38, 0.31, 0.33, 0.34, 0.36, 0.54, 0.28, 0.51, 0.51, 0.44, 0.42, 0.41, 0.39, 0.23, 0.34, 0.34, 0.34, 0.35, 0.61, 0.35, 0.23, 0.35, 0.23, 0.51, 0.52, 0.58, 0.51, 0.52, 0.57, 0.59, 0.55, 0.5, 0.51, 0.5, 0.54, 0.46, 0.46, 0.45, 0.46, 0.47, 0.47], \"xaxis\": \"x\", \"y\": [46903.63515496898, 34960.130236846824, 34983.21269510512, 11506.504808133359, 11118.981457148137, 9203.434909022475, 11506.504808133359, 11118.981457148137, 10992.757372828843, 9092.57342949306, 9092.57342949306, 11302.116407461168, 11032.667578259694, 11190.482049556837, 11017.493829731055, 10858.539150819344, 10831.958223203881, 21257.79216754598, 9082.792918419787, 7725.537116500091, 9026.644021474845, 9082.792918419787, 9410.57051153636, 7868.65728890177, 7868.65728890177, 9460.146349515859, 9667.824494198945, 9595.574736605033, 6401.937501648367, 6568.8968181435675, 6803.543803776347, 6892.392220930529, 36560.05324861399, 35491.522915019246, 10477.63318762018, 29762.80898865237, 29736.47573664946, 29592.182349897743, 29424.09621947527, 29190.626905241217, 40895.979215942345, 21282.012340264293, 21192.507467265943, 21060.17131893568, 20919.30588248936, 8796.215676018237, 20635.067248169682, 46962.71000019514, 23661.053667050044, 46862.106984557824, 8417.931450148326, 8141.766280385026, 7813.960707236179, 8888.376072662686, 8898.558261329901, 8430.431507159561, 7680.068333969959, 7667.91031001296, 9072.968951586681, 9235.85305880718, 9951.48867893826, 8357.945586445505, 10442.022610587983, 10048.925994928335, 10036.5068789766, 10961.2147406367, 10886.678547492156, 10850.444346767119], \"yaxis\": \"y\"}, {\"hovertemplate\": \"<b>%{hovertext}</b><br><br>Type=Diesel Energy<br>LCOE=%{x}<br>energia=%{marker.size}<extra></extra>\", \"hovertext\": [3443.0969607825405, 3431.116429218379, 3404.5806464817447, 10034.06810000005, 8448.728600000028, 8072.06015834655, 10034.06810000005, 8448.728600000028, 6971.41564867284, 7165.00620000003, 7165.00620000003, 8440.494258433557, 7077.160600000034, 7401.170486200001, 12832.696509327037, 11723.147739673788, 10972.915801667765, 21220.731668227898, 9976.95453275153, 10644.243603802257, 12459.749968002023, 9976.95453275153, 8489.474705048548, 9311.808179155061, 9311.808179155061, 10647.707621059786, 8991.509022555134, 9518.284612994257, 15534.15405429097, 14229.00962360421, 13923.775695531802, 13406.60861148271, 98.99810000000004, 2943.971889564317, 4182.648697380552, 2458.8568787098516, 2929.5247706966575, 3045.8739385686677, 3224.2236138024386, 3420.7355588734645, 3705.7759087281593, 3935.669928764756, 4238.123900887107, 4698.975592227998, 5096.747154925475, 5582.786322695868, 6087.666408354686, 3404.5806464817447, 3481.3582674745767, 3469.5180494642727, 10578.933183654806, 8889.219233440639, 7832.430923394943, 10590.933683439222, 9327.03601826987, 7848.734513040621, 7156.643457043886, 7143.982972833359, 9220.527492209761, 7782.776547265948, 8188.277169873985, 7478.296707698959, 10097.805883315203, 12567.681910335485, 11907.998150131325, 11354.28467345434, 10767.730105868495, 10161.56831892018], \"legendgroup\": \"Diesel Energy\", \"marker\": {\"color\": \"#2CA02C\", \"size\": [3443.0969607825405, 3431.116429218379, 3404.5806464817447, 10034.06810000005, 8448.728600000028, 8072.06015834655, 10034.06810000005, 8448.728600000028, 6971.41564867284, 7165.00620000003, 7165.00620000003, 8440.494258433557, 7077.160600000034, 7401.170486200001, 12832.696509327037, 11723.147739673788, 10972.915801667765, 21220.731668227898, 9976.95453275153, 10644.243603802257, 12459.749968002023, 9976.95453275153, 8489.474705048548, 9311.808179155061, 9311.808179155061, 10647.707621059786, 8991.509022555134, 9518.284612994257, 15534.15405429097, 14229.00962360421, 13923.775695531802, 13406.60861148271, 98.99810000000004, 2943.971889564317, 4182.648697380552, 2458.8568787098516, 2929.5247706966575, 3045.8739385686677, 3224.2236138024386, 3420.7355588734645, 3705.7759087281593, 3935.669928764756, 4238.123900887107, 4698.975592227998, 5096.747154925475, 5582.786322695868, 6087.666408354686, 3404.5806464817447, 3481.3582674745767, 3469.5180494642727, 10578.933183654806, 8889.219233440639, 7832.430923394943, 10590.933683439222, 9327.03601826987, 7848.734513040621, 7156.643457043886, 7143.982972833359, 9220.527492209761, 7782.776547265948, 8188.277169873985, 7478.296707698959, 10097.805883315203, 12567.681910335485, 11907.998150131325, 11354.28467345434, 10767.730105868495, 10161.56831892018], \"sizemode\": \"area\", \"sizeref\": 407.00284597423257, \"symbol\": \"circle\"}, \"mode\": \"markers\", \"name\": \"Diesel Energy\", \"orientation\": \"v\", \"showlegend\": true, \"type\": \"scatter\", \"x\": [0.26, 0.27, 0.27, 0.41, 0.44, 0.55, 0.41, 0.44, 0.46, 0.58, 0.58, 0.45, 0.45, 0.48, 0.45, 0.46, 0.46, 0.48, 0.33, 0.38, 0.27, 0.33, 0.38, 0.41, 0.41, 0.31, 0.37, 0.38, 0.31, 0.33, 0.34, 0.36, 0.54, 0.28, 0.51, 0.51, 0.44, 0.42, 0.41, 0.39, 0.23, 0.34, 0.34, 0.34, 0.35, 0.61, 0.35, 0.23, 0.35, 0.23, 0.51, 0.52, 0.58, 0.51, 0.52, 0.57, 0.59, 0.55, 0.5, 0.51, 0.5, 0.54, 0.46, 0.46, 0.45, 0.46, 0.47, 0.47], \"xaxis\": \"x\", \"y\": [3443.0969607825405, 3431.116429218379, 3404.5806464817447, 10034.06810000005, 8448.728600000028, 8072.06015834655, 10034.06810000005, 8448.728600000028, 6971.41564867284, 7165.00620000003, 7165.00620000003, 8440.494258433557, 7077.160600000034, 7401.170486200001, 12832.696509327037, 11723.147739673788, 10972.915801667765, 21220.731668227898, 9976.95453275153, 10644.243603802257, 12459.749968002023, 9976.95453275153, 8489.474705048548, 9311.808179155061, 9311.808179155061, 10647.707621059786, 8991.509022555134, 9518.284612994257, 15534.15405429097, 14229.00962360421, 13923.775695531802, 13406.60861148271, 98.99810000000004, 2943.971889564317, 4182.648697380552, 2458.8568787098516, 2929.5247706966575, 3045.8739385686677, 3224.2236138024386, 3420.7355588734645, 3705.7759087281593, 3935.669928764756, 4238.123900887107, 4698.975592227998, 5096.747154925475, 5582.786322695868, 6087.666408354686, 3404.5806464817447, 3481.3582674745767, 3469.5180494642727, 10578.933183654806, 8889.219233440639, 7832.430923394943, 10590.933683439222, 9327.03601826987, 7848.734513040621, 7156.643457043886, 7143.982972833359, 9220.527492209761, 7782.776547265948, 8188.277169873985, 7478.296707698959, 10097.805883315203, 12567.681910335485, 11907.998150131325, 11354.28467345434, 10767.730105868495, 10161.56831892018], \"yaxis\": \"y\"}],                        {\"font\": {\"color\": \"black\", \"family\": \"Times New Roman\", \"size\": 14}, \"height\": 400, \"legend\": {\"font\": {\"size\": 14}, \"itemsizing\": \"constant\", \"orientation\": \"h\", \"title\": {\"text\": \"Type\"}, \"tracegroupgap\": 0, \"x\": 1, \"xanchor\": \"right\", \"y\": 1.02, \"yanchor\": \"bottom\"}, \"margin\": {\"t\": 60}, \"showlegend\": true, \"template\": {\"data\": {\"pie\": [{\"automargin\": true, \"type\": \"pie\"}]}, \"layout\": {\"yaxis\": {\"showgrid\": false}}}, \"title\": {\"font\": {\"family\": \"Times New Roman\"}}, \"width\": 520, \"xaxis\": {\"anchor\": \"y\", \"domain\": [0.0, 1.0], \"linecolor\": \"black\", \"nticks\": 5, \"showline\": true, \"title\": {\"text\": \"LCOE\"}, \"type\": \"log\"}, \"yaxis\": {\"anchor\": \"x\", \"domain\": [0.0, 1.0], \"linecolor\": \"black\", \"nticks\": 8, \"showline\": true, \"title\": {\"text\": \"Total Energy (kWh/year)\"}}},                        {\"responsive\": true}                    ).then(function(){\n",
       "                            \n",
       "var gd = document.getElementById('a95f4dc6-c88a-4e16-8a9f-bd052bf4f556');\n",
       "var x = new MutationObserver(function (mutations, observer) {{\n",
       "        var display = window.getComputedStyle(gd).display;\n",
       "        if (!display || display === 'none') {{\n",
       "            console.log([gd, 'removed!']);\n",
       "            Plotly.purge(gd);\n",
       "            observer.disconnect();\n",
       "        }}\n",
       "}});\n",
       "\n",
       "// Listen for the removal of the full notebook cells\n",
       "var notebookContainer = gd.closest('#notebook-container');\n",
       "if (notebookContainer) {{\n",
       "    x.observe(notebookContainer, {childList: true});\n",
       "}}\n",
       "\n",
       "// Listen for the clearing of the current output cell\n",
       "var outputEl = gd.closest('.output');\n",
       "if (outputEl) {{\n",
       "    x.observe(outputEl, {childList: true});\n",
       "}}\n",
       "\n",
       "                        })                };                });            </script>        </div>"
      ]
     },
     "metadata": {},
     "output_type": "display_data"
    }
   ],
   "source": [
    "fig = px.scatter(analisis_final, x=\"LCOE\", y=\"energia\",\n",
    "\t         size=\"energia\", color=\"Type\",\n",
    "                 hover_name=\"energia\", log_x=True, size_max=15,template=\"ygridoff\",width=520,\n",
    "              height=400)\n",
    "fig.update_yaxes(nticks=8)\n",
    "fig.update_xaxes(nticks=5)\n",
    "fig.update_xaxes(title_text='LCOE')\n",
    "fig.update_yaxes(title_text='Total Energy (kWh/year)')\n",
    "fig.update_xaxes(showline=True, linecolor='black')\n",
    "fig.layout.update(showlegend=True) \n",
    "fig.update_yaxes(showline=True, linecolor='black')\n",
    "fig.update_layout(\n",
    "    font_family=\"Times New Roman\",\n",
    "    title_font_family=\"Times New Roman\",\n",
    "    font_size=14\n",
    "    ,\n",
    "    font_color=\"black\",\n",
    "        legend=dict(\n",
    "    orientation=\"h\",\n",
    "    yanchor=\"bottom\",\n",
    "    y=1.02,\n",
    "    xanchor=\"right\",\n",
    "    x=1,\n",
    "        font_size=14)\n",
    "       \n",
    ")\n",
    "\n",
    "fig.show()\n",
    "\n",
    "fig.write_image(\"energy_lcoe_bubble.eps\")"
   ]
  },
  {
   "cell_type": "code",
   "execution_count": 108,
   "id": "fdaffa8f",
   "metadata": {
    "ExecuteTime": {
     "end_time": "2021-09-28T04:07:59.132808Z",
     "start_time": "2021-09-28T04:07:59.068804Z"
    }
   },
   "outputs": [],
   "source": [
    "bubble_plot1=df_analisis.query('optimizacion==\"optimal\" and p_dg !=0 ')[[\"asc_incentivo\",\"energia_Dg\"]]\n",
    "bubble_plot1.columns = ['ASC','energia']\n",
    "bubble_plot1[\"Type\"]= 'Diesel Energy'\n",
    "#'PV Energy', 'Battery Bank Energy', 'Diesel Energy',\n",
    "bubble_plot2=df_analisis.query('optimizacion==\"optimal\" and p_dg !=0 ')[[\"asc_incentivo\",\"energia_descarga_bateria\"]]\n",
    "bubble_plot2.columns = ['ASC','energia']\n",
    "bubble_plot2[\"Type\"]= 'Battery Bank Energy'\n",
    "#################33\n",
    "bubble_plot3=df_analisis.query('optimizacion==\"optimal\" and p_dg !=0 ')[[\"asc_incentivo\",\"energia_PV\"]]\n",
    "bubble_plot3.columns = ['ASC','energia']\n",
    "bubble_plot3[\"Type\"]= 'PV Energy'"
   ]
  },
  {
   "cell_type": "code",
   "execution_count": 109,
   "id": "5a7766f6",
   "metadata": {
    "ExecuteTime": {
     "end_time": "2021-09-28T04:07:59.805319Z",
     "start_time": "2021-09-28T04:07:59.797311Z"
    }
   },
   "outputs": [],
   "source": [
    "analisis_final = pd.concat([bubble_plot3,bubble_plot2,bubble_plot1], axis =0)"
   ]
  },
  {
   "cell_type": "code",
   "execution_count": 110,
   "id": "6f866c0a",
   "metadata": {
    "ExecuteTime": {
     "end_time": "2021-09-28T04:08:01.708059Z",
     "start_time": "2021-09-28T04:08:00.396524Z"
    },
    "code_folding": []
   },
   "outputs": [
    {
     "data": {
      "application/vnd.plotly.v1+json": {
       "config": {
        "plotlyServerURL": "https://plot.ly"
       },
       "data": [
        {
         "hovertemplate": "<b>%{hovertext}</b><br><br>Type=PV Energy<br>ASC=%{x}<br>energia=%{marker.size}<extra></extra>",
         "hovertext": [
          85847.70465815988,
          63224.622232079564,
          63292.533703260895,
          14149.286599999954,
          15833.698599999872,
          17378.62025466612,
          14149.286599999954,
          15833.698599999872,
          17461.38145132706,
          18593.300340665475,
          18593.300340665475,
          15985.011541566368,
          17446.63419999985,
          17105.567781628644,
          12512.201306310222,
          13795.122128536466,
          14555.535988150672,
          30262.339967190237,
          15516.414362487014,
          16221.97837484128,
          13467.779744007346,
          15516.414362487014,
          17026.911982354013,
          17623.845729593337,
          17623.845729593337,
          15253.525802199518,
          16903.201505462577,
          16388.43979265775,
          11007.639789887879,
          12328.416409358235,
          12741.245129162859,
          13312.877087450246,
          72430.47559999932,
          64504.26529414582,
          21058.583632673057,
          72318.87859999941,
          70746.93558244886,
          70354.29078294947,
          69897.73951675021,
          69410.979892048,
          91575.64034420233,
          45228.248770212485,
          44931.61823734674,
          44569.69259232506,
          44186.05844812852,
          21041.396443709025,
          43242.047261901185,
          85984.68820326282,
          43320.45677809917,
          85777.45385926828,
          14145.641884326164,
          16041.27249883716,
          17617.946810986115,
          14125.272585866156,
          15905.547647287918,
          17586.602787307467,
          18736.160599770465,
          18747.3136222064,
          15979.388166793711,
          17624.97621892692,
          17233.1790461877,
          18078.02446085551,
          14833.116401096791,
          12490.17219641756,
          13187.379176851084,
          14036.985239848496,
          14701.592789576385,
          15352.802413432672
         ],
         "legendgroup": "PV Energy",
         "marker": {
          "color": "#1F77B4",
          "size": [
           85847.70465815988,
           63224.622232079564,
           63292.533703260895,
           14149.286599999954,
           15833.698599999872,
           17378.62025466612,
           14149.286599999954,
           15833.698599999872,
           17461.38145132706,
           18593.300340665475,
           18593.300340665475,
           15985.011541566368,
           17446.63419999985,
           17105.567781628644,
           12512.201306310222,
           13795.122128536466,
           14555.535988150672,
           30262.339967190237,
           15516.414362487014,
           16221.97837484128,
           13467.779744007346,
           15516.414362487014,
           17026.911982354013,
           17623.845729593337,
           17623.845729593337,
           15253.525802199518,
           16903.201505462577,
           16388.43979265775,
           11007.639789887879,
           12328.416409358235,
           12741.245129162859,
           13312.877087450246,
           72430.47559999932,
           64504.26529414582,
           21058.583632673057,
           72318.87859999941,
           70746.93558244886,
           70354.29078294947,
           69897.73951675021,
           69410.979892048,
           91575.64034420233,
           45228.248770212485,
           44931.61823734674,
           44569.69259232506,
           44186.05844812852,
           21041.396443709025,
           43242.047261901185,
           85984.68820326282,
           43320.45677809917,
           85777.45385926828,
           14145.641884326164,
           16041.27249883716,
           17617.946810986115,
           14125.272585866156,
           15905.547647287918,
           17586.602787307467,
           18736.160599770465,
           18747.3136222064,
           15979.388166793711,
           17624.97621892692,
           17233.1790461877,
           18078.02446085551,
           14833.116401096791,
           12490.17219641756,
           13187.379176851084,
           14036.985239848496,
           14701.592789576385,
           15352.802413432672
          ],
          "sizemode": "area",
          "sizeref": 407.00284597423257,
          "symbol": "circle"
         },
         "mode": "markers",
         "name": "PV Energy",
         "orientation": "v",
         "showlegend": true,
         "type": "scatter",
         "x": [
          15882.6,
          15928.26,
          15973.92,
          14172.24,
          14794.86,
          15199.83,
          14172.24,
          14794.86,
          15544.03,
          16170.95,
          16170.95,
          14534.48,
          15654.4,
          15080.89,
          14982.58,
          15584.81,
          15791.56,
          16043.78,
          10109.88,
          11095.06,
          8740.03,
          10109.88,
          11479.72,
          12464.91,
          12464.91,
          10109.88,
          11479.72,
          11023.11,
          7826.8,
          8740.03,
          9196.65,
          9653.26,
          30585.6,
          16887.15,
          16502.49,
          30585.6,
          26019.45,
          25106.22,
          24192.99,
          23279.76,
          20303.59,
          20257.93,
          20212.27,
          20166.6,
          20120.94,
          17800.38,
          20166.6,
          20120.94,
          20075.28,
          20029.62,
          13777.97,
          14761.36,
          15561.26,
          13933.13,
          14979.33,
          15693.94,
          16632.54,
          17062.24,
          15149.84,
          16237.73,
          16041.26,
          16385.5,
          15198,
          14658.71,
          15284.17,
          15422.37,
          15573.02,
          15911.56
         ],
         "xaxis": "x",
         "y": [
          85847.70465815988,
          63224.622232079564,
          63292.533703260895,
          14149.286599999954,
          15833.698599999872,
          17378.62025466612,
          14149.286599999954,
          15833.698599999872,
          17461.38145132706,
          18593.300340665475,
          18593.300340665475,
          15985.011541566368,
          17446.63419999985,
          17105.567781628644,
          12512.201306310222,
          13795.122128536466,
          14555.535988150672,
          30262.339967190237,
          15516.414362487014,
          16221.97837484128,
          13467.779744007346,
          15516.414362487014,
          17026.911982354013,
          17623.845729593337,
          17623.845729593337,
          15253.525802199518,
          16903.201505462577,
          16388.43979265775,
          11007.639789887879,
          12328.416409358235,
          12741.245129162859,
          13312.877087450246,
          72430.47559999932,
          64504.26529414582,
          21058.583632673057,
          72318.87859999941,
          70746.93558244886,
          70354.29078294947,
          69897.73951675021,
          69410.979892048,
          91575.64034420233,
          45228.248770212485,
          44931.61823734674,
          44569.69259232506,
          44186.05844812852,
          21041.396443709025,
          43242.047261901185,
          85984.68820326282,
          43320.45677809917,
          85777.45385926828,
          14145.641884326164,
          16041.27249883716,
          17617.946810986115,
          14125.272585866156,
          15905.547647287918,
          17586.602787307467,
          18736.160599770465,
          18747.3136222064,
          15979.388166793711,
          17624.97621892692,
          17233.1790461877,
          18078.02446085551,
          14833.116401096791,
          12490.17219641756,
          13187.379176851084,
          14036.985239848496,
          14701.592789576385,
          15352.802413432672
         ],
         "yaxis": "y"
        },
        {
         "hovertemplate": "<b>%{hovertext}</b><br><br>Type=Battery Bank Energy<br>ASC=%{x}<br>energia=%{marker.size}<extra></extra>",
         "hovertext": [
          46903.63515496898,
          34960.130236846824,
          34983.21269510512,
          11506.504808133359,
          11118.981457148137,
          9203.434909022475,
          11506.504808133359,
          11118.981457148137,
          10992.757372828843,
          9092.57342949306,
          9092.57342949306,
          11302.116407461168,
          11032.667578259694,
          11190.482049556837,
          11017.493829731055,
          10858.539150819344,
          10831.958223203881,
          21257.79216754598,
          9082.792918419787,
          7725.537116500091,
          9026.644021474845,
          9082.792918419787,
          9410.57051153636,
          7868.65728890177,
          7868.65728890177,
          9460.146349515859,
          9667.824494198945,
          9595.574736605033,
          6401.937501648367,
          6568.8968181435675,
          6803.543803776347,
          6892.392220930529,
          36560.05324861399,
          35491.522915019246,
          10477.63318762018,
          29762.80898865237,
          29736.47573664946,
          29592.182349897743,
          29424.09621947527,
          29190.626905241217,
          40895.979215942345,
          21282.012340264293,
          21192.507467265943,
          21060.17131893568,
          20919.30588248936,
          8796.215676018237,
          20635.067248169682,
          46962.71000019514,
          23661.053667050044,
          46862.106984557824,
          8417.931450148326,
          8141.766280385026,
          7813.960707236179,
          8888.376072662686,
          8898.558261329901,
          8430.431507159561,
          7680.068333969959,
          7667.91031001296,
          9072.968951586681,
          9235.85305880718,
          9951.48867893826,
          8357.945586445505,
          10442.022610587983,
          10048.925994928335,
          10036.5068789766,
          10961.2147406367,
          10886.678547492156,
          10850.444346767119
         ],
         "legendgroup": "Battery Bank Energy",
         "marker": {
          "color": "#FF7F0E",
          "size": [
           46903.63515496898,
           34960.130236846824,
           34983.21269510512,
           11506.504808133359,
           11118.981457148137,
           9203.434909022475,
           11506.504808133359,
           11118.981457148137,
           10992.757372828843,
           9092.57342949306,
           9092.57342949306,
           11302.116407461168,
           11032.667578259694,
           11190.482049556837,
           11017.493829731055,
           10858.539150819344,
           10831.958223203881,
           21257.79216754598,
           9082.792918419787,
           7725.537116500091,
           9026.644021474845,
           9082.792918419787,
           9410.57051153636,
           7868.65728890177,
           7868.65728890177,
           9460.146349515859,
           9667.824494198945,
           9595.574736605033,
           6401.937501648367,
           6568.8968181435675,
           6803.543803776347,
           6892.392220930529,
           36560.05324861399,
           35491.522915019246,
           10477.63318762018,
           29762.80898865237,
           29736.47573664946,
           29592.182349897743,
           29424.09621947527,
           29190.626905241217,
           40895.979215942345,
           21282.012340264293,
           21192.507467265943,
           21060.17131893568,
           20919.30588248936,
           8796.215676018237,
           20635.067248169682,
           46962.71000019514,
           23661.053667050044,
           46862.106984557824,
           8417.931450148326,
           8141.766280385026,
           7813.960707236179,
           8888.376072662686,
           8898.558261329901,
           8430.431507159561,
           7680.068333969959,
           7667.91031001296,
           9072.968951586681,
           9235.85305880718,
           9951.48867893826,
           8357.945586445505,
           10442.022610587983,
           10048.925994928335,
           10036.5068789766,
           10961.2147406367,
           10886.678547492156,
           10850.444346767119
          ],
          "sizemode": "area",
          "sizeref": 407.00284597423257,
          "symbol": "circle"
         },
         "mode": "markers",
         "name": "Battery Bank Energy",
         "orientation": "v",
         "showlegend": true,
         "type": "scatter",
         "x": [
          15882.6,
          15928.26,
          15973.92,
          14172.24,
          14794.86,
          15199.83,
          14172.24,
          14794.86,
          15544.03,
          16170.95,
          16170.95,
          14534.48,
          15654.4,
          15080.89,
          14982.58,
          15584.81,
          15791.56,
          16043.78,
          10109.88,
          11095.06,
          8740.03,
          10109.88,
          11479.72,
          12464.91,
          12464.91,
          10109.88,
          11479.72,
          11023.11,
          7826.8,
          8740.03,
          9196.65,
          9653.26,
          30585.6,
          16887.15,
          16502.49,
          30585.6,
          26019.45,
          25106.22,
          24192.99,
          23279.76,
          20303.59,
          20257.93,
          20212.27,
          20166.6,
          20120.94,
          17800.38,
          20166.6,
          20120.94,
          20075.28,
          20029.62,
          13777.97,
          14761.36,
          15561.26,
          13933.13,
          14979.33,
          15693.94,
          16632.54,
          17062.24,
          15149.84,
          16237.73,
          16041.26,
          16385.5,
          15198,
          14658.71,
          15284.17,
          15422.37,
          15573.02,
          15911.56
         ],
         "xaxis": "x",
         "y": [
          46903.63515496898,
          34960.130236846824,
          34983.21269510512,
          11506.504808133359,
          11118.981457148137,
          9203.434909022475,
          11506.504808133359,
          11118.981457148137,
          10992.757372828843,
          9092.57342949306,
          9092.57342949306,
          11302.116407461168,
          11032.667578259694,
          11190.482049556837,
          11017.493829731055,
          10858.539150819344,
          10831.958223203881,
          21257.79216754598,
          9082.792918419787,
          7725.537116500091,
          9026.644021474845,
          9082.792918419787,
          9410.57051153636,
          7868.65728890177,
          7868.65728890177,
          9460.146349515859,
          9667.824494198945,
          9595.574736605033,
          6401.937501648367,
          6568.8968181435675,
          6803.543803776347,
          6892.392220930529,
          36560.05324861399,
          35491.522915019246,
          10477.63318762018,
          29762.80898865237,
          29736.47573664946,
          29592.182349897743,
          29424.09621947527,
          29190.626905241217,
          40895.979215942345,
          21282.012340264293,
          21192.507467265943,
          21060.17131893568,
          20919.30588248936,
          8796.215676018237,
          20635.067248169682,
          46962.71000019514,
          23661.053667050044,
          46862.106984557824,
          8417.931450148326,
          8141.766280385026,
          7813.960707236179,
          8888.376072662686,
          8898.558261329901,
          8430.431507159561,
          7680.068333969959,
          7667.91031001296,
          9072.968951586681,
          9235.85305880718,
          9951.48867893826,
          8357.945586445505,
          10442.022610587983,
          10048.925994928335,
          10036.5068789766,
          10961.2147406367,
          10886.678547492156,
          10850.444346767119
         ],
         "yaxis": "y"
        },
        {
         "hovertemplate": "<b>%{hovertext}</b><br><br>Type=Diesel Energy<br>ASC=%{x}<br>energia=%{marker.size}<extra></extra>",
         "hovertext": [
          3443.0969607825405,
          3431.116429218379,
          3404.5806464817447,
          10034.06810000005,
          8448.728600000028,
          8072.06015834655,
          10034.06810000005,
          8448.728600000028,
          6971.41564867284,
          7165.00620000003,
          7165.00620000003,
          8440.494258433557,
          7077.160600000034,
          7401.170486200001,
          12832.696509327037,
          11723.147739673788,
          10972.915801667765,
          21220.731668227898,
          9976.95453275153,
          10644.243603802257,
          12459.749968002023,
          9976.95453275153,
          8489.474705048548,
          9311.808179155061,
          9311.808179155061,
          10647.707621059786,
          8991.509022555134,
          9518.284612994257,
          15534.15405429097,
          14229.00962360421,
          13923.775695531802,
          13406.60861148271,
          98.99810000000004,
          2943.971889564317,
          4182.648697380552,
          2458.8568787098516,
          2929.5247706966575,
          3045.8739385686677,
          3224.2236138024386,
          3420.7355588734645,
          3705.7759087281593,
          3935.669928764756,
          4238.123900887107,
          4698.975592227998,
          5096.747154925475,
          5582.786322695868,
          6087.666408354686,
          3404.5806464817447,
          3481.3582674745767,
          3469.5180494642727,
          10578.933183654806,
          8889.219233440639,
          7832.430923394943,
          10590.933683439222,
          9327.03601826987,
          7848.734513040621,
          7156.643457043886,
          7143.982972833359,
          9220.527492209761,
          7782.776547265948,
          8188.277169873985,
          7478.296707698959,
          10097.805883315203,
          12567.681910335485,
          11907.998150131325,
          11354.28467345434,
          10767.730105868495,
          10161.56831892018
         ],
         "legendgroup": "Diesel Energy",
         "marker": {
          "color": "#2CA02C",
          "size": [
           3443.0969607825405,
           3431.116429218379,
           3404.5806464817447,
           10034.06810000005,
           8448.728600000028,
           8072.06015834655,
           10034.06810000005,
           8448.728600000028,
           6971.41564867284,
           7165.00620000003,
           7165.00620000003,
           8440.494258433557,
           7077.160600000034,
           7401.170486200001,
           12832.696509327037,
           11723.147739673788,
           10972.915801667765,
           21220.731668227898,
           9976.95453275153,
           10644.243603802257,
           12459.749968002023,
           9976.95453275153,
           8489.474705048548,
           9311.808179155061,
           9311.808179155061,
           10647.707621059786,
           8991.509022555134,
           9518.284612994257,
           15534.15405429097,
           14229.00962360421,
           13923.775695531802,
           13406.60861148271,
           98.99810000000004,
           2943.971889564317,
           4182.648697380552,
           2458.8568787098516,
           2929.5247706966575,
           3045.8739385686677,
           3224.2236138024386,
           3420.7355588734645,
           3705.7759087281593,
           3935.669928764756,
           4238.123900887107,
           4698.975592227998,
           5096.747154925475,
           5582.786322695868,
           6087.666408354686,
           3404.5806464817447,
           3481.3582674745767,
           3469.5180494642727,
           10578.933183654806,
           8889.219233440639,
           7832.430923394943,
           10590.933683439222,
           9327.03601826987,
           7848.734513040621,
           7156.643457043886,
           7143.982972833359,
           9220.527492209761,
           7782.776547265948,
           8188.277169873985,
           7478.296707698959,
           10097.805883315203,
           12567.681910335485,
           11907.998150131325,
           11354.28467345434,
           10767.730105868495,
           10161.56831892018
          ],
          "sizemode": "area",
          "sizeref": 407.00284597423257,
          "symbol": "circle"
         },
         "mode": "markers",
         "name": "Diesel Energy",
         "orientation": "v",
         "showlegend": true,
         "type": "scatter",
         "x": [
          15882.6,
          15928.26,
          15973.92,
          14172.24,
          14794.86,
          15199.83,
          14172.24,
          14794.86,
          15544.03,
          16170.95,
          16170.95,
          14534.48,
          15654.4,
          15080.89,
          14982.58,
          15584.81,
          15791.56,
          16043.78,
          10109.88,
          11095.06,
          8740.03,
          10109.88,
          11479.72,
          12464.91,
          12464.91,
          10109.88,
          11479.72,
          11023.11,
          7826.8,
          8740.03,
          9196.65,
          9653.26,
          30585.6,
          16887.15,
          16502.49,
          30585.6,
          26019.45,
          25106.22,
          24192.99,
          23279.76,
          20303.59,
          20257.93,
          20212.27,
          20166.6,
          20120.94,
          17800.38,
          20166.6,
          20120.94,
          20075.28,
          20029.62,
          13777.97,
          14761.36,
          15561.26,
          13933.13,
          14979.33,
          15693.94,
          16632.54,
          17062.24,
          15149.84,
          16237.73,
          16041.26,
          16385.5,
          15198,
          14658.71,
          15284.17,
          15422.37,
          15573.02,
          15911.56
         ],
         "xaxis": "x",
         "y": [
          3443.0969607825405,
          3431.116429218379,
          3404.5806464817447,
          10034.06810000005,
          8448.728600000028,
          8072.06015834655,
          10034.06810000005,
          8448.728600000028,
          6971.41564867284,
          7165.00620000003,
          7165.00620000003,
          8440.494258433557,
          7077.160600000034,
          7401.170486200001,
          12832.696509327037,
          11723.147739673788,
          10972.915801667765,
          21220.731668227898,
          9976.95453275153,
          10644.243603802257,
          12459.749968002023,
          9976.95453275153,
          8489.474705048548,
          9311.808179155061,
          9311.808179155061,
          10647.707621059786,
          8991.509022555134,
          9518.284612994257,
          15534.15405429097,
          14229.00962360421,
          13923.775695531802,
          13406.60861148271,
          98.99810000000004,
          2943.971889564317,
          4182.648697380552,
          2458.8568787098516,
          2929.5247706966575,
          3045.8739385686677,
          3224.2236138024386,
          3420.7355588734645,
          3705.7759087281593,
          3935.669928764756,
          4238.123900887107,
          4698.975592227998,
          5096.747154925475,
          5582.786322695868,
          6087.666408354686,
          3404.5806464817447,
          3481.3582674745767,
          3469.5180494642727,
          10578.933183654806,
          8889.219233440639,
          7832.430923394943,
          10590.933683439222,
          9327.03601826987,
          7848.734513040621,
          7156.643457043886,
          7143.982972833359,
          9220.527492209761,
          7782.776547265948,
          8188.277169873985,
          7478.296707698959,
          10097.805883315203,
          12567.681910335485,
          11907.998150131325,
          11354.28467345434,
          10767.730105868495,
          10161.56831892018
         ],
         "yaxis": "y"
        }
       ],
       "layout": {
        "font": {
         "color": "black",
         "family": "Times New Roman",
         "size": 14
        },
        "height": 400,
        "legend": {
         "font": {
          "size": 14
         },
         "itemsizing": "constant",
         "orientation": "h",
         "title": {
          "text": "Type"
         },
         "tracegroupgap": 0,
         "x": 1,
         "xanchor": "right",
         "y": 1.02,
         "yanchor": "bottom"
        },
        "margin": {
         "t": 60
        },
        "showlegend": true,
        "template": {
         "data": {
          "pie": [
           {
            "automargin": true,
            "type": "pie"
           }
          ]
         },
         "layout": {
          "yaxis": {
           "showgrid": false
          }
         }
        },
        "title": {
         "font": {
          "family": "Times New Roman"
         }
        },
        "width": 520,
        "xaxis": {
         "anchor": "y",
         "domain": [
          0,
          1
         ],
         "linecolor": "black",
         "nticks": 5,
         "showline": true,
         "title": {
          "text": "ASC"
         },
         "type": "log"
        },
        "yaxis": {
         "anchor": "x",
         "domain": [
          0,
          1
         ],
         "linecolor": "black",
         "nticks": 8,
         "showline": true,
         "title": {
          "text": "Total Energy (kWh/year)"
         }
        }
       }
      },
      "text/html": [
       "<div>                            <div id=\"3cc8dee1-c023-485e-b88f-f2e390884ab0\" class=\"plotly-graph-div\" style=\"height:400px; width:520px;\"></div>            <script type=\"text/javascript\">                require([\"plotly\"], function(Plotly) {                    window.PLOTLYENV=window.PLOTLYENV || {};                                    if (document.getElementById(\"3cc8dee1-c023-485e-b88f-f2e390884ab0\")) {                    Plotly.newPlot(                        \"3cc8dee1-c023-485e-b88f-f2e390884ab0\",                        [{\"hovertemplate\": \"<b>%{hovertext}</b><br><br>Type=PV Energy<br>ASC=%{x}<br>energia=%{marker.size}<extra></extra>\", \"hovertext\": [85847.70465815988, 63224.622232079564, 63292.533703260895, 14149.286599999954, 15833.698599999872, 17378.62025466612, 14149.286599999954, 15833.698599999872, 17461.38145132706, 18593.300340665475, 18593.300340665475, 15985.011541566368, 17446.63419999985, 17105.567781628644, 12512.201306310222, 13795.122128536466, 14555.535988150672, 30262.339967190237, 15516.414362487014, 16221.97837484128, 13467.779744007346, 15516.414362487014, 17026.911982354013, 17623.845729593337, 17623.845729593337, 15253.525802199518, 16903.201505462577, 16388.43979265775, 11007.639789887879, 12328.416409358235, 12741.245129162859, 13312.877087450246, 72430.47559999932, 64504.26529414582, 21058.583632673057, 72318.87859999941, 70746.93558244886, 70354.29078294947, 69897.73951675021, 69410.979892048, 91575.64034420233, 45228.248770212485, 44931.61823734674, 44569.69259232506, 44186.05844812852, 21041.396443709025, 43242.047261901185, 85984.68820326282, 43320.45677809917, 85777.45385926828, 14145.641884326164, 16041.27249883716, 17617.946810986115, 14125.272585866156, 15905.547647287918, 17586.602787307467, 18736.160599770465, 18747.3136222064, 15979.388166793711, 17624.97621892692, 17233.1790461877, 18078.02446085551, 14833.116401096791, 12490.17219641756, 13187.379176851084, 14036.985239848496, 14701.592789576385, 15352.802413432672], \"legendgroup\": \"PV Energy\", \"marker\": {\"color\": \"#1F77B4\", \"size\": [85847.70465815988, 63224.622232079564, 63292.533703260895, 14149.286599999954, 15833.698599999872, 17378.62025466612, 14149.286599999954, 15833.698599999872, 17461.38145132706, 18593.300340665475, 18593.300340665475, 15985.011541566368, 17446.63419999985, 17105.567781628644, 12512.201306310222, 13795.122128536466, 14555.535988150672, 30262.339967190237, 15516.414362487014, 16221.97837484128, 13467.779744007346, 15516.414362487014, 17026.911982354013, 17623.845729593337, 17623.845729593337, 15253.525802199518, 16903.201505462577, 16388.43979265775, 11007.639789887879, 12328.416409358235, 12741.245129162859, 13312.877087450246, 72430.47559999932, 64504.26529414582, 21058.583632673057, 72318.87859999941, 70746.93558244886, 70354.29078294947, 69897.73951675021, 69410.979892048, 91575.64034420233, 45228.248770212485, 44931.61823734674, 44569.69259232506, 44186.05844812852, 21041.396443709025, 43242.047261901185, 85984.68820326282, 43320.45677809917, 85777.45385926828, 14145.641884326164, 16041.27249883716, 17617.946810986115, 14125.272585866156, 15905.547647287918, 17586.602787307467, 18736.160599770465, 18747.3136222064, 15979.388166793711, 17624.97621892692, 17233.1790461877, 18078.02446085551, 14833.116401096791, 12490.17219641756, 13187.379176851084, 14036.985239848496, 14701.592789576385, 15352.802413432672], \"sizemode\": \"area\", \"sizeref\": 407.00284597423257, \"symbol\": \"circle\"}, \"mode\": \"markers\", \"name\": \"PV Energy\", \"orientation\": \"v\", \"showlegend\": true, \"type\": \"scatter\", \"x\": [15882.6, 15928.26, 15973.92, 14172.24, 14794.86, 15199.83, 14172.24, 14794.86, 15544.03, 16170.95, 16170.95, 14534.48, 15654.4, 15080.89, 14982.58, 15584.81, 15791.56, 16043.78, 10109.88, 11095.06, 8740.03, 10109.88, 11479.72, 12464.91, 12464.91, 10109.88, 11479.72, 11023.11, 7826.8, 8740.03, 9196.65, 9653.26, 30585.6, 16887.15, 16502.49, 30585.6, 26019.45, 25106.22, 24192.99, 23279.76, 20303.59, 20257.93, 20212.27, 20166.6, 20120.94, 17800.38, 20166.6, 20120.94, 20075.28, 20029.62, 13777.97, 14761.36, 15561.26, 13933.13, 14979.33, 15693.94, 16632.54, 17062.24, 15149.84, 16237.73, 16041.26, 16385.5, 15198.0, 14658.71, 15284.17, 15422.37, 15573.02, 15911.56], \"xaxis\": \"x\", \"y\": [85847.70465815988, 63224.622232079564, 63292.533703260895, 14149.286599999954, 15833.698599999872, 17378.62025466612, 14149.286599999954, 15833.698599999872, 17461.38145132706, 18593.300340665475, 18593.300340665475, 15985.011541566368, 17446.63419999985, 17105.567781628644, 12512.201306310222, 13795.122128536466, 14555.535988150672, 30262.339967190237, 15516.414362487014, 16221.97837484128, 13467.779744007346, 15516.414362487014, 17026.911982354013, 17623.845729593337, 17623.845729593337, 15253.525802199518, 16903.201505462577, 16388.43979265775, 11007.639789887879, 12328.416409358235, 12741.245129162859, 13312.877087450246, 72430.47559999932, 64504.26529414582, 21058.583632673057, 72318.87859999941, 70746.93558244886, 70354.29078294947, 69897.73951675021, 69410.979892048, 91575.64034420233, 45228.248770212485, 44931.61823734674, 44569.69259232506, 44186.05844812852, 21041.396443709025, 43242.047261901185, 85984.68820326282, 43320.45677809917, 85777.45385926828, 14145.641884326164, 16041.27249883716, 17617.946810986115, 14125.272585866156, 15905.547647287918, 17586.602787307467, 18736.160599770465, 18747.3136222064, 15979.388166793711, 17624.97621892692, 17233.1790461877, 18078.02446085551, 14833.116401096791, 12490.17219641756, 13187.379176851084, 14036.985239848496, 14701.592789576385, 15352.802413432672], \"yaxis\": \"y\"}, {\"hovertemplate\": \"<b>%{hovertext}</b><br><br>Type=Battery Bank Energy<br>ASC=%{x}<br>energia=%{marker.size}<extra></extra>\", \"hovertext\": [46903.63515496898, 34960.130236846824, 34983.21269510512, 11506.504808133359, 11118.981457148137, 9203.434909022475, 11506.504808133359, 11118.981457148137, 10992.757372828843, 9092.57342949306, 9092.57342949306, 11302.116407461168, 11032.667578259694, 11190.482049556837, 11017.493829731055, 10858.539150819344, 10831.958223203881, 21257.79216754598, 9082.792918419787, 7725.537116500091, 9026.644021474845, 9082.792918419787, 9410.57051153636, 7868.65728890177, 7868.65728890177, 9460.146349515859, 9667.824494198945, 9595.574736605033, 6401.937501648367, 6568.8968181435675, 6803.543803776347, 6892.392220930529, 36560.05324861399, 35491.522915019246, 10477.63318762018, 29762.80898865237, 29736.47573664946, 29592.182349897743, 29424.09621947527, 29190.626905241217, 40895.979215942345, 21282.012340264293, 21192.507467265943, 21060.17131893568, 20919.30588248936, 8796.215676018237, 20635.067248169682, 46962.71000019514, 23661.053667050044, 46862.106984557824, 8417.931450148326, 8141.766280385026, 7813.960707236179, 8888.376072662686, 8898.558261329901, 8430.431507159561, 7680.068333969959, 7667.91031001296, 9072.968951586681, 9235.85305880718, 9951.48867893826, 8357.945586445505, 10442.022610587983, 10048.925994928335, 10036.5068789766, 10961.2147406367, 10886.678547492156, 10850.444346767119], \"legendgroup\": \"Battery Bank Energy\", \"marker\": {\"color\": \"#FF7F0E\", \"size\": [46903.63515496898, 34960.130236846824, 34983.21269510512, 11506.504808133359, 11118.981457148137, 9203.434909022475, 11506.504808133359, 11118.981457148137, 10992.757372828843, 9092.57342949306, 9092.57342949306, 11302.116407461168, 11032.667578259694, 11190.482049556837, 11017.493829731055, 10858.539150819344, 10831.958223203881, 21257.79216754598, 9082.792918419787, 7725.537116500091, 9026.644021474845, 9082.792918419787, 9410.57051153636, 7868.65728890177, 7868.65728890177, 9460.146349515859, 9667.824494198945, 9595.574736605033, 6401.937501648367, 6568.8968181435675, 6803.543803776347, 6892.392220930529, 36560.05324861399, 35491.522915019246, 10477.63318762018, 29762.80898865237, 29736.47573664946, 29592.182349897743, 29424.09621947527, 29190.626905241217, 40895.979215942345, 21282.012340264293, 21192.507467265943, 21060.17131893568, 20919.30588248936, 8796.215676018237, 20635.067248169682, 46962.71000019514, 23661.053667050044, 46862.106984557824, 8417.931450148326, 8141.766280385026, 7813.960707236179, 8888.376072662686, 8898.558261329901, 8430.431507159561, 7680.068333969959, 7667.91031001296, 9072.968951586681, 9235.85305880718, 9951.48867893826, 8357.945586445505, 10442.022610587983, 10048.925994928335, 10036.5068789766, 10961.2147406367, 10886.678547492156, 10850.444346767119], \"sizemode\": \"area\", \"sizeref\": 407.00284597423257, \"symbol\": \"circle\"}, \"mode\": \"markers\", \"name\": \"Battery Bank Energy\", \"orientation\": \"v\", \"showlegend\": true, \"type\": \"scatter\", \"x\": [15882.6, 15928.26, 15973.92, 14172.24, 14794.86, 15199.83, 14172.24, 14794.86, 15544.03, 16170.95, 16170.95, 14534.48, 15654.4, 15080.89, 14982.58, 15584.81, 15791.56, 16043.78, 10109.88, 11095.06, 8740.03, 10109.88, 11479.72, 12464.91, 12464.91, 10109.88, 11479.72, 11023.11, 7826.8, 8740.03, 9196.65, 9653.26, 30585.6, 16887.15, 16502.49, 30585.6, 26019.45, 25106.22, 24192.99, 23279.76, 20303.59, 20257.93, 20212.27, 20166.6, 20120.94, 17800.38, 20166.6, 20120.94, 20075.28, 20029.62, 13777.97, 14761.36, 15561.26, 13933.13, 14979.33, 15693.94, 16632.54, 17062.24, 15149.84, 16237.73, 16041.26, 16385.5, 15198.0, 14658.71, 15284.17, 15422.37, 15573.02, 15911.56], \"xaxis\": \"x\", \"y\": [46903.63515496898, 34960.130236846824, 34983.21269510512, 11506.504808133359, 11118.981457148137, 9203.434909022475, 11506.504808133359, 11118.981457148137, 10992.757372828843, 9092.57342949306, 9092.57342949306, 11302.116407461168, 11032.667578259694, 11190.482049556837, 11017.493829731055, 10858.539150819344, 10831.958223203881, 21257.79216754598, 9082.792918419787, 7725.537116500091, 9026.644021474845, 9082.792918419787, 9410.57051153636, 7868.65728890177, 7868.65728890177, 9460.146349515859, 9667.824494198945, 9595.574736605033, 6401.937501648367, 6568.8968181435675, 6803.543803776347, 6892.392220930529, 36560.05324861399, 35491.522915019246, 10477.63318762018, 29762.80898865237, 29736.47573664946, 29592.182349897743, 29424.09621947527, 29190.626905241217, 40895.979215942345, 21282.012340264293, 21192.507467265943, 21060.17131893568, 20919.30588248936, 8796.215676018237, 20635.067248169682, 46962.71000019514, 23661.053667050044, 46862.106984557824, 8417.931450148326, 8141.766280385026, 7813.960707236179, 8888.376072662686, 8898.558261329901, 8430.431507159561, 7680.068333969959, 7667.91031001296, 9072.968951586681, 9235.85305880718, 9951.48867893826, 8357.945586445505, 10442.022610587983, 10048.925994928335, 10036.5068789766, 10961.2147406367, 10886.678547492156, 10850.444346767119], \"yaxis\": \"y\"}, {\"hovertemplate\": \"<b>%{hovertext}</b><br><br>Type=Diesel Energy<br>ASC=%{x}<br>energia=%{marker.size}<extra></extra>\", \"hovertext\": [3443.0969607825405, 3431.116429218379, 3404.5806464817447, 10034.06810000005, 8448.728600000028, 8072.06015834655, 10034.06810000005, 8448.728600000028, 6971.41564867284, 7165.00620000003, 7165.00620000003, 8440.494258433557, 7077.160600000034, 7401.170486200001, 12832.696509327037, 11723.147739673788, 10972.915801667765, 21220.731668227898, 9976.95453275153, 10644.243603802257, 12459.749968002023, 9976.95453275153, 8489.474705048548, 9311.808179155061, 9311.808179155061, 10647.707621059786, 8991.509022555134, 9518.284612994257, 15534.15405429097, 14229.00962360421, 13923.775695531802, 13406.60861148271, 98.99810000000004, 2943.971889564317, 4182.648697380552, 2458.8568787098516, 2929.5247706966575, 3045.8739385686677, 3224.2236138024386, 3420.7355588734645, 3705.7759087281593, 3935.669928764756, 4238.123900887107, 4698.975592227998, 5096.747154925475, 5582.786322695868, 6087.666408354686, 3404.5806464817447, 3481.3582674745767, 3469.5180494642727, 10578.933183654806, 8889.219233440639, 7832.430923394943, 10590.933683439222, 9327.03601826987, 7848.734513040621, 7156.643457043886, 7143.982972833359, 9220.527492209761, 7782.776547265948, 8188.277169873985, 7478.296707698959, 10097.805883315203, 12567.681910335485, 11907.998150131325, 11354.28467345434, 10767.730105868495, 10161.56831892018], \"legendgroup\": \"Diesel Energy\", \"marker\": {\"color\": \"#2CA02C\", \"size\": [3443.0969607825405, 3431.116429218379, 3404.5806464817447, 10034.06810000005, 8448.728600000028, 8072.06015834655, 10034.06810000005, 8448.728600000028, 6971.41564867284, 7165.00620000003, 7165.00620000003, 8440.494258433557, 7077.160600000034, 7401.170486200001, 12832.696509327037, 11723.147739673788, 10972.915801667765, 21220.731668227898, 9976.95453275153, 10644.243603802257, 12459.749968002023, 9976.95453275153, 8489.474705048548, 9311.808179155061, 9311.808179155061, 10647.707621059786, 8991.509022555134, 9518.284612994257, 15534.15405429097, 14229.00962360421, 13923.775695531802, 13406.60861148271, 98.99810000000004, 2943.971889564317, 4182.648697380552, 2458.8568787098516, 2929.5247706966575, 3045.8739385686677, 3224.2236138024386, 3420.7355588734645, 3705.7759087281593, 3935.669928764756, 4238.123900887107, 4698.975592227998, 5096.747154925475, 5582.786322695868, 6087.666408354686, 3404.5806464817447, 3481.3582674745767, 3469.5180494642727, 10578.933183654806, 8889.219233440639, 7832.430923394943, 10590.933683439222, 9327.03601826987, 7848.734513040621, 7156.643457043886, 7143.982972833359, 9220.527492209761, 7782.776547265948, 8188.277169873985, 7478.296707698959, 10097.805883315203, 12567.681910335485, 11907.998150131325, 11354.28467345434, 10767.730105868495, 10161.56831892018], \"sizemode\": \"area\", \"sizeref\": 407.00284597423257, \"symbol\": \"circle\"}, \"mode\": \"markers\", \"name\": \"Diesel Energy\", \"orientation\": \"v\", \"showlegend\": true, \"type\": \"scatter\", \"x\": [15882.6, 15928.26, 15973.92, 14172.24, 14794.86, 15199.83, 14172.24, 14794.86, 15544.03, 16170.95, 16170.95, 14534.48, 15654.4, 15080.89, 14982.58, 15584.81, 15791.56, 16043.78, 10109.88, 11095.06, 8740.03, 10109.88, 11479.72, 12464.91, 12464.91, 10109.88, 11479.72, 11023.11, 7826.8, 8740.03, 9196.65, 9653.26, 30585.6, 16887.15, 16502.49, 30585.6, 26019.45, 25106.22, 24192.99, 23279.76, 20303.59, 20257.93, 20212.27, 20166.6, 20120.94, 17800.38, 20166.6, 20120.94, 20075.28, 20029.62, 13777.97, 14761.36, 15561.26, 13933.13, 14979.33, 15693.94, 16632.54, 17062.24, 15149.84, 16237.73, 16041.26, 16385.5, 15198.0, 14658.71, 15284.17, 15422.37, 15573.02, 15911.56], \"xaxis\": \"x\", \"y\": [3443.0969607825405, 3431.116429218379, 3404.5806464817447, 10034.06810000005, 8448.728600000028, 8072.06015834655, 10034.06810000005, 8448.728600000028, 6971.41564867284, 7165.00620000003, 7165.00620000003, 8440.494258433557, 7077.160600000034, 7401.170486200001, 12832.696509327037, 11723.147739673788, 10972.915801667765, 21220.731668227898, 9976.95453275153, 10644.243603802257, 12459.749968002023, 9976.95453275153, 8489.474705048548, 9311.808179155061, 9311.808179155061, 10647.707621059786, 8991.509022555134, 9518.284612994257, 15534.15405429097, 14229.00962360421, 13923.775695531802, 13406.60861148271, 98.99810000000004, 2943.971889564317, 4182.648697380552, 2458.8568787098516, 2929.5247706966575, 3045.8739385686677, 3224.2236138024386, 3420.7355588734645, 3705.7759087281593, 3935.669928764756, 4238.123900887107, 4698.975592227998, 5096.747154925475, 5582.786322695868, 6087.666408354686, 3404.5806464817447, 3481.3582674745767, 3469.5180494642727, 10578.933183654806, 8889.219233440639, 7832.430923394943, 10590.933683439222, 9327.03601826987, 7848.734513040621, 7156.643457043886, 7143.982972833359, 9220.527492209761, 7782.776547265948, 8188.277169873985, 7478.296707698959, 10097.805883315203, 12567.681910335485, 11907.998150131325, 11354.28467345434, 10767.730105868495, 10161.56831892018], \"yaxis\": \"y\"}],                        {\"font\": {\"color\": \"black\", \"family\": \"Times New Roman\", \"size\": 14}, \"height\": 400, \"legend\": {\"font\": {\"size\": 14}, \"itemsizing\": \"constant\", \"orientation\": \"h\", \"title\": {\"text\": \"Type\"}, \"tracegroupgap\": 0, \"x\": 1, \"xanchor\": \"right\", \"y\": 1.02, \"yanchor\": \"bottom\"}, \"margin\": {\"t\": 60}, \"showlegend\": true, \"template\": {\"data\": {\"pie\": [{\"automargin\": true, \"type\": \"pie\"}]}, \"layout\": {\"yaxis\": {\"showgrid\": false}}}, \"title\": {\"font\": {\"family\": \"Times New Roman\"}}, \"width\": 520, \"xaxis\": {\"anchor\": \"y\", \"domain\": [0.0, 1.0], \"linecolor\": \"black\", \"nticks\": 5, \"showline\": true, \"title\": {\"text\": \"ASC\"}, \"type\": \"log\"}, \"yaxis\": {\"anchor\": \"x\", \"domain\": [0.0, 1.0], \"linecolor\": \"black\", \"nticks\": 8, \"showline\": true, \"title\": {\"text\": \"Total Energy (kWh/year)\"}}},                        {\"responsive\": true}                    ).then(function(){\n",
       "                            \n",
       "var gd = document.getElementById('3cc8dee1-c023-485e-b88f-f2e390884ab0');\n",
       "var x = new MutationObserver(function (mutations, observer) {{\n",
       "        var display = window.getComputedStyle(gd).display;\n",
       "        if (!display || display === 'none') {{\n",
       "            console.log([gd, 'removed!']);\n",
       "            Plotly.purge(gd);\n",
       "            observer.disconnect();\n",
       "        }}\n",
       "}});\n",
       "\n",
       "// Listen for the removal of the full notebook cells\n",
       "var notebookContainer = gd.closest('#notebook-container');\n",
       "if (notebookContainer) {{\n",
       "    x.observe(notebookContainer, {childList: true});\n",
       "}}\n",
       "\n",
       "// Listen for the clearing of the current output cell\n",
       "var outputEl = gd.closest('.output');\n",
       "if (outputEl) {{\n",
       "    x.observe(outputEl, {childList: true});\n",
       "}}\n",
       "\n",
       "                        })                };                });            </script>        </div>"
      ]
     },
     "metadata": {},
     "output_type": "display_data"
    }
   ],
   "source": [
    "fig = px.scatter(analisis_final, x=\"ASC\", y=\"energia\",\n",
    "\t         size=\"energia\", color=\"Type\",\n",
    "                 hover_name=\"energia\", log_x=True, size_max=15,template=\"ygridoff\",width=520,\n",
    "              height=400)\n",
    "fig.update_yaxes(nticks=8)\n",
    "fig.update_xaxes(nticks=5)\n",
    "fig.update_xaxes(title_text='ASC')\n",
    "fig.update_yaxes(title_text='Total Energy (kWh/year)')\n",
    "fig.update_xaxes(showline=True, linecolor='black')\n",
    "fig.layout.update(showlegend=True) \n",
    "fig.update_yaxes(showline=True, linecolor='black')\n",
    "fig.update_layout(\n",
    "    font_family=\"Times New Roman\",\n",
    "    title_font_family=\"Times New Roman\",\n",
    "    font_size=14\n",
    "    ,\n",
    "    font_color=\"black\",\n",
    "        legend=dict(\n",
    "    orientation=\"h\",\n",
    "    yanchor=\"bottom\",\n",
    "    y=1.02,\n",
    "    xanchor=\"right\",\n",
    "    x=1,\n",
    "        font_size=14)\n",
    "       \n",
    ")\n",
    "\n",
    "fig.show()\n",
    "\n",
    "fig.write_image(\"energy_asc_bubble.eps\")"
   ]
  },
  {
   "cell_type": "markdown",
   "id": "04efe672",
   "metadata": {},
   "source": [
    "# Preguntas de investigación"
   ]
  },
  {
   "cell_type": "markdown",
   "id": "9b63e460",
   "metadata": {},
   "source": [
    "### ¿El costo baja o sube cuando aumenta el uso de la generación diésel?"
   ]
  },
  {
   "cell_type": "markdown",
   "id": "8efaf70b",
   "metadata": {},
   "source": [
    "### ¿Cómo se comporta el modelo al variar el LPSP?"
   ]
  },
  {
   "cell_type": "markdown",
   "id": "0b7afa57",
   "metadata": {},
   "source": [
    "### ¿ El modelo mejora la prestación del servicio comparado con lo que esta actual?"
   ]
  },
  {
   "cell_type": "markdown",
   "id": "d12f8c69",
   "metadata": {},
   "source": [
    "### ¿Cómo se comporta el tiempo de convergencia del modelo al variar los parametros?"
   ]
  },
  {
   "cell_type": "markdown",
   "id": "6814b778",
   "metadata": {},
   "source": [
    "### ¿Qué tipo de problema de opt es y cómo se comporta en solvers de tipo libre (COIN)?"
   ]
  }
 ],
 "metadata": {
  "hide_input": false,
  "kernelspec": {
   "display_name": "Python 3",
   "language": "python",
   "name": "python3"
  },
  "language_info": {
   "codemirror_mode": {
    "name": "ipython",
    "version": 3
   },
   "file_extension": ".py",
   "mimetype": "text/x-python",
   "name": "python",
   "nbconvert_exporter": "python",
   "pygments_lexer": "ipython3",
   "version": "3.7.6"
  },
  "toc": {
   "base_numbering": 1,
   "nav_menu": {},
   "number_sections": true,
   "sideBar": true,
   "skip_h1_title": false,
   "title_cell": "Table of Contents",
   "title_sidebar": "Contents",
   "toc_cell": false,
   "toc_position": {},
   "toc_section_display": true,
   "toc_window_display": false
  },
  "varInspector": {
   "cols": {
    "lenName": 16,
    "lenType": 16,
    "lenVar": 40
   },
   "kernels_config": {
    "python": {
     "delete_cmd_postfix": "",
     "delete_cmd_prefix": "del ",
     "library": "var_list.py",
     "varRefreshCmd": "print(var_dic_list())"
    },
    "r": {
     "delete_cmd_postfix": ") ",
     "delete_cmd_prefix": "rm(",
     "library": "var_list.r",
     "varRefreshCmd": "cat(var_dic_list()) "
    }
   },
   "types_to_exclude": [
    "module",
    "function",
    "builtin_function_or_method",
    "instance",
    "_Feature"
   ],
   "window_display": false
  }
 },
 "nbformat": 4,
 "nbformat_minor": 5
}
