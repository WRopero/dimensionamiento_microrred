{
 "cells": [
  {
   "cell_type": "code",
   "execution_count": 1,
   "id": "49bcca6f",
   "metadata": {
    "ExecuteTime": {
     "end_time": "2021-09-03T03:20:47.359802Z",
     "start_time": "2021-09-03T03:20:46.666540Z"
    }
   },
   "outputs": [],
   "source": [
    "import pandas as pd\n",
    "import sqlite3\n",
    "import os"
   ]
  },
  {
   "cell_type": "markdown",
   "id": "357aa967",
   "metadata": {},
   "source": [
    "# Preparación de los datos simulados para analisis"
   ]
  },
  {
   "cell_type": "markdown",
   "id": "e952d7c9",
   "metadata": {
    "heading_collapsed": true
   },
   "source": [
    "#### Función para leer datos"
   ]
  },
  {
   "cell_type": "code",
   "execution_count": 4,
   "id": "f64d6e72",
   "metadata": {
    "ExecuteTime": {
     "end_time": "2021-09-03T03:33:36.711289Z",
     "start_time": "2021-09-03T03:33:36.685171Z"
    },
    "hidden": true
   },
   "outputs": [],
   "source": [
    "def conexion_bd(sql=None, database = None,update=True):\n",
    "    \n",
    "    sqlite3.register_adapter(np.int64, lambda val: int(val))\n",
    "    sqlite3.register_adapter(np.int32, lambda val: int(val))\n",
    "\n",
    "    con = sqlite3.connect(os.getcwd() + os.sep + database)\n",
    "    \n",
    "    try:\n",
    "        if update == True:\n",
    "            cur = con.cursor()\n",
    "            cur.execute(sql)\n",
    "            con.commit()\n",
    "            df=None\n",
    "        else:\n",
    "            df= pd.read_sql_query(sql, con=con)\n",
    "    except:\n",
    "        print(sql)\n",
    "        df=None\n",
    "    con.close()\n",
    "    \n",
    "    return df"
   ]
  },
  {
   "cell_type": "markdown",
   "id": "56d48e71",
   "metadata": {},
   "source": [
    "#### Exploración de datos"
   ]
  },
  {
   "cell_type": "code",
   "execution_count": 5,
   "id": "988288a2",
   "metadata": {
    "ExecuteTime": {
     "end_time": "2021-09-03T03:33:40.575111Z",
     "start_time": "2021-09-03T03:33:40.286798Z"
    }
   },
   "outputs": [],
   "source": [
    "df1 = conexion_bd(sql='select*from parametros', database = 'result_op.db',update=False) \n",
    "df2 = conexion_bd(sql='select*from parametros', database = 'result_op__.db',update=False)\n",
    "df = pd.concat([df1,df2]).reset_index(drop=True)"
   ]
  },
  {
   "cell_type": "code",
   "execution_count": 9,
   "id": "88a3e646",
   "metadata": {
    "ExecuteTime": {
     "end_time": "2021-09-03T03:35:05.664111Z",
     "start_time": "2021-09-03T03:35:05.432063Z"
    }
   },
   "outputs": [
    {
     "data": {
      "text/html": [
       "<div>\n",
       "<style scoped>\n",
       "    .dataframe tbody tr th:only-of-type {\n",
       "        vertical-align: middle;\n",
       "    }\n",
       "\n",
       "    .dataframe tbody tr th {\n",
       "        vertical-align: top;\n",
       "    }\n",
       "\n",
       "    .dataframe thead th {\n",
       "        text-align: right;\n",
       "    }\n",
       "</style>\n",
       "<table border=\"1\" class=\"dataframe\">\n",
       "  <thead>\n",
       "    <tr style=\"text-align: right;\">\n",
       "      <th></th>\n",
       "      <th>id_simulacion</th>\n",
       "      <th>n_pv</th>\n",
       "      <th>n_dg</th>\n",
       "      <th>p_dg</th>\n",
       "      <th>min_dg</th>\n",
       "      <th>efi_dg</th>\n",
       "      <th>lpsp</th>\n",
       "      <th>p_bat</th>\n",
       "      <th>cond_init_bat</th>\n",
       "      <th>val_aux_bateria</th>\n",
       "      <th>...</th>\n",
       "      <th>plim</th>\n",
       "      <th>oym_dg</th>\n",
       "      <th>asc</th>\n",
       "      <th>lcoe</th>\n",
       "      <th>asc_incentivo</th>\n",
       "      <th>lcoe_incentivo</th>\n",
       "      <th>cost_e_dg</th>\n",
       "      <th>cost_e_pv</th>\n",
       "      <th>cost_e_bat</th>\n",
       "      <th>cost_e_ens</th>\n",
       "    </tr>\n",
       "  </thead>\n",
       "  <tbody>\n",
       "    <tr>\n",
       "      <th>count</th>\n",
       "      <td>177.000000</td>\n",
       "      <td>177.000000</td>\n",
       "      <td>177.0</td>\n",
       "      <td>177.000000</td>\n",
       "      <td>177.000000</td>\n",
       "      <td>177.0</td>\n",
       "      <td>177.000000</td>\n",
       "      <td>177.000000</td>\n",
       "      <td>177.000000</td>\n",
       "      <td>1.770000e+02</td>\n",
       "      <td>...</td>\n",
       "      <td>138.0</td>\n",
       "      <td>1.380000e+02</td>\n",
       "      <td>138.000000</td>\n",
       "      <td>138.000000</td>\n",
       "      <td>138.000000</td>\n",
       "      <td>138.000000</td>\n",
       "      <td>138.000000</td>\n",
       "      <td>138.000000</td>\n",
       "      <td>138.000000</td>\n",
       "      <td>138.000000</td>\n",
       "    </tr>\n",
       "    <tr>\n",
       "      <th>mean</th>\n",
       "      <td>219.819209</td>\n",
       "      <td>306.367232</td>\n",
       "      <td>1.0</td>\n",
       "      <td>3.703390</td>\n",
       "      <td>0.392373</td>\n",
       "      <td>1.0</td>\n",
       "      <td>0.091186</td>\n",
       "      <td>71.319322</td>\n",
       "      <td>71.281356</td>\n",
       "      <td>1.000000e-02</td>\n",
       "      <td>...</td>\n",
       "      <td>79900.0</td>\n",
       "      <td>3.677137e+06</td>\n",
       "      <td>19614.872391</td>\n",
       "      <td>0.551232</td>\n",
       "      <td>18301.260362</td>\n",
       "      <td>0.514058</td>\n",
       "      <td>740.110072</td>\n",
       "      <td>142.184493</td>\n",
       "      <td>1775.679710</td>\n",
       "      <td>1821.722826</td>\n",
       "    </tr>\n",
       "    <tr>\n",
       "      <th>std</th>\n",
       "      <td>327.228376</td>\n",
       "      <td>126.338990</td>\n",
       "      <td>0.0</td>\n",
       "      <td>4.205433</td>\n",
       "      <td>0.417257</td>\n",
       "      <td>0.0</td>\n",
       "      <td>0.068009</td>\n",
       "      <td>29.582662</td>\n",
       "      <td>29.626951</td>\n",
       "      <td>6.958579e-18</td>\n",
       "      <td>...</td>\n",
       "      <td>0.0</td>\n",
       "      <td>6.766789e+06</td>\n",
       "      <td>5100.805699</td>\n",
       "      <td>0.258422</td>\n",
       "      <td>4612.245244</td>\n",
       "      <td>0.237464</td>\n",
       "      <td>1361.975013</td>\n",
       "      <td>147.642536</td>\n",
       "      <td>1651.473378</td>\n",
       "      <td>1480.788823</td>\n",
       "    </tr>\n",
       "    <tr>\n",
       "      <th>min</th>\n",
       "      <td>1.000000</td>\n",
       "      <td>110.000000</td>\n",
       "      <td>1.0</td>\n",
       "      <td>0.000000</td>\n",
       "      <td>0.000000</td>\n",
       "      <td>1.0</td>\n",
       "      <td>0.010000</td>\n",
       "      <td>33.600000</td>\n",
       "      <td>33.600000</td>\n",
       "      <td>1.000000e-02</td>\n",
       "      <td>...</td>\n",
       "      <td>79900.0</td>\n",
       "      <td>0.000000e+00</td>\n",
       "      <td>8311.160000</td>\n",
       "      <td>0.120000</td>\n",
       "      <td>7826.800000</td>\n",
       "      <td>0.110000</td>\n",
       "      <td>0.000000</td>\n",
       "      <td>46.340000</td>\n",
       "      <td>628.520000</td>\n",
       "      <td>18.740000</td>\n",
       "    </tr>\n",
       "    <tr>\n",
       "      <th>25%</th>\n",
       "      <td>50.000000</td>\n",
       "      <td>190.000000</td>\n",
       "      <td>1.0</td>\n",
       "      <td>0.000000</td>\n",
       "      <td>0.000000</td>\n",
       "      <td>1.0</td>\n",
       "      <td>0.050000</td>\n",
       "      <td>50.400000</td>\n",
       "      <td>50.400000</td>\n",
       "      <td>1.000000e-02</td>\n",
       "      <td>...</td>\n",
       "      <td>79900.0</td>\n",
       "      <td>0.000000e+00</td>\n",
       "      <td>15678.665000</td>\n",
       "      <td>0.372500</td>\n",
       "      <td>15007.157500</td>\n",
       "      <td>0.342500</td>\n",
       "      <td>0.000000</td>\n",
       "      <td>66.852500</td>\n",
       "      <td>973.170000</td>\n",
       "      <td>813.310000</td>\n",
       "    </tr>\n",
       "    <tr>\n",
       "      <th>50%</th>\n",
       "      <td>76.000000</td>\n",
       "      <td>300.000000</td>\n",
       "      <td>1.0</td>\n",
       "      <td>0.000000</td>\n",
       "      <td>0.000000</td>\n",
       "      <td>1.0</td>\n",
       "      <td>0.100000</td>\n",
       "      <td>67.200000</td>\n",
       "      <td>67.200000</td>\n",
       "      <td>1.000000e-02</td>\n",
       "      <td>...</td>\n",
       "      <td>79900.0</td>\n",
       "      <td>0.000000e+00</td>\n",
       "      <td>21679.170000</td>\n",
       "      <td>0.500000</td>\n",
       "      <td>20075.280000</td>\n",
       "      <td>0.480000</td>\n",
       "      <td>0.000000</td>\n",
       "      <td>83.670000</td>\n",
       "      <td>1107.155000</td>\n",
       "      <td>1274.540000</td>\n",
       "    </tr>\n",
       "    <tr>\n",
       "      <th>75%</th>\n",
       "      <td>110.000000</td>\n",
       "      <td>410.000000</td>\n",
       "      <td>1.0</td>\n",
       "      <td>5.500000</td>\n",
       "      <td>0.750000</td>\n",
       "      <td>1.0</td>\n",
       "      <td>0.100000</td>\n",
       "      <td>100.800000</td>\n",
       "      <td>100.800000</td>\n",
       "      <td>1.000000e-02</td>\n",
       "      <td>...</td>\n",
       "      <td>79900.0</td>\n",
       "      <td>0.000000e+00</td>\n",
       "      <td>23160.345000</td>\n",
       "      <td>0.815000</td>\n",
       "      <td>21428.732500</td>\n",
       "      <td>0.755000</td>\n",
       "      <td>0.000000</td>\n",
       "      <td>170.805000</td>\n",
       "      <td>1973.847500</td>\n",
       "      <td>3008.000000</td>\n",
       "    </tr>\n",
       "    <tr>\n",
       "      <th>max</th>\n",
       "      <td>1008.000000</td>\n",
       "      <td>600.000000</td>\n",
       "      <td>1.0</td>\n",
       "      <td>10.000000</td>\n",
       "      <td>0.900000</td>\n",
       "      <td>1.0</td>\n",
       "      <td>0.500000</td>\n",
       "      <td>141.120000</td>\n",
       "      <td>141.120000</td>\n",
       "      <td>1.000000e-02</td>\n",
       "      <td>...</td>\n",
       "      <td>79900.0</td>\n",
       "      <td>2.255366e+07</td>\n",
       "      <td>32971.530000</td>\n",
       "      <td>1.190000</td>\n",
       "      <td>30585.600000</td>\n",
       "      <td>1.100000</td>\n",
       "      <td>4539.450000</td>\n",
       "      <td>661.980000</td>\n",
       "      <td>7527.090000</td>\n",
       "      <td>4751.580000</td>\n",
       "    </tr>\n",
       "  </tbody>\n",
       "</table>\n",
       "<p>8 rows × 56 columns</p>\n",
       "</div>"
      ],
      "text/plain": [
       "       id_simulacion        n_pv   n_dg        p_dg      min_dg  efi_dg  \\\n",
       "count     177.000000  177.000000  177.0  177.000000  177.000000   177.0   \n",
       "mean      219.819209  306.367232    1.0    3.703390    0.392373     1.0   \n",
       "std       327.228376  126.338990    0.0    4.205433    0.417257     0.0   \n",
       "min         1.000000  110.000000    1.0    0.000000    0.000000     1.0   \n",
       "25%        50.000000  190.000000    1.0    0.000000    0.000000     1.0   \n",
       "50%        76.000000  300.000000    1.0    0.000000    0.000000     1.0   \n",
       "75%       110.000000  410.000000    1.0    5.500000    0.750000     1.0   \n",
       "max      1008.000000  600.000000    1.0   10.000000    0.900000     1.0   \n",
       "\n",
       "             lpsp       p_bat  cond_init_bat  val_aux_bateria  ...     plim  \\\n",
       "count  177.000000  177.000000     177.000000     1.770000e+02  ...    138.0   \n",
       "mean     0.091186   71.319322      71.281356     1.000000e-02  ...  79900.0   \n",
       "std      0.068009   29.582662      29.626951     6.958579e-18  ...      0.0   \n",
       "min      0.010000   33.600000      33.600000     1.000000e-02  ...  79900.0   \n",
       "25%      0.050000   50.400000      50.400000     1.000000e-02  ...  79900.0   \n",
       "50%      0.100000   67.200000      67.200000     1.000000e-02  ...  79900.0   \n",
       "75%      0.100000  100.800000     100.800000     1.000000e-02  ...  79900.0   \n",
       "max      0.500000  141.120000     141.120000     1.000000e-02  ...  79900.0   \n",
       "\n",
       "             oym_dg           asc        lcoe  asc_incentivo  lcoe_incentivo  \\\n",
       "count  1.380000e+02    138.000000  138.000000     138.000000      138.000000   \n",
       "mean   3.677137e+06  19614.872391    0.551232   18301.260362        0.514058   \n",
       "std    6.766789e+06   5100.805699    0.258422    4612.245244        0.237464   \n",
       "min    0.000000e+00   8311.160000    0.120000    7826.800000        0.110000   \n",
       "25%    0.000000e+00  15678.665000    0.372500   15007.157500        0.342500   \n",
       "50%    0.000000e+00  21679.170000    0.500000   20075.280000        0.480000   \n",
       "75%    0.000000e+00  23160.345000    0.815000   21428.732500        0.755000   \n",
       "max    2.255366e+07  32971.530000    1.190000   30585.600000        1.100000   \n",
       "\n",
       "         cost_e_dg   cost_e_pv   cost_e_bat   cost_e_ens  \n",
       "count   138.000000  138.000000   138.000000   138.000000  \n",
       "mean    740.110072  142.184493  1775.679710  1821.722826  \n",
       "std    1361.975013  147.642536  1651.473378  1480.788823  \n",
       "min       0.000000   46.340000   628.520000    18.740000  \n",
       "25%       0.000000   66.852500   973.170000   813.310000  \n",
       "50%       0.000000   83.670000  1107.155000  1274.540000  \n",
       "75%       0.000000  170.805000  1973.847500  3008.000000  \n",
       "max    4539.450000  661.980000  7527.090000  4751.580000  \n",
       "\n",
       "[8 rows x 56 columns]"
      ]
     },
     "execution_count": 9,
     "metadata": {},
     "output_type": "execute_result"
    }
   ],
   "source": [
    "df.describe()"
   ]
  },
  {
   "cell_type": "markdown",
   "id": "c80a3ec8",
   "metadata": {},
   "source": [
    "# Preguntas de investigación"
   ]
  },
  {
   "cell_type": "markdown",
   "id": "cbf272aa",
   "metadata": {},
   "source": [
    "### ¿El costo baja o sube cuando aumenta el uso de la generación diésel?"
   ]
  },
  {
   "cell_type": "markdown",
   "id": "3675075d",
   "metadata": {},
   "source": [
    "### ¿Cómo se comporta el modelo al variar el LPSP?"
   ]
  },
  {
   "cell_type": "markdown",
   "id": "5a263202",
   "metadata": {},
   "source": [
    "### ¿ El modelo mejora la prestación del servicio comparado con lo que esta actual?"
   ]
  },
  {
   "cell_type": "markdown",
   "id": "7001fb20",
   "metadata": {},
   "source": [
    "### ¿Cómo se comporta el tiempo de convergencia del modelo al variar los parametros?"
   ]
  },
  {
   "cell_type": "markdown",
   "id": "26d7c7f5",
   "metadata": {},
   "source": [
    "### ¿Qué tipo de problema de opt es y cómo se comporta en solvers de tipo libre (COIN)?"
   ]
  }
 ],
 "metadata": {
  "hide_input": false,
  "kernelspec": {
   "display_name": "Python 3",
   "language": "python",
   "name": "python3"
  },
  "language_info": {
   "codemirror_mode": {
    "name": "ipython",
    "version": 3
   },
   "file_extension": ".py",
   "mimetype": "text/x-python",
   "name": "python",
   "nbconvert_exporter": "python",
   "pygments_lexer": "ipython3",
   "version": "3.7.6"
  },
  "toc": {
   "base_numbering": 1,
   "nav_menu": {},
   "number_sections": true,
   "sideBar": true,
   "skip_h1_title": false,
   "title_cell": "Table of Contents",
   "title_sidebar": "Contents",
   "toc_cell": false,
   "toc_position": {},
   "toc_section_display": true,
   "toc_window_display": false
  },
  "varInspector": {
   "cols": {
    "lenName": 16,
    "lenType": 16,
    "lenVar": 40
   },
   "kernels_config": {
    "python": {
     "delete_cmd_postfix": "",
     "delete_cmd_prefix": "del ",
     "library": "var_list.py",
     "varRefreshCmd": "print(var_dic_list())"
    },
    "r": {
     "delete_cmd_postfix": ") ",
     "delete_cmd_prefix": "rm(",
     "library": "var_list.r",
     "varRefreshCmd": "cat(var_dic_list()) "
    }
   },
   "types_to_exclude": [
    "module",
    "function",
    "builtin_function_or_method",
    "instance",
    "_Feature"
   ],
   "window_display": false
  }
 },
 "nbformat": 4,
 "nbformat_minor": 5
}
