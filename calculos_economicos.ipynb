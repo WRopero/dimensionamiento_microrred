{
 "cells": [
  {
   "cell_type": "code",
   "execution_count": 1,
   "metadata": {},
   "outputs": [],
   "source": [
    "import pandas as pd\n",
    "import numpy as np\n",
    "import math"
   ]
  },
  {
   "cell_type": "markdown",
   "metadata": {},
   "source": [
    "𝐴𝐶𝑆=Σ(𝐶𝐶𝑖+𝑅𝐶𝑖)×𝐶𝑅𝐹(𝑖𝑟,𝑅)+𝑂&𝑀𝑖)"
   ]
  },
  {
   "cell_type": "markdown",
   "metadata": {},
   "source": [
    "𝐴𝐶𝑆𝑎𝑑𝑗=[(𝐶𝐶𝑝𝑣+𝐶𝐶𝑏𝑎𝑡)×Δ+𝐶𝐶𝐷𝐺+𝑅𝐶𝑏𝑎𝑡+𝑅𝐶𝐷𝐺]×𝐶𝑅𝐹(𝑖𝑟,𝑅)+𝑂&𝑀𝑝𝑣+𝑂&𝑀𝑏𝑎𝑡+𝑂&𝑀𝐷𝐺"
   ]
  },
  {
   "cell_type": "markdown",
   "metadata": {},
   "source": [
    "## Indicadores financieros"
   ]
  },
  {
   "cell_type": "markdown",
   "metadata": {},
   "source": [
    "𝐶𝑅𝐹(𝑖𝑟,𝑅)=𝑖𝑟×(1+𝑖𝑟)^𝑅/(1+𝑖𝑟)^𝑅−1"
   ]
  },
  {
   "cell_type": "code",
   "execution_count": 2,
   "metadata": {},
   "outputs": [],
   "source": [
    "#i_n = 2 # nominal interest rate\n",
    "#i_f = 1 # expected annual inflation rate respectively\n",
    "\n",
    "R = 20 # the life time of the project\n",
    "ir = 0.0808  #  (i_n - i_f) / (1 + i_f) # Tomado de otro estudio\n",
    "\n",
    "crf = round(ir*((1+ir)**R) /((1+ir)**R - 1),2)  # The capital recovery factor is calculated by"
   ]
  },
  {
   "cell_type": "code",
   "execution_count": 3,
   "metadata": {},
   "outputs": [
    {
     "data": {
      "text/plain": [
       "0.1"
      ]
     },
     "execution_count": 3,
     "metadata": {},
     "output_type": "execute_result"
    }
   ],
   "source": [
    "crf"
   ]
  },
  {
   "cell_type": "markdown",
   "metadata": {},
   "source": [
    "## Calculos de Inversión"
   ]
  },
  {
   "cell_type": "markdown",
   "metadata": {},
   "source": [
    "𝐶𝐶𝑝𝑣=𝑐𝑝𝑣×𝑁𝑝𝑣×𝑃𝑝𝑣𝑠𝑡𝑐\n",
    "𝐶𝐶𝑏𝑎𝑡=𝑐𝑏𝑎𝑡×𝐸𝑏𝑐𝑒𝑙𝑙_𝑛𝑜𝑚\n",
    "𝐶𝐶𝐷𝐺=𝑐𝐷𝐺×𝑁𝐷𝐺×𝑤𝐷𝐺"
   ]
  },
  {
   "cell_type": "code",
   "execution_count": 4,
   "metadata": {},
   "outputs": [],
   "source": [
    "cpv_ins = 1 # costo de PV kWh instalado\n",
    "cbat_ins = 1 # costo Battery de kWh instalado\n",
    "cdg_ins = 1 # costo diesel de kWh instalado\n",
    "\n",
    "npv = 200 # Número de paneles fotovoltaicos\n",
    "ndg = 1 # Número planta diesel\n",
    "ppv_stc = 1000 # Capacidad nominal paneles\n",
    "ebcell_nom = 50.4 # Capacidad de la batería\n",
    "pdg_rate = 10 # Capacidad nominal diesel\n",
    "\n",
    "ccpv = round(cpv_ins*npv*ppv_stc,4)\n",
    "ccbat = round(cbat_ins*ebcell_nom,4)\n",
    "ccdg = round(cdg_ins*ndg*pdg_rate,4)"
   ]
  },
  {
   "cell_type": "markdown",
   "metadata": {},
   "source": [
    "## Costos de reemplazo"
   ]
  },
  {
   "cell_type": "markdown",
   "metadata": {},
   "source": [
    "𝑅𝐶𝑏𝑎𝑡=𝛾𝑏𝑎𝑡×𝐶𝐶𝑏𝑎𝑡×𝐾𝑏𝑎𝑡(𝑖𝑟,𝐿𝑝𝑣,𝑦𝑖)\n",
    "𝑅𝐶𝐷𝐺=𝛾𝐷𝐺×𝐶𝐶𝐷𝐺×𝐾𝐷𝐺(𝑖𝑟,𝐿𝐷𝐺,𝑦𝑖)\n",
    "\n",
    "𝐾𝑖(𝑖𝑟,𝐿𝑖,𝑦𝑖)=Σ1(1+𝑖𝑟)𝑛×𝐿𝑖"
   ]
  },
  {
   "cell_type": "code",
   "execution_count": 5,
   "metadata": {},
   "outputs": [],
   "source": [
    "def calcular_ki(R, li, ir):\n",
    "    \"\"\"\n",
    "    Para cálcular single payment present worth\n",
    "    \"\"\"\n",
    "    yi_replacements = math.floor(R/li)\n",
    "    values_to_sum = []\n",
    "    for i in range(1,yi_replacements+1):\n",
    "        x = (1)/((1+ir)**(i*li))\n",
    "        values_to_sum.append(x)\n",
    "        \n",
    "    return sum(values_to_sum)\n",
    "\n",
    "kbat = round(calcular_ki(R=20, li=10, ir=0.0808),4)  # single payment present worth battery\n",
    "kdg = round(calcular_ki(R=20, li=10, ir=0.0808),4) # single payment present worth diesel"
   ]
  },
  {
   "cell_type": "code",
   "execution_count": 6,
   "metadata": {},
   "outputs": [],
   "source": [
    "ybat = 0.7 #are de-rate factors of the initial capital cost invested \n",
    "ydg = 0.7 #are de-rate factors of the initial capital cost invested\n",
    "\n",
    "rc_bat = round(ybat*ccbat*kbat,4)\n",
    "rc_dg = round(ydg*ccdg*kdg,4)"
   ]
  },
  {
   "cell_type": "markdown",
   "metadata": {},
   "source": [
    "## Calculos de operación y Mantto"
   ]
  },
  {
   "cell_type": "markdown",
   "metadata": {},
   "source": [
    "### Operación y mantto del PV y BATTERY\n"
   ]
  },
  {
   "cell_type": "code",
   "execution_count": 7,
   "metadata": {},
   "outputs": [],
   "source": [
    "factor_pv = 0.01 # Factor de la inversión inicial\n",
    "factor_bat = 0.02 # Factor de la inversión inicial\n",
    "\n",
    "oym_pv = factor_pv*ccpv \n",
    "oym_bat = factor_bat*ccbat"
   ]
  },
  {
   "cell_type": "markdown",
   "metadata": {},
   "source": [
    "### Operación y mantto del DIESEL"
   ]
  },
  {
   "cell_type": "markdown",
   "metadata": {},
   "source": [
    "##### Costo de Combustible (CC)"
   ]
  },
  {
   "cell_type": "code",
   "execution_count": 8,
   "metadata": {},
   "outputs": [],
   "source": [
    "ipp_o = 1\n",
    "ipp_actual = 1\n",
    "\n",
    "cec = 0.0974 #Consumo especifíco de combustible 0.0974 gal/kWh (capacidad <= 100 kW)\n",
    "ei = 2000 #Energía entregada al Sistema de Distribución por el generador i \n",
    "et = 2000 #Energía total entregada al Sistema de Distribución\n",
    "\n",
    "pami = 8000 #Precio promedio del combustible para la planta de abasto más cercana al generador i en el mes m ($/gal).\n",
    "tmi = pami*0.1\n",
    "calm = 82.14*(ipp_actual/ipp_o) # Costo de almacenamiento de combustible en el mes m ($/gal)\n",
    "pci = pami + tmi + calm  # Precio del galón  en el sitio para el generador i\n",
    "\n",
    "cc = (1/et)*(cec*pci*ei) # Costo de Combustible (CC)"
   ]
  },
  {
   "cell_type": "markdown",
   "metadata": {},
   "source": [
    "##### Costo de Lubricante (CL)"
   ]
  },
  {
   "cell_type": "code",
   "execution_count": 9,
   "metadata": {},
   "outputs": [],
   "source": [
    "cel = 0.00050 # Consumo Específico de Lubricante 0,00050 gal/kWh para plantas de capacidad <= 2.000 Kw\n",
    "plim = 75000 #Precio del Galón de lubricante en el sitio para el generador i en el mes m ($/gal). el precio del lubricante se determinará con base en los precios promedio del mercado.\n",
    "cl = (1/et)*(cel*(plim+tmi)*ei)"
   ]
  },
  {
   "cell_type": "markdown",
   "metadata": {},
   "source": [
    "##### Gastos Administrativos (CA)"
   ]
  },
  {
   "cell_type": "code",
   "execution_count": 10,
   "metadata": {},
   "outputs": [],
   "source": [
    "cam = 0.1*(cc+cl) # Los gastos administrativos para el mes m corresponderán al 10% de la suma de los costos por consumo de combustible y lubricante,"
   ]
  },
  {
   "cell_type": "code",
   "execution_count": 11,
   "metadata": {},
   "outputs": [],
   "source": [
    "oym_dg = cam + cc + cl"
   ]
  },
  {
   "cell_type": "markdown",
   "metadata": {},
   "source": [
    "#  Annual  System  Cost  [ASC]"
   ]
  },
  {
   "cell_type": "code",
   "execution_count": 12,
   "metadata": {},
   "outputs": [],
   "source": [
    "asc = ((ccpv+ccbat+ccdg)+(rc_bat+rc_dg))*crf + (oym_dg + oym_pv + oym_bat)"
   ]
  },
  {
   "cell_type": "markdown",
   "metadata": {},
   "source": [
    "# Levelised Cost of  Energy  (LCOE) "
   ]
  },
  {
   "cell_type": "code",
   "execution_count": 14,
   "metadata": {},
   "outputs": [
    {
     "data": {
      "text/plain": [
       "15.335472206400002"
      ]
     },
     "execution_count": 14,
     "metadata": {},
     "output_type": "execute_result"
    }
   ],
   "source": [
    "p_load = 2000\n",
    "ens = 500\n",
    "lcoe = asc/(p_load - ens)\n",
    "lcoe"
   ]
  }
 ],
 "metadata": {
  "kernelspec": {
   "display_name": "Python 3",
   "language": "python",
   "name": "python3"
  },
  "language_info": {
   "codemirror_mode": {
    "name": "ipython",
    "version": 3
   },
   "file_extension": ".py",
   "mimetype": "text/x-python",
   "name": "python",
   "nbconvert_exporter": "python",
   "pygments_lexer": "ipython3",
   "version": "3.7.4"
  }
 },
 "nbformat": 4,
 "nbformat_minor": 2
}
