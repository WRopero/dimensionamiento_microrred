{
 "cells": [
  {
   "cell_type": "code",
   "execution_count": 1,
   "metadata": {
    "ExecuteTime": {
     "end_time": "2021-07-11T03:46:09.230462Z",
     "start_time": "2021-07-11T03:46:08.542447Z"
    }
   },
   "outputs": [],
   "source": [
    "import pandas as pd\n",
    "import numpy as np\n",
    "import math\n",
    "import sqlite3\n",
    "import os"
   ]
  },
  {
   "cell_type": "markdown",
   "metadata": {},
   "source": [
    "𝐴𝐶𝑆=Σ(𝐶𝐶𝑖+𝑅𝐶𝑖)×𝐶𝑅𝐹(𝑖𝑟,𝑅)+𝑂&𝑀𝑖)"
   ]
  },
  {
   "cell_type": "markdown",
   "metadata": {},
   "source": [
    "𝐴𝐶𝑆𝑎𝑑𝑗=[(𝐶𝐶𝑝𝑣+𝐶𝐶𝑏𝑎𝑡)×Δ+𝐶𝐶𝐷𝐺+𝑅𝐶𝑏𝑎𝑡+𝑅𝐶𝐷𝐺]×𝐶𝑅𝐹(𝑖𝑟,𝑅)+𝑂&𝑀𝑝𝑣+𝑂&𝑀𝑏𝑎𝑡+𝑂&𝑀𝐷𝐺"
   ]
  },
  {
   "cell_type": "markdown",
   "metadata": {},
   "source": [
    "## Indicadores financieros"
   ]
  },
  {
   "cell_type": "markdown",
   "metadata": {},
   "source": [
    "𝐶𝑅𝐹(𝑖𝑟,𝑅)=𝑖𝑟×(1+𝑖𝑟)^𝑅/(1+𝑖𝑟)^𝑅−1"
   ]
  },
  {
   "cell_type": "code",
   "execution_count": 2,
   "metadata": {
    "ExecuteTime": {
     "end_time": "2021-07-11T03:46:10.537184Z",
     "start_time": "2021-07-11T03:46:10.517186Z"
    }
   },
   "outputs": [],
   "source": [
    "def conexion_bd(sql=None, update=True):\n",
    "    \n",
    "    sqlite3.register_adapter(np.int64, lambda val: int(val))\n",
    "    sqlite3.register_adapter(np.int32, lambda val: int(val))\n",
    "\n",
    "    con = sqlite3.connect(os.getcwd() + os.sep + \"result_op.db\")\n",
    "    \n",
    "    \n",
    "    if update == True:\n",
    "        cur = con.cursor()\n",
    "        cur.execute(sql)\n",
    "        con.commit()\n",
    "        df=None\n",
    "    else:\n",
    "        df= pd.read_sql_query(sql, con=con)\n",
    "    con.close()\n",
    "    \n",
    "    return df\n",
    "    \n"
   ]
  },
  {
   "cell_type": "code",
   "execution_count": 4,
   "metadata": {
    "ExecuteTime": {
     "end_time": "2021-07-11T03:15:34.589705Z",
     "start_time": "2021-07-11T03:15:32.568473Z"
    }
   },
   "outputs": [],
   "source": [
    "parametros = conexion_bd(\"SELECT distinct id_simulacion,* FROM parametros WHERE optimizacion = 'optimal'\",  update=False)\n",
    "resultados = conexion_bd(\"SELECT distinct id_simulacion, * FROM resultados \", update=False)\n",
    "parametros=parametros.loc[:,~parametros.columns.duplicated()]\n",
    "resultados=resultados.loc[:,~resultados.columns.duplicated()]"
   ]
  },
  {
   "cell_type": "code",
   "execution_count": null,
   "metadata": {},
   "outputs": [],
   "source": []
  },
  {
   "cell_type": "code",
   "execution_count": 2,
   "metadata": {
    "ExecuteTime": {
     "end_time": "2021-10-14T03:35:34.842205Z",
     "start_time": "2021-10-14T03:35:34.817205Z"
    }
   },
   "outputs": [
    {
     "ename": "NameError",
     "evalue": "name 'parametros' is not defined",
     "output_type": "error",
     "traceback": [
      "\u001b[1;31m---------------------------------------------------------------------------\u001b[0m",
      "\u001b[1;31mNameError\u001b[0m                                 Traceback (most recent call last)",
      "\u001b[1;32m<ipython-input-2-0dac75e5c9de>\u001b[0m in \u001b[0;36m<module>\u001b[1;34m\u001b[0m\n\u001b[0;32m      1\u001b[0m \u001b[0mtrm\u001b[0m \u001b[1;33m=\u001b[0m \u001b[1;36m3736.91\u001b[0m\u001b[1;33m\u001b[0m\u001b[1;33m\u001b[0m\u001b[0m\n\u001b[0;32m      2\u001b[0m \u001b[1;33m\u001b[0m\u001b[0m\n\u001b[1;32m----> 3\u001b[1;33m \u001b[0mid_simulacion\u001b[0m \u001b[1;33m=\u001b[0m \u001b[0mparametros\u001b[0m\u001b[1;33m.\u001b[0m\u001b[0mloc\u001b[0m\u001b[1;33m[\u001b[0m\u001b[1;36m0\u001b[0m\u001b[1;33m,\u001b[0m\u001b[1;34m'id_simulacion'\u001b[0m\u001b[1;33m]\u001b[0m\u001b[1;33m\u001b[0m\u001b[1;33m\u001b[0m\u001b[0m\n\u001b[0m\u001b[0;32m      4\u001b[0m \u001b[0mn_pv\u001b[0m \u001b[1;33m=\u001b[0m \u001b[0mparametros\u001b[0m\u001b[1;33m.\u001b[0m\u001b[0mloc\u001b[0m\u001b[1;33m[\u001b[0m\u001b[1;36m0\u001b[0m\u001b[1;33m,\u001b[0m\u001b[1;34m'n_pv'\u001b[0m\u001b[1;33m]\u001b[0m\u001b[1;33m\u001b[0m\u001b[1;33m\u001b[0m\u001b[0m\n\u001b[0;32m      5\u001b[0m \u001b[0mn_dg\u001b[0m \u001b[1;33m=\u001b[0m \u001b[0mparametros\u001b[0m\u001b[1;33m.\u001b[0m\u001b[0mloc\u001b[0m\u001b[1;33m[\u001b[0m\u001b[1;36m0\u001b[0m\u001b[1;33m,\u001b[0m\u001b[1;34m'n_dg'\u001b[0m\u001b[1;33m]\u001b[0m\u001b[1;33m\u001b[0m\u001b[1;33m\u001b[0m\u001b[0m\n",
      "\u001b[1;31mNameError\u001b[0m: name 'parametros' is not defined"
     ]
    }
   ],
   "source": [
    "trm = 3736.91\n",
    "\n",
    "id_simulacion = parametros.loc[0,'id_simulacion']\n",
    "n_pv = parametros.loc[0,'n_pv']\n",
    "n_dg = parametros.loc[0,'n_dg']\n",
    "p_bat = parametros.loc[0,'p_bat']\n",
    "p_dg = parametros.loc[0,'p_dg']\n",
    "ens = parametros.loc[0,'ens_result']\n",
    "\n",
    "c_pv = parametros.loc[0,'cost_pv']\n",
    "c_bat = parametros.loc[0,'cost_bat']\n",
    "c_dg = parametros.loc[0,'cost_dg']\n",
    "c_ens = parametros.loc[0,'cost_pens']"
   ]
  },
  {
   "cell_type": "code",
   "execution_count": 6,
   "metadata": {
    "ExecuteTime": {
     "end_time": "2021-07-11T03:15:36.447617Z",
     "start_time": "2021-07-11T03:15:36.351616Z"
    }
   },
   "outputs": [],
   "source": [
    "resultado_id = resultados[resultados['id_simulacion']==id_simulacion].reset_index(drop=True)"
   ]
  },
  {
   "cell_type": "code",
   "execution_count": 7,
   "metadata": {
    "ExecuteTime": {
     "end_time": "2021-07-11T03:15:37.026067Z",
     "start_time": "2021-07-11T03:15:37.002095Z"
    }
   },
   "outputs": [],
   "source": [
    "resultado_id['total_dg'] = resultado_id['energia_Dg'] + resultado_id['p_bat_dg']\n",
    "resultado_id['total_pv'] = resultado_id['energia_PV'] + resultado_id['p_bat_pv']"
   ]
  },
  {
   "cell_type": "code",
   "execution_count": 8,
   "metadata": {
    "ExecuteTime": {
     "end_time": "2021-07-11T03:15:37.714753Z",
     "start_time": "2021-07-11T03:15:37.682755Z"
    }
   },
   "outputs": [],
   "source": [
    "ei = round(resultado_id['total_dg'].sum(),2)\n",
    "et = round(resultado_id['total_dg'].sum(),2)\n",
    "\n",
    "et_pv = round(resultado_id['total_pv'].sum(),2)\n",
    "\n",
    "load = round(resultado_id['load'].sum(),2)\n",
    "\n",
    "et_bat = round(resultado_id['energia_descarga_bateria'].sum(),2)\n",
    "\n",
    "cost_e_dg = (et*c_dg)/trm\n",
    "cost_e_pv = (et_pv*c_pv)/trm\n",
    "cost_e_bat =( et_bat*c_bat)/trm\n",
    "cost_e_ens =( ens*c_ens)/trm\n"
   ]
  },
  {
   "cell_type": "code",
   "execution_count": 9,
   "metadata": {
    "ExecuteTime": {
     "end_time": "2021-07-11T03:15:38.367911Z",
     "start_time": "2021-07-11T03:15:38.343910Z"
    }
   },
   "outputs": [
    {
     "data": {
      "text/plain": [
       "0.0"
      ]
     },
     "execution_count": 9,
     "metadata": {},
     "output_type": "execute_result"
    }
   ],
   "source": [
    "et/load\n"
   ]
  },
  {
   "cell_type": "code",
   "execution_count": 5,
   "metadata": {
    "ExecuteTime": {
     "end_time": "2021-10-14T03:39:36.267896Z",
     "start_time": "2021-10-14T03:39:36.247899Z"
    }
   },
   "outputs": [
    {
     "data": {
      "text/plain": [
       "1.5"
      ]
     },
     "execution_count": 5,
     "metadata": {},
     "output_type": "execute_result"
    }
   ],
   "source": [
    "5605.365/3736.91"
   ]
  },
  {
   "cell_type": "code",
   "execution_count": 10,
   "metadata": {
    "ExecuteTime": {
     "end_time": "2021-07-11T03:15:39.391826Z",
     "start_time": "2021-07-11T03:15:39.368253Z"
    }
   },
   "outputs": [],
   "source": [
    "financiero = {'R':20, 'ir':0.0808, 'cpv_ins' : 5605.365 ,'cbat_ins' : 539983.495,'cdg_ins' : 7627407.001,  'npv' : n_pv ,'ndg' : n_dg ,'ppv_stc': 300,'ebcell_nom': p_bat,\n",
    "'pdg_rate': p_dg, 'li_bat':10,'li_dg':10,'ybat': 0.7,'ydg': 0.7, 'ipp_o': 74.37,'ipp_actual' : 129.23, 'cec': 0.0974,'ei': ei,'et': et,'pami': 8789 ,\n",
    "'cel':0.0005,'plim':79900, 'p_load':load,'ens':ens, 'factor_pv':0.01,'factor_bat':0.02}"
   ]
  },
  {
   "cell_type": "code",
   "execution_count": 11,
   "metadata": {
    "ExecuteTime": {
     "end_time": "2021-07-11T03:15:41.233923Z",
     "start_time": "2021-07-11T03:15:41.217925Z"
    }
   },
   "outputs": [],
   "source": [
    "#i_n = 2 # nominal interest rate\n",
    "#i_f = 1 # expected annual inflation rate respectively\n",
    "\n",
    "R = financiero['R'] # the life time of the project\n",
    "ir = financiero['ir']  #  (i_n - i_f) / (1 + i_f) # Tomado de otro estudio\n",
    "\n",
    "crf = round(ir*((1+ir)**R) /((1+ir)**R - 1),2)  # The capital recovery factor is calculated by"
   ]
  },
  {
   "cell_type": "code",
   "execution_count": 12,
   "metadata": {
    "ExecuteTime": {
     "end_time": "2021-07-11T03:15:42.458793Z",
     "start_time": "2021-07-11T03:15:42.446797Z"
    }
   },
   "outputs": [
    {
     "data": {
      "text/plain": [
       "0.1"
      ]
     },
     "execution_count": 12,
     "metadata": {},
     "output_type": "execute_result"
    }
   ],
   "source": [
    "crf"
   ]
  },
  {
   "cell_type": "markdown",
   "metadata": {},
   "source": [
    "## Calculos de Inversión"
   ]
  },
  {
   "cell_type": "markdown",
   "metadata": {},
   "source": [
    "𝐶𝐶𝑝𝑣=𝑐𝑝𝑣×𝑁𝑝𝑣×𝑃𝑝𝑣𝑠𝑡𝑐\n",
    "𝐶𝐶𝑏𝑎𝑡=𝑐𝑏𝑎𝑡×𝐸𝑏𝑐𝑒𝑙𝑙_𝑛𝑜𝑚\n",
    "𝐶𝐶𝐷𝐺=𝑐𝐷𝐺×𝑁𝐷𝐺×𝑤𝐷𝐺"
   ]
  },
  {
   "cell_type": "code",
   "execution_count": 13,
   "metadata": {
    "ExecuteTime": {
     "end_time": "2021-07-11T03:15:44.867408Z",
     "start_time": "2021-07-11T03:15:44.847412Z"
    }
   },
   "outputs": [],
   "source": [
    "cpv_ins = financiero['cpv_ins'] # costo de PV kWh instalado\n",
    "cbat_ins = financiero['cbat_ins'] # costo Battery de kWh instalado\n",
    "cdg_ins = financiero['cdg_ins'] # costo diesel de kWh instalado\n",
    "\n",
    "npv = financiero['npv'] # Número de paneles fotovoltaicos\n",
    "ndg = financiero['ndg'] # Número planta diesel\n",
    "ppv_stc = financiero['ppv_stc']# Capacidad nominal paneles\n",
    "ebcell_nom = financiero['ebcell_nom'] # Capacidad de la batería\n",
    "pdg_rate = financiero['pdg_rate'] # Capacidad nominal diesel\n",
    "\n",
    "ccpv = round(cpv_ins*npv*ppv_stc,4)\n",
    "ccbat = round(cbat_ins*ebcell_nom,4)\n",
    "ccdg = round(cdg_ins*ndg*pdg_rate,4)"
   ]
  },
  {
   "cell_type": "markdown",
   "metadata": {},
   "source": [
    "## Costos de reemplazo"
   ]
  },
  {
   "cell_type": "markdown",
   "metadata": {},
   "source": [
    "𝑅𝐶𝑏𝑎𝑡=𝛾𝑏𝑎𝑡×𝐶𝐶𝑏𝑎𝑡×𝐾𝑏𝑎𝑡(𝑖𝑟,𝐿𝑝𝑣,𝑦𝑖)\n",
    "𝑅𝐶𝐷𝐺=𝛾𝐷𝐺×𝐶𝐶𝐷𝐺×𝐾𝐷𝐺(𝑖𝑟,𝐿𝐷𝐺,𝑦𝑖)\n",
    "\n",
    "𝐾𝑖(𝑖𝑟,𝐿𝑖,𝑦𝑖)=Σ1(1+𝑖𝑟)𝑛×𝐿𝑖"
   ]
  },
  {
   "cell_type": "code",
   "execution_count": 14,
   "metadata": {
    "ExecuteTime": {
     "end_time": "2021-07-11T03:15:46.853909Z",
     "start_time": "2021-07-11T03:15:46.833958Z"
    }
   },
   "outputs": [],
   "source": [
    "def calcular_ki(R, li, ir):\n",
    "    \"\"\"\n",
    "    Para cálcular single payment present worth\n",
    "    \"\"\"\n",
    "    yi_replacements = math.floor(R/li)\n",
    "    values_to_sum = []\n",
    "    for i in range(1,yi_replacements+1):\n",
    "        x = (1)/((1+ir)**(i*li))\n",
    "        values_to_sum.append(x)\n",
    "        \n",
    "    return sum(values_to_sum)\n",
    "\n",
    "kbat = round(calcular_ki(R=financiero['R'], li=financiero['li_bat'], ir=financiero['ir']),4)  # single payment present worth battery\n",
    "kdg = round(calcular_ki(R=financiero['R'], li=financiero['li_dg'], ir=financiero['ir']),4) # single payment present worth diesel"
   ]
  },
  {
   "cell_type": "code",
   "execution_count": 15,
   "metadata": {
    "ExecuteTime": {
     "end_time": "2021-07-11T03:15:47.936274Z",
     "start_time": "2021-07-11T03:15:47.924268Z"
    }
   },
   "outputs": [],
   "source": [
    "ybat = financiero['ybat'] #are de-rate factors of the initial capital cost invested \n",
    "ydg = financiero['ydg'] #are de-rate factors of the initial capital cost invested\n",
    "\n",
    "rc_bat = round(ybat*ccbat*kbat,4)\n",
    "rc_dg = round(ydg*ccdg*kdg,4)"
   ]
  },
  {
   "cell_type": "markdown",
   "metadata": {},
   "source": [
    "## Calculos de operación y Mantto"
   ]
  },
  {
   "cell_type": "markdown",
   "metadata": {},
   "source": [
    "### Operación y mantto del PV y BATTERY\n"
   ]
  },
  {
   "cell_type": "code",
   "execution_count": 16,
   "metadata": {
    "ExecuteTime": {
     "end_time": "2021-07-11T03:15:50.268815Z",
     "start_time": "2021-07-11T03:15:50.256795Z"
    }
   },
   "outputs": [],
   "source": [
    "factor_pv = financiero['factor_pv'] # Factor de la inversión inicial\n",
    "factor_bat = financiero['factor_bat'] # Factor de la inversión inicial\n",
    "\n",
    "oym_pv = factor_pv*ccpv \n",
    "oym_bat = factor_bat*ccbat"
   ]
  },
  {
   "cell_type": "markdown",
   "metadata": {},
   "source": [
    "### Operación y mantto del DIESEL"
   ]
  },
  {
   "cell_type": "markdown",
   "metadata": {},
   "source": [
    "##### Costo de Combustible (CC)"
   ]
  },
  {
   "cell_type": "code",
   "execution_count": 17,
   "metadata": {
    "ExecuteTime": {
     "end_time": "2021-07-11T03:15:52.342020Z",
     "start_time": "2021-07-11T03:15:52.322019Z"
    }
   },
   "outputs": [
    {
     "name": "stderr",
     "output_type": "stream",
     "text": [
      "C:\\Users\\wrope\\anaconda3\\lib\\site-packages\\ipykernel_launcher.py:13: RuntimeWarning: divide by zero encountered in double_scalars\n",
      "  del sys.path[0]\n",
      "C:\\Users\\wrope\\anaconda3\\lib\\site-packages\\ipykernel_launcher.py:13: RuntimeWarning: invalid value encountered in double_scalars\n",
      "  del sys.path[0]\n"
     ]
    }
   ],
   "source": [
    "ipp_o = financiero['ipp_o']\n",
    "ipp_actual = financiero['ipp_actual']\n",
    "\n",
    "cec = financiero['cec'] #Consumo especifíco de combustible 0.0974 gal/kWh (capacidad <= 100 kW)\n",
    "ei = financiero['ei'] #Energía entregada al Sistema de Distribución por el generador i \n",
    "et = financiero['et'] #Energía total entregada al Sistema de Distribución\n",
    "\n",
    "pami = financiero['pami'] #Precio promedio del combustible para la planta de abasto más cercana al generador i en el mes m ($/gal).\n",
    "tmi = pami*0.1\n",
    "calm = 82.14*(ipp_actual/ipp_o) # Costo de almacenamiento de combustible en el mes m ($/gal)\n",
    "pci = pami + tmi + calm  # Precio del galón  en el sitio para el generador i\n",
    "\n",
    "cc = (1/et)*(cec*pci*ei) # Costo de Combustible (CC)"
   ]
  },
  {
   "cell_type": "code",
   "execution_count": null,
   "metadata": {},
   "outputs": [],
   "source": []
  },
  {
   "cell_type": "markdown",
   "metadata": {},
   "source": [
    "##### Costo de Lubricante (CL)"
   ]
  },
  {
   "cell_type": "code",
   "execution_count": 18,
   "metadata": {
    "ExecuteTime": {
     "end_time": "2021-07-11T03:15:54.893492Z",
     "start_time": "2021-07-11T03:15:54.873497Z"
    }
   },
   "outputs": [
    {
     "name": "stderr",
     "output_type": "stream",
     "text": [
      "C:\\Users\\wrope\\anaconda3\\lib\\site-packages\\ipykernel_launcher.py:3: RuntimeWarning: divide by zero encountered in double_scalars\n",
      "  This is separate from the ipykernel package so we can avoid doing imports until\n",
      "C:\\Users\\wrope\\anaconda3\\lib\\site-packages\\ipykernel_launcher.py:3: RuntimeWarning: invalid value encountered in double_scalars\n",
      "  This is separate from the ipykernel package so we can avoid doing imports until\n"
     ]
    }
   ],
   "source": [
    "cel = financiero['cel'] # Consumo Específico de Lubricante 0,00050 gal/kWh para plantas de capacidad <= 2.000 Kw\n",
    "plim = financiero['plim'] #Precio del Galón de lubricante en el sitio para el generador i en el mes m ($/gal). el precio del lubricante se determinará con base en los precios promedio del mercado.\n",
    "cl = (1/et)*(cel*(plim+tmi)*ei)"
   ]
  },
  {
   "cell_type": "markdown",
   "metadata": {},
   "source": [
    "##### Gastos Administrativos (CA)"
   ]
  },
  {
   "cell_type": "code",
   "execution_count": 19,
   "metadata": {
    "ExecuteTime": {
     "end_time": "2021-07-11T03:16:01.729828Z",
     "start_time": "2021-07-11T03:16:01.717825Z"
    }
   },
   "outputs": [],
   "source": [
    "cam = 0.1*(cc+cl) # Los gastos administrativos para el mes m corresponderán al 10% de la suma de los costos por consumo de combustible y lubricante,"
   ]
  },
  {
   "cell_type": "code",
   "execution_count": 20,
   "metadata": {
    "ExecuteTime": {
     "end_time": "2021-07-11T03:16:03.261959Z",
     "start_time": "2021-07-11T03:16:03.245986Z"
    }
   },
   "outputs": [],
   "source": [
    "oym_dg = (cam + cc + cl)*ei "
   ]
  },
  {
   "cell_type": "code",
   "execution_count": 21,
   "metadata": {
    "ExecuteTime": {
     "end_time": "2021-07-11T03:16:03.832549Z",
     "start_time": "2021-07-11T03:16:03.824523Z"
    }
   },
   "outputs": [
    {
     "data": {
      "text/plain": [
       "nan"
      ]
     },
     "execution_count": 21,
     "metadata": {},
     "output_type": "execute_result"
    }
   ],
   "source": [
    "oym_dg"
   ]
  },
  {
   "cell_type": "markdown",
   "metadata": {},
   "source": [
    "#  Annual  System  Cost  (ASC)"
   ]
  },
  {
   "cell_type": "code",
   "execution_count": 22,
   "metadata": {
    "ExecuteTime": {
     "end_time": "2021-07-11T03:16:04.917271Z",
     "start_time": "2021-07-11T03:16:04.905272Z"
    }
   },
   "outputs": [],
   "source": [
    "incentivo = 0.7624"
   ]
  },
  {
   "cell_type": "code",
   "execution_count": 23,
   "metadata": {
    "ExecuteTime": {
     "end_time": "2021-07-11T03:16:05.664888Z",
     "start_time": "2021-07-11T03:16:05.648896Z"
    }
   },
   "outputs": [],
   "source": [
    "asc = (((ccpv+ccbat+ccdg)+(rc_bat+rc_dg))*crf + (oym_dg + oym_pv + oym_bat))/trm\n",
    "asc_incentivo = ((((ccpv+ccbat)*incentivo+ccdg)+(rc_bat+rc_dg))*crf + (oym_dg + oym_pv + oym_bat))/trm"
   ]
  },
  {
   "cell_type": "markdown",
   "metadata": {},
   "source": [
    "# Levelised Cost of  Energy  (LCOE) "
   ]
  },
  {
   "cell_type": "code",
   "execution_count": 24,
   "metadata": {
    "ExecuteTime": {
     "end_time": "2021-07-11T03:16:07.221999Z",
     "start_time": "2021-07-11T03:16:07.213999Z"
    }
   },
   "outputs": [],
   "source": [
    "p_load = financiero['p_load']\n",
    "ens = financiero['ens']\n",
    "lcoe = (asc/(p_load - ens))\n",
    "lcoe_incentivo = (asc_incentivo/(p_load - ens))"
   ]
  },
  {
   "cell_type": "code",
   "execution_count": 25,
   "metadata": {
    "ExecuteTime": {
     "end_time": "2021-07-11T03:16:07.863435Z",
     "start_time": "2021-07-11T03:16:07.843412Z"
    }
   },
   "outputs": [
    {
     "data": {
      "text/plain": [
       "26948.32"
      ]
     },
     "execution_count": 25,
     "metadata": {},
     "output_type": "execute_result"
    }
   ],
   "source": [
    "p_load - ens"
   ]
  },
  {
   "cell_type": "code",
   "execution_count": 26,
   "metadata": {
    "ExecuteTime": {
     "end_time": "2021-07-11T03:16:08.555531Z",
     "start_time": "2021-07-11T03:16:08.531530Z"
    }
   },
   "outputs": [],
   "source": [
    "sql_actualizar= \"\"\"UPDATE parametros \n",
    "        SET  vida_proyecto = %s,\n",
    "        ir = %s,\n",
    "        crf= %s,\n",
    "        cpv_ins= %s,\n",
    "        cbat_ins= %s,\n",
    "        cdg_ins= %s,\n",
    "        capital_cpv= %s,\n",
    "        capital_cbat= %s,\n",
    "        capital_cdg= %s,\n",
    "        kbat= %s,\n",
    "        kdg= %s,\n",
    "        ybat= %s,\n",
    "        ydg= %s,\n",
    "        rc_bat= %s,\n",
    "        rc_dg= %s,\n",
    "        factor_bat= %s,\n",
    "        factor_pv= %s,\n",
    "        oym_pv= %s,\n",
    "        oym_bat= %s,\n",
    "        ipp_actual= %s,\n",
    "        trm= %s,\n",
    "        pami = %s,\n",
    "        plim = %s,\n",
    "        oym_dg = %s,\n",
    "        asc = %s,\n",
    "        lcoe= %s,\n",
    "        asc_incentivo=%s,\n",
    "        lcoe_incentivo=%s,\n",
    "        cost_e_dg=%s,\n",
    "        cost_e_pv=%s,\n",
    "        cost_e_bat=%s,\n",
    "        cost_e_ens=%s        \n",
    "        WHERE id_simulacion =%s\"\"\"%(R, \n",
    "                                    ir, \n",
    "                                    crf, \n",
    "                                    cpv_ins,\n",
    "                                    cbat_ins, \n",
    "                                    cdg_ins, \n",
    "                                    ccpv ,\n",
    "                                    ccbat,\n",
    "                                    ccdg ,\n",
    "                                    kbat, \n",
    "                                    kdg, \n",
    "                                    ybat, \n",
    "                                    ydg, \n",
    "                                    rc_bat, \n",
    "                                    rc_dg, \n",
    "                                    factor_bat,\n",
    "                                    factor_pv, \n",
    "                                    round(oym_pv,2), \n",
    "                                    round(oym_bat,2), \n",
    "                                    round(ipp_actual,2), \n",
    "                                    round(trm,2), \n",
    "                                    round(pami,2), \n",
    "                                    round(plim,2),\n",
    "                                    round(oym_dg,2), \n",
    "                                    round(asc,2), \n",
    "                                    round(lcoe,2), \n",
    "                                    round(asc_incentivo,2),\n",
    "                                    round(lcoe_incentivo,2), \n",
    "                                    round(cost_e_dg,2),\n",
    "                                    round(cost_e_pv,2) ,\n",
    "                                    round(cost_e_bat,2),\n",
    "                                    round(cost_e_ens,2),\n",
    "                                    round(id_simulacion,2))\n",
    "\n",
    "#conexion_bd(sql=sql_actualizar, update=True, task=actualizar)"
   ]
  },
  {
   "cell_type": "code",
   "execution_count": 27,
   "metadata": {
    "ExecuteTime": {
     "end_time": "2021-07-11T03:16:10.044394Z",
     "start_time": "2021-07-11T03:16:10.029865Z"
    }
   },
   "outputs": [
    {
     "name": "stdout",
     "output_type": "stream",
     "text": [
      "UPDATE parametros \n",
      "        SET  vida_proyecto = 20,\n",
      "        ir = 0.0808,\n",
      "        crf= 0.1,\n",
      "        cpv_ins= 5605.365,\n",
      "        cbat_ins= 539983.495,\n",
      "        cdg_ins= 7627407.001,\n",
      "        capital_cpv= 637330000.5,\n",
      "        capital_cbat= 65316403.5552,\n",
      "        capital_cdg= 0.0,\n",
      "        kbat= 0.6712,\n",
      "        kdg= 0.6712,\n",
      "        ybat= 0.7,\n",
      "        ydg= 0.7,\n",
      "        rc_bat= 30688259.0464,\n",
      "        rc_dg= 0.0,\n",
      "        factor_bat= 0.02,\n",
      "        factor_pv= 0.01,\n",
      "        oym_pv= 6373300.0,\n",
      "        oym_bat= 1306328.07,\n",
      "        ipp_actual= 129.23,\n",
      "        trm= 3736.91,\n",
      "        pami = 8789,\n",
      "        plim = 79900,\n",
      "        oym_dg = nan,\n",
      "        asc = nan,\n",
      "        lcoe= nan,\n",
      "        asc_incentivo=nan,\n",
      "        lcoe_incentivo=nan,\n",
      "        cost_e_dg=0.0,\n",
      "        cost_e_pv=92.4,\n",
      "        cost_e_bat=1122.65,\n",
      "        cost_e_ens=743.3        \n",
      "        WHERE id_simulacion =110\n"
     ]
    }
   ],
   "source": [
    "print(sql_actualizar)"
   ]
  },
  {
   "cell_type": "code",
   "execution_count": 38,
   "metadata": {
    "ExecuteTime": {
     "end_time": "2021-07-11T03:19:12.999255Z",
     "start_time": "2021-07-11T03:19:12.983253Z"
    }
   },
   "outputs": [
    {
     "ename": "AttributeError",
     "evalue": "'function' object has no attribute 'close'",
     "output_type": "error",
     "traceback": [
      "\u001b[1;31m---------------------------------------------------------------------------\u001b[0m",
      "\u001b[1;31mAttributeError\u001b[0m                            Traceback (most recent call last)",
      "\u001b[1;32m<ipython-input-38-1a0bbd123f4f>\u001b[0m in \u001b[0;36m<module>\u001b[1;34m\u001b[0m\n\u001b[1;32m----> 1\u001b[1;33m \u001b[0mconexion_bd\u001b[0m\u001b[1;33m.\u001b[0m\u001b[0mclose\u001b[0m\u001b[1;33m(\u001b[0m\u001b[1;33m)\u001b[0m\u001b[1;33m\u001b[0m\u001b[1;33m\u001b[0m\u001b[0m\n\u001b[0m",
      "\u001b[1;31mAttributeError\u001b[0m: 'function' object has no attribute 'close'"
     ]
    }
   ],
   "source": [
    "conexion_bd.close()"
   ]
  },
  {
   "cell_type": "code",
   "execution_count": 39,
   "metadata": {
    "ExecuteTime": {
     "end_time": "2021-07-11T03:19:20.162051Z",
     "start_time": "2021-07-11T03:19:20.126050Z"
    }
   },
   "outputs": [
    {
     "ename": "OperationalError",
     "evalue": "no such column: nan",
     "output_type": "error",
     "traceback": [
      "\u001b[1;31m---------------------------------------------------------------------------\u001b[0m",
      "\u001b[1;31mOperationalError\u001b[0m                          Traceback (most recent call last)",
      "\u001b[1;32m<ipython-input-39-8a08eb6f0db6>\u001b[0m in \u001b[0;36m<module>\u001b[1;34m\u001b[0m\n\u001b[1;32m----> 1\u001b[1;33m \u001b[0mconexion_bd\u001b[0m\u001b[1;33m(\u001b[0m\u001b[0msql\u001b[0m\u001b[1;33m=\u001b[0m\u001b[0msql_actualizar\u001b[0m\u001b[1;33m)\u001b[0m\u001b[1;33m\u001b[0m\u001b[1;33m\u001b[0m\u001b[0m\n\u001b[0m",
      "\u001b[1;32m<ipython-input-3-56a51fd8a350>\u001b[0m in \u001b[0;36mconexion_bd\u001b[1;34m(sql, update)\u001b[0m\n\u001b[0;32m      9\u001b[0m     \u001b[1;32mif\u001b[0m \u001b[0mupdate\u001b[0m \u001b[1;33m==\u001b[0m \u001b[1;32mTrue\u001b[0m\u001b[1;33m:\u001b[0m\u001b[1;33m\u001b[0m\u001b[1;33m\u001b[0m\u001b[0m\n\u001b[0;32m     10\u001b[0m         \u001b[0mcur\u001b[0m \u001b[1;33m=\u001b[0m \u001b[0mcon\u001b[0m\u001b[1;33m.\u001b[0m\u001b[0mcursor\u001b[0m\u001b[1;33m(\u001b[0m\u001b[1;33m)\u001b[0m\u001b[1;33m\u001b[0m\u001b[1;33m\u001b[0m\u001b[0m\n\u001b[1;32m---> 11\u001b[1;33m         \u001b[0mcur\u001b[0m\u001b[1;33m.\u001b[0m\u001b[0mexecute\u001b[0m\u001b[1;33m(\u001b[0m\u001b[0msql\u001b[0m\u001b[1;33m)\u001b[0m\u001b[1;33m\u001b[0m\u001b[1;33m\u001b[0m\u001b[0m\n\u001b[0m\u001b[0;32m     12\u001b[0m         \u001b[0mcon\u001b[0m\u001b[1;33m.\u001b[0m\u001b[0mcommit\u001b[0m\u001b[1;33m(\u001b[0m\u001b[1;33m)\u001b[0m\u001b[1;33m\u001b[0m\u001b[1;33m\u001b[0m\u001b[0m\n\u001b[0;32m     13\u001b[0m         \u001b[0mdf\u001b[0m\u001b[1;33m=\u001b[0m\u001b[1;32mNone\u001b[0m\u001b[1;33m\u001b[0m\u001b[1;33m\u001b[0m\u001b[0m\n",
      "\u001b[1;31mOperationalError\u001b[0m: no such column: nan"
     ]
    }
   ],
   "source": [
    "conexion_bd(sql=sql_actualizar)"
   ]
  },
  {
   "cell_type": "code",
   "execution_count": 9,
   "metadata": {
    "ExecuteTime": {
     "end_time": "2021-07-11T03:53:25.802621Z",
     "start_time": "2021-07-11T03:53:25.787018Z"
    }
   },
   "outputs": [],
   "source": [
    "import actualizar_costos as ac"
   ]
  },
  {
   "cell_type": "code",
   "execution_count": 10,
   "metadata": {
    "ExecuteTime": {
     "end_time": "2021-07-11T03:53:28.249685Z",
     "start_time": "2021-07-11T03:53:26.611348Z"
    }
   },
   "outputs": [],
   "source": [
    "parametros = ac.conexion_bd(\"SELECT distinct id_simulacion,* FROM parametros WHERE optimizacion = 'optimal'\",  update=False)\n",
    "resultados = ac.conexion_bd(\"SELECT distinct id_simulacion, * FROM resultados \", update=False)\n",
    "parametros=parametros.loc[:,~parametros.columns.duplicated()]\n",
    "resultados=resultados.loc[:,~resultados.columns.duplicated()]\n"
   ]
  },
  {
   "cell_type": "code",
   "execution_count": 11,
   "metadata": {
    "ExecuteTime": {
     "end_time": "2021-07-11T03:53:29.166813Z",
     "start_time": "2021-07-11T03:53:29.036127Z"
    },
    "scrolled": false
   },
   "outputs": [],
   "source": [
    "for j in range(len(parametros)):\n",
    "    ac.actualizar_costos(parametros=parametros, resultados=resultados, i=j)"
   ]
  },
  {
   "cell_type": "code",
   "execution_count": null,
   "metadata": {},
   "outputs": [],
   "source": []
  }
 ],
 "metadata": {
  "hide_input": false,
  "kernelspec": {
   "display_name": "Python 3",
   "language": "python",
   "name": "python3"
  },
  "language_info": {
   "codemirror_mode": {
    "name": "ipython",
    "version": 3
   },
   "file_extension": ".py",
   "mimetype": "text/x-python",
   "name": "python",
   "nbconvert_exporter": "python",
   "pygments_lexer": "ipython3",
   "version": "3.7.6"
  },
  "toc": {
   "base_numbering": 1,
   "nav_menu": {},
   "number_sections": true,
   "sideBar": true,
   "skip_h1_title": false,
   "title_cell": "Table of Contents",
   "title_sidebar": "Contents",
   "toc_cell": false,
   "toc_position": {},
   "toc_section_display": true,
   "toc_window_display": false
  },
  "varInspector": {
   "cols": {
    "lenName": 16,
    "lenType": 16,
    "lenVar": 40
   },
   "kernels_config": {
    "python": {
     "delete_cmd_postfix": "",
     "delete_cmd_prefix": "del ",
     "library": "var_list.py",
     "varRefreshCmd": "print(var_dic_list())"
    },
    "r": {
     "delete_cmd_postfix": ") ",
     "delete_cmd_prefix": "rm(",
     "library": "var_list.r",
     "varRefreshCmd": "cat(var_dic_list()) "
    }
   },
   "types_to_exclude": [
    "module",
    "function",
    "builtin_function_or_method",
    "instance",
    "_Feature"
   ],
   "window_display": false
  }
 },
 "nbformat": 4,
 "nbformat_minor": 2
}
