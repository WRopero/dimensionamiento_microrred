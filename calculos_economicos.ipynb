{
 "cells": [
  {
   "cell_type": "code",
   "execution_count": 1,
   "metadata": {},
   "outputs": [],
   "source": [
    "import pandas as pd\n",
    "import numpy as np\n",
    "import math\n",
    "import sqlite3\n",
    "import os"
   ]
  },
  {
   "cell_type": "markdown",
   "metadata": {},
   "source": [
    "𝐴𝐶𝑆=Σ(𝐶𝐶𝑖+𝑅𝐶𝑖)×𝐶𝑅𝐹(𝑖𝑟,𝑅)+𝑂&𝑀𝑖)"
   ]
  },
  {
   "cell_type": "markdown",
   "metadata": {},
   "source": [
    "𝐴𝐶𝑆𝑎𝑑𝑗=[(𝐶𝐶𝑝𝑣+𝐶𝐶𝑏𝑎𝑡)×Δ+𝐶𝐶𝐷𝐺+𝑅𝐶𝑏𝑎𝑡+𝑅𝐶𝐷𝐺]×𝐶𝑅𝐹(𝑖𝑟,𝑅)+𝑂&𝑀𝑝𝑣+𝑂&𝑀𝑏𝑎𝑡+𝑂&𝑀𝐷𝐺"
   ]
  },
  {
   "cell_type": "markdown",
   "metadata": {},
   "source": [
    "## Indicadores financieros"
   ]
  },
  {
   "cell_type": "markdown",
   "metadata": {},
   "source": [
    "𝐶𝑅𝐹(𝑖𝑟,𝑅)=𝑖𝑟×(1+𝑖𝑟)^𝑅/(1+𝑖𝑟)^𝑅−1"
   ]
  },
  {
   "cell_type": "code",
   "execution_count": 2,
   "metadata": {},
   "outputs": [],
   "source": [
    "def conexion_bd(sql=None, update=True, task=None):\n",
    "    \n",
    "    sqlite3.register_adapter(np.int64, lambda val: int(val))\n",
    "    sqlite3.register_adapter(np.int32, lambda val: int(val))\n",
    "\n",
    "    con = sqlite3.connect(os.getcwd() + os.sep + \"result_op.db\")\n",
    "    df= pd.read_sql_query(sql, con=con)\n",
    "    \n",
    "    if update == True:\n",
    "        cur = con.cursor()\n",
    "        cur.execute(sql, task)\n",
    "        con.commit()\n",
    "    \n",
    "    con.close()\n",
    "    \n",
    "    return df\n",
    "    \n"
   ]
  },
  {
   "cell_type": "code",
   "execution_count": 3,
   "metadata": {},
   "outputs": [],
   "source": [
    "parametros = conexion_bd(\"SELECT * FROM parametros WHERE optimizacion = 'optimal'\", update=False,task=None)\n",
    "resultados = conexion_bd(\"SELECT * FROM resultados \", update=False, task=None)"
   ]
  },
  {
   "cell_type": "code",
   "execution_count": 4,
   "metadata": {},
   "outputs": [],
   "source": [
    "trm = 3736.91\n",
    "\n",
    "id_simulacion = parametros.loc[0,'id_simulacion']\n",
    "n_pv = parametros.loc[0,'n_pv']\n",
    "n_dg = parametros.loc[0,'n_dg']\n",
    "p_bat = parametros.loc[0,'p_bat']\n",
    "p_dg = parametros.loc[0,'p_dg']\n",
    "ens = parametros.loc[0,'ens_result']\n",
    "\n",
    "c_pv = parametros.loc[0,'cost_pv']\n",
    "c_bat = parametros.loc[0,'cost_bat']\n",
    "c_dg = parametros.loc[0,'cost_dg']\n",
    "c_ens = parametros.loc[0,'cost_pens']"
   ]
  },
  {
   "cell_type": "code",
   "execution_count": 5,
   "metadata": {},
   "outputs": [],
   "source": [
    "resultado_id = resultados[resultados['id_simulacion']==id_simulacion].reset_index(drop=True)"
   ]
  },
  {
   "cell_type": "code",
   "execution_count": 6,
   "metadata": {},
   "outputs": [],
   "source": [
    "resultado_id['total_dg'] = resultado_id['energia_Dg'] + resultado_id['p_bat_dg']\n",
    "resultado_id['total_pv'] = resultado_id['energia_PV'] + resultado_id['p_bat_pv']"
   ]
  },
  {
   "cell_type": "code",
   "execution_count": 7,
   "metadata": {},
   "outputs": [],
   "source": [
    "ei = round(resultado_id['total_dg'].sum(),2)\n",
    "et = round(resultado_id['total_dg'].sum(),2)\n",
    "\n",
    "et_pv = round(resultado_id['total_pv'].sum(),2)\n",
    "\n",
    "load = round(resultado_id['load'].sum(),2)\n",
    "\n",
    "et_bat = round(resultado_id['energia_descarga_bateria'].sum(),2)\n",
    "\n",
    "cost_e_dg = (et*c_dg)/trm\n",
    "cost_e_pv = (et_pv*c_pv)/trm\n",
    "cost_e_bat =( et_bat*c_bat)/trm\n",
    "cost_e_ens =( ens*c_ens)/trm\n"
   ]
  },
  {
   "cell_type": "code",
   "execution_count": 8,
   "metadata": {},
   "outputs": [
    {
     "data": {
      "text/plain": [
       "318.79127407403445"
      ]
     },
     "execution_count": 8,
     "metadata": {},
     "output_type": "execute_result"
    }
   ],
   "source": [
    "cost_e_ens\n"
   ]
  },
  {
   "cell_type": "code",
   "execution_count": 9,
   "metadata": {},
   "outputs": [],
   "source": [
    "financiero = {'R':20, 'ir':0.0808, 'cpv_ins' : 5605.365 ,'cbat_ins' : 539983.495,'cdg_ins' : 7627407.001,  'npv' : n_pv ,'ndg' : n_dg ,'ppv_stc': 300,'ebcell_nom': p_bat,\n",
    "'pdg_rate': p_dg, 'li_bat':10,'li_dg':10,'ybat': 0.7,'ydg': 0.7, 'ipp_o': 74.37,'ipp_actual' : 129.23, 'cec': 0.0974,'ei': ei,'et': et,'pami': 8789 ,\n",
    "'cel':0.0005,'plim':79900, 'p_load':load,'ens':ens, 'factor_pv':0.01,'factor_bat':0.02}"
   ]
  },
  {
   "cell_type": "code",
   "execution_count": 10,
   "metadata": {},
   "outputs": [],
   "source": [
    "#i_n = 2 # nominal interest rate\n",
    "#i_f = 1 # expected annual inflation rate respectively\n",
    "\n",
    "R = financiero['R'] # the life time of the project\n",
    "ir = financiero['ir']  #  (i_n - i_f) / (1 + i_f) # Tomado de otro estudio\n",
    "\n",
    "crf = round(ir*((1+ir)**R) /((1+ir)**R - 1),2)  # The capital recovery factor is calculated by"
   ]
  },
  {
   "cell_type": "code",
   "execution_count": 11,
   "metadata": {},
   "outputs": [
    {
     "data": {
      "text/plain": [
       "0.1"
      ]
     },
     "execution_count": 11,
     "metadata": {},
     "output_type": "execute_result"
    }
   ],
   "source": [
    "crf"
   ]
  },
  {
   "cell_type": "markdown",
   "metadata": {},
   "source": [
    "## Calculos de Inversión"
   ]
  },
  {
   "cell_type": "markdown",
   "metadata": {},
   "source": [
    "𝐶𝐶𝑝𝑣=𝑐𝑝𝑣×𝑁𝑝𝑣×𝑃𝑝𝑣𝑠𝑡𝑐\n",
    "𝐶𝐶𝑏𝑎𝑡=𝑐𝑏𝑎𝑡×𝐸𝑏𝑐𝑒𝑙𝑙_𝑛𝑜𝑚\n",
    "𝐶𝐶𝐷𝐺=𝑐𝐷𝐺×𝑁𝐷𝐺×𝑤𝐷𝐺"
   ]
  },
  {
   "cell_type": "code",
   "execution_count": 12,
   "metadata": {},
   "outputs": [],
   "source": [
    "cpv_ins = financiero['cpv_ins'] # costo de PV kWh instalado\n",
    "cbat_ins = financiero['cbat_ins'] # costo Battery de kWh instalado\n",
    "cdg_ins = financiero['cdg_ins'] # costo diesel de kWh instalado\n",
    "\n",
    "npv = financiero['npv'] # Número de paneles fotovoltaicos\n",
    "ndg = financiero['ndg'] # Número planta diesel\n",
    "ppv_stc = financiero['ppv_stc']# Capacidad nominal paneles\n",
    "ebcell_nom = financiero['ebcell_nom'] # Capacidad de la batería\n",
    "pdg_rate = financiero['pdg_rate'] # Capacidad nominal diesel\n",
    "\n",
    "ccpv = round(cpv_ins*npv*ppv_stc,4)\n",
    "ccbat = round(cbat_ins*ebcell_nom,4)\n",
    "ccdg = round(cdg_ins*ndg*pdg_rate,4)"
   ]
  },
  {
   "cell_type": "markdown",
   "metadata": {},
   "source": [
    "## Costos de reemplazo"
   ]
  },
  {
   "cell_type": "markdown",
   "metadata": {},
   "source": [
    "𝑅𝐶𝑏𝑎𝑡=𝛾𝑏𝑎𝑡×𝐶𝐶𝑏𝑎𝑡×𝐾𝑏𝑎𝑡(𝑖𝑟,𝐿𝑝𝑣,𝑦𝑖)\n",
    "𝑅𝐶𝐷𝐺=𝛾𝐷𝐺×𝐶𝐶𝐷𝐺×𝐾𝐷𝐺(𝑖𝑟,𝐿𝐷𝐺,𝑦𝑖)\n",
    "\n",
    "𝐾𝑖(𝑖𝑟,𝐿𝑖,𝑦𝑖)=Σ1(1+𝑖𝑟)𝑛×𝐿𝑖"
   ]
  },
  {
   "cell_type": "code",
   "execution_count": 13,
   "metadata": {},
   "outputs": [],
   "source": [
    "def calcular_ki(R, li, ir):\n",
    "    \"\"\"\n",
    "    Para cálcular single payment present worth\n",
    "    \"\"\"\n",
    "    yi_replacements = math.floor(R/li)\n",
    "    values_to_sum = []\n",
    "    for i in range(1,yi_replacements+1):\n",
    "        x = (1)/((1+ir)**(i*li))\n",
    "        values_to_sum.append(x)\n",
    "        \n",
    "    return sum(values_to_sum)\n",
    "\n",
    "kbat = round(calcular_ki(R=financiero['R'], li=financiero['li_bat'], ir=financiero['ir']),4)  # single payment present worth battery\n",
    "kdg = round(calcular_ki(R=financiero['R'], li=financiero['li_dg'], ir=financiero['ir']),4) # single payment present worth diesel"
   ]
  },
  {
   "cell_type": "code",
   "execution_count": 14,
   "metadata": {},
   "outputs": [],
   "source": [
    "ybat = financiero['ybat'] #are de-rate factors of the initial capital cost invested \n",
    "ydg = financiero['ydg'] #are de-rate factors of the initial capital cost invested\n",
    "\n",
    "rc_bat = round(ybat*ccbat*kbat,4)\n",
    "rc_dg = round(ydg*ccdg*kdg,4)"
   ]
  },
  {
   "cell_type": "markdown",
   "metadata": {},
   "source": [
    "## Calculos de operación y Mantto"
   ]
  },
  {
   "cell_type": "markdown",
   "metadata": {},
   "source": [
    "### Operación y mantto del PV y BATTERY\n"
   ]
  },
  {
   "cell_type": "code",
   "execution_count": 15,
   "metadata": {},
   "outputs": [],
   "source": [
    "factor_pv = financiero['factor_pv'] # Factor de la inversión inicial\n",
    "factor_bat = financiero['factor_bat'] # Factor de la inversión inicial\n",
    "\n",
    "oym_pv = factor_pv*ccpv \n",
    "oym_bat = factor_bat*ccbat"
   ]
  },
  {
   "cell_type": "markdown",
   "metadata": {},
   "source": [
    "### Operación y mantto del DIESEL"
   ]
  },
  {
   "cell_type": "markdown",
   "metadata": {},
   "source": [
    "##### Costo de Combustible (CC)"
   ]
  },
  {
   "cell_type": "code",
   "execution_count": 16,
   "metadata": {},
   "outputs": [],
   "source": [
    "ipp_o = financiero['ipp_o']\n",
    "ipp_actual = financiero['ipp_actual']\n",
    "\n",
    "cec = financiero['cec'] #Consumo especifíco de combustible 0.0974 gal/kWh (capacidad <= 100 kW)\n",
    "ei = financiero['ei'] #Energía entregada al Sistema de Distribución por el generador i \n",
    "et = financiero['et'] #Energía total entregada al Sistema de Distribución\n",
    "\n",
    "pami = financiero['pami'] #Precio promedio del combustible para la planta de abasto más cercana al generador i en el mes m ($/gal).\n",
    "tmi = pami*0.1\n",
    "calm = 82.14*(ipp_actual/ipp_o) # Costo de almacenamiento de combustible en el mes m ($/gal)\n",
    "pci = pami + tmi + calm  # Precio del galón  en el sitio para el generador i\n",
    "\n",
    "cc = (1/et)*(cec*pci*ei) # Costo de Combustible (CC)"
   ]
  },
  {
   "cell_type": "markdown",
   "metadata": {},
   "source": [
    "##### Costo de Lubricante (CL)"
   ]
  },
  {
   "cell_type": "code",
   "execution_count": 17,
   "metadata": {},
   "outputs": [],
   "source": [
    "cel = financiero['cel'] # Consumo Específico de Lubricante 0,00050 gal/kWh para plantas de capacidad <= 2.000 Kw\n",
    "plim = financiero['plim'] #Precio del Galón de lubricante en el sitio para el generador i en el mes m ($/gal). el precio del lubricante se determinará con base en los precios promedio del mercado.\n",
    "cl = (1/et)*(cel*(plim+tmi)*ei)"
   ]
  },
  {
   "cell_type": "markdown",
   "metadata": {},
   "source": [
    "##### Gastos Administrativos (CA)"
   ]
  },
  {
   "cell_type": "code",
   "execution_count": 18,
   "metadata": {},
   "outputs": [],
   "source": [
    "cam = 0.1*(cc+cl) # Los gastos administrativos para el mes m corresponderán al 10% de la suma de los costos por consumo de combustible y lubricante,"
   ]
  },
  {
   "cell_type": "code",
   "execution_count": 19,
   "metadata": {},
   "outputs": [],
   "source": [
    "oym_dg = cam + cc + cl"
   ]
  },
  {
   "cell_type": "markdown",
   "metadata": {},
   "source": [
    "#  Annual  System  Cost  (ASC)"
   ]
  },
  {
   "cell_type": "code",
   "execution_count": 20,
   "metadata": {},
   "outputs": [],
   "source": [
    "incentivo = 0.9038"
   ]
  },
  {
   "cell_type": "code",
   "execution_count": 21,
   "metadata": {},
   "outputs": [],
   "source": [
    "asc = (((ccpv+ccbat+ccdg)+(rc_bat+rc_dg))*crf + (oym_dg + oym_pv + oym_bat))/trm\n",
    "asc_incentivo = ((((ccpv+ccbat)*incentivo+ccdg)+(rc_bat+rc_dg))*crf + (oym_dg + oym_pv + oym_bat))/trm"
   ]
  },
  {
   "cell_type": "markdown",
   "metadata": {},
   "source": [
    "# Levelised Cost of  Energy  (LCOE) "
   ]
  },
  {
   "cell_type": "code",
   "execution_count": 22,
   "metadata": {},
   "outputs": [],
   "source": [
    "p_load = financiero['p_load']\n",
    "ens = financiero['ens']\n",
    "lcoe = (asc/(p_load - ens))\n",
    "lcoe_incentivo = (asc_incentivo/(p_load - ens))"
   ]
  },
  {
   "cell_type": "code",
   "execution_count": 23,
   "metadata": {},
   "outputs": [
    {
     "data": {
      "text/plain": [
       "35689.85"
      ]
     },
     "execution_count": 23,
     "metadata": {},
     "output_type": "execute_result"
    }
   ],
   "source": [
    "p_load - ens"
   ]
  },
  {
   "cell_type": "code",
   "execution_count": 27,
   "metadata": {},
   "outputs": [
    {
     "ename": "DatabaseError",
     "evalue": "Execution failed on sql 'UPDATE parametros \n        SET  vida_proyecto = ?,\n        ir = ?,\n        crf= ?,\n        cpv_ins= ?,\n        cbat_ins= ?,\n        cdg_ins= ?,\n        capital_cpv= ?,\n        capital_cbat= ?,\n        capital_cdg= ?,\n        kbat= ?,\n        kdg= ?,\n        ybat= ?,\n        ydg= ?,\n        rc_bat= ?,\n        rc_dg= ?,\n        factor_bat= ?,\n        factor_pv= ?,\n        oym_pv= ?,\n        oym_bat= ?,\n        ipp_actual= ?,\n        trm= ?,\n        pami = ?,\n        plim = ?,\n        oym_dg = ?,\n        asc = ?,\n        lcoe= ? ,\n        asc_incentivo=?,\n        lcoe_incentivo=?,\n        cost_e_dg=?,\n        cost_e_pv=?,\n        cost_e_bat=?,\n        cost_e_ens=?        \n        WHERE id_simulacion =?': Incorrect number of bindings supplied. The current statement uses 33, and there are 0 supplied.",
     "output_type": "error",
     "traceback": [
      "\u001b[1;31m---------------------------------------------------------------------------\u001b[0m",
      "\u001b[1;31mProgrammingError\u001b[0m                          Traceback (most recent call last)",
      "\u001b[1;32mC:\\ProgramData\\Anaconda3\\lib\\site-packages\\pandas\\io\\sql.py\u001b[0m in \u001b[0;36mexecute\u001b[1;34m(self, *args, **kwargs)\u001b[0m\n\u001b[0;32m   1594\u001b[0m             \u001b[1;32melse\u001b[0m\u001b[1;33m:\u001b[0m\u001b[1;33m\u001b[0m\u001b[1;33m\u001b[0m\u001b[0m\n\u001b[1;32m-> 1595\u001b[1;33m                 \u001b[0mcur\u001b[0m\u001b[1;33m.\u001b[0m\u001b[0mexecute\u001b[0m\u001b[1;33m(\u001b[0m\u001b[1;33m*\u001b[0m\u001b[0margs\u001b[0m\u001b[1;33m)\u001b[0m\u001b[1;33m\u001b[0m\u001b[1;33m\u001b[0m\u001b[0m\n\u001b[0m\u001b[0;32m   1596\u001b[0m             \u001b[1;32mreturn\u001b[0m \u001b[0mcur\u001b[0m\u001b[1;33m\u001b[0m\u001b[1;33m\u001b[0m\u001b[0m\n",
      "\u001b[1;31mProgrammingError\u001b[0m: Incorrect number of bindings supplied. The current statement uses 33, and there are 0 supplied.",
      "\nDuring handling of the above exception, another exception occurred:\n",
      "\u001b[1;31mDatabaseError\u001b[0m                             Traceback (most recent call last)",
      "\u001b[1;32m<ipython-input-27-20ce559bff27>\u001b[0m in \u001b[0;36m<module>\u001b[1;34m\u001b[0m\n\u001b[0;32m     37\u001b[0m        factor_pv, oym_pv, oym_bat, ipp_actual, trm, pami, plim,oym_dg, asc, lcoe, asc_incentivo,lcoe_incentivo, cost_e_dg,cost_e_pv ,cost_e_bat,cost_e_ens,id_simulacion)\n\u001b[0;32m     38\u001b[0m \u001b[1;33m\u001b[0m\u001b[0m\n\u001b[1;32m---> 39\u001b[1;33m \u001b[0mconexion_bd\u001b[0m\u001b[1;33m(\u001b[0m\u001b[0msql\u001b[0m\u001b[1;33m=\u001b[0m\u001b[0msql_actualizar\u001b[0m\u001b[1;33m,\u001b[0m \u001b[0mupdate\u001b[0m\u001b[1;33m=\u001b[0m\u001b[1;32mTrue\u001b[0m\u001b[1;33m,\u001b[0m \u001b[0mtask\u001b[0m\u001b[1;33m=\u001b[0m\u001b[0mactualizar\u001b[0m\u001b[1;33m)\u001b[0m\u001b[1;33m\u001b[0m\u001b[1;33m\u001b[0m\u001b[0m\n\u001b[0m",
      "\u001b[1;32m<ipython-input-2-efc1baa6d224>\u001b[0m in \u001b[0;36mconexion_bd\u001b[1;34m(sql, update, task)\u001b[0m\n\u001b[0;32m      5\u001b[0m \u001b[1;33m\u001b[0m\u001b[0m\n\u001b[0;32m      6\u001b[0m     \u001b[0mcon\u001b[0m \u001b[1;33m=\u001b[0m \u001b[0msqlite3\u001b[0m\u001b[1;33m.\u001b[0m\u001b[0mconnect\u001b[0m\u001b[1;33m(\u001b[0m\u001b[0mos\u001b[0m\u001b[1;33m.\u001b[0m\u001b[0mgetcwd\u001b[0m\u001b[1;33m(\u001b[0m\u001b[1;33m)\u001b[0m \u001b[1;33m+\u001b[0m \u001b[0mos\u001b[0m\u001b[1;33m.\u001b[0m\u001b[0msep\u001b[0m \u001b[1;33m+\u001b[0m \u001b[1;34m\"result_op.db\"\u001b[0m\u001b[1;33m)\u001b[0m\u001b[1;33m\u001b[0m\u001b[1;33m\u001b[0m\u001b[0m\n\u001b[1;32m----> 7\u001b[1;33m     \u001b[0mdf\u001b[0m\u001b[1;33m=\u001b[0m \u001b[0mpd\u001b[0m\u001b[1;33m.\u001b[0m\u001b[0mread_sql_query\u001b[0m\u001b[1;33m(\u001b[0m\u001b[0msql\u001b[0m\u001b[1;33m,\u001b[0m \u001b[0mcon\u001b[0m\u001b[1;33m=\u001b[0m\u001b[0mcon\u001b[0m\u001b[1;33m)\u001b[0m\u001b[1;33m\u001b[0m\u001b[1;33m\u001b[0m\u001b[0m\n\u001b[0m\u001b[0;32m      8\u001b[0m \u001b[1;33m\u001b[0m\u001b[0m\n\u001b[0;32m      9\u001b[0m     \u001b[1;32mif\u001b[0m \u001b[0mupdate\u001b[0m \u001b[1;33m==\u001b[0m \u001b[1;32mTrue\u001b[0m\u001b[1;33m:\u001b[0m\u001b[1;33m\u001b[0m\u001b[1;33m\u001b[0m\u001b[0m\n",
      "\u001b[1;32mC:\\ProgramData\\Anaconda3\\lib\\site-packages\\pandas\\io\\sql.py\u001b[0m in \u001b[0;36mread_sql_query\u001b[1;34m(sql, con, index_col, coerce_float, params, parse_dates, chunksize)\u001b[0m\n\u001b[0;32m    330\u001b[0m         \u001b[0mcoerce_float\u001b[0m\u001b[1;33m=\u001b[0m\u001b[0mcoerce_float\u001b[0m\u001b[1;33m,\u001b[0m\u001b[1;33m\u001b[0m\u001b[1;33m\u001b[0m\u001b[0m\n\u001b[0;32m    331\u001b[0m         \u001b[0mparse_dates\u001b[0m\u001b[1;33m=\u001b[0m\u001b[0mparse_dates\u001b[0m\u001b[1;33m,\u001b[0m\u001b[1;33m\u001b[0m\u001b[1;33m\u001b[0m\u001b[0m\n\u001b[1;32m--> 332\u001b[1;33m         \u001b[0mchunksize\u001b[0m\u001b[1;33m=\u001b[0m\u001b[0mchunksize\u001b[0m\u001b[1;33m,\u001b[0m\u001b[1;33m\u001b[0m\u001b[1;33m\u001b[0m\u001b[0m\n\u001b[0m\u001b[0;32m    333\u001b[0m     )\n\u001b[0;32m    334\u001b[0m \u001b[1;33m\u001b[0m\u001b[0m\n",
      "\u001b[1;32mC:\\ProgramData\\Anaconda3\\lib\\site-packages\\pandas\\io\\sql.py\u001b[0m in \u001b[0;36mread_query\u001b[1;34m(self, sql, index_col, coerce_float, params, parse_dates, chunksize)\u001b[0m\n\u001b[0;32m   1643\u001b[0m \u001b[1;33m\u001b[0m\u001b[0m\n\u001b[0;32m   1644\u001b[0m         \u001b[0margs\u001b[0m \u001b[1;33m=\u001b[0m \u001b[0m_convert_params\u001b[0m\u001b[1;33m(\u001b[0m\u001b[0msql\u001b[0m\u001b[1;33m,\u001b[0m \u001b[0mparams\u001b[0m\u001b[1;33m)\u001b[0m\u001b[1;33m\u001b[0m\u001b[1;33m\u001b[0m\u001b[0m\n\u001b[1;32m-> 1645\u001b[1;33m         \u001b[0mcursor\u001b[0m \u001b[1;33m=\u001b[0m \u001b[0mself\u001b[0m\u001b[1;33m.\u001b[0m\u001b[0mexecute\u001b[0m\u001b[1;33m(\u001b[0m\u001b[1;33m*\u001b[0m\u001b[0margs\u001b[0m\u001b[1;33m)\u001b[0m\u001b[1;33m\u001b[0m\u001b[1;33m\u001b[0m\u001b[0m\n\u001b[0m\u001b[0;32m   1646\u001b[0m         \u001b[0mcolumns\u001b[0m \u001b[1;33m=\u001b[0m \u001b[1;33m[\u001b[0m\u001b[0mcol_desc\u001b[0m\u001b[1;33m[\u001b[0m\u001b[1;36m0\u001b[0m\u001b[1;33m]\u001b[0m \u001b[1;32mfor\u001b[0m \u001b[0mcol_desc\u001b[0m \u001b[1;32min\u001b[0m \u001b[0mcursor\u001b[0m\u001b[1;33m.\u001b[0m\u001b[0mdescription\u001b[0m\u001b[1;33m]\u001b[0m\u001b[1;33m\u001b[0m\u001b[1;33m\u001b[0m\u001b[0m\n\u001b[0;32m   1647\u001b[0m \u001b[1;33m\u001b[0m\u001b[0m\n",
      "\u001b[1;32mC:\\ProgramData\\Anaconda3\\lib\\site-packages\\pandas\\io\\sql.py\u001b[0m in \u001b[0;36mexecute\u001b[1;34m(self, *args, **kwargs)\u001b[0m\n\u001b[0;32m   1608\u001b[0m                 \u001b[1;34m\"Execution failed on sql '{sql}': {exc}\"\u001b[0m\u001b[1;33m.\u001b[0m\u001b[0mformat\u001b[0m\u001b[1;33m(\u001b[0m\u001b[0msql\u001b[0m\u001b[1;33m=\u001b[0m\u001b[0margs\u001b[0m\u001b[1;33m[\u001b[0m\u001b[1;36m0\u001b[0m\u001b[1;33m]\u001b[0m\u001b[1;33m,\u001b[0m \u001b[0mexc\u001b[0m\u001b[1;33m=\u001b[0m\u001b[0mexc\u001b[0m\u001b[1;33m)\u001b[0m\u001b[1;33m\u001b[0m\u001b[1;33m\u001b[0m\u001b[0m\n\u001b[0;32m   1609\u001b[0m             )\n\u001b[1;32m-> 1610\u001b[1;33m             \u001b[0mraise_with_traceback\u001b[0m\u001b[1;33m(\u001b[0m\u001b[0mex\u001b[0m\u001b[1;33m)\u001b[0m\u001b[1;33m\u001b[0m\u001b[1;33m\u001b[0m\u001b[0m\n\u001b[0m\u001b[0;32m   1611\u001b[0m \u001b[1;33m\u001b[0m\u001b[0m\n\u001b[0;32m   1612\u001b[0m     \u001b[1;33m@\u001b[0m\u001b[0mstaticmethod\u001b[0m\u001b[1;33m\u001b[0m\u001b[1;33m\u001b[0m\u001b[0m\n",
      "\u001b[1;32mC:\\ProgramData\\Anaconda3\\lib\\site-packages\\pandas\\compat\\__init__.py\u001b[0m in \u001b[0;36mraise_with_traceback\u001b[1;34m(exc, traceback)\u001b[0m\n\u001b[0;32m     44\u001b[0m     \u001b[1;32mif\u001b[0m \u001b[0mtraceback\u001b[0m \u001b[1;33m==\u001b[0m \u001b[0mEllipsis\u001b[0m\u001b[1;33m:\u001b[0m\u001b[1;33m\u001b[0m\u001b[1;33m\u001b[0m\u001b[0m\n\u001b[0;32m     45\u001b[0m         \u001b[0m_\u001b[0m\u001b[1;33m,\u001b[0m \u001b[0m_\u001b[0m\u001b[1;33m,\u001b[0m \u001b[0mtraceback\u001b[0m \u001b[1;33m=\u001b[0m \u001b[0msys\u001b[0m\u001b[1;33m.\u001b[0m\u001b[0mexc_info\u001b[0m\u001b[1;33m(\u001b[0m\u001b[1;33m)\u001b[0m\u001b[1;33m\u001b[0m\u001b[1;33m\u001b[0m\u001b[0m\n\u001b[1;32m---> 46\u001b[1;33m     \u001b[1;32mraise\u001b[0m \u001b[0mexc\u001b[0m\u001b[1;33m.\u001b[0m\u001b[0mwith_traceback\u001b[0m\u001b[1;33m(\u001b[0m\u001b[0mtraceback\u001b[0m\u001b[1;33m)\u001b[0m\u001b[1;33m\u001b[0m\u001b[1;33m\u001b[0m\u001b[0m\n\u001b[0m\u001b[0;32m     47\u001b[0m \u001b[1;33m\u001b[0m\u001b[0m\n\u001b[0;32m     48\u001b[0m \u001b[1;33m\u001b[0m\u001b[0m\n",
      "\u001b[1;32mC:\\ProgramData\\Anaconda3\\lib\\site-packages\\pandas\\io\\sql.py\u001b[0m in \u001b[0;36mexecute\u001b[1;34m(self, *args, **kwargs)\u001b[0m\n\u001b[0;32m   1593\u001b[0m                 \u001b[0mcur\u001b[0m\u001b[1;33m.\u001b[0m\u001b[0mexecute\u001b[0m\u001b[1;33m(\u001b[0m\u001b[1;33m*\u001b[0m\u001b[0margs\u001b[0m\u001b[1;33m,\u001b[0m \u001b[1;33m**\u001b[0m\u001b[0mkwargs\u001b[0m\u001b[1;33m)\u001b[0m\u001b[1;33m\u001b[0m\u001b[1;33m\u001b[0m\u001b[0m\n\u001b[0;32m   1594\u001b[0m             \u001b[1;32melse\u001b[0m\u001b[1;33m:\u001b[0m\u001b[1;33m\u001b[0m\u001b[1;33m\u001b[0m\u001b[0m\n\u001b[1;32m-> 1595\u001b[1;33m                 \u001b[0mcur\u001b[0m\u001b[1;33m.\u001b[0m\u001b[0mexecute\u001b[0m\u001b[1;33m(\u001b[0m\u001b[1;33m*\u001b[0m\u001b[0margs\u001b[0m\u001b[1;33m)\u001b[0m\u001b[1;33m\u001b[0m\u001b[1;33m\u001b[0m\u001b[0m\n\u001b[0m\u001b[0;32m   1596\u001b[0m             \u001b[1;32mreturn\u001b[0m \u001b[0mcur\u001b[0m\u001b[1;33m\u001b[0m\u001b[1;33m\u001b[0m\u001b[0m\n\u001b[0;32m   1597\u001b[0m         \u001b[1;32mexcept\u001b[0m \u001b[0mException\u001b[0m \u001b[1;32mas\u001b[0m \u001b[0mexc\u001b[0m\u001b[1;33m:\u001b[0m\u001b[1;33m\u001b[0m\u001b[1;33m\u001b[0m\u001b[0m\n",
      "\u001b[1;31mDatabaseError\u001b[0m: Execution failed on sql 'UPDATE parametros \n        SET  vida_proyecto = ?,\n        ir = ?,\n        crf= ?,\n        cpv_ins= ?,\n        cbat_ins= ?,\n        cdg_ins= ?,\n        capital_cpv= ?,\n        capital_cbat= ?,\n        capital_cdg= ?,\n        kbat= ?,\n        kdg= ?,\n        ybat= ?,\n        ydg= ?,\n        rc_bat= ?,\n        rc_dg= ?,\n        factor_bat= ?,\n        factor_pv= ?,\n        oym_pv= ?,\n        oym_bat= ?,\n        ipp_actual= ?,\n        trm= ?,\n        pami = ?,\n        plim = ?,\n        oym_dg = ?,\n        asc = ?,\n        lcoe= ? ,\n        asc_incentivo=?,\n        lcoe_incentivo=?,\n        cost_e_dg=?,\n        cost_e_pv=?,\n        cost_e_bat=?,\n        cost_e_ens=?        \n        WHERE id_simulacion =?': Incorrect number of bindings supplied. The current statement uses 33, and there are 0 supplied."
     ]
    }
   ],
   "source": [
    "sql_actualizar= \"\"\"UPDATE parametros \n",
    "        SET  vida_proyecto = ?,\n",
    "        ir = ?,\n",
    "        crf= ?,\n",
    "        cpv_ins= ?,\n",
    "        cbat_ins= ?,\n",
    "        cdg_ins= ?,\n",
    "        capital_cpv= ?,\n",
    "        capital_cbat= ?,\n",
    "        capital_cdg= ?,\n",
    "        kbat= ?,\n",
    "        kdg= ?,\n",
    "        ybat= ?,\n",
    "        ydg= ?,\n",
    "        rc_bat= ?,\n",
    "        rc_dg= ?,\n",
    "        factor_bat= ?,\n",
    "        factor_pv= ?,\n",
    "        oym_pv= ?,\n",
    "        oym_bat= ?,\n",
    "        ipp_actual= ?,\n",
    "        trm= ?,\n",
    "        pami = ?,\n",
    "        plim = ?,\n",
    "        oym_dg = ?,\n",
    "        asc = ?,\n",
    "        lcoe= ? ,\n",
    "        asc_incentivo=?,\n",
    "        lcoe_incentivo=?,\n",
    "        cost_e_dg=?,\n",
    "        cost_e_pv=?,\n",
    "        cost_e_bat=?,\n",
    "        cost_e_ens=?        \n",
    "        WHERE id_simulacion =?\"\"\"\n",
    "\n",
    "actualizar = (R, ir, crf, cpv_ins,cbat_ins, cdg_ins, ccpv ,ccbat,ccdg ,kbat, kdg, ybat, ydg, rc_bat, rc_dg, factor_bat,\n",
    "       factor_pv, oym_pv, oym_bat, ipp_actual, trm, pami, plim,oym_dg, asc, lcoe, asc_incentivo,lcoe_incentivo, cost_e_dg,cost_e_pv ,cost_e_bat,cost_e_ens,id_simulacion)\n",
    "\n",
    "conexion_bd(sql=sql_actualizar, update=True, task=actualizar)"
   ]
  },
  {
   "cell_type": "code",
   "execution_count": 25,
   "metadata": {},
   "outputs": [
    {
     "data": {
      "text/plain": [
       "Index(['id_simulacion', 'n_pv', 'n_dg', 'p_dg', 'min_dg', 'efi_dg', 'lpsp',\n",
       "       'p_bat', 'cond_init_bat', 'val_aux_bateria', 'DOD', 'n_bat',\n",
       "       'self_dis_coef', 'max_ciclos_descarga', 'efficiency_inversor',\n",
       "       'efficiency_charging', 'C_rate', 'cost_pv', 'cost_dg', 'cost_bat',\n",
       "       'cost_pens', 'optimizacion', 'lpsp_result', 'ens_result',\n",
       "       'ciclos_bat_result', 'vida_proyecto', 'ir', 'crf', 'cpv_ins',\n",
       "       'cbat_ins', 'cdg_ins', 'capital_cpv', 'capital_cbat', 'capital_cdg',\n",
       "       'kbat', 'kdg', 'ybat', 'ydg', 'rc_bat', 'rc_dg', 'factor_bat',\n",
       "       'factor_pv', 'oym_pv', 'oym_bat', 'ipp_actual', 'trm', 'pami', 'plim',\n",
       "       'oym_dg', 'asc', 'lcoe', 'asc_incentivo', 'lcoe_incentivo', 'cost_e_dg',\n",
       "       'cost_e_pv', 'cost_e_bat', 'cost_e_ens'],\n",
       "      dtype='object')"
      ]
     },
     "execution_count": 25,
     "metadata": {},
     "output_type": "execute_result"
    }
   ],
   "source": [
    "parametros.columns"
   ]
  }
 ],
 "metadata": {
  "kernelspec": {
   "display_name": "Python 3",
   "language": "python",
   "name": "python3"
  },
  "language_info": {
   "codemirror_mode": {
    "name": "ipython",
    "version": 3
   },
   "file_extension": ".py",
   "mimetype": "text/x-python",
   "name": "python",
   "nbconvert_exporter": "python",
   "pygments_lexer": "ipython3",
   "version": "3.7.4"
  }
 },
 "nbformat": 4,
 "nbformat_minor": 2
}
