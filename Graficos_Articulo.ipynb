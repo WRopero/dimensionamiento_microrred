{
 "cells": [
  {
   "cell_type": "code",
   "execution_count": 1,
   "metadata": {
    "ExecuteTime": {
     "end_time": "2021-06-30T02:48:25.725663Z",
     "start_time": "2021-06-30T02:48:24.152283Z"
    }
   },
   "outputs": [],
   "source": [
    "import pandas as pd\n",
    "import numpy as np\n",
    "import math\n",
    "import sqlite3\n",
    "import os\n",
    "import plotly.express as px\n",
    "import pandas as pd\n",
    "import os\n",
    "import numpy as np\n",
    "import plotly.graph_objects as go\n",
    "import src.leer_datos as ld"
   ]
  },
  {
   "cell_type": "code",
   "execution_count": 2,
   "metadata": {
    "ExecuteTime": {
     "end_time": "2021-06-30T02:48:34.980311Z",
     "start_time": "2021-06-30T02:48:31.351122Z"
    }
   },
   "outputs": [],
   "source": [
    "bd = ld.leer_datos(\"data/datos_microrred_horario_ano_sede_oriente.xlsx\")"
   ]
  },
  {
   "cell_type": "code",
   "execution_count": 65,
   "metadata": {
    "ExecuteTime": {
     "end_time": "2021-06-30T03:22:02.928123Z",
     "start_time": "2021-06-30T03:22:02.912494Z"
    }
   },
   "outputs": [],
   "source": [
    "\n",
    "def conexion_bd(sql=None, update=True):\n",
    "    \n",
    "    sqlite3.register_adapter(np.int64, lambda val: int(val))\n",
    "    sqlite3.register_adapter(np.int32, lambda val: int(val))\n",
    "\n",
    "    con = sqlite3.connect(os.getcwd() + os.sep + \"result_op.db\")\n",
    "    \n",
    "    try:\n",
    "        if update == True:\n",
    "            cur = con.cursor()\n",
    "            cur.execute(sql)\n",
    "            con.commit()\n",
    "            df=None\n",
    "        else:\n",
    "            df= pd.read_sql_query(sql, con=con)\n",
    "    except:\n",
    "        print(sql)\n",
    "        df=None\n",
    "    con.close()\n",
    "    \n",
    "    return df"
   ]
  },
  {
   "cell_type": "code",
   "execution_count": 130,
   "metadata": {
    "ExecuteTime": {
     "end_time": "2021-06-30T04:36:15.591966Z",
     "start_time": "2021-06-30T04:36:15.407083Z"
    }
   },
   "outputs": [],
   "source": [
    "#tabla_resultados = conexion_bd(sql='select*from resultados where id_simulacion=10', update=False)\n",
    "#\n",
    "#parametros = conexion_bd(sql='select*from parametros where id_simulacion=10', update=False).to_dict('records')[0]\n",
    "tabla_resultados = conexion_bd(sql='select*from resultados where id_simulacion=1007', update=False)\n",
    "parametros = conexion_bd(sql='select*from parametros where id_simulacion=1007', update=False).to_dict('records')[0]"
   ]
  },
  {
   "cell_type": "code",
   "execution_count": 112,
   "metadata": {
    "ExecuteTime": {
     "end_time": "2021-06-30T04:26:45.104299Z",
     "start_time": "2021-06-30T04:26:45.075963Z"
    }
   },
   "outputs": [
    {
     "data": {
      "text/plain": [
       "{'id_simulacion': 1007,\n",
       " 'n_pv': 405,\n",
       " 'n_dg': 1,\n",
       " 'p_dg': 0,\n",
       " 'min_dg': 0.0,\n",
       " 'efi_dg': 1,\n",
       " 'lpsp': 0.05,\n",
       " 'p_bat': 100.8,\n",
       " 'cond_init_bat': 100.8,\n",
       " 'val_aux_bateria': 0.01,\n",
       " 'DOD': 0.5,\n",
       " 'n_bat': 1,\n",
       " 'self_dis_coef': 0.2,\n",
       " 'max_ciclos_descarga': 3000,\n",
       " 'efficiency_inversor': 0.95,\n",
       " 'efficiency_charging': 0.9,\n",
       " 'C_rate': 5,\n",
       " 'cost_pv': 10,\n",
       " 'cost_dg': 824,\n",
       " 'cost_bat': 443,\n",
       " 'cost_pens': 1533,\n",
       " 'optimizacion': 'optimal',\n",
       " 'lpsp_result': 4.99,\n",
       " 'ens_result': 1821.2,\n",
       " 'ciclos_bat_result': 116.3,\n",
       " 'vida_proyecto': 20,\n",
       " 'ir': 0.0808,\n",
       " 'crf': 0.1,\n",
       " 'cpv_ins': 5605.365,\n",
       " 'cbat_ins': 539983.495,\n",
       " 'cdg_ins': 7627407.001,\n",
       " 'capital_cpv': 681051847.5,\n",
       " 'capital_cbat': 54430336.296,\n",
       " 'capital_cdg': 0,\n",
       " 'kbat': 0.6712,\n",
       " 'kdg': 0.6712,\n",
       " 'ybat': 0.7,\n",
       " 'ydg': 0.7,\n",
       " 'rc_bat': 25573549.2053,\n",
       " 'rc_dg': 0,\n",
       " 'factor_bat': 0.02,\n",
       " 'factor_pv': 0.01,\n",
       " 'oym_pv': 6810518.48,\n",
       " 'oym_bat': 1088606.73,\n",
       " 'ipp_actual': 129.23,\n",
       " 'trm': 3736.91,\n",
       " 'pami': 8789,\n",
       " 'plim': 79900,\n",
       " 'oym_dg': 0,\n",
       " 'asc': 22479.72,\n",
       " 'lcoe': 0.84,\n",
       " 'asc_incentivo': 20586.36,\n",
       " 'lcoe_incentivo': 0.77,\n",
       " 'cost_e_dg': 0,\n",
       " 'cost_e_pv': 90.18,\n",
       " 'cost_e_bat': 1090.1,\n",
       " 'cost_e_ens': 1353.93}"
      ]
     },
     "execution_count": 112,
     "metadata": {},
     "output_type": "execute_result"
    }
   ],
   "source": [
    "parametros"
   ]
  },
  {
   "cell_type": "code",
   "execution_count": 131,
   "metadata": {
    "ExecuteTime": {
     "end_time": "2021-06-30T04:36:20.214920Z",
     "start_time": "2021-06-30T04:36:20.104450Z"
    }
   },
   "outputs": [
    {
     "data": {
      "text/html": [
       "<div>\n",
       "<style scoped>\n",
       "    .dataframe tbody tr th:only-of-type {\n",
       "        vertical-align: middle;\n",
       "    }\n",
       "\n",
       "    .dataframe tbody tr th {\n",
       "        vertical-align: top;\n",
       "    }\n",
       "\n",
       "    .dataframe thead th {\n",
       "        text-align: right;\n",
       "    }\n",
       "</style>\n",
       "<table border=\"1\" class=\"dataframe\">\n",
       "  <thead>\n",
       "    <tr style=\"text-align: right;\">\n",
       "      <th></th>\n",
       "      <th>id_simulacion</th>\n",
       "      <th>energia_PV</th>\n",
       "      <th>energia_Dg</th>\n",
       "      <th>bin_diesel</th>\n",
       "      <th>energia_carga_bateria</th>\n",
       "      <th>bin_bat_carga</th>\n",
       "      <th>energia_descarga_bateria</th>\n",
       "      <th>bin_bat_descarga</th>\n",
       "      <th>energia_ENS</th>\n",
       "      <th>SOC(t)_bateria</th>\n",
       "      <th>p_bat_pv</th>\n",
       "      <th>p_bat_dg</th>\n",
       "      <th>suma_pv_dg_bat_descarga</th>\n",
       "      <th>load</th>\n",
       "      <th>recurso_pv_dis</th>\n",
       "      <th>recurso_diesel_dis</th>\n",
       "      <th>porcentaje_carga_dg</th>\n",
       "      <th>porcentaje_energia_dg</th>\n",
       "      <th>porcentaje_carga_bat_dg</th>\n",
       "      <th>porcentaje_SOC_t</th>\n",
       "    </tr>\n",
       "  </thead>\n",
       "  <tbody>\n",
       "    <tr>\n",
       "      <th>0</th>\n",
       "      <td>1007</td>\n",
       "      <td>0.0</td>\n",
       "      <td>0.0</td>\n",
       "      <td>0.0</td>\n",
       "      <td>0.0</td>\n",
       "      <td>0.0</td>\n",
       "      <td>2.0423</td>\n",
       "      <td>1.0</td>\n",
       "      <td>0.000000e+00</td>\n",
       "      <td>97.813571</td>\n",
       "      <td>0.0</td>\n",
       "      <td>0.0</td>\n",
       "      <td>2.0423</td>\n",
       "      <td>2.0423</td>\n",
       "      <td>0.0</td>\n",
       "      <td>0</td>\n",
       "      <td>None</td>\n",
       "      <td>None</td>\n",
       "      <td>None</td>\n",
       "      <td>97.037272</td>\n",
       "    </tr>\n",
       "    <tr>\n",
       "      <th>1</th>\n",
       "      <td>1007</td>\n",
       "      <td>0.0</td>\n",
       "      <td>0.0</td>\n",
       "      <td>0.0</td>\n",
       "      <td>0.0</td>\n",
       "      <td>0.0</td>\n",
       "      <td>2.0410</td>\n",
       "      <td>1.0</td>\n",
       "      <td>0.000000e+00</td>\n",
       "      <td>94.853297</td>\n",
       "      <td>0.0</td>\n",
       "      <td>0.0</td>\n",
       "      <td>2.0410</td>\n",
       "      <td>2.0410</td>\n",
       "      <td>0.0</td>\n",
       "      <td>0</td>\n",
       "      <td>None</td>\n",
       "      <td>None</td>\n",
       "      <td>None</td>\n",
       "      <td>94.100493</td>\n",
       "    </tr>\n",
       "    <tr>\n",
       "      <th>2</th>\n",
       "      <td>1007</td>\n",
       "      <td>0.0</td>\n",
       "      <td>0.0</td>\n",
       "      <td>0.0</td>\n",
       "      <td>0.0</td>\n",
       "      <td>0.0</td>\n",
       "      <td>2.0433</td>\n",
       "      <td>1.0</td>\n",
       "      <td>0.000000e+00</td>\n",
       "      <td>91.915172</td>\n",
       "      <td>0.0</td>\n",
       "      <td>0.0</td>\n",
       "      <td>2.0433</td>\n",
       "      <td>2.0433</td>\n",
       "      <td>0.0</td>\n",
       "      <td>0</td>\n",
       "      <td>None</td>\n",
       "      <td>None</td>\n",
       "      <td>None</td>\n",
       "      <td>91.185687</td>\n",
       "    </tr>\n",
       "    <tr>\n",
       "      <th>3</th>\n",
       "      <td>1007</td>\n",
       "      <td>0.0</td>\n",
       "      <td>0.0</td>\n",
       "      <td>0.0</td>\n",
       "      <td>0.0</td>\n",
       "      <td>0.0</td>\n",
       "      <td>2.0415</td>\n",
       "      <td>1.0</td>\n",
       "      <td>0.000000e+00</td>\n",
       "      <td>89.003329</td>\n",
       "      <td>0.0</td>\n",
       "      <td>0.0</td>\n",
       "      <td>2.0415</td>\n",
       "      <td>2.0415</td>\n",
       "      <td>0.0</td>\n",
       "      <td>0</td>\n",
       "      <td>None</td>\n",
       "      <td>None</td>\n",
       "      <td>None</td>\n",
       "      <td>88.296953</td>\n",
       "    </tr>\n",
       "    <tr>\n",
       "      <th>4</th>\n",
       "      <td>1007</td>\n",
       "      <td>0.0</td>\n",
       "      <td>0.0</td>\n",
       "      <td>0.0</td>\n",
       "      <td>0.0</td>\n",
       "      <td>0.0</td>\n",
       "      <td>2.0671</td>\n",
       "      <td>1.0</td>\n",
       "      <td>0.000000e+00</td>\n",
       "      <td>86.088707</td>\n",
       "      <td>0.0</td>\n",
       "      <td>0.0</td>\n",
       "      <td>2.0671</td>\n",
       "      <td>2.0671</td>\n",
       "      <td>0.0</td>\n",
       "      <td>0</td>\n",
       "      <td>None</td>\n",
       "      <td>None</td>\n",
       "      <td>None</td>\n",
       "      <td>85.405463</td>\n",
       "    </tr>\n",
       "    <tr>\n",
       "      <th>...</th>\n",
       "      <td>...</td>\n",
       "      <td>...</td>\n",
       "      <td>...</td>\n",
       "      <td>...</td>\n",
       "      <td>...</td>\n",
       "      <td>...</td>\n",
       "      <td>...</td>\n",
       "      <td>...</td>\n",
       "      <td>...</td>\n",
       "      <td>...</td>\n",
       "      <td>...</td>\n",
       "      <td>...</td>\n",
       "      <td>...</td>\n",
       "      <td>...</td>\n",
       "      <td>...</td>\n",
       "      <td>...</td>\n",
       "      <td>...</td>\n",
       "      <td>...</td>\n",
       "      <td>...</td>\n",
       "      <td>...</td>\n",
       "    </tr>\n",
       "    <tr>\n",
       "      <th>8755</th>\n",
       "      <td>1007</td>\n",
       "      <td>0.0</td>\n",
       "      <td>0.0</td>\n",
       "      <td>0.0</td>\n",
       "      <td>0.0</td>\n",
       "      <td>0.0</td>\n",
       "      <td>3.6658</td>\n",
       "      <td>1.0</td>\n",
       "      <td>0.000000e+00</td>\n",
       "      <td>63.324159</td>\n",
       "      <td>0.0</td>\n",
       "      <td>0.0</td>\n",
       "      <td>3.6658</td>\n",
       "      <td>3.6658</td>\n",
       "      <td>0.0</td>\n",
       "      <td>0</td>\n",
       "      <td>None</td>\n",
       "      <td>None</td>\n",
       "      <td>None</td>\n",
       "      <td>62.821586</td>\n",
       "    </tr>\n",
       "    <tr>\n",
       "      <th>8756</th>\n",
       "      <td>1007</td>\n",
       "      <td>0.0</td>\n",
       "      <td>0.0</td>\n",
       "      <td>0.0</td>\n",
       "      <td>0.0</td>\n",
       "      <td>0.0</td>\n",
       "      <td>2.1547</td>\n",
       "      <td>1.0</td>\n",
       "      <td>0.000000e+00</td>\n",
       "      <td>60.530463</td>\n",
       "      <td>0.0</td>\n",
       "      <td>0.0</td>\n",
       "      <td>2.1547</td>\n",
       "      <td>2.1547</td>\n",
       "      <td>0.0</td>\n",
       "      <td>0</td>\n",
       "      <td>None</td>\n",
       "      <td>None</td>\n",
       "      <td>None</td>\n",
       "      <td>60.050062</td>\n",
       "    </tr>\n",
       "    <tr>\n",
       "      <th>8757</th>\n",
       "      <td>1007</td>\n",
       "      <td>0.0</td>\n",
       "      <td>0.0</td>\n",
       "      <td>0.0</td>\n",
       "      <td>0.0</td>\n",
       "      <td>0.0</td>\n",
       "      <td>2.0912</td>\n",
       "      <td>1.0</td>\n",
       "      <td>0.000000e+00</td>\n",
       "      <td>57.826797</td>\n",
       "      <td>0.0</td>\n",
       "      <td>0.0</td>\n",
       "      <td>2.0912</td>\n",
       "      <td>2.0912</td>\n",
       "      <td>0.0</td>\n",
       "      <td>0</td>\n",
       "      <td>None</td>\n",
       "      <td>None</td>\n",
       "      <td>None</td>\n",
       "      <td>57.367854</td>\n",
       "    </tr>\n",
       "    <tr>\n",
       "      <th>8758</th>\n",
       "      <td>1007</td>\n",
       "      <td>0.0</td>\n",
       "      <td>0.0</td>\n",
       "      <td>0.0</td>\n",
       "      <td>0.0</td>\n",
       "      <td>0.0</td>\n",
       "      <td>2.0864</td>\n",
       "      <td>1.0</td>\n",
       "      <td>2.220446e-15</td>\n",
       "      <td>55.150624</td>\n",
       "      <td>0.0</td>\n",
       "      <td>0.0</td>\n",
       "      <td>2.0864</td>\n",
       "      <td>2.0864</td>\n",
       "      <td>0.0</td>\n",
       "      <td>0</td>\n",
       "      <td>None</td>\n",
       "      <td>None</td>\n",
       "      <td>None</td>\n",
       "      <td>54.712920</td>\n",
       "    </tr>\n",
       "    <tr>\n",
       "      <th>8759</th>\n",
       "      <td>1007</td>\n",
       "      <td>0.0</td>\n",
       "      <td>0.0</td>\n",
       "      <td>0.0</td>\n",
       "      <td>0.0</td>\n",
       "      <td>0.0</td>\n",
       "      <td>2.0914</td>\n",
       "      <td>1.0</td>\n",
       "      <td>0.000000e+00</td>\n",
       "      <td>52.491400</td>\n",
       "      <td>0.0</td>\n",
       "      <td>0.0</td>\n",
       "      <td>2.0914</td>\n",
       "      <td>2.0914</td>\n",
       "      <td>0.0</td>\n",
       "      <td>0</td>\n",
       "      <td>None</td>\n",
       "      <td>None</td>\n",
       "      <td>None</td>\n",
       "      <td>52.074802</td>\n",
       "    </tr>\n",
       "  </tbody>\n",
       "</table>\n",
       "<p>8760 rows × 20 columns</p>\n",
       "</div>"
      ],
      "text/plain": [
       "      id_simulacion  energia_PV  energia_Dg  bin_diesel  \\\n",
       "0              1007         0.0         0.0         0.0   \n",
       "1              1007         0.0         0.0         0.0   \n",
       "2              1007         0.0         0.0         0.0   \n",
       "3              1007         0.0         0.0         0.0   \n",
       "4              1007         0.0         0.0         0.0   \n",
       "...             ...         ...         ...         ...   \n",
       "8755           1007         0.0         0.0         0.0   \n",
       "8756           1007         0.0         0.0         0.0   \n",
       "8757           1007         0.0         0.0         0.0   \n",
       "8758           1007         0.0         0.0         0.0   \n",
       "8759           1007         0.0         0.0         0.0   \n",
       "\n",
       "      energia_carga_bateria  bin_bat_carga  energia_descarga_bateria  \\\n",
       "0                       0.0            0.0                    2.0423   \n",
       "1                       0.0            0.0                    2.0410   \n",
       "2                       0.0            0.0                    2.0433   \n",
       "3                       0.0            0.0                    2.0415   \n",
       "4                       0.0            0.0                    2.0671   \n",
       "...                     ...            ...                       ...   \n",
       "8755                    0.0            0.0                    3.6658   \n",
       "8756                    0.0            0.0                    2.1547   \n",
       "8757                    0.0            0.0                    2.0912   \n",
       "8758                    0.0            0.0                    2.0864   \n",
       "8759                    0.0            0.0                    2.0914   \n",
       "\n",
       "      bin_bat_descarga   energia_ENS  SOC(t)_bateria  p_bat_pv  p_bat_dg  \\\n",
       "0                  1.0  0.000000e+00       97.813571       0.0       0.0   \n",
       "1                  1.0  0.000000e+00       94.853297       0.0       0.0   \n",
       "2                  1.0  0.000000e+00       91.915172       0.0       0.0   \n",
       "3                  1.0  0.000000e+00       89.003329       0.0       0.0   \n",
       "4                  1.0  0.000000e+00       86.088707       0.0       0.0   \n",
       "...                ...           ...             ...       ...       ...   \n",
       "8755               1.0  0.000000e+00       63.324159       0.0       0.0   \n",
       "8756               1.0  0.000000e+00       60.530463       0.0       0.0   \n",
       "8757               1.0  0.000000e+00       57.826797       0.0       0.0   \n",
       "8758               1.0  2.220446e-15       55.150624       0.0       0.0   \n",
       "8759               1.0  0.000000e+00       52.491400       0.0       0.0   \n",
       "\n",
       "      suma_pv_dg_bat_descarga    load  recurso_pv_dis  recurso_diesel_dis  \\\n",
       "0                      2.0423  2.0423             0.0                   0   \n",
       "1                      2.0410  2.0410             0.0                   0   \n",
       "2                      2.0433  2.0433             0.0                   0   \n",
       "3                      2.0415  2.0415             0.0                   0   \n",
       "4                      2.0671  2.0671             0.0                   0   \n",
       "...                       ...     ...             ...                 ...   \n",
       "8755                   3.6658  3.6658             0.0                   0   \n",
       "8756                   2.1547  2.1547             0.0                   0   \n",
       "8757                   2.0912  2.0912             0.0                   0   \n",
       "8758                   2.0864  2.0864             0.0                   0   \n",
       "8759                   2.0914  2.0914             0.0                   0   \n",
       "\n",
       "     porcentaje_carga_dg porcentaje_energia_dg porcentaje_carga_bat_dg  \\\n",
       "0                   None                  None                    None   \n",
       "1                   None                  None                    None   \n",
       "2                   None                  None                    None   \n",
       "3                   None                  None                    None   \n",
       "4                   None                  None                    None   \n",
       "...                  ...                   ...                     ...   \n",
       "8755                None                  None                    None   \n",
       "8756                None                  None                    None   \n",
       "8757                None                  None                    None   \n",
       "8758                None                  None                    None   \n",
       "8759                None                  None                    None   \n",
       "\n",
       "      porcentaje_SOC_t  \n",
       "0            97.037272  \n",
       "1            94.100493  \n",
       "2            91.185687  \n",
       "3            88.296953  \n",
       "4            85.405463  \n",
       "...                ...  \n",
       "8755         62.821586  \n",
       "8756         60.050062  \n",
       "8757         57.367854  \n",
       "8758         54.712920  \n",
       "8759         52.074802  \n",
       "\n",
       "[8760 rows x 20 columns]"
      ]
     },
     "execution_count": 131,
     "metadata": {},
     "output_type": "execute_result"
    }
   ],
   "source": [
    "tabla_resultados"
   ]
  },
  {
   "cell_type": "code",
   "execution_count": 132,
   "metadata": {
    "ExecuteTime": {
     "end_time": "2021-06-30T04:36:21.954237Z",
     "start_time": "2021-06-30T04:36:21.158751Z"
    }
   },
   "outputs": [
    {
     "data": {
      "application/vnd.plotly.v1+json": {
       "config": {
        "plotlyServerURL": "https://plot.ly"
       },
       "data": [
        {
         "hole": 0.4,
         "labels": [
          "PV Energy",
          "PENS Energy",
          "Diesel Energy",
          "Battery Bank Energy"
         ],
         "marker": {
          "colors": [
           "orange",
           "firebrick",
           "seagreen",
           "royalBlue"
          ]
         },
         "pull": [
          0,
          0.2,
          0,
          0
         ],
         "textinfo": "label+percent",
         "textposition": "outside",
         "type": "pie",
         "values": [
          22927.6,
          1821.2,
          0,
          11718.1
         ]
        }
       ],
       "layout": {
        "font": {
         "color": "black",
         "family": "Times New Roman",
         "size": 24
        },
        "height": 600,
        "legend": {
         "font": {
          "size": 24
         },
         "orientation": "h",
         "x": 1,
         "xanchor": "right",
         "y": 1.02,
         "yanchor": "bottom"
        },
        "margin": {
         "b": 5,
         "l": 1,
         "r": 5,
         "t": 5
        },
        "showlegend": false,
        "template": {
         "data": {
          "bar": [
           {
            "error_x": {
             "color": "#2a3f5f"
            },
            "error_y": {
             "color": "#2a3f5f"
            },
            "marker": {
             "line": {
              "color": "#E5ECF6",
              "width": 0.5
             }
            },
            "type": "bar"
           }
          ],
          "barpolar": [
           {
            "marker": {
             "line": {
              "color": "#E5ECF6",
              "width": 0.5
             }
            },
            "type": "barpolar"
           }
          ],
          "carpet": [
           {
            "aaxis": {
             "endlinecolor": "#2a3f5f",
             "gridcolor": "white",
             "linecolor": "white",
             "minorgridcolor": "white",
             "startlinecolor": "#2a3f5f"
            },
            "baxis": {
             "endlinecolor": "#2a3f5f",
             "gridcolor": "white",
             "linecolor": "white",
             "minorgridcolor": "white",
             "startlinecolor": "#2a3f5f"
            },
            "type": "carpet"
           }
          ],
          "choropleth": [
           {
            "colorbar": {
             "outlinewidth": 0,
             "ticks": ""
            },
            "type": "choropleth"
           }
          ],
          "contour": [
           {
            "colorbar": {
             "outlinewidth": 0,
             "ticks": ""
            },
            "colorscale": [
             [
              0,
              "#0d0887"
             ],
             [
              0.1111111111111111,
              "#46039f"
             ],
             [
              0.2222222222222222,
              "#7201a8"
             ],
             [
              0.3333333333333333,
              "#9c179e"
             ],
             [
              0.4444444444444444,
              "#bd3786"
             ],
             [
              0.5555555555555556,
              "#d8576b"
             ],
             [
              0.6666666666666666,
              "#ed7953"
             ],
             [
              0.7777777777777778,
              "#fb9f3a"
             ],
             [
              0.8888888888888888,
              "#fdca26"
             ],
             [
              1,
              "#f0f921"
             ]
            ],
            "type": "contour"
           }
          ],
          "contourcarpet": [
           {
            "colorbar": {
             "outlinewidth": 0,
             "ticks": ""
            },
            "type": "contourcarpet"
           }
          ],
          "heatmap": [
           {
            "colorbar": {
             "outlinewidth": 0,
             "ticks": ""
            },
            "colorscale": [
             [
              0,
              "#0d0887"
             ],
             [
              0.1111111111111111,
              "#46039f"
             ],
             [
              0.2222222222222222,
              "#7201a8"
             ],
             [
              0.3333333333333333,
              "#9c179e"
             ],
             [
              0.4444444444444444,
              "#bd3786"
             ],
             [
              0.5555555555555556,
              "#d8576b"
             ],
             [
              0.6666666666666666,
              "#ed7953"
             ],
             [
              0.7777777777777778,
              "#fb9f3a"
             ],
             [
              0.8888888888888888,
              "#fdca26"
             ],
             [
              1,
              "#f0f921"
             ]
            ],
            "type": "heatmap"
           }
          ],
          "heatmapgl": [
           {
            "colorbar": {
             "outlinewidth": 0,
             "ticks": ""
            },
            "colorscale": [
             [
              0,
              "#0d0887"
             ],
             [
              0.1111111111111111,
              "#46039f"
             ],
             [
              0.2222222222222222,
              "#7201a8"
             ],
             [
              0.3333333333333333,
              "#9c179e"
             ],
             [
              0.4444444444444444,
              "#bd3786"
             ],
             [
              0.5555555555555556,
              "#d8576b"
             ],
             [
              0.6666666666666666,
              "#ed7953"
             ],
             [
              0.7777777777777778,
              "#fb9f3a"
             ],
             [
              0.8888888888888888,
              "#fdca26"
             ],
             [
              1,
              "#f0f921"
             ]
            ],
            "type": "heatmapgl"
           }
          ],
          "histogram": [
           {
            "marker": {
             "colorbar": {
              "outlinewidth": 0,
              "ticks": ""
             }
            },
            "type": "histogram"
           }
          ],
          "histogram2d": [
           {
            "colorbar": {
             "outlinewidth": 0,
             "ticks": ""
            },
            "colorscale": [
             [
              0,
              "#0d0887"
             ],
             [
              0.1111111111111111,
              "#46039f"
             ],
             [
              0.2222222222222222,
              "#7201a8"
             ],
             [
              0.3333333333333333,
              "#9c179e"
             ],
             [
              0.4444444444444444,
              "#bd3786"
             ],
             [
              0.5555555555555556,
              "#d8576b"
             ],
             [
              0.6666666666666666,
              "#ed7953"
             ],
             [
              0.7777777777777778,
              "#fb9f3a"
             ],
             [
              0.8888888888888888,
              "#fdca26"
             ],
             [
              1,
              "#f0f921"
             ]
            ],
            "type": "histogram2d"
           }
          ],
          "histogram2dcontour": [
           {
            "colorbar": {
             "outlinewidth": 0,
             "ticks": ""
            },
            "colorscale": [
             [
              0,
              "#0d0887"
             ],
             [
              0.1111111111111111,
              "#46039f"
             ],
             [
              0.2222222222222222,
              "#7201a8"
             ],
             [
              0.3333333333333333,
              "#9c179e"
             ],
             [
              0.4444444444444444,
              "#bd3786"
             ],
             [
              0.5555555555555556,
              "#d8576b"
             ],
             [
              0.6666666666666666,
              "#ed7953"
             ],
             [
              0.7777777777777778,
              "#fb9f3a"
             ],
             [
              0.8888888888888888,
              "#fdca26"
             ],
             [
              1,
              "#f0f921"
             ]
            ],
            "type": "histogram2dcontour"
           }
          ],
          "mesh3d": [
           {
            "colorbar": {
             "outlinewidth": 0,
             "ticks": ""
            },
            "type": "mesh3d"
           }
          ],
          "parcoords": [
           {
            "line": {
             "colorbar": {
              "outlinewidth": 0,
              "ticks": ""
             }
            },
            "type": "parcoords"
           }
          ],
          "pie": [
           {
            "automargin": true,
            "type": "pie"
           }
          ],
          "scatter": [
           {
            "marker": {
             "colorbar": {
              "outlinewidth": 0,
              "ticks": ""
             }
            },
            "type": "scatter"
           }
          ],
          "scatter3d": [
           {
            "line": {
             "colorbar": {
              "outlinewidth": 0,
              "ticks": ""
             }
            },
            "marker": {
             "colorbar": {
              "outlinewidth": 0,
              "ticks": ""
             }
            },
            "type": "scatter3d"
           }
          ],
          "scattercarpet": [
           {
            "marker": {
             "colorbar": {
              "outlinewidth": 0,
              "ticks": ""
             }
            },
            "type": "scattercarpet"
           }
          ],
          "scattergeo": [
           {
            "marker": {
             "colorbar": {
              "outlinewidth": 0,
              "ticks": ""
             }
            },
            "type": "scattergeo"
           }
          ],
          "scattergl": [
           {
            "marker": {
             "colorbar": {
              "outlinewidth": 0,
              "ticks": ""
             }
            },
            "type": "scattergl"
           }
          ],
          "scattermapbox": [
           {
            "marker": {
             "colorbar": {
              "outlinewidth": 0,
              "ticks": ""
             }
            },
            "type": "scattermapbox"
           }
          ],
          "scatterpolar": [
           {
            "marker": {
             "colorbar": {
              "outlinewidth": 0,
              "ticks": ""
             }
            },
            "type": "scatterpolar"
           }
          ],
          "scatterpolargl": [
           {
            "marker": {
             "colorbar": {
              "outlinewidth": 0,
              "ticks": ""
             }
            },
            "type": "scatterpolargl"
           }
          ],
          "scatterternary": [
           {
            "marker": {
             "colorbar": {
              "outlinewidth": 0,
              "ticks": ""
             }
            },
            "type": "scatterternary"
           }
          ],
          "surface": [
           {
            "colorbar": {
             "outlinewidth": 0,
             "ticks": ""
            },
            "colorscale": [
             [
              0,
              "#0d0887"
             ],
             [
              0.1111111111111111,
              "#46039f"
             ],
             [
              0.2222222222222222,
              "#7201a8"
             ],
             [
              0.3333333333333333,
              "#9c179e"
             ],
             [
              0.4444444444444444,
              "#bd3786"
             ],
             [
              0.5555555555555556,
              "#d8576b"
             ],
             [
              0.6666666666666666,
              "#ed7953"
             ],
             [
              0.7777777777777778,
              "#fb9f3a"
             ],
             [
              0.8888888888888888,
              "#fdca26"
             ],
             [
              1,
              "#f0f921"
             ]
            ],
            "type": "surface"
           }
          ],
          "table": [
           {
            "cells": {
             "fill": {
              "color": "#EBF0F8"
             },
             "line": {
              "color": "white"
             }
            },
            "header": {
             "fill": {
              "color": "#C8D4E3"
             },
             "line": {
              "color": "white"
             }
            },
            "type": "table"
           }
          ]
         },
         "layout": {
          "annotationdefaults": {
           "arrowcolor": "#2a3f5f",
           "arrowhead": 0,
           "arrowwidth": 1
          },
          "autotypenumbers": "strict",
          "coloraxis": {
           "colorbar": {
            "outlinewidth": 0,
            "ticks": ""
           }
          },
          "colorscale": {
           "diverging": [
            [
             0,
             "#8e0152"
            ],
            [
             0.1,
             "#c51b7d"
            ],
            [
             0.2,
             "#de77ae"
            ],
            [
             0.3,
             "#f1b6da"
            ],
            [
             0.4,
             "#fde0ef"
            ],
            [
             0.5,
             "#f7f7f7"
            ],
            [
             0.6,
             "#e6f5d0"
            ],
            [
             0.7,
             "#b8e186"
            ],
            [
             0.8,
             "#7fbc41"
            ],
            [
             0.9,
             "#4d9221"
            ],
            [
             1,
             "#276419"
            ]
           ],
           "sequential": [
            [
             0,
             "#0d0887"
            ],
            [
             0.1111111111111111,
             "#46039f"
            ],
            [
             0.2222222222222222,
             "#7201a8"
            ],
            [
             0.3333333333333333,
             "#9c179e"
            ],
            [
             0.4444444444444444,
             "#bd3786"
            ],
            [
             0.5555555555555556,
             "#d8576b"
            ],
            [
             0.6666666666666666,
             "#ed7953"
            ],
            [
             0.7777777777777778,
             "#fb9f3a"
            ],
            [
             0.8888888888888888,
             "#fdca26"
            ],
            [
             1,
             "#f0f921"
            ]
           ],
           "sequentialminus": [
            [
             0,
             "#0d0887"
            ],
            [
             0.1111111111111111,
             "#46039f"
            ],
            [
             0.2222222222222222,
             "#7201a8"
            ],
            [
             0.3333333333333333,
             "#9c179e"
            ],
            [
             0.4444444444444444,
             "#bd3786"
            ],
            [
             0.5555555555555556,
             "#d8576b"
            ],
            [
             0.6666666666666666,
             "#ed7953"
            ],
            [
             0.7777777777777778,
             "#fb9f3a"
            ],
            [
             0.8888888888888888,
             "#fdca26"
            ],
            [
             1,
             "#f0f921"
            ]
           ]
          },
          "colorway": [
           "#636efa",
           "#EF553B",
           "#00cc96",
           "#ab63fa",
           "#FFA15A",
           "#19d3f3",
           "#FF6692",
           "#B6E880",
           "#FF97FF",
           "#FECB52"
          ],
          "font": {
           "color": "#2a3f5f"
          },
          "geo": {
           "bgcolor": "white",
           "lakecolor": "white",
           "landcolor": "#E5ECF6",
           "showlakes": true,
           "showland": true,
           "subunitcolor": "white"
          },
          "hoverlabel": {
           "align": "left"
          },
          "hovermode": "closest",
          "mapbox": {
           "style": "light"
          },
          "paper_bgcolor": "white",
          "plot_bgcolor": "#E5ECF6",
          "polar": {
           "angularaxis": {
            "gridcolor": "white",
            "linecolor": "white",
            "ticks": ""
           },
           "bgcolor": "#E5ECF6",
           "radialaxis": {
            "gridcolor": "white",
            "linecolor": "white",
            "ticks": ""
           }
          },
          "scene": {
           "xaxis": {
            "backgroundcolor": "#E5ECF6",
            "gridcolor": "white",
            "gridwidth": 2,
            "linecolor": "white",
            "showbackground": true,
            "ticks": "",
            "zerolinecolor": "white"
           },
           "yaxis": {
            "backgroundcolor": "#E5ECF6",
            "gridcolor": "white",
            "gridwidth": 2,
            "linecolor": "white",
            "showbackground": true,
            "ticks": "",
            "zerolinecolor": "white"
           },
           "zaxis": {
            "backgroundcolor": "#E5ECF6",
            "gridcolor": "white",
            "gridwidth": 2,
            "linecolor": "white",
            "showbackground": true,
            "ticks": "",
            "zerolinecolor": "white"
           }
          },
          "shapedefaults": {
           "line": {
            "color": "#2a3f5f"
           }
          },
          "ternary": {
           "aaxis": {
            "gridcolor": "white",
            "linecolor": "white",
            "ticks": ""
           },
           "baxis": {
            "gridcolor": "white",
            "linecolor": "white",
            "ticks": ""
           },
           "bgcolor": "#E5ECF6",
           "caxis": {
            "gridcolor": "white",
            "linecolor": "white",
            "ticks": ""
           }
          },
          "title": {
           "x": 0.05
          },
          "xaxis": {
           "automargin": true,
           "gridcolor": "white",
           "linecolor": "white",
           "ticks": "",
           "title": {
            "standoff": 15
           },
           "zerolinecolor": "white",
           "zerolinewidth": 2
          },
          "yaxis": {
           "automargin": true,
           "gridcolor": "white",
           "linecolor": "white",
           "ticks": "",
           "title": {
            "standoff": 15
           },
           "zerolinecolor": "white",
           "zerolinewidth": 2
          }
         }
        },
        "title": {
         "font": {
          "family": "Times New Roman"
         }
        },
        "width": 800,
        "xaxis": {
         "linecolor": "black",
         "showline": true,
         "title": {
          "text": "Time (hour)"
         }
        },
        "yaxis": {
         "linecolor": "black",
         "showline": true,
         "title": {
          "text": "Energy Supply Load (kWh)"
         }
        }
       }
      },
      "text/html": [
       "<div>                            <div id=\"70865b76-fb5f-41e9-abe0-bd2d7fd26036\" class=\"plotly-graph-div\" style=\"height:600px; width:800px;\"></div>            <script type=\"text/javascript\">                require([\"plotly\"], function(Plotly) {                    window.PLOTLYENV=window.PLOTLYENV || {};                                    if (document.getElementById(\"70865b76-fb5f-41e9-abe0-bd2d7fd26036\")) {                    Plotly.newPlot(                        \"70865b76-fb5f-41e9-abe0-bd2d7fd26036\",                        [{\"hole\": 0.4, \"labels\": [\"PV Energy\", \"PENS Energy\", \"Diesel Energy\", \"Battery Bank Energy\"], \"marker\": {\"colors\": [\"orange\", \"firebrick\", \"seagreen\", \"royalBlue\"]}, \"pull\": [0, 0.2, 0, 0], \"textinfo\": \"label+percent\", \"textposition\": \"outside\", \"type\": \"pie\", \"values\": [22927.6, 1821.2, 0.0, 11718.1]}],                        {\"font\": {\"color\": \"black\", \"family\": \"Times New Roman\", \"size\": 24}, \"height\": 600, \"legend\": {\"font\": {\"size\": 24}, \"orientation\": \"h\", \"x\": 1, \"xanchor\": \"right\", \"y\": 1.02, \"yanchor\": \"bottom\"}, \"margin\": {\"b\": 5, \"l\": 1, \"r\": 5, \"t\": 5}, \"showlegend\": false, \"template\": {\"data\": {\"bar\": [{\"error_x\": {\"color\": \"#2a3f5f\"}, \"error_y\": {\"color\": \"#2a3f5f\"}, \"marker\": {\"line\": {\"color\": \"#E5ECF6\", \"width\": 0.5}}, \"type\": \"bar\"}], \"barpolar\": [{\"marker\": {\"line\": {\"color\": \"#E5ECF6\", \"width\": 0.5}}, \"type\": \"barpolar\"}], \"carpet\": [{\"aaxis\": {\"endlinecolor\": \"#2a3f5f\", \"gridcolor\": \"white\", \"linecolor\": \"white\", \"minorgridcolor\": \"white\", \"startlinecolor\": \"#2a3f5f\"}, \"baxis\": {\"endlinecolor\": \"#2a3f5f\", \"gridcolor\": \"white\", \"linecolor\": \"white\", \"minorgridcolor\": \"white\", \"startlinecolor\": \"#2a3f5f\"}, \"type\": \"carpet\"}], \"choropleth\": [{\"colorbar\": {\"outlinewidth\": 0, \"ticks\": \"\"}, \"type\": \"choropleth\"}], \"contour\": [{\"colorbar\": {\"outlinewidth\": 0, \"ticks\": \"\"}, \"colorscale\": [[0.0, \"#0d0887\"], [0.1111111111111111, \"#46039f\"], [0.2222222222222222, \"#7201a8\"], [0.3333333333333333, \"#9c179e\"], [0.4444444444444444, \"#bd3786\"], [0.5555555555555556, \"#d8576b\"], [0.6666666666666666, \"#ed7953\"], [0.7777777777777778, \"#fb9f3a\"], [0.8888888888888888, \"#fdca26\"], [1.0, \"#f0f921\"]], \"type\": \"contour\"}], \"contourcarpet\": [{\"colorbar\": {\"outlinewidth\": 0, \"ticks\": \"\"}, \"type\": \"contourcarpet\"}], \"heatmap\": [{\"colorbar\": {\"outlinewidth\": 0, \"ticks\": \"\"}, \"colorscale\": [[0.0, \"#0d0887\"], [0.1111111111111111, \"#46039f\"], [0.2222222222222222, \"#7201a8\"], [0.3333333333333333, \"#9c179e\"], [0.4444444444444444, \"#bd3786\"], [0.5555555555555556, \"#d8576b\"], [0.6666666666666666, \"#ed7953\"], [0.7777777777777778, \"#fb9f3a\"], [0.8888888888888888, \"#fdca26\"], [1.0, \"#f0f921\"]], \"type\": \"heatmap\"}], \"heatmapgl\": [{\"colorbar\": {\"outlinewidth\": 0, \"ticks\": \"\"}, \"colorscale\": [[0.0, \"#0d0887\"], [0.1111111111111111, \"#46039f\"], [0.2222222222222222, \"#7201a8\"], [0.3333333333333333, \"#9c179e\"], [0.4444444444444444, \"#bd3786\"], [0.5555555555555556, \"#d8576b\"], [0.6666666666666666, \"#ed7953\"], [0.7777777777777778, \"#fb9f3a\"], [0.8888888888888888, \"#fdca26\"], [1.0, \"#f0f921\"]], \"type\": \"heatmapgl\"}], \"histogram\": [{\"marker\": {\"colorbar\": {\"outlinewidth\": 0, \"ticks\": \"\"}}, \"type\": \"histogram\"}], \"histogram2d\": [{\"colorbar\": {\"outlinewidth\": 0, \"ticks\": \"\"}, \"colorscale\": [[0.0, \"#0d0887\"], [0.1111111111111111, \"#46039f\"], [0.2222222222222222, \"#7201a8\"], [0.3333333333333333, \"#9c179e\"], [0.4444444444444444, \"#bd3786\"], [0.5555555555555556, \"#d8576b\"], [0.6666666666666666, \"#ed7953\"], [0.7777777777777778, \"#fb9f3a\"], [0.8888888888888888, \"#fdca26\"], [1.0, \"#f0f921\"]], \"type\": \"histogram2d\"}], \"histogram2dcontour\": [{\"colorbar\": {\"outlinewidth\": 0, \"ticks\": \"\"}, \"colorscale\": [[0.0, \"#0d0887\"], [0.1111111111111111, \"#46039f\"], [0.2222222222222222, \"#7201a8\"], [0.3333333333333333, \"#9c179e\"], [0.4444444444444444, \"#bd3786\"], [0.5555555555555556, \"#d8576b\"], [0.6666666666666666, \"#ed7953\"], [0.7777777777777778, \"#fb9f3a\"], [0.8888888888888888, \"#fdca26\"], [1.0, \"#f0f921\"]], \"type\": \"histogram2dcontour\"}], \"mesh3d\": [{\"colorbar\": {\"outlinewidth\": 0, \"ticks\": \"\"}, \"type\": \"mesh3d\"}], \"parcoords\": [{\"line\": {\"colorbar\": {\"outlinewidth\": 0, \"ticks\": \"\"}}, \"type\": \"parcoords\"}], \"pie\": [{\"automargin\": true, \"type\": \"pie\"}], \"scatter\": [{\"marker\": {\"colorbar\": {\"outlinewidth\": 0, \"ticks\": \"\"}}, \"type\": \"scatter\"}], \"scatter3d\": [{\"line\": {\"colorbar\": {\"outlinewidth\": 0, \"ticks\": \"\"}}, \"marker\": {\"colorbar\": {\"outlinewidth\": 0, \"ticks\": \"\"}}, \"type\": \"scatter3d\"}], \"scattercarpet\": [{\"marker\": {\"colorbar\": {\"outlinewidth\": 0, \"ticks\": \"\"}}, \"type\": \"scattercarpet\"}], \"scattergeo\": [{\"marker\": {\"colorbar\": {\"outlinewidth\": 0, \"ticks\": \"\"}}, \"type\": \"scattergeo\"}], \"scattergl\": [{\"marker\": {\"colorbar\": {\"outlinewidth\": 0, \"ticks\": \"\"}}, \"type\": \"scattergl\"}], \"scattermapbox\": [{\"marker\": {\"colorbar\": {\"outlinewidth\": 0, \"ticks\": \"\"}}, \"type\": \"scattermapbox\"}], \"scatterpolar\": [{\"marker\": {\"colorbar\": {\"outlinewidth\": 0, \"ticks\": \"\"}}, \"type\": \"scatterpolar\"}], \"scatterpolargl\": [{\"marker\": {\"colorbar\": {\"outlinewidth\": 0, \"ticks\": \"\"}}, \"type\": \"scatterpolargl\"}], \"scatterternary\": [{\"marker\": {\"colorbar\": {\"outlinewidth\": 0, \"ticks\": \"\"}}, \"type\": \"scatterternary\"}], \"surface\": [{\"colorbar\": {\"outlinewidth\": 0, \"ticks\": \"\"}, \"colorscale\": [[0.0, \"#0d0887\"], [0.1111111111111111, \"#46039f\"], [0.2222222222222222, \"#7201a8\"], [0.3333333333333333, \"#9c179e\"], [0.4444444444444444, \"#bd3786\"], [0.5555555555555556, \"#d8576b\"], [0.6666666666666666, \"#ed7953\"], [0.7777777777777778, \"#fb9f3a\"], [0.8888888888888888, \"#fdca26\"], [1.0, \"#f0f921\"]], \"type\": \"surface\"}], \"table\": [{\"cells\": {\"fill\": {\"color\": \"#EBF0F8\"}, \"line\": {\"color\": \"white\"}}, \"header\": {\"fill\": {\"color\": \"#C8D4E3\"}, \"line\": {\"color\": \"white\"}}, \"type\": \"table\"}]}, \"layout\": {\"annotationdefaults\": {\"arrowcolor\": \"#2a3f5f\", \"arrowhead\": 0, \"arrowwidth\": 1}, \"autotypenumbers\": \"strict\", \"coloraxis\": {\"colorbar\": {\"outlinewidth\": 0, \"ticks\": \"\"}}, \"colorscale\": {\"diverging\": [[0, \"#8e0152\"], [0.1, \"#c51b7d\"], [0.2, \"#de77ae\"], [0.3, \"#f1b6da\"], [0.4, \"#fde0ef\"], [0.5, \"#f7f7f7\"], [0.6, \"#e6f5d0\"], [0.7, \"#b8e186\"], [0.8, \"#7fbc41\"], [0.9, \"#4d9221\"], [1, \"#276419\"]], \"sequential\": [[0.0, \"#0d0887\"], [0.1111111111111111, \"#46039f\"], [0.2222222222222222, \"#7201a8\"], [0.3333333333333333, \"#9c179e\"], [0.4444444444444444, \"#bd3786\"], [0.5555555555555556, \"#d8576b\"], [0.6666666666666666, \"#ed7953\"], [0.7777777777777778, \"#fb9f3a\"], [0.8888888888888888, \"#fdca26\"], [1.0, \"#f0f921\"]], \"sequentialminus\": [[0.0, \"#0d0887\"], [0.1111111111111111, \"#46039f\"], [0.2222222222222222, \"#7201a8\"], [0.3333333333333333, \"#9c179e\"], [0.4444444444444444, \"#bd3786\"], [0.5555555555555556, \"#d8576b\"], [0.6666666666666666, \"#ed7953\"], [0.7777777777777778, \"#fb9f3a\"], [0.8888888888888888, \"#fdca26\"], [1.0, \"#f0f921\"]]}, \"colorway\": [\"#636efa\", \"#EF553B\", \"#00cc96\", \"#ab63fa\", \"#FFA15A\", \"#19d3f3\", \"#FF6692\", \"#B6E880\", \"#FF97FF\", \"#FECB52\"], \"font\": {\"color\": \"#2a3f5f\"}, \"geo\": {\"bgcolor\": \"white\", \"lakecolor\": \"white\", \"landcolor\": \"#E5ECF6\", \"showlakes\": true, \"showland\": true, \"subunitcolor\": \"white\"}, \"hoverlabel\": {\"align\": \"left\"}, \"hovermode\": \"closest\", \"mapbox\": {\"style\": \"light\"}, \"paper_bgcolor\": \"white\", \"plot_bgcolor\": \"#E5ECF6\", \"polar\": {\"angularaxis\": {\"gridcolor\": \"white\", \"linecolor\": \"white\", \"ticks\": \"\"}, \"bgcolor\": \"#E5ECF6\", \"radialaxis\": {\"gridcolor\": \"white\", \"linecolor\": \"white\", \"ticks\": \"\"}}, \"scene\": {\"xaxis\": {\"backgroundcolor\": \"#E5ECF6\", \"gridcolor\": \"white\", \"gridwidth\": 2, \"linecolor\": \"white\", \"showbackground\": true, \"ticks\": \"\", \"zerolinecolor\": \"white\"}, \"yaxis\": {\"backgroundcolor\": \"#E5ECF6\", \"gridcolor\": \"white\", \"gridwidth\": 2, \"linecolor\": \"white\", \"showbackground\": true, \"ticks\": \"\", \"zerolinecolor\": \"white\"}, \"zaxis\": {\"backgroundcolor\": \"#E5ECF6\", \"gridcolor\": \"white\", \"gridwidth\": 2, \"linecolor\": \"white\", \"showbackground\": true, \"ticks\": \"\", \"zerolinecolor\": \"white\"}}, \"shapedefaults\": {\"line\": {\"color\": \"#2a3f5f\"}}, \"ternary\": {\"aaxis\": {\"gridcolor\": \"white\", \"linecolor\": \"white\", \"ticks\": \"\"}, \"baxis\": {\"gridcolor\": \"white\", \"linecolor\": \"white\", \"ticks\": \"\"}, \"bgcolor\": \"#E5ECF6\", \"caxis\": {\"gridcolor\": \"white\", \"linecolor\": \"white\", \"ticks\": \"\"}}, \"title\": {\"x\": 0.05}, \"xaxis\": {\"automargin\": true, \"gridcolor\": \"white\", \"linecolor\": \"white\", \"ticks\": \"\", \"title\": {\"standoff\": 15}, \"zerolinecolor\": \"white\", \"zerolinewidth\": 2}, \"yaxis\": {\"automargin\": true, \"gridcolor\": \"white\", \"linecolor\": \"white\", \"ticks\": \"\", \"title\": {\"standoff\": 15}, \"zerolinecolor\": \"white\", \"zerolinewidth\": 2}}}, \"title\": {\"font\": {\"family\": \"Times New Roman\"}}, \"width\": 800, \"xaxis\": {\"linecolor\": \"black\", \"showline\": true, \"title\": {\"text\": \"Time (hour)\"}}, \"yaxis\": {\"linecolor\": \"black\", \"showline\": true, \"title\": {\"text\": \"Energy Supply Load (kWh)\"}}},                        {\"responsive\": true}                    ).then(function(){\n",
       "                            \n",
       "var gd = document.getElementById('70865b76-fb5f-41e9-abe0-bd2d7fd26036');\n",
       "var x = new MutationObserver(function (mutations, observer) {{\n",
       "        var display = window.getComputedStyle(gd).display;\n",
       "        if (!display || display === 'none') {{\n",
       "            console.log([gd, 'removed!']);\n",
       "            Plotly.purge(gd);\n",
       "            observer.disconnect();\n",
       "        }}\n",
       "}});\n",
       "\n",
       "// Listen for the removal of the full notebook cells\n",
       "var notebookContainer = gd.closest('#notebook-container');\n",
       "if (notebookContainer) {{\n",
       "    x.observe(notebookContainer, {childList: true});\n",
       "}}\n",
       "\n",
       "// Listen for the clearing of the current output cell\n",
       "var outputEl = gd.closest('.output');\n",
       "if (outputEl) {{\n",
       "    x.observe(outputEl, {childList: true});\n",
       "}}\n",
       "\n",
       "                        })                };                });            </script>        </div>"
      ]
     },
     "metadata": {},
     "output_type": "display_data"
    }
   ],
   "source": [
    "labels = ['PV Energy','PENS Energy','Diesel Energy', 'Battery Bank Energy']\n",
    "values = [round(tabla_resultados['energia_PV'].sum(),1), \n",
    "          round(tabla_resultados['energia_ENS'].sum(),1),\n",
    "          round(tabla_resultados['energia_Dg'].sum(),1),           \n",
    "          round(tabla_resultados['energia_descarga_bateria'].sum(),1)]\n",
    "\n",
    "colors = ['orange', 'firebrick', 'seagreen', 'royalBlue']\n",
    "\n",
    "fig = go.Figure(data=[go.Pie(labels=labels, values=values)])\n",
    "\n",
    "fig = go.Figure(data=[go.Pie(labels=labels, values=values, textinfo='label+percent',textposition='outside', pull=[0, 0.2,0, 0], hole = .4,\n",
    "                             #title = 'Supply Load'\n",
    "                           )])\n",
    "\n",
    "\n",
    "\n",
    "fig.update_xaxes(title_text='Time (hour)')\n",
    "fig.update_yaxes(title_text='Energy Supply Load (kWh)')\n",
    "fig.update_xaxes(showline=True, linecolor='black')\n",
    "fig.layout.update(showlegend=False, width=800, height=600) \n",
    "fig.update_yaxes(showline=True, linecolor='black')\n",
    "\n",
    "\n",
    "fig.update_layout(\n",
    "    margin=dict(l=1, r=5, t=5, b=5),\n",
    "    \n",
    "    font_family=\"Times New Roman\",\n",
    "    title_font_family=\"Times New Roman\",\n",
    "    font_size=24\n",
    "    ,\n",
    "    font_color=\"black\",\n",
    "        legend=dict(\n",
    "    orientation=\"h\",\n",
    "    yanchor=\"bottom\",\n",
    "    y=1.02,\n",
    "    xanchor=\"right\",\n",
    "    x=1,\n",
    "        font_size=24)\n",
    "\n",
    ")\n",
    "\n",
    "fig.update_traces(  marker=dict(colors=colors))\n",
    "fig.write_image(os.getcwd()+os.sep+\"graficos_articulo\"+os.sep+\"energy_supply_load_pv_bat.eps\")\n",
    "fig.show()"
   ]
  },
  {
   "cell_type": "code",
   "execution_count": 133,
   "metadata": {
    "ExecuteTime": {
     "end_time": "2021-06-30T04:36:22.903399Z",
     "start_time": "2021-06-30T04:36:22.872140Z"
    }
   },
   "outputs": [],
   "source": [
    "def graficar(tipo, lista_campos, titulo,df):\n",
    "    if tipo == 'bar':\n",
    "        fig = px.bar(df,\n",
    "                     y=lista_campos,\n",
    "                     \n",
    "                     template=\"xgridoff\",\n",
    "                     title=titulo,\n",
    "              width=520,\n",
    "              height=400)\n",
    "    elif tipo == 'linea':\n",
    "        fig = px.line(df,\n",
    "                      y=lista_campos,\n",
    "                      x='hour',\n",
    "                      template=\"xgridoff\",\n",
    "                      title=titulo,\n",
    "                      category_orders={\"State\": lista_campos},\n",
    "              width=520,\n",
    "              height=400)\n",
    "    fig.update_yaxes(nticks=10)\n",
    "    fig.update_xaxes(nticks=15)\n",
    "    fig.update_xaxes(title_text='Time (hour)')\n",
    "    fig.update_yaxes(title_text='Energy [kWh]')\n",
    "    fig.update_yaxes(showline=True, linecolor='black')\n",
    "    fig.update_xaxes(showline=False, linecolor='black')\n",
    "    if 'SOC(t)_bateria' in lista_campos or 'SoC(t)' in lista_campos:\n",
    "        fig.add_shape(  # add a horizontal \"target\" line\n",
    "            type=\"line\",\n",
    "            line_color=\"gray\",\n",
    "            line_width=2,\n",
    "            opacity=1,\n",
    "            line_dash=\"dot\",\n",
    "            x0=0,\n",
    "            x1=1,\n",
    "            xref=\"paper\",\n",
    "            y0=parametros['p_bat']*0.5,\n",
    "            y1=parametros['p_bat']*0.5,\n",
    "            yref=\"y\")\n",
    "        fig.add_shape(  # add a horizontal \"target\" line\n",
    "            type=\"line\",\n",
    "            line_color=\"gray\",\n",
    "            line_width=2,\n",
    "            opacity=1,\n",
    "            line_dash=\"dot\",\n",
    "            x0=0,\n",
    "            x1=1,\n",
    "            xref=\"paper\",\n",
    "            y0=parametros['p_bat'],\n",
    "            y1=parametros['p_bat'],\n",
    "            yref=\"y\")\n",
    "    fig.update_layout(\n",
    "    font_family=\"Times New Roman\",\n",
    "    title_font_family=\"Times New Roman\",\n",
    "    font_size=14\n",
    "    ,\n",
    "    font_color=\"black\",\n",
    "        legend=dict(\n",
    "    orientation=\"h\",\n",
    "    yanchor=\"bottom\",\n",
    "    y=1.02,\n",
    "    xanchor=\"right\",\n",
    "    x=1,\n",
    "        font_size=14)\n",
    "\n",
    ")\n",
    "\n",
    "    fig.write_image(os.getcwd()+os.sep+\"graficos_articulo\"+os.sep+\"graficos%s.eps\"%(lista_campos[0]+tipo))\n",
    "    fig.show()\n",
    "\n"
   ]
  },
  {
   "cell_type": "code",
   "execution_count": 134,
   "metadata": {
    "ExecuteTime": {
     "end_time": "2021-06-30T04:36:29.629891Z",
     "start_time": "2021-06-30T04:36:29.530627Z"
    }
   },
   "outputs": [
    {
     "data": {
      "text/html": [
       "<div>\n",
       "<style scoped>\n",
       "    .dataframe tbody tr th:only-of-type {\n",
       "        vertical-align: middle;\n",
       "    }\n",
       "\n",
       "    .dataframe tbody tr th {\n",
       "        vertical-align: top;\n",
       "    }\n",
       "\n",
       "    .dataframe thead th {\n",
       "        text-align: right;\n",
       "    }\n",
       "</style>\n",
       "<table border=\"1\" class=\"dataframe\">\n",
       "  <thead>\n",
       "    <tr style=\"text-align: right;\">\n",
       "      <th></th>\n",
       "      <th>id_simulacion</th>\n",
       "      <th>energia_PV</th>\n",
       "      <th>energia_Dg</th>\n",
       "      <th>bin_diesel</th>\n",
       "      <th>energia_carga_bateria</th>\n",
       "      <th>bin_bat_carga</th>\n",
       "      <th>energia_descarga_bateria</th>\n",
       "      <th>bin_bat_descarga</th>\n",
       "      <th>energia_ENS</th>\n",
       "      <th>SOC(t)_bateria</th>\n",
       "      <th>p_bat_pv</th>\n",
       "      <th>p_bat_dg</th>\n",
       "      <th>suma_pv_dg_bat_descarga</th>\n",
       "      <th>load</th>\n",
       "      <th>recurso_pv_dis</th>\n",
       "      <th>recurso_diesel_dis</th>\n",
       "      <th>porcentaje_carga_dg</th>\n",
       "      <th>porcentaje_energia_dg</th>\n",
       "      <th>porcentaje_carga_bat_dg</th>\n",
       "      <th>porcentaje_SOC_t</th>\n",
       "    </tr>\n",
       "  </thead>\n",
       "  <tbody>\n",
       "    <tr>\n",
       "      <th>0</th>\n",
       "      <td>1007</td>\n",
       "      <td>0.0</td>\n",
       "      <td>0.0</td>\n",
       "      <td>0.0</td>\n",
       "      <td>0.0</td>\n",
       "      <td>0.0</td>\n",
       "      <td>2.0423</td>\n",
       "      <td>1.0</td>\n",
       "      <td>0.000000e+00</td>\n",
       "      <td>97.813571</td>\n",
       "      <td>0.0</td>\n",
       "      <td>0.0</td>\n",
       "      <td>2.0423</td>\n",
       "      <td>2.0423</td>\n",
       "      <td>0.0</td>\n",
       "      <td>0</td>\n",
       "      <td>None</td>\n",
       "      <td>None</td>\n",
       "      <td>None</td>\n",
       "      <td>97.037272</td>\n",
       "    </tr>\n",
       "    <tr>\n",
       "      <th>1</th>\n",
       "      <td>1007</td>\n",
       "      <td>0.0</td>\n",
       "      <td>0.0</td>\n",
       "      <td>0.0</td>\n",
       "      <td>0.0</td>\n",
       "      <td>0.0</td>\n",
       "      <td>2.0410</td>\n",
       "      <td>1.0</td>\n",
       "      <td>0.000000e+00</td>\n",
       "      <td>94.853297</td>\n",
       "      <td>0.0</td>\n",
       "      <td>0.0</td>\n",
       "      <td>2.0410</td>\n",
       "      <td>2.0410</td>\n",
       "      <td>0.0</td>\n",
       "      <td>0</td>\n",
       "      <td>None</td>\n",
       "      <td>None</td>\n",
       "      <td>None</td>\n",
       "      <td>94.100493</td>\n",
       "    </tr>\n",
       "    <tr>\n",
       "      <th>2</th>\n",
       "      <td>1007</td>\n",
       "      <td>0.0</td>\n",
       "      <td>0.0</td>\n",
       "      <td>0.0</td>\n",
       "      <td>0.0</td>\n",
       "      <td>0.0</td>\n",
       "      <td>2.0433</td>\n",
       "      <td>1.0</td>\n",
       "      <td>0.000000e+00</td>\n",
       "      <td>91.915172</td>\n",
       "      <td>0.0</td>\n",
       "      <td>0.0</td>\n",
       "      <td>2.0433</td>\n",
       "      <td>2.0433</td>\n",
       "      <td>0.0</td>\n",
       "      <td>0</td>\n",
       "      <td>None</td>\n",
       "      <td>None</td>\n",
       "      <td>None</td>\n",
       "      <td>91.185687</td>\n",
       "    </tr>\n",
       "    <tr>\n",
       "      <th>3</th>\n",
       "      <td>1007</td>\n",
       "      <td>0.0</td>\n",
       "      <td>0.0</td>\n",
       "      <td>0.0</td>\n",
       "      <td>0.0</td>\n",
       "      <td>0.0</td>\n",
       "      <td>2.0415</td>\n",
       "      <td>1.0</td>\n",
       "      <td>0.000000e+00</td>\n",
       "      <td>89.003329</td>\n",
       "      <td>0.0</td>\n",
       "      <td>0.0</td>\n",
       "      <td>2.0415</td>\n",
       "      <td>2.0415</td>\n",
       "      <td>0.0</td>\n",
       "      <td>0</td>\n",
       "      <td>None</td>\n",
       "      <td>None</td>\n",
       "      <td>None</td>\n",
       "      <td>88.296953</td>\n",
       "    </tr>\n",
       "    <tr>\n",
       "      <th>4</th>\n",
       "      <td>1007</td>\n",
       "      <td>0.0</td>\n",
       "      <td>0.0</td>\n",
       "      <td>0.0</td>\n",
       "      <td>0.0</td>\n",
       "      <td>0.0</td>\n",
       "      <td>2.0671</td>\n",
       "      <td>1.0</td>\n",
       "      <td>0.000000e+00</td>\n",
       "      <td>86.088707</td>\n",
       "      <td>0.0</td>\n",
       "      <td>0.0</td>\n",
       "      <td>2.0671</td>\n",
       "      <td>2.0671</td>\n",
       "      <td>0.0</td>\n",
       "      <td>0</td>\n",
       "      <td>None</td>\n",
       "      <td>None</td>\n",
       "      <td>None</td>\n",
       "      <td>85.405463</td>\n",
       "    </tr>\n",
       "    <tr>\n",
       "      <th>...</th>\n",
       "      <td>...</td>\n",
       "      <td>...</td>\n",
       "      <td>...</td>\n",
       "      <td>...</td>\n",
       "      <td>...</td>\n",
       "      <td>...</td>\n",
       "      <td>...</td>\n",
       "      <td>...</td>\n",
       "      <td>...</td>\n",
       "      <td>...</td>\n",
       "      <td>...</td>\n",
       "      <td>...</td>\n",
       "      <td>...</td>\n",
       "      <td>...</td>\n",
       "      <td>...</td>\n",
       "      <td>...</td>\n",
       "      <td>...</td>\n",
       "      <td>...</td>\n",
       "      <td>...</td>\n",
       "      <td>...</td>\n",
       "    </tr>\n",
       "    <tr>\n",
       "      <th>8755</th>\n",
       "      <td>1007</td>\n",
       "      <td>0.0</td>\n",
       "      <td>0.0</td>\n",
       "      <td>0.0</td>\n",
       "      <td>0.0</td>\n",
       "      <td>0.0</td>\n",
       "      <td>3.6658</td>\n",
       "      <td>1.0</td>\n",
       "      <td>0.000000e+00</td>\n",
       "      <td>63.324159</td>\n",
       "      <td>0.0</td>\n",
       "      <td>0.0</td>\n",
       "      <td>3.6658</td>\n",
       "      <td>3.6658</td>\n",
       "      <td>0.0</td>\n",
       "      <td>0</td>\n",
       "      <td>None</td>\n",
       "      <td>None</td>\n",
       "      <td>None</td>\n",
       "      <td>62.821586</td>\n",
       "    </tr>\n",
       "    <tr>\n",
       "      <th>8756</th>\n",
       "      <td>1007</td>\n",
       "      <td>0.0</td>\n",
       "      <td>0.0</td>\n",
       "      <td>0.0</td>\n",
       "      <td>0.0</td>\n",
       "      <td>0.0</td>\n",
       "      <td>2.1547</td>\n",
       "      <td>1.0</td>\n",
       "      <td>0.000000e+00</td>\n",
       "      <td>60.530463</td>\n",
       "      <td>0.0</td>\n",
       "      <td>0.0</td>\n",
       "      <td>2.1547</td>\n",
       "      <td>2.1547</td>\n",
       "      <td>0.0</td>\n",
       "      <td>0</td>\n",
       "      <td>None</td>\n",
       "      <td>None</td>\n",
       "      <td>None</td>\n",
       "      <td>60.050062</td>\n",
       "    </tr>\n",
       "    <tr>\n",
       "      <th>8757</th>\n",
       "      <td>1007</td>\n",
       "      <td>0.0</td>\n",
       "      <td>0.0</td>\n",
       "      <td>0.0</td>\n",
       "      <td>0.0</td>\n",
       "      <td>0.0</td>\n",
       "      <td>2.0912</td>\n",
       "      <td>1.0</td>\n",
       "      <td>0.000000e+00</td>\n",
       "      <td>57.826797</td>\n",
       "      <td>0.0</td>\n",
       "      <td>0.0</td>\n",
       "      <td>2.0912</td>\n",
       "      <td>2.0912</td>\n",
       "      <td>0.0</td>\n",
       "      <td>0</td>\n",
       "      <td>None</td>\n",
       "      <td>None</td>\n",
       "      <td>None</td>\n",
       "      <td>57.367854</td>\n",
       "    </tr>\n",
       "    <tr>\n",
       "      <th>8758</th>\n",
       "      <td>1007</td>\n",
       "      <td>0.0</td>\n",
       "      <td>0.0</td>\n",
       "      <td>0.0</td>\n",
       "      <td>0.0</td>\n",
       "      <td>0.0</td>\n",
       "      <td>2.0864</td>\n",
       "      <td>1.0</td>\n",
       "      <td>2.220446e-15</td>\n",
       "      <td>55.150624</td>\n",
       "      <td>0.0</td>\n",
       "      <td>0.0</td>\n",
       "      <td>2.0864</td>\n",
       "      <td>2.0864</td>\n",
       "      <td>0.0</td>\n",
       "      <td>0</td>\n",
       "      <td>None</td>\n",
       "      <td>None</td>\n",
       "      <td>None</td>\n",
       "      <td>54.712920</td>\n",
       "    </tr>\n",
       "    <tr>\n",
       "      <th>8759</th>\n",
       "      <td>1007</td>\n",
       "      <td>0.0</td>\n",
       "      <td>0.0</td>\n",
       "      <td>0.0</td>\n",
       "      <td>0.0</td>\n",
       "      <td>0.0</td>\n",
       "      <td>2.0914</td>\n",
       "      <td>1.0</td>\n",
       "      <td>0.000000e+00</td>\n",
       "      <td>52.491400</td>\n",
       "      <td>0.0</td>\n",
       "      <td>0.0</td>\n",
       "      <td>2.0914</td>\n",
       "      <td>2.0914</td>\n",
       "      <td>0.0</td>\n",
       "      <td>0</td>\n",
       "      <td>None</td>\n",
       "      <td>None</td>\n",
       "      <td>None</td>\n",
       "      <td>52.074802</td>\n",
       "    </tr>\n",
       "  </tbody>\n",
       "</table>\n",
       "<p>8760 rows × 20 columns</p>\n",
       "</div>"
      ],
      "text/plain": [
       "      id_simulacion  energia_PV  energia_Dg  bin_diesel  \\\n",
       "0              1007         0.0         0.0         0.0   \n",
       "1              1007         0.0         0.0         0.0   \n",
       "2              1007         0.0         0.0         0.0   \n",
       "3              1007         0.0         0.0         0.0   \n",
       "4              1007         0.0         0.0         0.0   \n",
       "...             ...         ...         ...         ...   \n",
       "8755           1007         0.0         0.0         0.0   \n",
       "8756           1007         0.0         0.0         0.0   \n",
       "8757           1007         0.0         0.0         0.0   \n",
       "8758           1007         0.0         0.0         0.0   \n",
       "8759           1007         0.0         0.0         0.0   \n",
       "\n",
       "      energia_carga_bateria  bin_bat_carga  energia_descarga_bateria  \\\n",
       "0                       0.0            0.0                    2.0423   \n",
       "1                       0.0            0.0                    2.0410   \n",
       "2                       0.0            0.0                    2.0433   \n",
       "3                       0.0            0.0                    2.0415   \n",
       "4                       0.0            0.0                    2.0671   \n",
       "...                     ...            ...                       ...   \n",
       "8755                    0.0            0.0                    3.6658   \n",
       "8756                    0.0            0.0                    2.1547   \n",
       "8757                    0.0            0.0                    2.0912   \n",
       "8758                    0.0            0.0                    2.0864   \n",
       "8759                    0.0            0.0                    2.0914   \n",
       "\n",
       "      bin_bat_descarga   energia_ENS  SOC(t)_bateria  p_bat_pv  p_bat_dg  \\\n",
       "0                  1.0  0.000000e+00       97.813571       0.0       0.0   \n",
       "1                  1.0  0.000000e+00       94.853297       0.0       0.0   \n",
       "2                  1.0  0.000000e+00       91.915172       0.0       0.0   \n",
       "3                  1.0  0.000000e+00       89.003329       0.0       0.0   \n",
       "4                  1.0  0.000000e+00       86.088707       0.0       0.0   \n",
       "...                ...           ...             ...       ...       ...   \n",
       "8755               1.0  0.000000e+00       63.324159       0.0       0.0   \n",
       "8756               1.0  0.000000e+00       60.530463       0.0       0.0   \n",
       "8757               1.0  0.000000e+00       57.826797       0.0       0.0   \n",
       "8758               1.0  2.220446e-15       55.150624       0.0       0.0   \n",
       "8759               1.0  0.000000e+00       52.491400       0.0       0.0   \n",
       "\n",
       "      suma_pv_dg_bat_descarga    load  recurso_pv_dis  recurso_diesel_dis  \\\n",
       "0                      2.0423  2.0423             0.0                   0   \n",
       "1                      2.0410  2.0410             0.0                   0   \n",
       "2                      2.0433  2.0433             0.0                   0   \n",
       "3                      2.0415  2.0415             0.0                   0   \n",
       "4                      2.0671  2.0671             0.0                   0   \n",
       "...                       ...     ...             ...                 ...   \n",
       "8755                   3.6658  3.6658             0.0                   0   \n",
       "8756                   2.1547  2.1547             0.0                   0   \n",
       "8757                   2.0912  2.0912             0.0                   0   \n",
       "8758                   2.0864  2.0864             0.0                   0   \n",
       "8759                   2.0914  2.0914             0.0                   0   \n",
       "\n",
       "     porcentaje_carga_dg porcentaje_energia_dg porcentaje_carga_bat_dg  \\\n",
       "0                   None                  None                    None   \n",
       "1                   None                  None                    None   \n",
       "2                   None                  None                    None   \n",
       "3                   None                  None                    None   \n",
       "4                   None                  None                    None   \n",
       "...                  ...                   ...                     ...   \n",
       "8755                None                  None                    None   \n",
       "8756                None                  None                    None   \n",
       "8757                None                  None                    None   \n",
       "8758                None                  None                    None   \n",
       "8759                None                  None                    None   \n",
       "\n",
       "      porcentaje_SOC_t  \n",
       "0            97.037272  \n",
       "1            94.100493  \n",
       "2            91.185687  \n",
       "3            88.296953  \n",
       "4            85.405463  \n",
       "...                ...  \n",
       "8755         62.821586  \n",
       "8756         60.050062  \n",
       "8757         57.367854  \n",
       "8758         54.712920  \n",
       "8759         52.074802  \n",
       "\n",
       "[8760 rows x 20 columns]"
      ]
     },
     "execution_count": 134,
     "metadata": {},
     "output_type": "execute_result"
    }
   ],
   "source": [
    "tabla_resultados"
   ]
  },
  {
   "cell_type": "code",
   "execution_count": 135,
   "metadata": {
    "ExecuteTime": {
     "end_time": "2021-06-30T04:36:32.203662Z",
     "start_time": "2021-06-30T04:36:30.844790Z"
    }
   },
   "outputs": [],
   "source": [
    "tabla_resultados[['date', 'hora', 'dia', 'mes']] = bd[['date', 'hora', 'dia', 'mes']]\n",
    "tabla_resultados[\"date\"]=tabla_resultados[\"date\"].apply(pd.to_datetime)\n",
    "tabla_resultados[\"Month\"] = tabla_resultados[\"date\"].dt.month_name()\n",
    "dic_fecha = {\n",
    "   'January' :'Jan',\n",
    "    'February':'Feb',\n",
    "    'March':'Mar',\n",
    "    'April':'Apr',\n",
    "    'May':'May',\n",
    "    'June':'Jun',\n",
    "    'July':'Jul',\n",
    "    'August':'Aug',\n",
    "    'September':'Sep',\n",
    "    'October':'Oct',\n",
    "    'November':'Nov',\n",
    "    'December':'Dec'\n",
    "}\n",
    "tabla_resultados[\"Month\"] = tabla_resultados[\"Month\"].apply(lambda x: dic_fecha[x])\n",
    "tabla_resultados[\"hora\"]=tabla_resultados[\"hora\"].apply(lambda x: x+1)\n",
    "#supply_load = tabla_resultados.groupby([\"hora\"])['energia_PV','energia_ENS','energia_Dg','energia_descarga_bateria'].mean().reset_index()\n",
    "#supply_load_2 = tabla_resultados.groupby([\"hora\",\"Month\"])['energia_PV','energia_ENS','energia_Dg','energia_descarga_bateria'].mean().reset_index()\n",
    "#supply_load_3 = tabla_resultados.groupby([\"Month\"])['energia_PV','energia_ENS','energia_Dg','energia_descarga_bateria'].sum().reset_index()\n"
   ]
  },
  {
   "cell_type": "code",
   "execution_count": 118,
   "metadata": {
    "ExecuteTime": {
     "end_time": "2021-06-30T04:26:51.327209Z",
     "start_time": "2021-06-30T04:26:51.286760Z"
    }
   },
   "outputs": [
    {
     "data": {
      "text/plain": [
       "Index(['hour', 'SoC(t)', 'Discharging', 'Charging'], dtype='object')"
      ]
     },
     "execution_count": 118,
     "metadata": {},
     "output_type": "execute_result"
    }
   ],
   "source": [
    "soc.columns"
   ]
  },
  {
   "cell_type": "code",
   "execution_count": 119,
   "metadata": {
    "ExecuteTime": {
     "end_time": "2021-06-30T04:26:54.628465Z",
     "start_time": "2021-06-30T04:26:53.284994Z"
    }
   },
   "outputs": [
    {
     "name": "stderr",
     "output_type": "stream",
     "text": [
      "C:\\Users\\wrope\\anaconda3\\lib\\site-packages\\ipykernel_launcher.py:1: FutureWarning:\n",
      "\n",
      "Indexing with multiple keys (implicitly converted to a tuple of keys) will be deprecated, use a list instead.\n",
      "\n"
     ]
    },
    {
     "data": {
      "application/vnd.plotly.v1+json": {
       "config": {
        "plotlyServerURL": "https://plot.ly"
       },
       "data": [
        {
         "hovertemplate": "variable=SoC(t)<br>hour=%{x}<br>value=%{y}<extra></extra>",
         "legendgroup": "SoC(t)",
         "line": {
          "color": "#1F77B4",
          "dash": "solid"
         },
         "mode": "lines",
         "name": "SoC(t)",
         "orientation": "v",
         "showlegend": true,
         "type": "scatter",
         "x": [
          1,
          2,
          3,
          4,
          5,
          6,
          7,
          8,
          9,
          10,
          11,
          12,
          13,
          14,
          15,
          16,
          17,
          18,
          19,
          20,
          21,
          22,
          23,
          24
         ],
         "xaxis": "x",
         "y": [
          64.40182448602216,
          62.07976272476198,
          59.82200170441074,
          57.63970166681718,
          55.58600052781746,
          53.7004002632197,
          53.04455728018749,
          55.17950686702772,
          57.993134635837734,
          60.37227812609685,
          65.12479103791387,
          71.27252470682188,
          77.4460143595792,
          83.58715844684754,
          87.97006773288959,
          88.48942808795223,
          90.03502711140523,
          86.89360837485083,
          80.39537866487069,
          76.63965224622801,
          74.04435314327336,
          71.54042304901405,
          69.07892250065578,
          66.64667797391833
         ],
         "yaxis": "y"
        },
        {
         "hovertemplate": "variable=Discharging<br>hour=%{x}<br>value=%{y}<extra></extra>",
         "legendgroup": "Discharging",
         "line": {
          "color": "#FF7F0E",
          "dash": "solid"
         },
         "mode": "lines",
         "name": "Discharging",
         "orientation": "v",
         "showlegend": true,
         "type": "scatter",
         "x": [
          1,
          2,
          3,
          4,
          5,
          6,
          7,
          8,
          9,
          10,
          11,
          12,
          13,
          14,
          15,
          16,
          17,
          18,
          19,
          20,
          21,
          22,
          23,
          24
         ],
         "xaxis": "x",
         "y": [
          1.731792871893574,
          1.6981502871249896,
          1.6553740402488903,
          1.6014885522745061,
          1.4965270344068813,
          1.3530246372059422,
          0.48586906405000524,
          0.06834217437601613,
          0.31927092759059217,
          0.6286065437656831,
          0.3501844973913927,
          0.12181787030483315,
          0.11558109589041095,
          0.26706259077104444,
          0.5313684284700985,
          1.2519518089965433,
          0.23905835616438356,
          2.5702989628257398,
          5.488162122445386,
          2.934022536937971,
          1.861230489845482,
          1.7948938650116504,
          1.7743292851988808,
          1.7659449964827911
         ],
         "yaxis": "y"
        },
        {
         "hovertemplate": "variable=Charging<br>hour=%{x}<br>value=%{y}<extra></extra>",
         "legendgroup": "Charging",
         "line": {
          "color": "#2CA02C",
          "dash": "solid"
         },
         "mode": "lines",
         "name": "Charging",
         "orientation": "v",
         "showlegend": true,
         "type": "scatter",
         "x": [
          1,
          2,
          3,
          4,
          5,
          6,
          7,
          8,
          9,
          10,
          11,
          12,
          13,
          14,
          15,
          16,
          17,
          18,
          19,
          20,
          21,
          22,
          23,
          24
         ],
         "xaxis": "x",
         "y": [
          0,
          0,
          0,
          0,
          0,
          0,
          0.3347905102277818,
          2.9412872702088726,
          4.008547040475519,
          3.9135306738191926,
          6.246908978528442,
          7.573887524095225,
          7.651906576986203,
          7.850071692282101,
          6.262242098904592,
          2.852617696350735,
          2.813001834992137,
          0.34605538230690197,
          0,
          0,
          0,
          0,
          0,
          0
         ],
         "yaxis": "y"
        }
       ],
       "layout": {
        "font": {
         "color": "black",
         "family": "Times New Roman",
         "size": 14
        },
        "height": 400,
        "legend": {
         "font": {
          "size": 14
         },
         "orientation": "h",
         "title": {
          "text": "variable"
         },
         "tracegroupgap": 0,
         "x": 1,
         "xanchor": "right",
         "y": 1.02,
         "yanchor": "bottom"
        },
        "margin": {
         "t": 60
        },
        "shapes": [
         {
          "line": {
           "color": "gray",
           "dash": "dot",
           "width": 2
          },
          "opacity": 1,
          "type": "line",
          "x0": 0,
          "x1": 1,
          "xref": "paper",
          "y0": 50.4,
          "y1": 50.4,
          "yref": "y"
         },
         {
          "line": {
           "color": "gray",
           "dash": "dot",
           "width": 2
          },
          "opacity": 1,
          "type": "line",
          "x0": 0,
          "x1": 1,
          "xref": "paper",
          "y0": 100.8,
          "y1": 100.8,
          "yref": "y"
         }
        ],
        "template": {
         "data": {
          "pie": [
           {
            "automargin": true,
            "type": "pie"
           }
          ]
         },
         "layout": {
          "xaxis": {
           "showgrid": false,
           "title": {
            "standoff": 15
           }
          },
          "yaxis": {
           "title": {
            "standoff": 15
           }
          }
         }
        },
        "title": {
         "font": {
          "family": "Times New Roman"
         }
        },
        "width": 520,
        "xaxis": {
         "anchor": "y",
         "domain": [
          0,
          1
         ],
         "linecolor": "black",
         "nticks": 15,
         "showline": false,
         "title": {
          "text": "Time (hour)"
         }
        },
        "yaxis": {
         "anchor": "x",
         "domain": [
          0,
          1
         ],
         "linecolor": "black",
         "nticks": 10,
         "showline": true,
         "title": {
          "text": "Energy [kWh]"
         }
        }
       }
      },
      "text/html": [
       "<div>                            <div id=\"9c38aef8-71a3-46ef-a056-056ced86bad2\" class=\"plotly-graph-div\" style=\"height:400px; width:520px;\"></div>            <script type=\"text/javascript\">                require([\"plotly\"], function(Plotly) {                    window.PLOTLYENV=window.PLOTLYENV || {};                                    if (document.getElementById(\"9c38aef8-71a3-46ef-a056-056ced86bad2\")) {                    Plotly.newPlot(                        \"9c38aef8-71a3-46ef-a056-056ced86bad2\",                        [{\"hovertemplate\": \"variable=SoC(t)<br>hour=%{x}<br>value=%{y}<extra></extra>\", \"legendgroup\": \"SoC(t)\", \"line\": {\"color\": \"#1F77B4\", \"dash\": \"solid\"}, \"mode\": \"lines\", \"name\": \"SoC(t)\", \"orientation\": \"v\", \"showlegend\": true, \"type\": \"scatter\", \"x\": [1, 2, 3, 4, 5, 6, 7, 8, 9, 10, 11, 12, 13, 14, 15, 16, 17, 18, 19, 20, 21, 22, 23, 24], \"xaxis\": \"x\", \"y\": [64.40182448602216, 62.07976272476198, 59.82200170441074, 57.63970166681718, 55.58600052781746, 53.7004002632197, 53.04455728018749, 55.17950686702772, 57.993134635837734, 60.37227812609685, 65.12479103791387, 71.27252470682188, 77.4460143595792, 83.58715844684754, 87.97006773288959, 88.48942808795223, 90.03502711140523, 86.89360837485083, 80.39537866487069, 76.63965224622801, 74.04435314327336, 71.54042304901405, 69.07892250065578, 66.64667797391833], \"yaxis\": \"y\"}, {\"hovertemplate\": \"variable=Discharging<br>hour=%{x}<br>value=%{y}<extra></extra>\", \"legendgroup\": \"Discharging\", \"line\": {\"color\": \"#FF7F0E\", \"dash\": \"solid\"}, \"mode\": \"lines\", \"name\": \"Discharging\", \"orientation\": \"v\", \"showlegend\": true, \"type\": \"scatter\", \"x\": [1, 2, 3, 4, 5, 6, 7, 8, 9, 10, 11, 12, 13, 14, 15, 16, 17, 18, 19, 20, 21, 22, 23, 24], \"xaxis\": \"x\", \"y\": [1.731792871893574, 1.6981502871249896, 1.6553740402488903, 1.6014885522745061, 1.4965270344068813, 1.3530246372059422, 0.48586906405000524, 0.06834217437601613, 0.31927092759059217, 0.6286065437656831, 0.3501844973913927, 0.12181787030483315, 0.11558109589041095, 0.26706259077104444, 0.5313684284700985, 1.2519518089965433, 0.23905835616438356, 2.5702989628257398, 5.488162122445386, 2.934022536937971, 1.861230489845482, 1.7948938650116504, 1.7743292851988808, 1.7659449964827911], \"yaxis\": \"y\"}, {\"hovertemplate\": \"variable=Charging<br>hour=%{x}<br>value=%{y}<extra></extra>\", \"legendgroup\": \"Charging\", \"line\": {\"color\": \"#2CA02C\", \"dash\": \"solid\"}, \"mode\": \"lines\", \"name\": \"Charging\", \"orientation\": \"v\", \"showlegend\": true, \"type\": \"scatter\", \"x\": [1, 2, 3, 4, 5, 6, 7, 8, 9, 10, 11, 12, 13, 14, 15, 16, 17, 18, 19, 20, 21, 22, 23, 24], \"xaxis\": \"x\", \"y\": [0.0, 0.0, 0.0, 0.0, 0.0, 0.0, 0.3347905102277818, 2.9412872702088726, 4.008547040475519, 3.9135306738191926, 6.246908978528442, 7.573887524095225, 7.651906576986203, 7.850071692282101, 6.262242098904592, 2.852617696350735, 2.813001834992137, 0.34605538230690197, 0.0, 0.0, 0.0, 0.0, 0.0, 0.0], \"yaxis\": \"y\"}],                        {\"font\": {\"color\": \"black\", \"family\": \"Times New Roman\", \"size\": 14}, \"height\": 400, \"legend\": {\"font\": {\"size\": 14}, \"orientation\": \"h\", \"title\": {\"text\": \"variable\"}, \"tracegroupgap\": 0, \"x\": 1, \"xanchor\": \"right\", \"y\": 1.02, \"yanchor\": \"bottom\"}, \"margin\": {\"t\": 60}, \"shapes\": [{\"line\": {\"color\": \"gray\", \"dash\": \"dot\", \"width\": 2}, \"opacity\": 1, \"type\": \"line\", \"x0\": 0, \"x1\": 1, \"xref\": \"paper\", \"y0\": 50.4, \"y1\": 50.4, \"yref\": \"y\"}, {\"line\": {\"color\": \"gray\", \"dash\": \"dot\", \"width\": 2}, \"opacity\": 1, \"type\": \"line\", \"x0\": 0, \"x1\": 1, \"xref\": \"paper\", \"y0\": 100.8, \"y1\": 100.8, \"yref\": \"y\"}], \"template\": {\"data\": {\"pie\": [{\"automargin\": true, \"type\": \"pie\"}]}, \"layout\": {\"xaxis\": {\"showgrid\": false, \"title\": {\"standoff\": 15}}, \"yaxis\": {\"title\": {\"standoff\": 15}}}}, \"title\": {\"font\": {\"family\": \"Times New Roman\"}}, \"width\": 520, \"xaxis\": {\"anchor\": \"y\", \"domain\": [0.0, 1.0], \"linecolor\": \"black\", \"nticks\": 15, \"showline\": false, \"title\": {\"text\": \"Time (hour)\"}}, \"yaxis\": {\"anchor\": \"x\", \"domain\": [0.0, 1.0], \"linecolor\": \"black\", \"nticks\": 10, \"showline\": true, \"title\": {\"text\": \"Energy [kWh]\"}}},                        {\"responsive\": true}                    ).then(function(){\n",
       "                            \n",
       "var gd = document.getElementById('9c38aef8-71a3-46ef-a056-056ced86bad2');\n",
       "var x = new MutationObserver(function (mutations, observer) {{\n",
       "        var display = window.getComputedStyle(gd).display;\n",
       "        if (!display || display === 'none') {{\n",
       "            console.log([gd, 'removed!']);\n",
       "            Plotly.purge(gd);\n",
       "            observer.disconnect();\n",
       "        }}\n",
       "}});\n",
       "\n",
       "// Listen for the removal of the full notebook cells\n",
       "var notebookContainer = gd.closest('#notebook-container');\n",
       "if (notebookContainer) {{\n",
       "    x.observe(notebookContainer, {childList: true});\n",
       "}}\n",
       "\n",
       "// Listen for the clearing of the current output cell\n",
       "var outputEl = gd.closest('.output');\n",
       "if (outputEl) {{\n",
       "    x.observe(outputEl, {childList: true});\n",
       "}}\n",
       "\n",
       "                        })                };                });            </script>        </div>"
      ]
     },
     "metadata": {},
     "output_type": "display_data"
    }
   ],
   "source": [
    "soc = tabla_resultados.groupby([\"hora\"])['SOC(t)_bateria','energia_descarga_bateria','energia_carga_bateria'].mean().reset_index()\n",
    "soc.columns=['hour', 'SoC(t)', 'Discharging', 'Charging']\n",
    "graficar(tipo='linea',\n",
    "         lista_campos=['SoC(t)', 'Discharging', 'Charging'],\n",
    "         titulo=\"\",\n",
    "        df=soc)\n",
    "\n"
   ]
  },
  {
   "cell_type": "code",
   "execution_count": 95,
   "metadata": {
    "ExecuteTime": {
     "end_time": "2021-06-30T03:32:25.099358Z",
     "start_time": "2021-06-30T03:32:24.213004Z"
    }
   },
   "outputs": [
    {
     "name": "stderr",
     "output_type": "stream",
     "text": [
      "C:\\Users\\wrope\\anaconda3\\lib\\site-packages\\ipykernel_launcher.py:1: FutureWarning:\n",
      "\n",
      "Indexing with multiple keys (implicitly converted to a tuple of keys) will be deprecated, use a list instead.\n",
      "\n"
     ]
    },
    {
     "data": {
      "application/vnd.plotly.v1+json": {
       "config": {
        "plotlyServerURL": "https://plot.ly"
       },
       "data": [
        {
         "hovertemplate": "variable=Charging<br>hour=%{x}<br>value=%{y}<extra></extra>",
         "legendgroup": "Charging",
         "line": {
          "color": "#1F77B4",
          "dash": "solid"
         },
         "mode": "lines",
         "name": "Charging",
         "orientation": "v",
         "showlegend": true,
         "type": "scatter",
         "x": [
          1,
          2,
          3,
          4,
          5,
          6,
          7,
          8,
          9,
          10,
          11,
          12,
          13,
          14,
          15,
          16,
          17,
          18,
          19,
          20,
          21,
          22,
          23,
          24
         ],
         "xaxis": "x",
         "y": [
          0.4453700302993899,
          4.043379685939733,
          1.6791010547945207,
          0.483401479401626,
          0.19505316103417364,
          0.3467618274352585,
          1.5162945230646463,
          1.0209825179659644,
          0.8744033295221374,
          2.231856640083869,
          3.729594601120563,
          4.231606546738502,
          3.617865258650688,
          2.6744148635323968,
          1.3404910721893035,
          0.6260500908299627,
          0.432096409043863,
          2.1901377825705373,
          2.8138761380282618,
          1.1179011169743829,
          0,
          0,
          0.018472164383561644,
          0.13947369447319286
         ],
         "yaxis": "y"
        },
        {
         "hovertemplate": "variable=PV Energy<br>hour=%{x}<br>value=%{y}<extra></extra>",
         "legendgroup": "PV Energy",
         "line": {
          "color": "#FF7F0E",
          "dash": "solid"
         },
         "mode": "lines",
         "name": "PV Energy",
         "orientation": "v",
         "showlegend": true,
         "type": "scatter",
         "x": [
          1,
          2,
          3,
          4,
          5,
          6,
          7,
          8,
          9,
          10,
          11,
          12,
          13,
          14,
          15,
          16,
          17,
          18,
          19,
          20,
          21,
          22,
          23,
          24
         ],
         "xaxis": "x",
         "y": [
          0,
          0,
          0,
          0,
          0,
          0.0008654794520547094,
          0.2734239530402314,
          0.8647189580395982,
          0.7809183600336289,
          1.9669807683350788,
          3.504082779146023,
          4.12901707384436,
          3.510530844652237,
          2.491533146371719,
          1.2193438270104116,
          0.4219687483642094,
          0.3189355951139659,
          0.9788237625869215,
          0.0254242982195675,
          0,
          0,
          0,
          0,
          0
         ],
         "yaxis": "y"
        },
        {
         "hovertemplate": "variable=Diesel Energy<br>hour=%{x}<br>value=%{y}<extra></extra>",
         "legendgroup": "Diesel Energy",
         "line": {
          "color": "#2CA02C",
          "dash": "solid"
         },
         "mode": "lines",
         "name": "Diesel Energy",
         "orientation": "v",
         "showlegend": true,
         "type": "scatter",
         "x": [
          1,
          2,
          3,
          4,
          5,
          6,
          7,
          8,
          9,
          10,
          11,
          12,
          13,
          14,
          15,
          16,
          17,
          18,
          19,
          20,
          21,
          22,
          23,
          24
         ],
         "xaxis": "x",
         "y": [
          0.46881055820988404,
          4.256189143094455,
          1.7674747945205478,
          0.5088436625280275,
          0.2053191168780776,
          0.3641014189296883,
          1.3082848105520162,
          0.16448795781722678,
          0.09840523104053556,
          0.27881670710399004,
          0.2373808652363561,
          0.10798891883593928,
          0.11298359368257922,
          0.19250707069545095,
          0.12752341597778094,
          0.21482246575342456,
          0.11911664624199732,
          1.275067389456435,
          2.9352124629565166,
          1.1767380178677713,
          0,
          0,
          0.019444383561643835,
          0.14681441523493982
         ],
         "yaxis": "y"
        }
       ],
       "layout": {
        "font": {
         "color": "black",
         "family": "Times New Roman",
         "size": 14
        },
        "height": 400,
        "legend": {
         "font": {
          "size": 14
         },
         "orientation": "h",
         "title": {
          "text": "variable"
         },
         "tracegroupgap": 0,
         "x": 1,
         "xanchor": "right",
         "y": 1.02,
         "yanchor": "bottom"
        },
        "margin": {
         "t": 60
        },
        "template": {
         "data": {
          "pie": [
           {
            "automargin": true,
            "type": "pie"
           }
          ]
         },
         "layout": {
          "xaxis": {
           "showgrid": false,
           "title": {
            "standoff": 15
           }
          },
          "yaxis": {
           "title": {
            "standoff": 15
           }
          }
         }
        },
        "title": {
         "font": {
          "family": "Times New Roman"
         }
        },
        "width": 520,
        "xaxis": {
         "anchor": "y",
         "domain": [
          0,
          1
         ],
         "linecolor": "black",
         "nticks": 15,
         "showline": false,
         "title": {
          "text": "Time (hour)"
         }
        },
        "yaxis": {
         "anchor": "x",
         "domain": [
          0,
          1
         ],
         "linecolor": "black",
         "nticks": 10,
         "showline": true,
         "title": {
          "text": "Energy [kWh]"
         }
        }
       }
      },
      "text/html": [
       "<div>                            <div id=\"f16d9cc4-2980-454b-901d-ddee54f44cc9\" class=\"plotly-graph-div\" style=\"height:400px; width:520px;\"></div>            <script type=\"text/javascript\">                require([\"plotly\"], function(Plotly) {                    window.PLOTLYENV=window.PLOTLYENV || {};                                    if (document.getElementById(\"f16d9cc4-2980-454b-901d-ddee54f44cc9\")) {                    Plotly.newPlot(                        \"f16d9cc4-2980-454b-901d-ddee54f44cc9\",                        [{\"hovertemplate\": \"variable=Charging<br>hour=%{x}<br>value=%{y}<extra></extra>\", \"legendgroup\": \"Charging\", \"line\": {\"color\": \"#1F77B4\", \"dash\": \"solid\"}, \"mode\": \"lines\", \"name\": \"Charging\", \"orientation\": \"v\", \"showlegend\": true, \"type\": \"scatter\", \"x\": [1, 2, 3, 4, 5, 6, 7, 8, 9, 10, 11, 12, 13, 14, 15, 16, 17, 18, 19, 20, 21, 22, 23, 24], \"xaxis\": \"x\", \"y\": [0.4453700302993899, 4.043379685939733, 1.6791010547945207, 0.483401479401626, 0.19505316103417364, 0.3467618274352585, 1.5162945230646463, 1.0209825179659644, 0.8744033295221374, 2.231856640083869, 3.729594601120563, 4.231606546738502, 3.617865258650688, 2.6744148635323968, 1.3404910721893035, 0.6260500908299627, 0.432096409043863, 2.1901377825705373, 2.8138761380282618, 1.1179011169743829, 0.0, 0.0, 0.018472164383561644, 0.13947369447319286], \"yaxis\": \"y\"}, {\"hovertemplate\": \"variable=PV Energy<br>hour=%{x}<br>value=%{y}<extra></extra>\", \"legendgroup\": \"PV Energy\", \"line\": {\"color\": \"#FF7F0E\", \"dash\": \"solid\"}, \"mode\": \"lines\", \"name\": \"PV Energy\", \"orientation\": \"v\", \"showlegend\": true, \"type\": \"scatter\", \"x\": [1, 2, 3, 4, 5, 6, 7, 8, 9, 10, 11, 12, 13, 14, 15, 16, 17, 18, 19, 20, 21, 22, 23, 24], \"xaxis\": \"x\", \"y\": [0.0, 0.0, 0.0, 0.0, 0.0, 0.0008654794520547094, 0.2734239530402314, 0.8647189580395982, 0.7809183600336289, 1.9669807683350788, 3.504082779146023, 4.12901707384436, 3.510530844652237, 2.491533146371719, 1.2193438270104116, 0.4219687483642094, 0.3189355951139659, 0.9788237625869215, 0.0254242982195675, 0.0, 0.0, 0.0, 0.0, 0.0], \"yaxis\": \"y\"}, {\"hovertemplate\": \"variable=Diesel Energy<br>hour=%{x}<br>value=%{y}<extra></extra>\", \"legendgroup\": \"Diesel Energy\", \"line\": {\"color\": \"#2CA02C\", \"dash\": \"solid\"}, \"mode\": \"lines\", \"name\": \"Diesel Energy\", \"orientation\": \"v\", \"showlegend\": true, \"type\": \"scatter\", \"x\": [1, 2, 3, 4, 5, 6, 7, 8, 9, 10, 11, 12, 13, 14, 15, 16, 17, 18, 19, 20, 21, 22, 23, 24], \"xaxis\": \"x\", \"y\": [0.46881055820988404, 4.256189143094455, 1.7674747945205478, 0.5088436625280275, 0.2053191168780776, 0.3641014189296883, 1.3082848105520162, 0.16448795781722678, 0.09840523104053556, 0.27881670710399004, 0.2373808652363561, 0.10798891883593928, 0.11298359368257922, 0.19250707069545095, 0.12752341597778094, 0.21482246575342456, 0.11911664624199732, 1.275067389456435, 2.9352124629565166, 1.1767380178677713, 0.0, 0.0, 0.019444383561643835, 0.14681441523493982], \"yaxis\": \"y\"}],                        {\"font\": {\"color\": \"black\", \"family\": \"Times New Roman\", \"size\": 14}, \"height\": 400, \"legend\": {\"font\": {\"size\": 14}, \"orientation\": \"h\", \"title\": {\"text\": \"variable\"}, \"tracegroupgap\": 0, \"x\": 1, \"xanchor\": \"right\", \"y\": 1.02, \"yanchor\": \"bottom\"}, \"margin\": {\"t\": 60}, \"template\": {\"data\": {\"pie\": [{\"automargin\": true, \"type\": \"pie\"}]}, \"layout\": {\"xaxis\": {\"showgrid\": false, \"title\": {\"standoff\": 15}}, \"yaxis\": {\"title\": {\"standoff\": 15}}}}, \"title\": {\"font\": {\"family\": \"Times New Roman\"}}, \"width\": 520, \"xaxis\": {\"anchor\": \"y\", \"domain\": [0.0, 1.0], \"linecolor\": \"black\", \"nticks\": 15, \"showline\": false, \"title\": {\"text\": \"Time (hour)\"}}, \"yaxis\": {\"anchor\": \"x\", \"domain\": [0.0, 1.0], \"linecolor\": \"black\", \"nticks\": 10, \"showline\": true, \"title\": {\"text\": \"Energy [kWh]\"}}},                        {\"responsive\": true}                    ).then(function(){\n",
       "                            \n",
       "var gd = document.getElementById('f16d9cc4-2980-454b-901d-ddee54f44cc9');\n",
       "var x = new MutationObserver(function (mutations, observer) {{\n",
       "        var display = window.getComputedStyle(gd).display;\n",
       "        if (!display || display === 'none') {{\n",
       "            console.log([gd, 'removed!']);\n",
       "            Plotly.purge(gd);\n",
       "            observer.disconnect();\n",
       "        }}\n",
       "}});\n",
       "\n",
       "// Listen for the removal of the full notebook cells\n",
       "var notebookContainer = gd.closest('#notebook-container');\n",
       "if (notebookContainer) {{\n",
       "    x.observe(notebookContainer, {childList: true});\n",
       "}}\n",
       "\n",
       "// Listen for the clearing of the current output cell\n",
       "var outputEl = gd.closest('.output');\n",
       "if (outputEl) {{\n",
       "    x.observe(outputEl, {childList: true});\n",
       "}}\n",
       "\n",
       "                        })                };                });            </script>        </div>"
      ]
     },
     "metadata": {},
     "output_type": "display_data"
    }
   ],
   "source": [
    "pv_disp = tabla_resultados.groupby([\"hora\"])['energia_carga_bateria','p_bat_pv',\n",
    "                                             'p_bat_dg'].mean().reset_index()\n",
    "\n",
    "\n",
    "pv_disp.columns=['hour','Charging', 'PV Energy',  'Diesel Energy']\n",
    "\n",
    "graficar(tipo='linea',\n",
    "         lista_campos=['Charging','PV Energy',  'Diesel Energy'],\n",
    "         titulo=\"\",\n",
    "        df = pv_disp )"
   ]
  },
  {
   "cell_type": "code",
   "execution_count": 96,
   "metadata": {
    "ExecuteTime": {
     "end_time": "2021-06-30T03:32:25.405161Z",
     "start_time": "2021-06-30T03:32:25.394798Z"
    }
   },
   "outputs": [
    {
     "data": {
      "text/plain": [
       "Index(['id_simulacion', 'energia_PV', 'energia_Dg', 'bin_diesel',\n",
       "       'energia_carga_bateria', 'bin_bat_carga', 'energia_descarga_bateria',\n",
       "       'bin_bat_descarga', 'energia_ENS', 'SOC(t)_bateria', 'p_bat_pv',\n",
       "       'p_bat_dg', 'suma_pv_dg_bat_descarga', 'load', 'recurso_pv_dis',\n",
       "       'recurso_diesel_dis', 'porcentaje_carga_dg', 'porcentaje_energia_dg',\n",
       "       'porcentaje_carga_bat_dg', 'porcentaje_SOC_t', 'date', 'hora', 'dia',\n",
       "       'mes', 'Month'],\n",
       "      dtype='object')"
      ]
     },
     "execution_count": 96,
     "metadata": {},
     "output_type": "execute_result"
    }
   ],
   "source": [
    "tabla_resultados.columns"
   ]
  },
  {
   "cell_type": "code",
   "execution_count": 97,
   "metadata": {
    "ExecuteTime": {
     "end_time": "2021-06-30T03:32:27.396260Z",
     "start_time": "2021-06-30T03:32:26.231206Z"
    },
    "scrolled": false
   },
   "outputs": [
    {
     "name": "stderr",
     "output_type": "stream",
     "text": [
      "C:\\Users\\wrope\\anaconda3\\lib\\site-packages\\ipykernel_launcher.py:5: FutureWarning:\n",
      "\n",
      "Indexing with multiple keys (implicitly converted to a tuple of keys) will be deprecated, use a list instead.\n",
      "\n"
     ]
    },
    {
     "data": {
      "application/vnd.plotly.v1+json": {
       "config": {
        "plotlyServerURL": "https://plot.ly"
       },
       "data": [
        {
         "hovertemplate": "variable=Available PV Energy<br>hour=%{x}<br>value=%{y}<extra></extra>",
         "legendgroup": "Available PV Energy",
         "line": {
          "color": "#1F77B4",
          "dash": "solid"
         },
         "mode": "lines",
         "name": "Available PV Energy",
         "orientation": "v",
         "showlegend": true,
         "type": "scatter",
         "x": [
          1,
          2,
          3,
          4,
          5,
          6,
          7,
          8,
          9,
          10,
          11,
          12,
          13,
          14,
          15,
          16,
          17,
          18,
          19,
          20,
          21,
          22,
          23,
          24
         ],
         "xaxis": "x",
         "y": [
          0,
          0,
          0,
          0,
          0,
          0.03011205479452058,
          1.9443008219178093,
          5.545812054794521,
          5.827947945205479,
          9.610197534246566,
          22.17033643835617,
          33.78686712328767,
          38.738559726027376,
          31.65948109589042,
          14.492640821917808,
          4.268257260273971,
          4.413435616438363,
          1.9982961643835593,
          0.03754958904109588,
          0,
          0,
          0,
          0,
          0
         ],
         "yaxis": "y"
        },
        {
         "hovertemplate": "variable=PV Energy to Battery Bank<br>hour=%{x}<br>value=%{y}<extra></extra>",
         "legendgroup": "PV Energy to Battery Bank",
         "line": {
          "color": "#FF7F0E",
          "dash": "solid"
         },
         "mode": "lines",
         "name": "PV Energy to Battery Bank",
         "orientation": "v",
         "showlegend": true,
         "type": "scatter",
         "x": [
          1,
          2,
          3,
          4,
          5,
          6,
          7,
          8,
          9,
          10,
          11,
          12,
          13,
          14,
          15,
          16,
          17,
          18,
          19,
          20,
          21,
          22,
          23,
          24
         ],
         "xaxis": "x",
         "y": [
          0,
          0,
          0,
          0,
          0,
          0.0008654794520547094,
          0.2734239530402314,
          0.8647189580395982,
          0.7809183600336289,
          1.9669807683350788,
          3.504082779146023,
          4.12901707384436,
          3.510530844652237,
          2.491533146371719,
          1.2193438270104116,
          0.4219687483642094,
          0.3189355951139659,
          0.9788237625869215,
          0.0254242982195675,
          0,
          0,
          0,
          0,
          0
         ],
         "yaxis": "y"
        },
        {
         "hovertemplate": "variable=PV Energy to Load<br>hour=%{x}<br>value=%{y}<extra></extra>",
         "legendgroup": "PV Energy to Load",
         "line": {
          "color": "#2CA02C",
          "dash": "solid"
         },
         "mode": "lines",
         "name": "PV Energy to Load",
         "orientation": "v",
         "showlegend": true,
         "type": "scatter",
         "x": [
          1,
          2,
          3,
          4,
          5,
          6,
          7,
          8,
          9,
          10,
          11,
          12,
          13,
          14,
          15,
          16,
          17,
          18,
          19,
          20,
          21,
          22,
          23,
          24
         ],
         "xaxis": "x",
         "y": [
          0,
          0,
          0,
          0,
          0,
          0.029246575342465424,
          1.63820191780822,
          4.588184279478891,
          4.954372602739722,
          4.14971339924465,
          4.720786301369859,
          4.9948704109589075,
          5.165846849315069,
          5.182597260273988,
          4.69617835616438,
          3.179557873018634,
          3.99841847271546,
          0.9862263013698637,
          0.003405479452054793,
          0,
          0,
          0,
          0,
          0
         ],
         "yaxis": "y"
        }
       ],
       "layout": {
        "font": {
         "color": "black",
         "family": "Times New Roman",
         "size": 14
        },
        "height": 400,
        "legend": {
         "font": {
          "size": 14
         },
         "orientation": "h",
         "title": {
          "text": "variable"
         },
         "tracegroupgap": 0,
         "x": 1,
         "xanchor": "right",
         "y": 1.02,
         "yanchor": "bottom"
        },
        "margin": {
         "t": 60
        },
        "template": {
         "data": {
          "pie": [
           {
            "automargin": true,
            "type": "pie"
           }
          ]
         },
         "layout": {
          "xaxis": {
           "showgrid": false,
           "title": {
            "standoff": 15
           }
          },
          "yaxis": {
           "title": {
            "standoff": 15
           }
          }
         }
        },
        "title": {
         "font": {
          "family": "Times New Roman"
         }
        },
        "width": 520,
        "xaxis": {
         "anchor": "y",
         "domain": [
          0,
          1
         ],
         "linecolor": "black",
         "nticks": 15,
         "showline": false,
         "title": {
          "text": "Time (hour)"
         }
        },
        "yaxis": {
         "anchor": "x",
         "domain": [
          0,
          1
         ],
         "linecolor": "black",
         "nticks": 10,
         "showline": true,
         "title": {
          "text": "Energy [kWh]"
         }
        }
       }
      },
      "text/html": [
       "<div>                            <div id=\"7886d427-6091-4633-9eb2-68e19042cd86\" class=\"plotly-graph-div\" style=\"height:400px; width:520px;\"></div>            <script type=\"text/javascript\">                require([\"plotly\"], function(Plotly) {                    window.PLOTLYENV=window.PLOTLYENV || {};                                    if (document.getElementById(\"7886d427-6091-4633-9eb2-68e19042cd86\")) {                    Plotly.newPlot(                        \"7886d427-6091-4633-9eb2-68e19042cd86\",                        [{\"hovertemplate\": \"variable=Available PV Energy<br>hour=%{x}<br>value=%{y}<extra></extra>\", \"legendgroup\": \"Available PV Energy\", \"line\": {\"color\": \"#1F77B4\", \"dash\": \"solid\"}, \"mode\": \"lines\", \"name\": \"Available PV Energy\", \"orientation\": \"v\", \"showlegend\": true, \"type\": \"scatter\", \"x\": [1, 2, 3, 4, 5, 6, 7, 8, 9, 10, 11, 12, 13, 14, 15, 16, 17, 18, 19, 20, 21, 22, 23, 24], \"xaxis\": \"x\", \"y\": [0.0, 0.0, 0.0, 0.0, 0.0, 0.03011205479452058, 1.9443008219178093, 5.545812054794521, 5.827947945205479, 9.610197534246566, 22.17033643835617, 33.78686712328767, 38.738559726027376, 31.65948109589042, 14.492640821917808, 4.268257260273971, 4.413435616438363, 1.9982961643835593, 0.03754958904109588, 0.0, 0.0, 0.0, 0.0, 0.0], \"yaxis\": \"y\"}, {\"hovertemplate\": \"variable=PV Energy to Battery Bank<br>hour=%{x}<br>value=%{y}<extra></extra>\", \"legendgroup\": \"PV Energy to Battery Bank\", \"line\": {\"color\": \"#FF7F0E\", \"dash\": \"solid\"}, \"mode\": \"lines\", \"name\": \"PV Energy to Battery Bank\", \"orientation\": \"v\", \"showlegend\": true, \"type\": \"scatter\", \"x\": [1, 2, 3, 4, 5, 6, 7, 8, 9, 10, 11, 12, 13, 14, 15, 16, 17, 18, 19, 20, 21, 22, 23, 24], \"xaxis\": \"x\", \"y\": [0.0, 0.0, 0.0, 0.0, 0.0, 0.0008654794520547094, 0.2734239530402314, 0.8647189580395982, 0.7809183600336289, 1.9669807683350788, 3.504082779146023, 4.12901707384436, 3.510530844652237, 2.491533146371719, 1.2193438270104116, 0.4219687483642094, 0.3189355951139659, 0.9788237625869215, 0.0254242982195675, 0.0, 0.0, 0.0, 0.0, 0.0], \"yaxis\": \"y\"}, {\"hovertemplate\": \"variable=PV Energy to Load<br>hour=%{x}<br>value=%{y}<extra></extra>\", \"legendgroup\": \"PV Energy to Load\", \"line\": {\"color\": \"#2CA02C\", \"dash\": \"solid\"}, \"mode\": \"lines\", \"name\": \"PV Energy to Load\", \"orientation\": \"v\", \"showlegend\": true, \"type\": \"scatter\", \"x\": [1, 2, 3, 4, 5, 6, 7, 8, 9, 10, 11, 12, 13, 14, 15, 16, 17, 18, 19, 20, 21, 22, 23, 24], \"xaxis\": \"x\", \"y\": [0.0, 0.0, 0.0, 0.0, 0.0, 0.029246575342465424, 1.63820191780822, 4.588184279478891, 4.954372602739722, 4.14971339924465, 4.720786301369859, 4.9948704109589075, 5.165846849315069, 5.182597260273988, 4.69617835616438, 3.179557873018634, 3.99841847271546, 0.9862263013698637, 0.003405479452054793, 0.0, 0.0, 0.0, 0.0, 0.0], \"yaxis\": \"y\"}],                        {\"font\": {\"color\": \"black\", \"family\": \"Times New Roman\", \"size\": 14}, \"height\": 400, \"legend\": {\"font\": {\"size\": 14}, \"orientation\": \"h\", \"title\": {\"text\": \"variable\"}, \"tracegroupgap\": 0, \"x\": 1, \"xanchor\": \"right\", \"y\": 1.02, \"yanchor\": \"bottom\"}, \"margin\": {\"t\": 60}, \"template\": {\"data\": {\"pie\": [{\"automargin\": true, \"type\": \"pie\"}]}, \"layout\": {\"xaxis\": {\"showgrid\": false, \"title\": {\"standoff\": 15}}, \"yaxis\": {\"title\": {\"standoff\": 15}}}}, \"title\": {\"font\": {\"family\": \"Times New Roman\"}}, \"width\": 520, \"xaxis\": {\"anchor\": \"y\", \"domain\": [0.0, 1.0], \"linecolor\": \"black\", \"nticks\": 15, \"showline\": false, \"title\": {\"text\": \"Time (hour)\"}}, \"yaxis\": {\"anchor\": \"x\", \"domain\": [0.0, 1.0], \"linecolor\": \"black\", \"nticks\": 10, \"showline\": true, \"title\": {\"text\": \"Energy [kWh]\"}}},                        {\"responsive\": true}                    ).then(function(){\n",
       "                            \n",
       "var gd = document.getElementById('7886d427-6091-4633-9eb2-68e19042cd86');\n",
       "var x = new MutationObserver(function (mutations, observer) {{\n",
       "        var display = window.getComputedStyle(gd).display;\n",
       "        if (!display || display === 'none') {{\n",
       "            console.log([gd, 'removed!']);\n",
       "            Plotly.purge(gd);\n",
       "            observer.disconnect();\n",
       "        }}\n",
       "}});\n",
       "\n",
       "// Listen for the removal of the full notebook cells\n",
       "var notebookContainer = gd.closest('#notebook-container');\n",
       "if (notebookContainer) {{\n",
       "    x.observe(notebookContainer, {childList: true});\n",
       "}}\n",
       "\n",
       "// Listen for the clearing of the current output cell\n",
       "var outputEl = gd.closest('.output');\n",
       "if (outputEl) {{\n",
       "    x.observe(outputEl, {childList: true});\n",
       "}}\n",
       "\n",
       "                        })                };                });            </script>        </div>"
      ]
     },
     "metadata": {},
     "output_type": "display_data"
    }
   ],
   "source": [
    "#Sol disponible\n",
    "pv_disps = tabla_resultados[['recurso_pv_dis','p_bat_pv','energia_PV']]\n",
    "\n",
    "\n",
    "pv_disp = tabla_resultados.groupby([\"hora\"])['recurso_pv_dis','p_bat_pv','energia_PV'].mean().reset_index()\n",
    "\n",
    "\n",
    "pv_disp.columns=['hour','Available PV Energy', 'PV Energy to Battery Bank',  'PV Energy to Load']\n",
    "\n",
    "graficar(tipo='linea',\n",
    "         lista_campos=['Available PV Energy', 'PV Energy to Battery Bank',  'PV Energy to Load'],\n",
    "         titulo=\"\",\n",
    "        df = pv_disp )"
   ]
  },
  {
   "cell_type": "code",
   "execution_count": 98,
   "metadata": {
    "ExecuteTime": {
     "end_time": "2021-06-30T03:32:28.883840Z",
     "start_time": "2021-06-30T03:32:27.859927Z"
    }
   },
   "outputs": [
    {
     "name": "stderr",
     "output_type": "stream",
     "text": [
      "C:\\Users\\wrope\\anaconda3\\lib\\site-packages\\ipykernel_launcher.py:4: SettingWithCopyWarning:\n",
      "\n",
      "\n",
      "A value is trying to be set on a copy of a slice from a DataFrame.\n",
      "Try using .loc[row_indexer,col_indexer] = value instead\n",
      "\n",
      "See the caveats in the documentation: https://pandas.pydata.org/pandas-docs/stable/user_guide/indexing.html#returning-a-view-versus-a-copy\n",
      "\n",
      "C:\\Users\\wrope\\anaconda3\\lib\\site-packages\\ipykernel_launcher.py:6: FutureWarning:\n",
      "\n",
      "Indexing with multiple keys (implicitly converted to a tuple of keys) will be deprecated, use a list instead.\n",
      "\n"
     ]
    },
    {
     "data": {
      "application/vnd.plotly.v1+json": {
       "config": {
        "plotlyServerURL": "https://plot.ly"
       },
       "data": [
        {
         "hovertemplate": "variable=Used PV Energy<br>hour=%{x}<br>value=%{y}<extra></extra>",
         "legendgroup": "Used PV Energy",
         "line": {
          "color": "#1F77B4",
          "dash": "solid"
         },
         "mode": "lines",
         "name": "Used PV Energy",
         "orientation": "v",
         "showlegend": true,
         "type": "scatter",
         "x": [
          1,
          2,
          3,
          4,
          5,
          6,
          7,
          8,
          9,
          10,
          11,
          12,
          13,
          14,
          15,
          16,
          17,
          18,
          19,
          20,
          21,
          22,
          23,
          24
         ],
         "xaxis": "x",
         "y": [
          0,
          0,
          0,
          0,
          0,
          0.030112054794520123,
          1.9116258708484515,
          5.452903237518485,
          5.735290962773353,
          6.1166941675797215,
          8.224869080515893,
          9.123887484803268,
          8.676377693967309,
          7.67413040664569,
          5.915522183174799,
          3.6015266213828374,
          4.317354067829429,
          1.9650500639567825,
          0.028829777671622297,
          0,
          0,
          0,
          0,
          0
         ],
         "yaxis": "y"
        },
        {
         "hovertemplate": "variable=Available PV Energy<br>hour=%{x}<br>value=%{y}<extra></extra>",
         "legendgroup": "Available PV Energy",
         "line": {
          "color": "#FF7F0E",
          "dash": "solid"
         },
         "mode": "lines",
         "name": "Available PV Energy",
         "orientation": "v",
         "showlegend": true,
         "type": "scatter",
         "x": [
          1,
          2,
          3,
          4,
          5,
          6,
          7,
          8,
          9,
          10,
          11,
          12,
          13,
          14,
          15,
          16,
          17,
          18,
          19,
          20,
          21,
          22,
          23,
          24
         ],
         "xaxis": "x",
         "y": [
          0,
          0,
          0,
          0,
          0,
          0.03011205479452058,
          1.9443008219178093,
          5.545812054794521,
          5.827947945205479,
          9.610197534246566,
          22.17033643835617,
          33.78686712328767,
          38.738559726027376,
          31.65948109589042,
          14.492640821917808,
          4.268257260273971,
          4.413435616438363,
          1.9982961643835593,
          0.03754958904109588,
          0,
          0,
          0,
          0,
          0
         ],
         "yaxis": "y"
        }
       ],
       "layout": {
        "font": {
         "color": "black",
         "family": "Times New Roman",
         "size": 14
        },
        "height": 400,
        "legend": {
         "font": {
          "size": 14
         },
         "orientation": "h",
         "title": {
          "text": "variable"
         },
         "tracegroupgap": 0,
         "x": 1,
         "xanchor": "right",
         "y": 1.02,
         "yanchor": "bottom"
        },
        "margin": {
         "t": 60
        },
        "template": {
         "data": {
          "pie": [
           {
            "automargin": true,
            "type": "pie"
           }
          ]
         },
         "layout": {
          "xaxis": {
           "showgrid": false,
           "title": {
            "standoff": 15
           }
          },
          "yaxis": {
           "title": {
            "standoff": 15
           }
          }
         }
        },
        "title": {
         "font": {
          "family": "Times New Roman"
         }
        },
        "width": 520,
        "xaxis": {
         "anchor": "y",
         "domain": [
          0,
          1
         ],
         "linecolor": "black",
         "nticks": 15,
         "showline": false,
         "title": {
          "text": "Time (hour)"
         }
        },
        "yaxis": {
         "anchor": "x",
         "domain": [
          0,
          1
         ],
         "linecolor": "black",
         "nticks": 10,
         "showline": true,
         "title": {
          "text": "Energy [kWh]"
         }
        }
       }
      },
      "text/html": [
       "<div>                            <div id=\"6fe025fe-b6ad-4750-97b8-ceba1604ed81\" class=\"plotly-graph-div\" style=\"height:400px; width:520px;\"></div>            <script type=\"text/javascript\">                require([\"plotly\"], function(Plotly) {                    window.PLOTLYENV=window.PLOTLYENV || {};                                    if (document.getElementById(\"6fe025fe-b6ad-4750-97b8-ceba1604ed81\")) {                    Plotly.newPlot(                        \"6fe025fe-b6ad-4750-97b8-ceba1604ed81\",                        [{\"hovertemplate\": \"variable=Used PV Energy<br>hour=%{x}<br>value=%{y}<extra></extra>\", \"legendgroup\": \"Used PV Energy\", \"line\": {\"color\": \"#1F77B4\", \"dash\": \"solid\"}, \"mode\": \"lines\", \"name\": \"Used PV Energy\", \"orientation\": \"v\", \"showlegend\": true, \"type\": \"scatter\", \"x\": [1, 2, 3, 4, 5, 6, 7, 8, 9, 10, 11, 12, 13, 14, 15, 16, 17, 18, 19, 20, 21, 22, 23, 24], \"xaxis\": \"x\", \"y\": [0.0, 0.0, 0.0, 0.0, 0.0, 0.030112054794520123, 1.9116258708484515, 5.452903237518485, 5.735290962773353, 6.1166941675797215, 8.224869080515893, 9.123887484803268, 8.676377693967309, 7.67413040664569, 5.915522183174799, 3.6015266213828374, 4.317354067829429, 1.9650500639567825, 0.028829777671622297, 0.0, 0.0, 0.0, 0.0, 0.0], \"yaxis\": \"y\"}, {\"hovertemplate\": \"variable=Available PV Energy<br>hour=%{x}<br>value=%{y}<extra></extra>\", \"legendgroup\": \"Available PV Energy\", \"line\": {\"color\": \"#FF7F0E\", \"dash\": \"solid\"}, \"mode\": \"lines\", \"name\": \"Available PV Energy\", \"orientation\": \"v\", \"showlegend\": true, \"type\": \"scatter\", \"x\": [1, 2, 3, 4, 5, 6, 7, 8, 9, 10, 11, 12, 13, 14, 15, 16, 17, 18, 19, 20, 21, 22, 23, 24], \"xaxis\": \"x\", \"y\": [0.0, 0.0, 0.0, 0.0, 0.0, 0.03011205479452058, 1.9443008219178093, 5.545812054794521, 5.827947945205479, 9.610197534246566, 22.17033643835617, 33.78686712328767, 38.738559726027376, 31.65948109589042, 14.492640821917808, 4.268257260273971, 4.413435616438363, 1.9982961643835593, 0.03754958904109588, 0.0, 0.0, 0.0, 0.0, 0.0], \"yaxis\": \"y\"}],                        {\"font\": {\"color\": \"black\", \"family\": \"Times New Roman\", \"size\": 14}, \"height\": 400, \"legend\": {\"font\": {\"size\": 14}, \"orientation\": \"h\", \"title\": {\"text\": \"variable\"}, \"tracegroupgap\": 0, \"x\": 1, \"xanchor\": \"right\", \"y\": 1.02, \"yanchor\": \"bottom\"}, \"margin\": {\"t\": 60}, \"template\": {\"data\": {\"pie\": [{\"automargin\": true, \"type\": \"pie\"}]}, \"layout\": {\"xaxis\": {\"showgrid\": false, \"title\": {\"standoff\": 15}}, \"yaxis\": {\"title\": {\"standoff\": 15}}}}, \"title\": {\"font\": {\"family\": \"Times New Roman\"}}, \"width\": 520, \"xaxis\": {\"anchor\": \"y\", \"domain\": [0.0, 1.0], \"linecolor\": \"black\", \"nticks\": 15, \"showline\": false, \"title\": {\"text\": \"Time (hour)\"}}, \"yaxis\": {\"anchor\": \"x\", \"domain\": [0.0, 1.0], \"linecolor\": \"black\", \"nticks\": 10, \"showline\": true, \"title\": {\"text\": \"Energy [kWh]\"}}},                        {\"responsive\": true}                    ).then(function(){\n",
       "                            \n",
       "var gd = document.getElementById('6fe025fe-b6ad-4750-97b8-ceba1604ed81');\n",
       "var x = new MutationObserver(function (mutations, observer) {{\n",
       "        var display = window.getComputedStyle(gd).display;\n",
       "        if (!display || display === 'none') {{\n",
       "            console.log([gd, 'removed!']);\n",
       "            Plotly.purge(gd);\n",
       "            observer.disconnect();\n",
       "        }}\n",
       "}});\n",
       "\n",
       "// Listen for the removal of the full notebook cells\n",
       "var notebookContainer = gd.closest('#notebook-container');\n",
       "if (notebookContainer) {{\n",
       "    x.observe(notebookContainer, {childList: true});\n",
       "}}\n",
       "\n",
       "// Listen for the clearing of the current output cell\n",
       "var outputEl = gd.closest('.output');\n",
       "if (outputEl) {{\n",
       "    x.observe(outputEl, {childList: true});\n",
       "}}\n",
       "\n",
       "                        })                };                });            </script>        </div>"
      ]
     },
     "metadata": {},
     "output_type": "display_data"
    }
   ],
   "source": [
    "#Sol disponible\n",
    "pv_disps = tabla_resultados[['hora','recurso_pv_dis','p_bat_pv','energia_PV']]\n",
    "\n",
    "pv_disps['bat_mas_load_pv'] = pv_disps['p_bat_pv']+pv_disps['energia_PV']\n",
    "\n",
    "pv_disps = pv_disps.groupby([\"hora\"])['bat_mas_load_pv','recurso_pv_dis'].mean().reset_index()\n",
    "\n",
    "\n",
    "pv_disps.columns=['hour','Used PV Energy','Available PV Energy']\n",
    "\n",
    "graficar(tipo='linea',\n",
    "         lista_campos=['Used PV Energy','Available PV Energy'],\n",
    "         titulo=\"\",\n",
    "        df = pv_disps )"
   ]
  },
  {
   "cell_type": "code",
   "execution_count": 99,
   "metadata": {
    "ExecuteTime": {
     "end_time": "2021-06-30T03:32:29.825830Z",
     "start_time": "2021-06-30T03:32:29.049790Z"
    },
    "scrolled": false
   },
   "outputs": [
    {
     "data": {
      "application/vnd.plotly.v1+json": {
       "config": {
        "plotlyServerURL": "https://plot.ly"
       },
       "data": [
        {
         "alignmentgroup": "True",
         "hovertemplate": "variable=Charging<br>index=%{x}<br>value=%{y}<extra></extra>",
         "legendgroup": "Charging",
         "marker": {
          "color": "#1F77B4"
         },
         "name": "Charging",
         "offsetgroup": "Charging",
         "orientation": "v",
         "showlegend": true,
         "textposition": "auto",
         "type": "bar",
         "x": [
          0,
          1,
          2,
          3,
          4,
          5,
          6,
          7,
          8,
          9,
          10,
          11,
          12,
          13,
          14,
          15,
          16,
          17,
          18,
          19,
          20,
          21,
          22
         ],
         "xaxis": "x",
         "y": [
          0,
          0,
          0,
          0,
          0,
          0,
          0,
          0,
          2.8427,
          0,
          0.0099999999999962,
          6.64301560936178,
          6.92231292105549,
          3.78921774937407,
          0,
          0,
          3.764665,
          1.79885,
          2.01873,
          4.62896999999998,
          0,
          0,
          0
         ],
         "yaxis": "y"
        },
        {
         "alignmentgroup": "True",
         "hovertemplate": "variable=Discharging<br>index=%{x}<br>value=%{y}<extra></extra>",
         "legendgroup": "Discharging",
         "marker": {
          "color": "#FF7F0E"
         },
         "name": "Discharging",
         "offsetgroup": "Discharging",
         "orientation": "v",
         "showlegend": true,
         "textposition": "auto",
         "type": "bar",
         "x": [
          0,
          1,
          2,
          3,
          4,
          5,
          6,
          7,
          8,
          9,
          10,
          11,
          12,
          13,
          14,
          15,
          16,
          17,
          18,
          19,
          20,
          21,
          22
         ],
         "xaxis": "x",
         "y": [
          -2.0423,
          -2.041,
          -2.0433,
          -2.0415,
          -2.0671,
          -2.8803,
          -2.16620820236164,
          -0.824100000000001,
          0,
          -1.60718011612851,
          0,
          0,
          0,
          0,
          -5.2204,
          -4.5688,
          0,
          0,
          0,
          0,
          -1.9276,
          -1.8192,
          -1.7999
         ],
         "yaxis": "y"
        }
       ],
       "layout": {
        "barmode": "relative",
        "font": {
         "color": "black",
         "family": "Times New Roman",
         "size": 14
        },
        "height": 400,
        "legend": {
         "font": {
          "size": 14
         },
         "orientation": "h",
         "title": {
          "text": "variable"
         },
         "tracegroupgap": 0,
         "x": 1,
         "xanchor": "right",
         "y": 1.02,
         "yanchor": "bottom"
        },
        "margin": {
         "t": 60
        },
        "template": {
         "data": {
          "pie": [
           {
            "automargin": true,
            "type": "pie"
           }
          ]
         },
         "layout": {
          "xaxis": {
           "showgrid": false,
           "title": {
            "standoff": 15
           }
          },
          "yaxis": {
           "title": {
            "standoff": 15
           }
          }
         }
        },
        "title": {
         "font": {
          "family": "Times New Roman"
         }
        },
        "width": 520,
        "xaxis": {
         "anchor": "y",
         "domain": [
          0,
          1
         ],
         "linecolor": "black",
         "nticks": 15,
         "showline": false,
         "title": {
          "text": "Time (hour)"
         }
        },
        "yaxis": {
         "anchor": "x",
         "domain": [
          0,
          1
         ],
         "linecolor": "black",
         "nticks": 10,
         "showline": true,
         "title": {
          "text": "Energy [kWh]"
         }
        }
       }
      },
      "text/html": [
       "<div>                            <div id=\"7d6dcaa5-e66b-468f-abc9-5e5a95ba6b45\" class=\"plotly-graph-div\" style=\"height:400px; width:520px;\"></div>            <script type=\"text/javascript\">                require([\"plotly\"], function(Plotly) {                    window.PLOTLYENV=window.PLOTLYENV || {};                                    if (document.getElementById(\"7d6dcaa5-e66b-468f-abc9-5e5a95ba6b45\")) {                    Plotly.newPlot(                        \"7d6dcaa5-e66b-468f-abc9-5e5a95ba6b45\",                        [{\"alignmentgroup\": \"True\", \"hovertemplate\": \"variable=Charging<br>index=%{x}<br>value=%{y}<extra></extra>\", \"legendgroup\": \"Charging\", \"marker\": {\"color\": \"#1F77B4\"}, \"name\": \"Charging\", \"offsetgroup\": \"Charging\", \"orientation\": \"v\", \"showlegend\": true, \"textposition\": \"auto\", \"type\": \"bar\", \"x\": [0, 1, 2, 3, 4, 5, 6, 7, 8, 9, 10, 11, 12, 13, 14, 15, 16, 17, 18, 19, 20, 21, 22], \"xaxis\": \"x\", \"y\": [0.0, 0.0, 0.0, 0.0, 0.0, 0.0, 0.0, 0.0, 2.8427, 0.0, 0.0099999999999962, 6.64301560936178, 6.92231292105549, 3.78921774937407, 0.0, 0.0, 3.764665, 1.79885, 2.01873, 4.62896999999998, 0.0, 0.0, 0.0], \"yaxis\": \"y\"}, {\"alignmentgroup\": \"True\", \"hovertemplate\": \"variable=Discharging<br>index=%{x}<br>value=%{y}<extra></extra>\", \"legendgroup\": \"Discharging\", \"marker\": {\"color\": \"#FF7F0E\"}, \"name\": \"Discharging\", \"offsetgroup\": \"Discharging\", \"orientation\": \"v\", \"showlegend\": true, \"textposition\": \"auto\", \"type\": \"bar\", \"x\": [0, 1, 2, 3, 4, 5, 6, 7, 8, 9, 10, 11, 12, 13, 14, 15, 16, 17, 18, 19, 20, 21, 22], \"xaxis\": \"x\", \"y\": [-2.0423, -2.041, -2.0433, -2.0415, -2.0671, -2.8803, -2.16620820236164, -0.824100000000001, -0.0, -1.60718011612851, -0.0, -0.0, -0.0, -0.0, -5.2204, -4.5688, -0.0, -0.0, -0.0, -0.0, -1.9276, -1.8192, -1.7999], \"yaxis\": \"y\"}],                        {\"barmode\": \"relative\", \"font\": {\"color\": \"black\", \"family\": \"Times New Roman\", \"size\": 14}, \"height\": 400, \"legend\": {\"font\": {\"size\": 14}, \"orientation\": \"h\", \"title\": {\"text\": \"variable\"}, \"tracegroupgap\": 0, \"x\": 1, \"xanchor\": \"right\", \"y\": 1.02, \"yanchor\": \"bottom\"}, \"margin\": {\"t\": 60}, \"template\": {\"data\": {\"pie\": [{\"automargin\": true, \"type\": \"pie\"}]}, \"layout\": {\"xaxis\": {\"showgrid\": false, \"title\": {\"standoff\": 15}}, \"yaxis\": {\"title\": {\"standoff\": 15}}}}, \"title\": {\"font\": {\"family\": \"Times New Roman\"}}, \"width\": 520, \"xaxis\": {\"anchor\": \"y\", \"domain\": [0.0, 1.0], \"linecolor\": \"black\", \"nticks\": 15, \"showline\": false, \"title\": {\"text\": \"Time (hour)\"}}, \"yaxis\": {\"anchor\": \"x\", \"domain\": [0.0, 1.0], \"linecolor\": \"black\", \"nticks\": 10, \"showline\": true, \"title\": {\"text\": \"Energy [kWh]\"}}},                        {\"responsive\": true}                    ).then(function(){\n",
       "                            \n",
       "var gd = document.getElementById('7d6dcaa5-e66b-468f-abc9-5e5a95ba6b45');\n",
       "var x = new MutationObserver(function (mutations, observer) {{\n",
       "        var display = window.getComputedStyle(gd).display;\n",
       "        if (!display || display === 'none') {{\n",
       "            console.log([gd, 'removed!']);\n",
       "            Plotly.purge(gd);\n",
       "            observer.disconnect();\n",
       "        }}\n",
       "}});\n",
       "\n",
       "// Listen for the removal of the full notebook cells\n",
       "var notebookContainer = gd.closest('#notebook-container');\n",
       "if (notebookContainer) {{\n",
       "    x.observe(notebookContainer, {childList: true});\n",
       "}}\n",
       "\n",
       "// Listen for the clearing of the current output cell\n",
       "var outputEl = gd.closest('.output');\n",
       "if (outputEl) {{\n",
       "    x.observe(outputEl, {childList: true});\n",
       "}}\n",
       "\n",
       "                        })                };                });            </script>        </div>"
      ]
     },
     "metadata": {},
     "output_type": "display_data"
    }
   ],
   "source": [
    "bat_c = tabla_resultados.head(23)[['energia_carga_bateria','energia_descarga_bateria']]\n",
    "bat_c['energia_descarga_bateria'] = bat_c['energia_descarga_bateria']*-1\n",
    "\n",
    "bat_c.columns = ['Charging','Discharging']\n",
    "\n",
    "graficar(tipo='bar',\n",
    "         lista_campos=['Charging','Discharging'],\n",
    "         titulo=\"\",\n",
    "        df = bat_c)"
   ]
  },
  {
   "cell_type": "code",
   "execution_count": 100,
   "metadata": {
    "ExecuteTime": {
     "end_time": "2021-06-30T03:32:30.589296Z",
     "start_time": "2021-06-30T03:32:30.558041Z"
    }
   },
   "outputs": [
    {
     "data": {
      "text/plain": [
       "Index(['id_simulacion', 'energia_PV', 'energia_Dg', 'bin_diesel',\n",
       "       'energia_carga_bateria', 'bin_bat_carga', 'energia_descarga_bateria',\n",
       "       'bin_bat_descarga', 'energia_ENS', 'SOC(t)_bateria', 'p_bat_pv',\n",
       "       'p_bat_dg', 'suma_pv_dg_bat_descarga', 'load', 'recurso_pv_dis',\n",
       "       'recurso_diesel_dis', 'porcentaje_carga_dg', 'porcentaje_energia_dg',\n",
       "       'porcentaje_carga_bat_dg', 'porcentaje_SOC_t', 'date', 'hora', 'dia',\n",
       "       'mes', 'Month'],\n",
       "      dtype='object')"
      ]
     },
     "execution_count": 100,
     "metadata": {},
     "output_type": "execute_result"
    }
   ],
   "source": [
    "tabla_resultados.columns"
   ]
  },
  {
   "cell_type": "code",
   "execution_count": 101,
   "metadata": {
    "ExecuteTime": {
     "end_time": "2021-06-30T03:32:32.363066Z",
     "start_time": "2021-06-30T03:32:31.275714Z"
    }
   },
   "outputs": [
    {
     "data": {
      "application/vnd.plotly.v1+json": {
       "config": {
        "plotlyServerURL": "https://plot.ly"
       },
       "data": [
        {
         "alignmentgroup": "True",
         "hovertemplate": "variable=Battery Bank Energy<br>index=%{x}<br>value=%{y}<extra></extra>",
         "legendgroup": "Battery Bank Energy",
         "marker": {
          "color": "#1F77B4"
         },
         "name": "Battery Bank Energy",
         "offsetgroup": "Battery Bank Energy",
         "orientation": "v",
         "showlegend": true,
         "textposition": "auto",
         "type": "bar",
         "x": [
          0,
          1,
          2,
          3,
          4,
          5,
          6,
          7,
          8,
          9,
          10,
          11,
          12,
          13,
          14,
          15,
          16,
          17,
          18,
          19,
          20,
          21,
          22,
          23
         ],
         "xaxis": "x",
         "y": [
          1.88212765383271,
          0,
          2.0027,
          1.9876,
          1.80165923893123,
          0.788927484043949,
          0.0591413333916407,
          0.01,
          0.01,
          0.01,
          0,
          0,
          0,
          0,
          0,
          5.4812,
          2.1246,
          0,
          0,
          2.9836,
          2.028,
          1.9694,
          1.9701,
          1.9711
         ],
         "yaxis": "y"
        },
        {
         "alignmentgroup": "True",
         "hovertemplate": "variable=PV Energy<br>index=%{x}<br>value=%{y}<extra></extra>",
         "legendgroup": "PV Energy",
         "marker": {
          "color": "#FF7F0E"
         },
         "name": "PV Energy",
         "offsetgroup": "PV Energy",
         "orientation": "v",
         "showlegend": true,
         "textposition": "auto",
         "type": "bar",
         "x": [
          0,
          1,
          2,
          3,
          4,
          5,
          6,
          7,
          8,
          9,
          10,
          11,
          12,
          13,
          14,
          15,
          16,
          17,
          18,
          19,
          20,
          21,
          22,
          23
         ],
         "xaxis": "x",
         "y": [
          0,
          0,
          0,
          0,
          0,
          0.0337,
          2.5972,
          6.4708,
          6.6253,
          4.3711,
          6.552,
          5.8154,
          5.8275,
          6.0838,
          6.0949,
          1.1172,
          4.7632,
          0,
          0,
          0,
          0,
          0,
          0,
          0
         ],
         "yaxis": "y"
        },
        {
         "alignmentgroup": "True",
         "hovertemplate": "variable=Diesel Energy<br>index=%{x}<br>value=%{y}<extra></extra>",
         "legendgroup": "Diesel Energy",
         "marker": {
          "color": "#2CA02C"
         },
         "name": "Diesel Energy",
         "offsetgroup": "Diesel Energy",
         "orientation": "v",
         "showlegend": true,
         "textposition": "auto",
         "type": "bar",
         "x": [
          0,
          1,
          2,
          3,
          4,
          5,
          6,
          7,
          8,
          9,
          10,
          11,
          12,
          13,
          14,
          15,
          16,
          17,
          18,
          19,
          20,
          21,
          22,
          23
         ],
         "xaxis": "x",
         "y": [
          0,
          1.9811,
          0,
          0,
          0,
          0,
          0,
          0,
          0,
          0,
          0,
          0,
          0,
          0,
          0,
          0,
          0,
          7.0921,
          6.3428,
          0,
          0,
          0,
          0,
          0
         ],
         "yaxis": "y"
        },
        {
         "alignmentgroup": "True",
         "hovertemplate": "variable=PENS Energy<br>index=%{x}<br>value=%{y}<extra></extra>",
         "legendgroup": "PENS Energy",
         "marker": {
          "color": "#D62728"
         },
         "name": "PENS Energy",
         "offsetgroup": "PENS Energy",
         "orientation": "v",
         "showlegend": true,
         "textposition": "auto",
         "type": "bar",
         "x": [
          0,
          1,
          2,
          3,
          4,
          5,
          6,
          7,
          8,
          9,
          10,
          11,
          12,
          13,
          14,
          15,
          16,
          17,
          18,
          19,
          20,
          21,
          22,
          23
         ],
         "xaxis": "x",
         "y": [
          0.0975723461672944,
          0,
          0,
          0,
          0.17474076106877,
          1.14237251595605,
          1.54635866660836,
          0.8784,
          0.9828,
          3.1614,
          0,
          0,
          0,
          0,
          0,
          0,
          0,
          0,
          0,
          0,
          0,
          0,
          0,
          0
         ],
         "yaxis": "y"
        }
       ],
       "layout": {
        "barmode": "relative",
        "font": {
         "color": "black",
         "family": "Times New Roman",
         "size": 14
        },
        "height": 400,
        "legend": {
         "font": {
          "size": 14
         },
         "orientation": "h",
         "title": {
          "text": "variable"
         },
         "tracegroupgap": 0,
         "x": 1,
         "xanchor": "right",
         "y": 1.02,
         "yanchor": "bottom"
        },
        "margin": {
         "t": 60
        },
        "template": {
         "data": {
          "pie": [
           {
            "automargin": true,
            "type": "pie"
           }
          ]
         },
         "layout": {
          "xaxis": {
           "showgrid": false,
           "title": {
            "standoff": 15
           }
          },
          "yaxis": {
           "title": {
            "standoff": 15
           }
          }
         }
        },
        "title": {
         "font": {
          "family": "Times New Roman"
         }
        },
        "width": 520,
        "xaxis": {
         "anchor": "y",
         "domain": [
          0,
          1
         ],
         "linecolor": "black",
         "nticks": 15,
         "showline": false,
         "title": {
          "text": "Time (hour)"
         }
        },
        "yaxis": {
         "anchor": "x",
         "domain": [
          0,
          1
         ],
         "linecolor": "black",
         "nticks": 10,
         "showline": true,
         "title": {
          "text": "Energy [kWh]"
         }
        }
       }
      },
      "text/html": [
       "<div>                            <div id=\"f9ec02ea-9acc-4aa9-a118-b8600180f723\" class=\"plotly-graph-div\" style=\"height:400px; width:520px;\"></div>            <script type=\"text/javascript\">                require([\"plotly\"], function(Plotly) {                    window.PLOTLYENV=window.PLOTLYENV || {};                                    if (document.getElementById(\"f9ec02ea-9acc-4aa9-a118-b8600180f723\")) {                    Plotly.newPlot(                        \"f9ec02ea-9acc-4aa9-a118-b8600180f723\",                        [{\"alignmentgroup\": \"True\", \"hovertemplate\": \"variable=Battery Bank Energy<br>index=%{x}<br>value=%{y}<extra></extra>\", \"legendgroup\": \"Battery Bank Energy\", \"marker\": {\"color\": \"#1F77B4\"}, \"name\": \"Battery Bank Energy\", \"offsetgroup\": \"Battery Bank Energy\", \"orientation\": \"v\", \"showlegend\": true, \"textposition\": \"auto\", \"type\": \"bar\", \"x\": [0, 1, 2, 3, 4, 5, 6, 7, 8, 9, 10, 11, 12, 13, 14, 15, 16, 17, 18, 19, 20, 21, 22, 23], \"xaxis\": \"x\", \"y\": [1.88212765383271, 0.0, 2.0027, 1.9876, 1.80165923893123, 0.788927484043949, 0.0591413333916407, 0.01, 0.01, 0.01, 0.0, 0.0, 0.0, 0.0, 0.0, 5.4812, 2.1246, 0.0, 0.0, 2.9836, 2.028, 1.9694, 1.9701, 1.9711], \"yaxis\": \"y\"}, {\"alignmentgroup\": \"True\", \"hovertemplate\": \"variable=PV Energy<br>index=%{x}<br>value=%{y}<extra></extra>\", \"legendgroup\": \"PV Energy\", \"marker\": {\"color\": \"#FF7F0E\"}, \"name\": \"PV Energy\", \"offsetgroup\": \"PV Energy\", \"orientation\": \"v\", \"showlegend\": true, \"textposition\": \"auto\", \"type\": \"bar\", \"x\": [0, 1, 2, 3, 4, 5, 6, 7, 8, 9, 10, 11, 12, 13, 14, 15, 16, 17, 18, 19, 20, 21, 22, 23], \"xaxis\": \"x\", \"y\": [0.0, 0.0, 0.0, 0.0, 0.0, 0.0337, 2.5972, 6.4708, 6.6253, 4.3711, 6.552, 5.8154, 5.8275, 6.0838, 6.0949, 1.1172, 4.7632, 0.0, 0.0, 0.0, 0.0, 0.0, 0.0, 0.0], \"yaxis\": \"y\"}, {\"alignmentgroup\": \"True\", \"hovertemplate\": \"variable=Diesel Energy<br>index=%{x}<br>value=%{y}<extra></extra>\", \"legendgroup\": \"Diesel Energy\", \"marker\": {\"color\": \"#2CA02C\"}, \"name\": \"Diesel Energy\", \"offsetgroup\": \"Diesel Energy\", \"orientation\": \"v\", \"showlegend\": true, \"textposition\": \"auto\", \"type\": \"bar\", \"x\": [0, 1, 2, 3, 4, 5, 6, 7, 8, 9, 10, 11, 12, 13, 14, 15, 16, 17, 18, 19, 20, 21, 22, 23], \"xaxis\": \"x\", \"y\": [0.0, 1.9811, 0.0, 0.0, 0.0, 0.0, 0.0, 0.0, 0.0, 0.0, 0.0, 0.0, 0.0, 0.0, 0.0, 0.0, 0.0, 7.0921, 6.3428, 0.0, 0.0, 0.0, 0.0, 0.0], \"yaxis\": \"y\"}, {\"alignmentgroup\": \"True\", \"hovertemplate\": \"variable=PENS Energy<br>index=%{x}<br>value=%{y}<extra></extra>\", \"legendgroup\": \"PENS Energy\", \"marker\": {\"color\": \"#D62728\"}, \"name\": \"PENS Energy\", \"offsetgroup\": \"PENS Energy\", \"orientation\": \"v\", \"showlegend\": true, \"textposition\": \"auto\", \"type\": \"bar\", \"x\": [0, 1, 2, 3, 4, 5, 6, 7, 8, 9, 10, 11, 12, 13, 14, 15, 16, 17, 18, 19, 20, 21, 22, 23], \"xaxis\": \"x\", \"y\": [0.0975723461672944, 0.0, 0.0, 0.0, 0.17474076106877, 1.14237251595605, 1.54635866660836, 0.8784, 0.9828, 3.1614, 0.0, 0.0, 0.0, 0.0, 0.0, 0.0, 0.0, 0.0, 0.0, 0.0, 0.0, 0.0, 0.0, 0.0], \"yaxis\": \"y\"}],                        {\"barmode\": \"relative\", \"font\": {\"color\": \"black\", \"family\": \"Times New Roman\", \"size\": 14}, \"height\": 400, \"legend\": {\"font\": {\"size\": 14}, \"orientation\": \"h\", \"title\": {\"text\": \"variable\"}, \"tracegroupgap\": 0, \"x\": 1, \"xanchor\": \"right\", \"y\": 1.02, \"yanchor\": \"bottom\"}, \"margin\": {\"t\": 60}, \"template\": {\"data\": {\"pie\": [{\"automargin\": true, \"type\": \"pie\"}]}, \"layout\": {\"xaxis\": {\"showgrid\": false, \"title\": {\"standoff\": 15}}, \"yaxis\": {\"title\": {\"standoff\": 15}}}}, \"title\": {\"font\": {\"family\": \"Times New Roman\"}}, \"width\": 520, \"xaxis\": {\"anchor\": \"y\", \"domain\": [0.0, 1.0], \"linecolor\": \"black\", \"nticks\": 15, \"showline\": false, \"title\": {\"text\": \"Time (hour)\"}}, \"yaxis\": {\"anchor\": \"x\", \"domain\": [0.0, 1.0], \"linecolor\": \"black\", \"nticks\": 10, \"showline\": true, \"title\": {\"text\": \"Energy [kWh]\"}}},                        {\"responsive\": true}                    ).then(function(){\n",
       "                            \n",
       "var gd = document.getElementById('f9ec02ea-9acc-4aa9-a118-b8600180f723');\n",
       "var x = new MutationObserver(function (mutations, observer) {{\n",
       "        var display = window.getComputedStyle(gd).display;\n",
       "        if (!display || display === 'none') {{\n",
       "            console.log([gd, 'removed!']);\n",
       "            Plotly.purge(gd);\n",
       "            observer.disconnect();\n",
       "        }}\n",
       "}});\n",
       "\n",
       "// Listen for the removal of the full notebook cells\n",
       "var notebookContainer = gd.closest('#notebook-container');\n",
       "if (notebookContainer) {{\n",
       "    x.observe(notebookContainer, {childList: true});\n",
       "}}\n",
       "\n",
       "// Listen for the clearing of the current output cell\n",
       "var outputEl = gd.closest('.output');\n",
       "if (outputEl) {{\n",
       "    x.observe(outputEl, {childList: true});\n",
       "}}\n",
       "\n",
       "                        })                };                });            </script>        </div>"
      ]
     },
     "metadata": {},
     "output_type": "display_data"
    }
   ],
   "source": [
    "energy_to_load = tabla_resultados.tail(120)[['energia_descarga_bateria','energia_PV','energia_Dg','energia_ENS']].head(24).reset_index(drop=True)\n",
    "\n",
    "energy_to_load.columns = ['Battery Bank Energy','PV Energy','Diesel Energy','PENS Energy']\n",
    "\n",
    "graficar(tipo='bar',\n",
    "         lista_campos=['Battery Bank Energy','PV Energy','Diesel Energy','PENS Energy'],\n",
    "         titulo=\"\",\n",
    "        df = energy_to_load)"
   ]
  },
  {
   "cell_type": "code",
   "execution_count": 18,
   "metadata": {
    "ExecuteTime": {
     "end_time": "2021-06-30T02:54:28.814610Z",
     "start_time": "2021-06-30T02:54:27.680519Z"
    }
   },
   "outputs": [
    {
     "name": "stderr",
     "output_type": "stream",
     "text": [
      "C:\\Users\\wrope\\anaconda3\\lib\\site-packages\\ipykernel_launcher.py:1: FutureWarning:\n",
      "\n",
      "Indexing with multiple keys (implicitly converted to a tuple of keys) will be deprecated, use a list instead.\n",
      "\n"
     ]
    },
    {
     "data": {
      "application/vnd.plotly.v1+json": {
       "config": {
        "plotlyServerURL": "https://plot.ly"
       },
       "data": [
        {
         "alignmentgroup": "True",
         "hovertemplate": "variable=energia_descarga_bateria<br>index=%{x}<br>value=%{y}<extra></extra>",
         "legendgroup": "energia_descarga_bateria",
         "marker": {
          "color": "#1F77B4"
         },
         "name": "energia_descarga_bateria",
         "offsetgroup": "energia_descarga_bateria",
         "orientation": "v",
         "showlegend": true,
         "textposition": "auto",
         "type": "bar",
         "x": [
          0,
          1,
          2,
          3,
          4,
          5,
          6,
          7,
          8,
          9,
          10,
          11,
          12,
          13,
          14,
          15,
          16,
          17,
          18,
          19,
          20,
          21,
          22,
          23
         ],
         "xaxis": "x",
         "y": [
          -1.731792871893574,
          -1.6981502871249896,
          -1.6553740402488903,
          -1.6014885522745061,
          -1.4965270344068813,
          -1.3530246372059422,
          -0.48586906405000524,
          -0.06834217437601613,
          -0.31927092759059217,
          -0.6286065437656831,
          -0.3501844973913927,
          -0.12181787030483315,
          -0.11558109589041095,
          -0.26706259077104444,
          -0.5313684284700985,
          -1.2519518089965433,
          -0.23905835616438356,
          -2.5702989628257398,
          -5.488162122445386,
          -2.934022536937971,
          -1.861230489845482,
          -1.7948938650116504,
          -1.7743292851988808,
          -1.7659449964827911
         ],
         "yaxis": "y"
        },
        {
         "alignmentgroup": "True",
         "hovertemplate": "variable=energia_carga_bateria<br>index=%{x}<br>value=%{y}<extra></extra>",
         "legendgroup": "energia_carga_bateria",
         "marker": {
          "color": "#FF7F0E"
         },
         "name": "energia_carga_bateria",
         "offsetgroup": "energia_carga_bateria",
         "orientation": "v",
         "showlegend": true,
         "textposition": "auto",
         "type": "bar",
         "x": [
          0,
          1,
          2,
          3,
          4,
          5,
          6,
          7,
          8,
          9,
          10,
          11,
          12,
          13,
          14,
          15,
          16,
          17,
          18,
          19,
          20,
          21,
          22,
          23
         ],
         "xaxis": "x",
         "y": [
          0,
          0,
          0,
          0,
          0,
          0,
          0.3347905102277818,
          2.9412872702088726,
          4.008547040475519,
          3.9135306738191926,
          6.246908978528442,
          7.573887524095225,
          7.651906576986203,
          7.850071692282101,
          6.262242098904592,
          2.852617696350735,
          2.813001834992137,
          0.34605538230690197,
          0,
          0,
          0,
          0,
          0,
          0
         ],
         "yaxis": "y"
        }
       ],
       "layout": {
        "barmode": "relative",
        "font": {
         "color": "black",
         "family": "Times New Roman",
         "size": 14
        },
        "height": 400,
        "legend": {
         "font": {
          "size": 14
         },
         "orientation": "h",
         "title": {
          "text": "variable"
         },
         "tracegroupgap": 0,
         "x": 1,
         "xanchor": "right",
         "y": 1.02,
         "yanchor": "bottom"
        },
        "margin": {
         "t": 60
        },
        "template": {
         "data": {
          "pie": [
           {
            "automargin": true,
            "type": "pie"
           }
          ]
         },
         "layout": {
          "xaxis": {
           "showgrid": false,
           "title": {
            "standoff": 15
           }
          },
          "yaxis": {
           "title": {
            "standoff": 15
           }
          }
         }
        },
        "title": {
         "font": {
          "family": "Times New Roman"
         }
        },
        "width": 520,
        "xaxis": {
         "anchor": "y",
         "domain": [
          0,
          1
         ],
         "linecolor": "black",
         "nticks": 15,
         "showline": false,
         "title": {
          "text": "Time (hour)"
         }
        },
        "yaxis": {
         "anchor": "x",
         "domain": [
          0,
          1
         ],
         "linecolor": "black",
         "nticks": 10,
         "showline": true,
         "title": {
          "text": "Energy [kWh]"
         }
        }
       }
      },
      "text/html": [
       "<div>                            <div id=\"a49c25db-400b-4478-a085-f07764512598\" class=\"plotly-graph-div\" style=\"height:400px; width:520px;\"></div>            <script type=\"text/javascript\">                require([\"plotly\"], function(Plotly) {                    window.PLOTLYENV=window.PLOTLYENV || {};                                    if (document.getElementById(\"a49c25db-400b-4478-a085-f07764512598\")) {                    Plotly.newPlot(                        \"a49c25db-400b-4478-a085-f07764512598\",                        [{\"alignmentgroup\": \"True\", \"hovertemplate\": \"variable=energia_descarga_bateria<br>index=%{x}<br>value=%{y}<extra></extra>\", \"legendgroup\": \"energia_descarga_bateria\", \"marker\": {\"color\": \"#1F77B4\"}, \"name\": \"energia_descarga_bateria\", \"offsetgroup\": \"energia_descarga_bateria\", \"orientation\": \"v\", \"showlegend\": true, \"textposition\": \"auto\", \"type\": \"bar\", \"x\": [0, 1, 2, 3, 4, 5, 6, 7, 8, 9, 10, 11, 12, 13, 14, 15, 16, 17, 18, 19, 20, 21, 22, 23], \"xaxis\": \"x\", \"y\": [-1.731792871893574, -1.6981502871249896, -1.6553740402488903, -1.6014885522745061, -1.4965270344068813, -1.3530246372059422, -0.48586906405000524, -0.06834217437601613, -0.31927092759059217, -0.6286065437656831, -0.3501844973913927, -0.12181787030483315, -0.11558109589041095, -0.26706259077104444, -0.5313684284700985, -1.2519518089965433, -0.23905835616438356, -2.5702989628257398, -5.488162122445386, -2.934022536937971, -1.861230489845482, -1.7948938650116504, -1.7743292851988808, -1.7659449964827911], \"yaxis\": \"y\"}, {\"alignmentgroup\": \"True\", \"hovertemplate\": \"variable=energia_carga_bateria<br>index=%{x}<br>value=%{y}<extra></extra>\", \"legendgroup\": \"energia_carga_bateria\", \"marker\": {\"color\": \"#FF7F0E\"}, \"name\": \"energia_carga_bateria\", \"offsetgroup\": \"energia_carga_bateria\", \"orientation\": \"v\", \"showlegend\": true, \"textposition\": \"auto\", \"type\": \"bar\", \"x\": [0, 1, 2, 3, 4, 5, 6, 7, 8, 9, 10, 11, 12, 13, 14, 15, 16, 17, 18, 19, 20, 21, 22, 23], \"xaxis\": \"x\", \"y\": [0.0, 0.0, 0.0, 0.0, 0.0, 0.0, 0.3347905102277818, 2.9412872702088726, 4.008547040475519, 3.9135306738191926, 6.246908978528442, 7.573887524095225, 7.651906576986203, 7.850071692282101, 6.262242098904592, 2.852617696350735, 2.813001834992137, 0.34605538230690197, 0.0, 0.0, 0.0, 0.0, 0.0, 0.0], \"yaxis\": \"y\"}],                        {\"barmode\": \"relative\", \"font\": {\"color\": \"black\", \"family\": \"Times New Roman\", \"size\": 14}, \"height\": 400, \"legend\": {\"font\": {\"size\": 14}, \"orientation\": \"h\", \"title\": {\"text\": \"variable\"}, \"tracegroupgap\": 0, \"x\": 1, \"xanchor\": \"right\", \"y\": 1.02, \"yanchor\": \"bottom\"}, \"margin\": {\"t\": 60}, \"template\": {\"data\": {\"pie\": [{\"automargin\": true, \"type\": \"pie\"}]}, \"layout\": {\"xaxis\": {\"showgrid\": false, \"title\": {\"standoff\": 15}}, \"yaxis\": {\"title\": {\"standoff\": 15}}}}, \"title\": {\"font\": {\"family\": \"Times New Roman\"}}, \"width\": 520, \"xaxis\": {\"anchor\": \"y\", \"domain\": [0.0, 1.0], \"linecolor\": \"black\", \"nticks\": 15, \"showline\": false, \"title\": {\"text\": \"Time (hour)\"}}, \"yaxis\": {\"anchor\": \"x\", \"domain\": [0.0, 1.0], \"linecolor\": \"black\", \"nticks\": 10, \"showline\": true, \"title\": {\"text\": \"Energy [kWh]\"}}},                        {\"responsive\": true}                    ).then(function(){\n",
       "                            \n",
       "var gd = document.getElementById('a49c25db-400b-4478-a085-f07764512598');\n",
       "var x = new MutationObserver(function (mutations, observer) {{\n",
       "        var display = window.getComputedStyle(gd).display;\n",
       "        if (!display || display === 'none') {{\n",
       "            console.log([gd, 'removed!']);\n",
       "            Plotly.purge(gd);\n",
       "            observer.disconnect();\n",
       "        }}\n",
       "}});\n",
       "\n",
       "// Listen for the removal of the full notebook cells\n",
       "var notebookContainer = gd.closest('#notebook-container');\n",
       "if (notebookContainer) {{\n",
       "    x.observe(notebookContainer, {childList: true});\n",
       "}}\n",
       "\n",
       "// Listen for the clearing of the current output cell\n",
       "var outputEl = gd.closest('.output');\n",
       "if (outputEl) {{\n",
       "    x.observe(outputEl, {childList: true});\n",
       "}}\n",
       "\n",
       "                        })                };                });            </script>        </div>"
      ]
     },
     "metadata": {},
     "output_type": "display_data"
    },
    {
     "name": "stderr",
     "output_type": "stream",
     "text": [
      "C:\\Users\\wrope\\anaconda3\\lib\\site-packages\\ipykernel_launcher.py:9: FutureWarning:\n",
      "\n",
      "Indexing with multiple keys (implicitly converted to a tuple of keys) will be deprecated, use a list instead.\n",
      "\n"
     ]
    },
    {
     "ename": "ValueError",
     "evalue": "Value of 'x' is not the name of a column in 'data_frame'. Expected one of ['hora', 'p_bat_pv', 'energia_carga_bateria', 'p_bat_dg'] but received: hour",
     "output_type": "error",
     "traceback": [
      "\u001b[1;31m---------------------------------------------------------------------------\u001b[0m",
      "\u001b[1;31mValueError\u001b[0m                                Traceback (most recent call last)",
      "\u001b[1;32m<ipython-input-18-e2092f7762fe>\u001b[0m in \u001b[0;36m<module>\u001b[1;34m\u001b[0m\n\u001b[0;32m     13\u001b[0m          \u001b[0mlista_campos\u001b[0m\u001b[1;33m=\u001b[0m\u001b[1;33m[\u001b[0m\u001b[1;34m'p_bat_pv'\u001b[0m\u001b[1;33m,\u001b[0m\u001b[1;34m'energia_carga_bateria'\u001b[0m\u001b[1;33m,\u001b[0m\u001b[1;34m'p_bat_dg'\u001b[0m\u001b[1;33m]\u001b[0m\u001b[1;33m,\u001b[0m\u001b[1;33m\u001b[0m\u001b[1;33m\u001b[0m\u001b[0m\n\u001b[0;32m     14\u001b[0m          \u001b[0mtitulo\u001b[0m\u001b[1;33m=\u001b[0m\u001b[1;34m\"\"\u001b[0m\u001b[1;33m,\u001b[0m\u001b[1;33m\u001b[0m\u001b[1;33m\u001b[0m\u001b[0m\n\u001b[1;32m---> 15\u001b[1;33m         df = pv_disp )\n\u001b[0m\u001b[0;32m     16\u001b[0m \u001b[1;33m\u001b[0m\u001b[0m\n\u001b[0;32m     17\u001b[0m \u001b[0mdg_disp\u001b[0m \u001b[1;33m=\u001b[0m \u001b[0mtabla_resultados\u001b[0m\u001b[1;33m.\u001b[0m\u001b[0mgroupby\u001b[0m\u001b[1;33m(\u001b[0m\u001b[1;33m[\u001b[0m\u001b[1;34m\"hora\"\u001b[0m\u001b[1;33m]\u001b[0m\u001b[1;33m)\u001b[0m\u001b[1;33m[\u001b[0m\u001b[1;34m'energia_Dg'\u001b[0m\u001b[1;33m,\u001b[0m\u001b[1;34m'p_bat_dg'\u001b[0m\u001b[1;33m]\u001b[0m\u001b[1;33m.\u001b[0m\u001b[0mmean\u001b[0m\u001b[1;33m(\u001b[0m\u001b[1;33m)\u001b[0m\u001b[1;33m.\u001b[0m\u001b[0mreset_index\u001b[0m\u001b[1;33m(\u001b[0m\u001b[1;33m)\u001b[0m\u001b[1;33m\u001b[0m\u001b[1;33m\u001b[0m\u001b[0m\n",
      "\u001b[1;32m<ipython-input-8-779116874345>\u001b[0m in \u001b[0;36mgraficar\u001b[1;34m(tipo, lista_campos, titulo, df)\u001b[0m\n\u001b[0;32m     16\u001b[0m                       \u001b[0mcategory_orders\u001b[0m\u001b[1;33m=\u001b[0m\u001b[1;33m{\u001b[0m\u001b[1;34m\"State\"\u001b[0m\u001b[1;33m:\u001b[0m \u001b[0mlista_campos\u001b[0m\u001b[1;33m}\u001b[0m\u001b[1;33m,\u001b[0m\u001b[1;33m\u001b[0m\u001b[1;33m\u001b[0m\u001b[0m\n\u001b[0;32m     17\u001b[0m               \u001b[0mwidth\u001b[0m\u001b[1;33m=\u001b[0m\u001b[1;36m520\u001b[0m\u001b[1;33m,\u001b[0m\u001b[1;33m\u001b[0m\u001b[1;33m\u001b[0m\u001b[0m\n\u001b[1;32m---> 18\u001b[1;33m               height=400)\n\u001b[0m\u001b[0;32m     19\u001b[0m     \u001b[0mfig\u001b[0m\u001b[1;33m.\u001b[0m\u001b[0mupdate_yaxes\u001b[0m\u001b[1;33m(\u001b[0m\u001b[0mnticks\u001b[0m\u001b[1;33m=\u001b[0m\u001b[1;36m10\u001b[0m\u001b[1;33m)\u001b[0m\u001b[1;33m\u001b[0m\u001b[1;33m\u001b[0m\u001b[0m\n\u001b[0;32m     20\u001b[0m     \u001b[0mfig\u001b[0m\u001b[1;33m.\u001b[0m\u001b[0mupdate_xaxes\u001b[0m\u001b[1;33m(\u001b[0m\u001b[0mnticks\u001b[0m\u001b[1;33m=\u001b[0m\u001b[1;36m15\u001b[0m\u001b[1;33m)\u001b[0m\u001b[1;33m\u001b[0m\u001b[1;33m\u001b[0m\u001b[0m\n",
      "\u001b[1;32m~\\anaconda3\\lib\\site-packages\\plotly\\express\\_chart_types.py\u001b[0m in \u001b[0;36mline\u001b[1;34m(data_frame, x, y, line_group, color, line_dash, hover_name, hover_data, custom_data, text, facet_row, facet_col, facet_col_wrap, facet_row_spacing, facet_col_spacing, error_x, error_x_minus, error_y, error_y_minus, animation_frame, animation_group, category_orders, labels, orientation, color_discrete_sequence, color_discrete_map, line_dash_sequence, line_dash_map, log_x, log_y, range_x, range_y, line_shape, render_mode, title, template, width, height)\u001b[0m\n\u001b[0;32m    250\u001b[0m     \u001b[0ma\u001b[0m \u001b[0mpolyline\u001b[0m \u001b[0mmark\u001b[0m \u001b[1;32min\u001b[0m \u001b[1;36m2\u001b[0m\u001b[0mD\u001b[0m \u001b[0mspace\u001b[0m\u001b[1;33m.\u001b[0m\u001b[1;33m\u001b[0m\u001b[1;33m\u001b[0m\u001b[0m\n\u001b[0;32m    251\u001b[0m     \"\"\"\n\u001b[1;32m--> 252\u001b[1;33m     \u001b[1;32mreturn\u001b[0m \u001b[0mmake_figure\u001b[0m\u001b[1;33m(\u001b[0m\u001b[0margs\u001b[0m\u001b[1;33m=\u001b[0m\u001b[0mlocals\u001b[0m\u001b[1;33m(\u001b[0m\u001b[1;33m)\u001b[0m\u001b[1;33m,\u001b[0m \u001b[0mconstructor\u001b[0m\u001b[1;33m=\u001b[0m\u001b[0mgo\u001b[0m\u001b[1;33m.\u001b[0m\u001b[0mScatter\u001b[0m\u001b[1;33m)\u001b[0m\u001b[1;33m\u001b[0m\u001b[1;33m\u001b[0m\u001b[0m\n\u001b[0m\u001b[0;32m    253\u001b[0m \u001b[1;33m\u001b[0m\u001b[0m\n\u001b[0;32m    254\u001b[0m \u001b[1;33m\u001b[0m\u001b[0m\n",
      "\u001b[1;32m~\\anaconda3\\lib\\site-packages\\plotly\\express\\_core.py\u001b[0m in \u001b[0;36mmake_figure\u001b[1;34m(args, constructor, trace_patch, layout_patch)\u001b[0m\n\u001b[0;32m   1859\u001b[0m     \u001b[0mapply_default_cascade\u001b[0m\u001b[1;33m(\u001b[0m\u001b[0margs\u001b[0m\u001b[1;33m)\u001b[0m\u001b[1;33m\u001b[0m\u001b[1;33m\u001b[0m\u001b[0m\n\u001b[0;32m   1860\u001b[0m \u001b[1;33m\u001b[0m\u001b[0m\n\u001b[1;32m-> 1861\u001b[1;33m     \u001b[0margs\u001b[0m \u001b[1;33m=\u001b[0m \u001b[0mbuild_dataframe\u001b[0m\u001b[1;33m(\u001b[0m\u001b[0margs\u001b[0m\u001b[1;33m,\u001b[0m \u001b[0mconstructor\u001b[0m\u001b[1;33m)\u001b[0m\u001b[1;33m\u001b[0m\u001b[1;33m\u001b[0m\u001b[0m\n\u001b[0m\u001b[0;32m   1862\u001b[0m     \u001b[1;32mif\u001b[0m \u001b[0mconstructor\u001b[0m \u001b[1;32min\u001b[0m \u001b[1;33m[\u001b[0m\u001b[0mgo\u001b[0m\u001b[1;33m.\u001b[0m\u001b[0mTreemap\u001b[0m\u001b[1;33m,\u001b[0m \u001b[0mgo\u001b[0m\u001b[1;33m.\u001b[0m\u001b[0mSunburst\u001b[0m\u001b[1;33m]\u001b[0m \u001b[1;32mand\u001b[0m \u001b[0margs\u001b[0m\u001b[1;33m[\u001b[0m\u001b[1;34m\"path\"\u001b[0m\u001b[1;33m]\u001b[0m \u001b[1;32mis\u001b[0m \u001b[1;32mnot\u001b[0m \u001b[1;32mNone\u001b[0m\u001b[1;33m:\u001b[0m\u001b[1;33m\u001b[0m\u001b[1;33m\u001b[0m\u001b[0m\n\u001b[0;32m   1863\u001b[0m         \u001b[0margs\u001b[0m \u001b[1;33m=\u001b[0m \u001b[0mprocess_dataframe_hierarchy\u001b[0m\u001b[1;33m(\u001b[0m\u001b[0margs\u001b[0m\u001b[1;33m)\u001b[0m\u001b[1;33m\u001b[0m\u001b[1;33m\u001b[0m\u001b[0m\n",
      "\u001b[1;32m~\\anaconda3\\lib\\site-packages\\plotly\\express\\_core.py\u001b[0m in \u001b[0;36mbuild_dataframe\u001b[1;34m(args, constructor)\u001b[0m\n\u001b[0;32m   1376\u001b[0m \u001b[1;33m\u001b[0m\u001b[0m\n\u001b[0;32m   1377\u001b[0m     df_output, wide_id_vars = process_args_into_dataframe(\n\u001b[1;32m-> 1378\u001b[1;33m         \u001b[0margs\u001b[0m\u001b[1;33m,\u001b[0m \u001b[0mwide_mode\u001b[0m\u001b[1;33m,\u001b[0m \u001b[0mvar_name\u001b[0m\u001b[1;33m,\u001b[0m \u001b[0mvalue_name\u001b[0m\u001b[1;33m\u001b[0m\u001b[1;33m\u001b[0m\u001b[0m\n\u001b[0m\u001b[0;32m   1379\u001b[0m     )\n\u001b[0;32m   1380\u001b[0m \u001b[1;33m\u001b[0m\u001b[0m\n",
      "\u001b[1;32m~\\anaconda3\\lib\\site-packages\\plotly\\express\\_core.py\u001b[0m in \u001b[0;36mprocess_args_into_dataframe\u001b[1;34m(args, wide_mode, var_name, value_name)\u001b[0m\n\u001b[0;32m   1181\u001b[0m                         \u001b[1;32mif\u001b[0m \u001b[0margument\u001b[0m \u001b[1;33m==\u001b[0m \u001b[1;34m\"index\"\u001b[0m\u001b[1;33m:\u001b[0m\u001b[1;33m\u001b[0m\u001b[1;33m\u001b[0m\u001b[0m\n\u001b[0;32m   1182\u001b[0m                             \u001b[0merr_msg\u001b[0m \u001b[1;33m+=\u001b[0m \u001b[1;34m\"\\n To use the index, pass it in directly as `df.index`.\"\u001b[0m\u001b[1;33m\u001b[0m\u001b[1;33m\u001b[0m\u001b[0m\n\u001b[1;32m-> 1183\u001b[1;33m                         \u001b[1;32mraise\u001b[0m \u001b[0mValueError\u001b[0m\u001b[1;33m(\u001b[0m\u001b[0merr_msg\u001b[0m\u001b[1;33m)\u001b[0m\u001b[1;33m\u001b[0m\u001b[1;33m\u001b[0m\u001b[0m\n\u001b[0m\u001b[0;32m   1184\u001b[0m                 \u001b[1;32melif\u001b[0m \u001b[0mlength\u001b[0m \u001b[1;32mand\u001b[0m \u001b[0mlen\u001b[0m\u001b[1;33m(\u001b[0m\u001b[0mdf_input\u001b[0m\u001b[1;33m[\u001b[0m\u001b[0margument\u001b[0m\u001b[1;33m]\u001b[0m\u001b[1;33m)\u001b[0m \u001b[1;33m!=\u001b[0m \u001b[0mlength\u001b[0m\u001b[1;33m:\u001b[0m\u001b[1;33m\u001b[0m\u001b[1;33m\u001b[0m\u001b[0m\n\u001b[0;32m   1185\u001b[0m                     raise ValueError(\n",
      "\u001b[1;31mValueError\u001b[0m: Value of 'x' is not the name of a column in 'data_frame'. Expected one of ['hora', 'p_bat_pv', 'energia_carga_bateria', 'p_bat_dg'] but received: hour"
     ]
    }
   ],
   "source": [
    "bat_c = tabla_resultados.groupby([\"hora\"])['energia_descarga_bateria','energia_carga_bateria'].mean().reset_index()\n",
    "bat_c['energia_descarga_bateria'] = bat_c['energia_descarga_bateria']*-1\n",
    "\n",
    "graficar(tipo='bar',\n",
    "         lista_campos=['energia_descarga_bateria','energia_carga_bateria'],\n",
    "         titulo=\"\",\n",
    "        df = bat_c)\n",
    "\n",
    "pv_disp = tabla_resultados.groupby([\"hora\"])['p_bat_pv','energia_carga_bateria',\n",
    "                                             'p_bat_dg'].mean().reset_index()\n",
    "\n",
    "graficar(tipo='linea',\n",
    "         lista_campos=['p_bat_pv','energia_carga_bateria','p_bat_dg'],\n",
    "         titulo=\"\",\n",
    "        df = pv_disp )\n",
    "\n",
    "dg_disp = tabla_resultados.groupby([\"hora\"])['energia_Dg','p_bat_dg'].mean().reset_index()\n",
    "\n",
    "graficar(tipo='bar',\n",
    "         lista_campos=['energia_Dg','p_bat_dg'],\n",
    "         titulo=\"\",\n",
    "        df = dg_disp )"
   ]
  },
  {
   "cell_type": "code",
   "execution_count": null,
   "metadata": {},
   "outputs": [],
   "source": []
  }
 ],
 "metadata": {
  "hide_input": false,
  "kernelspec": {
   "display_name": "Python 3",
   "language": "python",
   "name": "python3"
  },
  "language_info": {
   "codemirror_mode": {
    "name": "ipython",
    "version": 3
   },
   "file_extension": ".py",
   "mimetype": "text/x-python",
   "name": "python",
   "nbconvert_exporter": "python",
   "pygments_lexer": "ipython3",
   "version": "3.7.6"
  },
  "toc": {
   "base_numbering": 1,
   "nav_menu": {},
   "number_sections": true,
   "sideBar": true,
   "skip_h1_title": false,
   "title_cell": "Table of Contents",
   "title_sidebar": "Contents",
   "toc_cell": false,
   "toc_position": {},
   "toc_section_display": true,
   "toc_window_display": false
  },
  "varInspector": {
   "cols": {
    "lenName": 16,
    "lenType": 16,
    "lenVar": 40
   },
   "kernels_config": {
    "python": {
     "delete_cmd_postfix": "",
     "delete_cmd_prefix": "del ",
     "library": "var_list.py",
     "varRefreshCmd": "print(var_dic_list())"
    },
    "r": {
     "delete_cmd_postfix": ") ",
     "delete_cmd_prefix": "rm(",
     "library": "var_list.r",
     "varRefreshCmd": "cat(var_dic_list()) "
    }
   },
   "types_to_exclude": [
    "module",
    "function",
    "builtin_function_or_method",
    "instance",
    "_Feature"
   ],
   "window_display": false
  }
 },
 "nbformat": 4,
 "nbformat_minor": 2
}
