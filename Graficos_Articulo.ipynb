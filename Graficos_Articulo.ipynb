{
 "cells": [
  {
   "cell_type": "code",
   "execution_count": 1,
   "metadata": {
    "ExecuteTime": {
     "end_time": "2022-03-19T23:24:24.571216Z",
     "start_time": "2022-03-19T23:24:23.278600Z"
    }
   },
   "outputs": [],
   "source": [
    "import pandas as pd\n",
    "import numpy as np\n",
    "import math\n",
    "import sqlite3\n",
    "import os\n",
    "import plotly.express as px\n",
    "import pandas as pd\n",
    "import os\n",
    "import numpy as np\n",
    "import plotly.graph_objects as go\n",
    "import src.leer_datos as ld"
   ]
  },
  {
   "cell_type": "code",
   "execution_count": 2,
   "metadata": {
    "ExecuteTime": {
     "end_time": "2022-03-19T23:24:27.447570Z",
     "start_time": "2022-03-19T23:24:24.601735Z"
    }
   },
   "outputs": [],
   "source": [
    "bd = ld.leer_datos(\"data/datos_microrred_horario_ano_sede_oriente.xlsx\")"
   ]
  },
  {
   "cell_type": "code",
   "execution_count": 48,
   "metadata": {
    "ExecuteTime": {
     "end_time": "2022-03-20T00:01:58.911420Z",
     "start_time": "2022-03-20T00:01:58.886907Z"
    }
   },
   "outputs": [],
   "source": [
    "\n",
    "def conexion_bd(sql=None, update=True):\n",
    "    \n",
    "    sqlite3.register_adapter(np.int64, lambda val: int(val))\n",
    "    sqlite3.register_adapter(np.int32, lambda val: int(val))\n",
    "\n",
    "    con = sqlite3.connect(os.getcwd() + os.sep + \"result_op.db\")\n",
    "    \n",
    "    try:\n",
    "        if update == True:\n",
    "            cur = con.cursor()\n",
    "            cur.execute(sql)\n",
    "            con.commit()\n",
    "            df=None\n",
    "        else:\n",
    "            df= pd.read_sql_query(sql, con=con)\n",
    "    except:\n",
    "        print(sql)\n",
    "        df=None\n",
    "    con.close()\n",
    "    \n",
    "    return df"
   ]
  },
  {
   "cell_type": "code",
   "execution_count": 52,
   "metadata": {
    "ExecuteTime": {
     "end_time": "2022-03-20T00:02:12.354942Z",
     "start_time": "2022-03-20T00:02:12.179462Z"
    }
   },
   "outputs": [],
   "source": [
    "#tabla_resultados = conexion_bd(sql='select*from resultados where id_simulacion=10', update=False)\n",
    "#\n",
    "#parametros = conexion_bd(sql='select*from parametros where id_simulacion=10', update=False).to_dict('records')[0]\n",
    "tabla_resultados = conexion_bd(sql='select*from resultados where id_simulacion=1007', update=False)\n",
    "parametros = conexion_bd(sql='select*from parametros where id_simulacion=1007', update=False).to_dict('records')[0]"
   ]
  },
  {
   "cell_type": "code",
   "execution_count": 53,
   "metadata": {
    "ExecuteTime": {
     "end_time": "2022-03-20T00:02:12.865741Z",
     "start_time": "2022-03-20T00:02:12.857742Z"
    }
   },
   "outputs": [
    {
     "ename": "SyntaxError",
     "evalue": "invalid syntax (<ipython-input-53-5e2be6b11eeb>, line 1)",
     "output_type": "error",
     "traceback": [
      "\u001b[1;36m  File \u001b[1;32m\"<ipython-input-53-5e2be6b11eeb>\"\u001b[1;36m, line \u001b[1;32m1\u001b[0m\n\u001b[1;33m    tabla_resultados[]\u001b[0m\n\u001b[1;37m                     ^\u001b[0m\n\u001b[1;31mSyntaxError\u001b[0m\u001b[1;31m:\u001b[0m invalid syntax\n"
     ]
    }
   ],
   "source": [
    "tabla_resultados[]"
   ]
  },
  {
   "cell_type": "code",
   "execution_count": 54,
   "metadata": {
    "ExecuteTime": {
     "end_time": "2022-03-20T00:02:13.983145Z",
     "start_time": "2022-03-20T00:02:13.971138Z"
    }
   },
   "outputs": [
    {
     "data": {
      "text/plain": [
       "{'id_simulacion': 1007,\n",
       " 'n_pv': 405,\n",
       " 'n_dg': 1,\n",
       " 'p_dg': 0,\n",
       " 'min_dg': 0.0,\n",
       " 'efi_dg': 1,\n",
       " 'lpsp': 0.05,\n",
       " 'p_bat': 100.8,\n",
       " 'cond_init_bat': 100.8,\n",
       " 'val_aux_bateria': 0.01,\n",
       " 'DOD': 0.5,\n",
       " 'n_bat': 1,\n",
       " 'self_dis_coef': 0.2,\n",
       " 'max_ciclos_descarga': 3000,\n",
       " 'efficiency_inversor': 0.95,\n",
       " 'efficiency_charging': 0.9,\n",
       " 'C_rate': 5,\n",
       " 'cost_pv': 10,\n",
       " 'cost_dg': 824,\n",
       " 'cost_bat': 443,\n",
       " 'cost_pens': 1533,\n",
       " 'optimizacion': 'optimal',\n",
       " 'lpsp_result': 4.99,\n",
       " 'ens_result': 1821.2,\n",
       " 'ciclos_bat_result': 116.3,\n",
       " 'vida_proyecto': 20,\n",
       " 'ir': 0.0808,\n",
       " 'crf': 0.1,\n",
       " 'cpv_ins': 5605.365,\n",
       " 'cbat_ins': 539983.495,\n",
       " 'cdg_ins': 7627407.001,\n",
       " 'capital_cpv': 681051847.5,\n",
       " 'capital_cbat': 54430336.296,\n",
       " 'capital_cdg': 0,\n",
       " 'kbat': 0.6712,\n",
       " 'kdg': 0.6712,\n",
       " 'ybat': 0.7,\n",
       " 'ydg': 0.7,\n",
       " 'rc_bat': 25573549.2053,\n",
       " 'rc_dg': 0,\n",
       " 'factor_bat': 0.02,\n",
       " 'factor_pv': 0.01,\n",
       " 'oym_pv': 6810518.48,\n",
       " 'oym_bat': 1088606.73,\n",
       " 'ipp_actual': 129.23,\n",
       " 'trm': 3736.91,\n",
       " 'pami': 8789,\n",
       " 'plim': 79900,\n",
       " 'oym_dg': 0,\n",
       " 'asc': 22479.72,\n",
       " 'lcoe': 0.84,\n",
       " 'asc_incentivo': 20800.89,\n",
       " 'lcoe_incentivo': 0.78,\n",
       " 'cost_e_dg': 0,\n",
       " 'cost_e_pv': 90.18,\n",
       " 'cost_e_bat': 1090.1,\n",
       " 'cost_e_ens': 1353.93}"
      ]
     },
     "execution_count": 54,
     "metadata": {},
     "output_type": "execute_result"
    }
   ],
   "source": [
    "parametros"
   ]
  },
  {
   "cell_type": "code",
   "execution_count": 55,
   "metadata": {
    "ExecuteTime": {
     "end_time": "2022-03-20T00:02:14.613480Z",
     "start_time": "2022-03-20T00:02:14.533497Z"
    }
   },
   "outputs": [
    {
     "data": {
      "text/html": [
       "<div>\n",
       "<style scoped>\n",
       "    .dataframe tbody tr th:only-of-type {\n",
       "        vertical-align: middle;\n",
       "    }\n",
       "\n",
       "    .dataframe tbody tr th {\n",
       "        vertical-align: top;\n",
       "    }\n",
       "\n",
       "    .dataframe thead th {\n",
       "        text-align: right;\n",
       "    }\n",
       "</style>\n",
       "<table border=\"1\" class=\"dataframe\">\n",
       "  <thead>\n",
       "    <tr style=\"text-align: right;\">\n",
       "      <th></th>\n",
       "      <th>id_simulacion</th>\n",
       "      <th>energia_PV</th>\n",
       "      <th>energia_Dg</th>\n",
       "      <th>bin_diesel</th>\n",
       "      <th>energia_carga_bateria</th>\n",
       "      <th>bin_bat_carga</th>\n",
       "      <th>energia_descarga_bateria</th>\n",
       "      <th>bin_bat_descarga</th>\n",
       "      <th>energia_ENS</th>\n",
       "      <th>SOC(t)_bateria</th>\n",
       "      <th>p_bat_pv</th>\n",
       "      <th>p_bat_dg</th>\n",
       "      <th>suma_pv_dg_bat_descarga</th>\n",
       "      <th>load</th>\n",
       "      <th>recurso_pv_dis</th>\n",
       "      <th>recurso_diesel_dis</th>\n",
       "      <th>porcentaje_carga_dg</th>\n",
       "      <th>porcentaje_energia_dg</th>\n",
       "      <th>porcentaje_carga_bat_dg</th>\n",
       "      <th>porcentaje_SOC_t</th>\n",
       "    </tr>\n",
       "  </thead>\n",
       "  <tbody>\n",
       "    <tr>\n",
       "      <th>0</th>\n",
       "      <td>1007</td>\n",
       "      <td>0.0</td>\n",
       "      <td>0.0</td>\n",
       "      <td>0.0</td>\n",
       "      <td>0.0</td>\n",
       "      <td>0.0</td>\n",
       "      <td>2.0423</td>\n",
       "      <td>1.0</td>\n",
       "      <td>0.000000e+00</td>\n",
       "      <td>97.813571</td>\n",
       "      <td>0.0</td>\n",
       "      <td>0.0</td>\n",
       "      <td>2.0423</td>\n",
       "      <td>2.0423</td>\n",
       "      <td>0.0</td>\n",
       "      <td>0</td>\n",
       "      <td>None</td>\n",
       "      <td>None</td>\n",
       "      <td>None</td>\n",
       "      <td>97.037272</td>\n",
       "    </tr>\n",
       "    <tr>\n",
       "      <th>1</th>\n",
       "      <td>1007</td>\n",
       "      <td>0.0</td>\n",
       "      <td>0.0</td>\n",
       "      <td>0.0</td>\n",
       "      <td>0.0</td>\n",
       "      <td>0.0</td>\n",
       "      <td>2.0410</td>\n",
       "      <td>1.0</td>\n",
       "      <td>0.000000e+00</td>\n",
       "      <td>94.853297</td>\n",
       "      <td>0.0</td>\n",
       "      <td>0.0</td>\n",
       "      <td>2.0410</td>\n",
       "      <td>2.0410</td>\n",
       "      <td>0.0</td>\n",
       "      <td>0</td>\n",
       "      <td>None</td>\n",
       "      <td>None</td>\n",
       "      <td>None</td>\n",
       "      <td>94.100493</td>\n",
       "    </tr>\n",
       "    <tr>\n",
       "      <th>2</th>\n",
       "      <td>1007</td>\n",
       "      <td>0.0</td>\n",
       "      <td>0.0</td>\n",
       "      <td>0.0</td>\n",
       "      <td>0.0</td>\n",
       "      <td>0.0</td>\n",
       "      <td>2.0433</td>\n",
       "      <td>1.0</td>\n",
       "      <td>0.000000e+00</td>\n",
       "      <td>91.915172</td>\n",
       "      <td>0.0</td>\n",
       "      <td>0.0</td>\n",
       "      <td>2.0433</td>\n",
       "      <td>2.0433</td>\n",
       "      <td>0.0</td>\n",
       "      <td>0</td>\n",
       "      <td>None</td>\n",
       "      <td>None</td>\n",
       "      <td>None</td>\n",
       "      <td>91.185687</td>\n",
       "    </tr>\n",
       "    <tr>\n",
       "      <th>3</th>\n",
       "      <td>1007</td>\n",
       "      <td>0.0</td>\n",
       "      <td>0.0</td>\n",
       "      <td>0.0</td>\n",
       "      <td>0.0</td>\n",
       "      <td>0.0</td>\n",
       "      <td>2.0415</td>\n",
       "      <td>1.0</td>\n",
       "      <td>0.000000e+00</td>\n",
       "      <td>89.003329</td>\n",
       "      <td>0.0</td>\n",
       "      <td>0.0</td>\n",
       "      <td>2.0415</td>\n",
       "      <td>2.0415</td>\n",
       "      <td>0.0</td>\n",
       "      <td>0</td>\n",
       "      <td>None</td>\n",
       "      <td>None</td>\n",
       "      <td>None</td>\n",
       "      <td>88.296953</td>\n",
       "    </tr>\n",
       "    <tr>\n",
       "      <th>4</th>\n",
       "      <td>1007</td>\n",
       "      <td>0.0</td>\n",
       "      <td>0.0</td>\n",
       "      <td>0.0</td>\n",
       "      <td>0.0</td>\n",
       "      <td>0.0</td>\n",
       "      <td>2.0671</td>\n",
       "      <td>1.0</td>\n",
       "      <td>0.000000e+00</td>\n",
       "      <td>86.088707</td>\n",
       "      <td>0.0</td>\n",
       "      <td>0.0</td>\n",
       "      <td>2.0671</td>\n",
       "      <td>2.0671</td>\n",
       "      <td>0.0</td>\n",
       "      <td>0</td>\n",
       "      <td>None</td>\n",
       "      <td>None</td>\n",
       "      <td>None</td>\n",
       "      <td>85.405463</td>\n",
       "    </tr>\n",
       "    <tr>\n",
       "      <th>...</th>\n",
       "      <td>...</td>\n",
       "      <td>...</td>\n",
       "      <td>...</td>\n",
       "      <td>...</td>\n",
       "      <td>...</td>\n",
       "      <td>...</td>\n",
       "      <td>...</td>\n",
       "      <td>...</td>\n",
       "      <td>...</td>\n",
       "      <td>...</td>\n",
       "      <td>...</td>\n",
       "      <td>...</td>\n",
       "      <td>...</td>\n",
       "      <td>...</td>\n",
       "      <td>...</td>\n",
       "      <td>...</td>\n",
       "      <td>...</td>\n",
       "      <td>...</td>\n",
       "      <td>...</td>\n",
       "      <td>...</td>\n",
       "    </tr>\n",
       "    <tr>\n",
       "      <th>8755</th>\n",
       "      <td>1007</td>\n",
       "      <td>0.0</td>\n",
       "      <td>0.0</td>\n",
       "      <td>0.0</td>\n",
       "      <td>0.0</td>\n",
       "      <td>0.0</td>\n",
       "      <td>3.6658</td>\n",
       "      <td>1.0</td>\n",
       "      <td>0.000000e+00</td>\n",
       "      <td>63.324159</td>\n",
       "      <td>0.0</td>\n",
       "      <td>0.0</td>\n",
       "      <td>3.6658</td>\n",
       "      <td>3.6658</td>\n",
       "      <td>0.0</td>\n",
       "      <td>0</td>\n",
       "      <td>None</td>\n",
       "      <td>None</td>\n",
       "      <td>None</td>\n",
       "      <td>62.821586</td>\n",
       "    </tr>\n",
       "    <tr>\n",
       "      <th>8756</th>\n",
       "      <td>1007</td>\n",
       "      <td>0.0</td>\n",
       "      <td>0.0</td>\n",
       "      <td>0.0</td>\n",
       "      <td>0.0</td>\n",
       "      <td>0.0</td>\n",
       "      <td>2.1547</td>\n",
       "      <td>1.0</td>\n",
       "      <td>0.000000e+00</td>\n",
       "      <td>60.530463</td>\n",
       "      <td>0.0</td>\n",
       "      <td>0.0</td>\n",
       "      <td>2.1547</td>\n",
       "      <td>2.1547</td>\n",
       "      <td>0.0</td>\n",
       "      <td>0</td>\n",
       "      <td>None</td>\n",
       "      <td>None</td>\n",
       "      <td>None</td>\n",
       "      <td>60.050062</td>\n",
       "    </tr>\n",
       "    <tr>\n",
       "      <th>8757</th>\n",
       "      <td>1007</td>\n",
       "      <td>0.0</td>\n",
       "      <td>0.0</td>\n",
       "      <td>0.0</td>\n",
       "      <td>0.0</td>\n",
       "      <td>0.0</td>\n",
       "      <td>2.0912</td>\n",
       "      <td>1.0</td>\n",
       "      <td>0.000000e+00</td>\n",
       "      <td>57.826797</td>\n",
       "      <td>0.0</td>\n",
       "      <td>0.0</td>\n",
       "      <td>2.0912</td>\n",
       "      <td>2.0912</td>\n",
       "      <td>0.0</td>\n",
       "      <td>0</td>\n",
       "      <td>None</td>\n",
       "      <td>None</td>\n",
       "      <td>None</td>\n",
       "      <td>57.367854</td>\n",
       "    </tr>\n",
       "    <tr>\n",
       "      <th>8758</th>\n",
       "      <td>1007</td>\n",
       "      <td>0.0</td>\n",
       "      <td>0.0</td>\n",
       "      <td>0.0</td>\n",
       "      <td>0.0</td>\n",
       "      <td>0.0</td>\n",
       "      <td>2.0864</td>\n",
       "      <td>1.0</td>\n",
       "      <td>2.220446e-15</td>\n",
       "      <td>55.150624</td>\n",
       "      <td>0.0</td>\n",
       "      <td>0.0</td>\n",
       "      <td>2.0864</td>\n",
       "      <td>2.0864</td>\n",
       "      <td>0.0</td>\n",
       "      <td>0</td>\n",
       "      <td>None</td>\n",
       "      <td>None</td>\n",
       "      <td>None</td>\n",
       "      <td>54.712920</td>\n",
       "    </tr>\n",
       "    <tr>\n",
       "      <th>8759</th>\n",
       "      <td>1007</td>\n",
       "      <td>0.0</td>\n",
       "      <td>0.0</td>\n",
       "      <td>0.0</td>\n",
       "      <td>0.0</td>\n",
       "      <td>0.0</td>\n",
       "      <td>2.0914</td>\n",
       "      <td>1.0</td>\n",
       "      <td>0.000000e+00</td>\n",
       "      <td>52.491400</td>\n",
       "      <td>0.0</td>\n",
       "      <td>0.0</td>\n",
       "      <td>2.0914</td>\n",
       "      <td>2.0914</td>\n",
       "      <td>0.0</td>\n",
       "      <td>0</td>\n",
       "      <td>None</td>\n",
       "      <td>None</td>\n",
       "      <td>None</td>\n",
       "      <td>52.074802</td>\n",
       "    </tr>\n",
       "  </tbody>\n",
       "</table>\n",
       "<p>8760 rows × 20 columns</p>\n",
       "</div>"
      ],
      "text/plain": [
       "      id_simulacion  energia_PV  energia_Dg  bin_diesel  \\\n",
       "0              1007         0.0         0.0         0.0   \n",
       "1              1007         0.0         0.0         0.0   \n",
       "2              1007         0.0         0.0         0.0   \n",
       "3              1007         0.0         0.0         0.0   \n",
       "4              1007         0.0         0.0         0.0   \n",
       "...             ...         ...         ...         ...   \n",
       "8755           1007         0.0         0.0         0.0   \n",
       "8756           1007         0.0         0.0         0.0   \n",
       "8757           1007         0.0         0.0         0.0   \n",
       "8758           1007         0.0         0.0         0.0   \n",
       "8759           1007         0.0         0.0         0.0   \n",
       "\n",
       "      energia_carga_bateria  bin_bat_carga  energia_descarga_bateria  \\\n",
       "0                       0.0            0.0                    2.0423   \n",
       "1                       0.0            0.0                    2.0410   \n",
       "2                       0.0            0.0                    2.0433   \n",
       "3                       0.0            0.0                    2.0415   \n",
       "4                       0.0            0.0                    2.0671   \n",
       "...                     ...            ...                       ...   \n",
       "8755                    0.0            0.0                    3.6658   \n",
       "8756                    0.0            0.0                    2.1547   \n",
       "8757                    0.0            0.0                    2.0912   \n",
       "8758                    0.0            0.0                    2.0864   \n",
       "8759                    0.0            0.0                    2.0914   \n",
       "\n",
       "      bin_bat_descarga   energia_ENS  SOC(t)_bateria  p_bat_pv  p_bat_dg  \\\n",
       "0                  1.0  0.000000e+00       97.813571       0.0       0.0   \n",
       "1                  1.0  0.000000e+00       94.853297       0.0       0.0   \n",
       "2                  1.0  0.000000e+00       91.915172       0.0       0.0   \n",
       "3                  1.0  0.000000e+00       89.003329       0.0       0.0   \n",
       "4                  1.0  0.000000e+00       86.088707       0.0       0.0   \n",
       "...                ...           ...             ...       ...       ...   \n",
       "8755               1.0  0.000000e+00       63.324159       0.0       0.0   \n",
       "8756               1.0  0.000000e+00       60.530463       0.0       0.0   \n",
       "8757               1.0  0.000000e+00       57.826797       0.0       0.0   \n",
       "8758               1.0  2.220446e-15       55.150624       0.0       0.0   \n",
       "8759               1.0  0.000000e+00       52.491400       0.0       0.0   \n",
       "\n",
       "      suma_pv_dg_bat_descarga    load  recurso_pv_dis  recurso_diesel_dis  \\\n",
       "0                      2.0423  2.0423             0.0                   0   \n",
       "1                      2.0410  2.0410             0.0                   0   \n",
       "2                      2.0433  2.0433             0.0                   0   \n",
       "3                      2.0415  2.0415             0.0                   0   \n",
       "4                      2.0671  2.0671             0.0                   0   \n",
       "...                       ...     ...             ...                 ...   \n",
       "8755                   3.6658  3.6658             0.0                   0   \n",
       "8756                   2.1547  2.1547             0.0                   0   \n",
       "8757                   2.0912  2.0912             0.0                   0   \n",
       "8758                   2.0864  2.0864             0.0                   0   \n",
       "8759                   2.0914  2.0914             0.0                   0   \n",
       "\n",
       "     porcentaje_carga_dg porcentaje_energia_dg porcentaje_carga_bat_dg  \\\n",
       "0                   None                  None                    None   \n",
       "1                   None                  None                    None   \n",
       "2                   None                  None                    None   \n",
       "3                   None                  None                    None   \n",
       "4                   None                  None                    None   \n",
       "...                  ...                   ...                     ...   \n",
       "8755                None                  None                    None   \n",
       "8756                None                  None                    None   \n",
       "8757                None                  None                    None   \n",
       "8758                None                  None                    None   \n",
       "8759                None                  None                    None   \n",
       "\n",
       "      porcentaje_SOC_t  \n",
       "0            97.037272  \n",
       "1            94.100493  \n",
       "2            91.185687  \n",
       "3            88.296953  \n",
       "4            85.405463  \n",
       "...                ...  \n",
       "8755         62.821586  \n",
       "8756         60.050062  \n",
       "8757         57.367854  \n",
       "8758         54.712920  \n",
       "8759         52.074802  \n",
       "\n",
       "[8760 rows x 20 columns]"
      ]
     },
     "execution_count": 55,
     "metadata": {},
     "output_type": "execute_result"
    }
   ],
   "source": [
    "tabla_resultados"
   ]
  },
  {
   "cell_type": "code",
   "execution_count": 56,
   "metadata": {
    "ExecuteTime": {
     "end_time": "2022-03-20T00:02:18.087779Z",
     "start_time": "2022-03-20T00:02:15.535704Z"
    }
   },
   "outputs": [
    {
     "data": {
      "application/vnd.plotly.v1+json": {
       "config": {
        "plotlyServerURL": "https://plot.ly"
       },
       "data": [
        {
         "hole": 0.4,
         "labels": [
          "PV Energy",
          "PENS Energy",
          "Diesel Energy",
          "Battery Bank Energy"
         ],
         "marker": {
          "colors": [
           "orange",
           "firebrick",
           "seagreen",
           "royalBlue"
          ]
         },
         "pull": [
          0,
          0.2,
          0,
          0
         ],
         "textinfo": "label+percent",
         "textposition": "outside",
         "type": "pie",
         "values": [
          22927.6,
          1821.2,
          0,
          11718.1
         ]
        }
       ],
       "layout": {
        "font": {
         "color": "black",
         "family": "Times New Roman",
         "size": 24
        },
        "height": 600,
        "legend": {
         "font": {
          "size": 24
         },
         "orientation": "h",
         "x": 1,
         "xanchor": "right",
         "y": 1.02,
         "yanchor": "bottom"
        },
        "margin": {
         "b": 5,
         "l": 1,
         "r": 5,
         "t": 5
        },
        "showlegend": false,
        "template": {
         "data": {
          "bar": [
           {
            "error_x": {
             "color": "#2a3f5f"
            },
            "error_y": {
             "color": "#2a3f5f"
            },
            "marker": {
             "line": {
              "color": "#E5ECF6",
              "width": 0.5
             }
            },
            "type": "bar"
           }
          ],
          "barpolar": [
           {
            "marker": {
             "line": {
              "color": "#E5ECF6",
              "width": 0.5
             }
            },
            "type": "barpolar"
           }
          ],
          "carpet": [
           {
            "aaxis": {
             "endlinecolor": "#2a3f5f",
             "gridcolor": "white",
             "linecolor": "white",
             "minorgridcolor": "white",
             "startlinecolor": "#2a3f5f"
            },
            "baxis": {
             "endlinecolor": "#2a3f5f",
             "gridcolor": "white",
             "linecolor": "white",
             "minorgridcolor": "white",
             "startlinecolor": "#2a3f5f"
            },
            "type": "carpet"
           }
          ],
          "choropleth": [
           {
            "colorbar": {
             "outlinewidth": 0,
             "ticks": ""
            },
            "type": "choropleth"
           }
          ],
          "contour": [
           {
            "colorbar": {
             "outlinewidth": 0,
             "ticks": ""
            },
            "colorscale": [
             [
              0,
              "#0d0887"
             ],
             [
              0.1111111111111111,
              "#46039f"
             ],
             [
              0.2222222222222222,
              "#7201a8"
             ],
             [
              0.3333333333333333,
              "#9c179e"
             ],
             [
              0.4444444444444444,
              "#bd3786"
             ],
             [
              0.5555555555555556,
              "#d8576b"
             ],
             [
              0.6666666666666666,
              "#ed7953"
             ],
             [
              0.7777777777777778,
              "#fb9f3a"
             ],
             [
              0.8888888888888888,
              "#fdca26"
             ],
             [
              1,
              "#f0f921"
             ]
            ],
            "type": "contour"
           }
          ],
          "contourcarpet": [
           {
            "colorbar": {
             "outlinewidth": 0,
             "ticks": ""
            },
            "type": "contourcarpet"
           }
          ],
          "heatmap": [
           {
            "colorbar": {
             "outlinewidth": 0,
             "ticks": ""
            },
            "colorscale": [
             [
              0,
              "#0d0887"
             ],
             [
              0.1111111111111111,
              "#46039f"
             ],
             [
              0.2222222222222222,
              "#7201a8"
             ],
             [
              0.3333333333333333,
              "#9c179e"
             ],
             [
              0.4444444444444444,
              "#bd3786"
             ],
             [
              0.5555555555555556,
              "#d8576b"
             ],
             [
              0.6666666666666666,
              "#ed7953"
             ],
             [
              0.7777777777777778,
              "#fb9f3a"
             ],
             [
              0.8888888888888888,
              "#fdca26"
             ],
             [
              1,
              "#f0f921"
             ]
            ],
            "type": "heatmap"
           }
          ],
          "heatmapgl": [
           {
            "colorbar": {
             "outlinewidth": 0,
             "ticks": ""
            },
            "colorscale": [
             [
              0,
              "#0d0887"
             ],
             [
              0.1111111111111111,
              "#46039f"
             ],
             [
              0.2222222222222222,
              "#7201a8"
             ],
             [
              0.3333333333333333,
              "#9c179e"
             ],
             [
              0.4444444444444444,
              "#bd3786"
             ],
             [
              0.5555555555555556,
              "#d8576b"
             ],
             [
              0.6666666666666666,
              "#ed7953"
             ],
             [
              0.7777777777777778,
              "#fb9f3a"
             ],
             [
              0.8888888888888888,
              "#fdca26"
             ],
             [
              1,
              "#f0f921"
             ]
            ],
            "type": "heatmapgl"
           }
          ],
          "histogram": [
           {
            "marker": {
             "colorbar": {
              "outlinewidth": 0,
              "ticks": ""
             }
            },
            "type": "histogram"
           }
          ],
          "histogram2d": [
           {
            "colorbar": {
             "outlinewidth": 0,
             "ticks": ""
            },
            "colorscale": [
             [
              0,
              "#0d0887"
             ],
             [
              0.1111111111111111,
              "#46039f"
             ],
             [
              0.2222222222222222,
              "#7201a8"
             ],
             [
              0.3333333333333333,
              "#9c179e"
             ],
             [
              0.4444444444444444,
              "#bd3786"
             ],
             [
              0.5555555555555556,
              "#d8576b"
             ],
             [
              0.6666666666666666,
              "#ed7953"
             ],
             [
              0.7777777777777778,
              "#fb9f3a"
             ],
             [
              0.8888888888888888,
              "#fdca26"
             ],
             [
              1,
              "#f0f921"
             ]
            ],
            "type": "histogram2d"
           }
          ],
          "histogram2dcontour": [
           {
            "colorbar": {
             "outlinewidth": 0,
             "ticks": ""
            },
            "colorscale": [
             [
              0,
              "#0d0887"
             ],
             [
              0.1111111111111111,
              "#46039f"
             ],
             [
              0.2222222222222222,
              "#7201a8"
             ],
             [
              0.3333333333333333,
              "#9c179e"
             ],
             [
              0.4444444444444444,
              "#bd3786"
             ],
             [
              0.5555555555555556,
              "#d8576b"
             ],
             [
              0.6666666666666666,
              "#ed7953"
             ],
             [
              0.7777777777777778,
              "#fb9f3a"
             ],
             [
              0.8888888888888888,
              "#fdca26"
             ],
             [
              1,
              "#f0f921"
             ]
            ],
            "type": "histogram2dcontour"
           }
          ],
          "mesh3d": [
           {
            "colorbar": {
             "outlinewidth": 0,
             "ticks": ""
            },
            "type": "mesh3d"
           }
          ],
          "parcoords": [
           {
            "line": {
             "colorbar": {
              "outlinewidth": 0,
              "ticks": ""
             }
            },
            "type": "parcoords"
           }
          ],
          "pie": [
           {
            "automargin": true,
            "type": "pie"
           }
          ],
          "scatter": [
           {
            "marker": {
             "colorbar": {
              "outlinewidth": 0,
              "ticks": ""
             }
            },
            "type": "scatter"
           }
          ],
          "scatter3d": [
           {
            "line": {
             "colorbar": {
              "outlinewidth": 0,
              "ticks": ""
             }
            },
            "marker": {
             "colorbar": {
              "outlinewidth": 0,
              "ticks": ""
             }
            },
            "type": "scatter3d"
           }
          ],
          "scattercarpet": [
           {
            "marker": {
             "colorbar": {
              "outlinewidth": 0,
              "ticks": ""
             }
            },
            "type": "scattercarpet"
           }
          ],
          "scattergeo": [
           {
            "marker": {
             "colorbar": {
              "outlinewidth": 0,
              "ticks": ""
             }
            },
            "type": "scattergeo"
           }
          ],
          "scattergl": [
           {
            "marker": {
             "colorbar": {
              "outlinewidth": 0,
              "ticks": ""
             }
            },
            "type": "scattergl"
           }
          ],
          "scattermapbox": [
           {
            "marker": {
             "colorbar": {
              "outlinewidth": 0,
              "ticks": ""
             }
            },
            "type": "scattermapbox"
           }
          ],
          "scatterpolar": [
           {
            "marker": {
             "colorbar": {
              "outlinewidth": 0,
              "ticks": ""
             }
            },
            "type": "scatterpolar"
           }
          ],
          "scatterpolargl": [
           {
            "marker": {
             "colorbar": {
              "outlinewidth": 0,
              "ticks": ""
             }
            },
            "type": "scatterpolargl"
           }
          ],
          "scatterternary": [
           {
            "marker": {
             "colorbar": {
              "outlinewidth": 0,
              "ticks": ""
             }
            },
            "type": "scatterternary"
           }
          ],
          "surface": [
           {
            "colorbar": {
             "outlinewidth": 0,
             "ticks": ""
            },
            "colorscale": [
             [
              0,
              "#0d0887"
             ],
             [
              0.1111111111111111,
              "#46039f"
             ],
             [
              0.2222222222222222,
              "#7201a8"
             ],
             [
              0.3333333333333333,
              "#9c179e"
             ],
             [
              0.4444444444444444,
              "#bd3786"
             ],
             [
              0.5555555555555556,
              "#d8576b"
             ],
             [
              0.6666666666666666,
              "#ed7953"
             ],
             [
              0.7777777777777778,
              "#fb9f3a"
             ],
             [
              0.8888888888888888,
              "#fdca26"
             ],
             [
              1,
              "#f0f921"
             ]
            ],
            "type": "surface"
           }
          ],
          "table": [
           {
            "cells": {
             "fill": {
              "color": "#EBF0F8"
             },
             "line": {
              "color": "white"
             }
            },
            "header": {
             "fill": {
              "color": "#C8D4E3"
             },
             "line": {
              "color": "white"
             }
            },
            "type": "table"
           }
          ]
         },
         "layout": {
          "annotationdefaults": {
           "arrowcolor": "#2a3f5f",
           "arrowhead": 0,
           "arrowwidth": 1
          },
          "autotypenumbers": "strict",
          "coloraxis": {
           "colorbar": {
            "outlinewidth": 0,
            "ticks": ""
           }
          },
          "colorscale": {
           "diverging": [
            [
             0,
             "#8e0152"
            ],
            [
             0.1,
             "#c51b7d"
            ],
            [
             0.2,
             "#de77ae"
            ],
            [
             0.3,
             "#f1b6da"
            ],
            [
             0.4,
             "#fde0ef"
            ],
            [
             0.5,
             "#f7f7f7"
            ],
            [
             0.6,
             "#e6f5d0"
            ],
            [
             0.7,
             "#b8e186"
            ],
            [
             0.8,
             "#7fbc41"
            ],
            [
             0.9,
             "#4d9221"
            ],
            [
             1,
             "#276419"
            ]
           ],
           "sequential": [
            [
             0,
             "#0d0887"
            ],
            [
             0.1111111111111111,
             "#46039f"
            ],
            [
             0.2222222222222222,
             "#7201a8"
            ],
            [
             0.3333333333333333,
             "#9c179e"
            ],
            [
             0.4444444444444444,
             "#bd3786"
            ],
            [
             0.5555555555555556,
             "#d8576b"
            ],
            [
             0.6666666666666666,
             "#ed7953"
            ],
            [
             0.7777777777777778,
             "#fb9f3a"
            ],
            [
             0.8888888888888888,
             "#fdca26"
            ],
            [
             1,
             "#f0f921"
            ]
           ],
           "sequentialminus": [
            [
             0,
             "#0d0887"
            ],
            [
             0.1111111111111111,
             "#46039f"
            ],
            [
             0.2222222222222222,
             "#7201a8"
            ],
            [
             0.3333333333333333,
             "#9c179e"
            ],
            [
             0.4444444444444444,
             "#bd3786"
            ],
            [
             0.5555555555555556,
             "#d8576b"
            ],
            [
             0.6666666666666666,
             "#ed7953"
            ],
            [
             0.7777777777777778,
             "#fb9f3a"
            ],
            [
             0.8888888888888888,
             "#fdca26"
            ],
            [
             1,
             "#f0f921"
            ]
           ]
          },
          "colorway": [
           "#636efa",
           "#EF553B",
           "#00cc96",
           "#ab63fa",
           "#FFA15A",
           "#19d3f3",
           "#FF6692",
           "#B6E880",
           "#FF97FF",
           "#FECB52"
          ],
          "font": {
           "color": "#2a3f5f"
          },
          "geo": {
           "bgcolor": "white",
           "lakecolor": "white",
           "landcolor": "#E5ECF6",
           "showlakes": true,
           "showland": true,
           "subunitcolor": "white"
          },
          "hoverlabel": {
           "align": "left"
          },
          "hovermode": "closest",
          "mapbox": {
           "style": "light"
          },
          "paper_bgcolor": "white",
          "plot_bgcolor": "#E5ECF6",
          "polar": {
           "angularaxis": {
            "gridcolor": "white",
            "linecolor": "white",
            "ticks": ""
           },
           "bgcolor": "#E5ECF6",
           "radialaxis": {
            "gridcolor": "white",
            "linecolor": "white",
            "ticks": ""
           }
          },
          "scene": {
           "xaxis": {
            "backgroundcolor": "#E5ECF6",
            "gridcolor": "white",
            "gridwidth": 2,
            "linecolor": "white",
            "showbackground": true,
            "ticks": "",
            "zerolinecolor": "white"
           },
           "yaxis": {
            "backgroundcolor": "#E5ECF6",
            "gridcolor": "white",
            "gridwidth": 2,
            "linecolor": "white",
            "showbackground": true,
            "ticks": "",
            "zerolinecolor": "white"
           },
           "zaxis": {
            "backgroundcolor": "#E5ECF6",
            "gridcolor": "white",
            "gridwidth": 2,
            "linecolor": "white",
            "showbackground": true,
            "ticks": "",
            "zerolinecolor": "white"
           }
          },
          "shapedefaults": {
           "line": {
            "color": "#2a3f5f"
           }
          },
          "ternary": {
           "aaxis": {
            "gridcolor": "white",
            "linecolor": "white",
            "ticks": ""
           },
           "baxis": {
            "gridcolor": "white",
            "linecolor": "white",
            "ticks": ""
           },
           "bgcolor": "#E5ECF6",
           "caxis": {
            "gridcolor": "white",
            "linecolor": "white",
            "ticks": ""
           }
          },
          "title": {
           "x": 0.05
          },
          "xaxis": {
           "automargin": true,
           "gridcolor": "white",
           "linecolor": "white",
           "ticks": "",
           "title": {
            "standoff": 15
           },
           "zerolinecolor": "white",
           "zerolinewidth": 2
          },
          "yaxis": {
           "automargin": true,
           "gridcolor": "white",
           "linecolor": "white",
           "ticks": "",
           "title": {
            "standoff": 15
           },
           "zerolinecolor": "white",
           "zerolinewidth": 2
          }
         }
        },
        "title": {
         "font": {
          "family": "Times New Roman"
         }
        },
        "width": 800,
        "xaxis": {
         "linecolor": "black",
         "showline": true,
         "title": {
          "text": "Time (hour)"
         }
        },
        "yaxis": {
         "linecolor": "black",
         "showline": true,
         "title": {
          "text": "Energy Supply Load (kWh)"
         }
        }
       }
      },
      "text/html": [
       "<div>                            <div id=\"a5cd5373-8dc7-4cd1-b625-a743ff580e3c\" class=\"plotly-graph-div\" style=\"height:600px; width:800px;\"></div>            <script type=\"text/javascript\">                require([\"plotly\"], function(Plotly) {                    window.PLOTLYENV=window.PLOTLYENV || {};                                    if (document.getElementById(\"a5cd5373-8dc7-4cd1-b625-a743ff580e3c\")) {                    Plotly.newPlot(                        \"a5cd5373-8dc7-4cd1-b625-a743ff580e3c\",                        [{\"hole\": 0.4, \"labels\": [\"PV Energy\", \"PENS Energy\", \"Diesel Energy\", \"Battery Bank Energy\"], \"marker\": {\"colors\": [\"orange\", \"firebrick\", \"seagreen\", \"royalBlue\"]}, \"pull\": [0, 0.2, 0, 0], \"textinfo\": \"label+percent\", \"textposition\": \"outside\", \"type\": \"pie\", \"values\": [22927.6, 1821.2, 0.0, 11718.1]}],                        {\"font\": {\"color\": \"black\", \"family\": \"Times New Roman\", \"size\": 24}, \"height\": 600, \"legend\": {\"font\": {\"size\": 24}, \"orientation\": \"h\", \"x\": 1, \"xanchor\": \"right\", \"y\": 1.02, \"yanchor\": \"bottom\"}, \"margin\": {\"b\": 5, \"l\": 1, \"r\": 5, \"t\": 5}, \"showlegend\": false, \"template\": {\"data\": {\"bar\": [{\"error_x\": {\"color\": \"#2a3f5f\"}, \"error_y\": {\"color\": \"#2a3f5f\"}, \"marker\": {\"line\": {\"color\": \"#E5ECF6\", \"width\": 0.5}}, \"type\": \"bar\"}], \"barpolar\": [{\"marker\": {\"line\": {\"color\": \"#E5ECF6\", \"width\": 0.5}}, \"type\": \"barpolar\"}], \"carpet\": [{\"aaxis\": {\"endlinecolor\": \"#2a3f5f\", \"gridcolor\": \"white\", \"linecolor\": \"white\", \"minorgridcolor\": \"white\", \"startlinecolor\": \"#2a3f5f\"}, \"baxis\": {\"endlinecolor\": \"#2a3f5f\", \"gridcolor\": \"white\", \"linecolor\": \"white\", \"minorgridcolor\": \"white\", \"startlinecolor\": \"#2a3f5f\"}, \"type\": \"carpet\"}], \"choropleth\": [{\"colorbar\": {\"outlinewidth\": 0, \"ticks\": \"\"}, \"type\": \"choropleth\"}], \"contour\": [{\"colorbar\": {\"outlinewidth\": 0, \"ticks\": \"\"}, \"colorscale\": [[0.0, \"#0d0887\"], [0.1111111111111111, \"#46039f\"], [0.2222222222222222, \"#7201a8\"], [0.3333333333333333, \"#9c179e\"], [0.4444444444444444, \"#bd3786\"], [0.5555555555555556, \"#d8576b\"], [0.6666666666666666, \"#ed7953\"], [0.7777777777777778, \"#fb9f3a\"], [0.8888888888888888, \"#fdca26\"], [1.0, \"#f0f921\"]], \"type\": \"contour\"}], \"contourcarpet\": [{\"colorbar\": {\"outlinewidth\": 0, \"ticks\": \"\"}, \"type\": \"contourcarpet\"}], \"heatmap\": [{\"colorbar\": {\"outlinewidth\": 0, \"ticks\": \"\"}, \"colorscale\": [[0.0, \"#0d0887\"], [0.1111111111111111, \"#46039f\"], [0.2222222222222222, \"#7201a8\"], [0.3333333333333333, \"#9c179e\"], [0.4444444444444444, \"#bd3786\"], [0.5555555555555556, \"#d8576b\"], [0.6666666666666666, \"#ed7953\"], [0.7777777777777778, \"#fb9f3a\"], [0.8888888888888888, \"#fdca26\"], [1.0, \"#f0f921\"]], \"type\": \"heatmap\"}], \"heatmapgl\": [{\"colorbar\": {\"outlinewidth\": 0, \"ticks\": \"\"}, \"colorscale\": [[0.0, \"#0d0887\"], [0.1111111111111111, \"#46039f\"], [0.2222222222222222, \"#7201a8\"], [0.3333333333333333, \"#9c179e\"], [0.4444444444444444, \"#bd3786\"], [0.5555555555555556, \"#d8576b\"], [0.6666666666666666, \"#ed7953\"], [0.7777777777777778, \"#fb9f3a\"], [0.8888888888888888, \"#fdca26\"], [1.0, \"#f0f921\"]], \"type\": \"heatmapgl\"}], \"histogram\": [{\"marker\": {\"colorbar\": {\"outlinewidth\": 0, \"ticks\": \"\"}}, \"type\": \"histogram\"}], \"histogram2d\": [{\"colorbar\": {\"outlinewidth\": 0, \"ticks\": \"\"}, \"colorscale\": [[0.0, \"#0d0887\"], [0.1111111111111111, \"#46039f\"], [0.2222222222222222, \"#7201a8\"], [0.3333333333333333, \"#9c179e\"], [0.4444444444444444, \"#bd3786\"], [0.5555555555555556, \"#d8576b\"], [0.6666666666666666, \"#ed7953\"], [0.7777777777777778, \"#fb9f3a\"], [0.8888888888888888, \"#fdca26\"], [1.0, \"#f0f921\"]], \"type\": \"histogram2d\"}], \"histogram2dcontour\": [{\"colorbar\": {\"outlinewidth\": 0, \"ticks\": \"\"}, \"colorscale\": [[0.0, \"#0d0887\"], [0.1111111111111111, \"#46039f\"], [0.2222222222222222, \"#7201a8\"], [0.3333333333333333, \"#9c179e\"], [0.4444444444444444, \"#bd3786\"], [0.5555555555555556, \"#d8576b\"], [0.6666666666666666, \"#ed7953\"], [0.7777777777777778, \"#fb9f3a\"], [0.8888888888888888, \"#fdca26\"], [1.0, \"#f0f921\"]], \"type\": \"histogram2dcontour\"}], \"mesh3d\": [{\"colorbar\": {\"outlinewidth\": 0, \"ticks\": \"\"}, \"type\": \"mesh3d\"}], \"parcoords\": [{\"line\": {\"colorbar\": {\"outlinewidth\": 0, \"ticks\": \"\"}}, \"type\": \"parcoords\"}], \"pie\": [{\"automargin\": true, \"type\": \"pie\"}], \"scatter\": [{\"marker\": {\"colorbar\": {\"outlinewidth\": 0, \"ticks\": \"\"}}, \"type\": \"scatter\"}], \"scatter3d\": [{\"line\": {\"colorbar\": {\"outlinewidth\": 0, \"ticks\": \"\"}}, \"marker\": {\"colorbar\": {\"outlinewidth\": 0, \"ticks\": \"\"}}, \"type\": \"scatter3d\"}], \"scattercarpet\": [{\"marker\": {\"colorbar\": {\"outlinewidth\": 0, \"ticks\": \"\"}}, \"type\": \"scattercarpet\"}], \"scattergeo\": [{\"marker\": {\"colorbar\": {\"outlinewidth\": 0, \"ticks\": \"\"}}, \"type\": \"scattergeo\"}], \"scattergl\": [{\"marker\": {\"colorbar\": {\"outlinewidth\": 0, \"ticks\": \"\"}}, \"type\": \"scattergl\"}], \"scattermapbox\": [{\"marker\": {\"colorbar\": {\"outlinewidth\": 0, \"ticks\": \"\"}}, \"type\": \"scattermapbox\"}], \"scatterpolar\": [{\"marker\": {\"colorbar\": {\"outlinewidth\": 0, \"ticks\": \"\"}}, \"type\": \"scatterpolar\"}], \"scatterpolargl\": [{\"marker\": {\"colorbar\": {\"outlinewidth\": 0, \"ticks\": \"\"}}, \"type\": \"scatterpolargl\"}], \"scatterternary\": [{\"marker\": {\"colorbar\": {\"outlinewidth\": 0, \"ticks\": \"\"}}, \"type\": \"scatterternary\"}], \"surface\": [{\"colorbar\": {\"outlinewidth\": 0, \"ticks\": \"\"}, \"colorscale\": [[0.0, \"#0d0887\"], [0.1111111111111111, \"#46039f\"], [0.2222222222222222, \"#7201a8\"], [0.3333333333333333, \"#9c179e\"], [0.4444444444444444, \"#bd3786\"], [0.5555555555555556, \"#d8576b\"], [0.6666666666666666, \"#ed7953\"], [0.7777777777777778, \"#fb9f3a\"], [0.8888888888888888, \"#fdca26\"], [1.0, \"#f0f921\"]], \"type\": \"surface\"}], \"table\": [{\"cells\": {\"fill\": {\"color\": \"#EBF0F8\"}, \"line\": {\"color\": \"white\"}}, \"header\": {\"fill\": {\"color\": \"#C8D4E3\"}, \"line\": {\"color\": \"white\"}}, \"type\": \"table\"}]}, \"layout\": {\"annotationdefaults\": {\"arrowcolor\": \"#2a3f5f\", \"arrowhead\": 0, \"arrowwidth\": 1}, \"autotypenumbers\": \"strict\", \"coloraxis\": {\"colorbar\": {\"outlinewidth\": 0, \"ticks\": \"\"}}, \"colorscale\": {\"diverging\": [[0, \"#8e0152\"], [0.1, \"#c51b7d\"], [0.2, \"#de77ae\"], [0.3, \"#f1b6da\"], [0.4, \"#fde0ef\"], [0.5, \"#f7f7f7\"], [0.6, \"#e6f5d0\"], [0.7, \"#b8e186\"], [0.8, \"#7fbc41\"], [0.9, \"#4d9221\"], [1, \"#276419\"]], \"sequential\": [[0.0, \"#0d0887\"], [0.1111111111111111, \"#46039f\"], [0.2222222222222222, \"#7201a8\"], [0.3333333333333333, \"#9c179e\"], [0.4444444444444444, \"#bd3786\"], [0.5555555555555556, \"#d8576b\"], [0.6666666666666666, \"#ed7953\"], [0.7777777777777778, \"#fb9f3a\"], [0.8888888888888888, \"#fdca26\"], [1.0, \"#f0f921\"]], \"sequentialminus\": [[0.0, \"#0d0887\"], [0.1111111111111111, \"#46039f\"], [0.2222222222222222, \"#7201a8\"], [0.3333333333333333, \"#9c179e\"], [0.4444444444444444, \"#bd3786\"], [0.5555555555555556, \"#d8576b\"], [0.6666666666666666, \"#ed7953\"], [0.7777777777777778, \"#fb9f3a\"], [0.8888888888888888, \"#fdca26\"], [1.0, \"#f0f921\"]]}, \"colorway\": [\"#636efa\", \"#EF553B\", \"#00cc96\", \"#ab63fa\", \"#FFA15A\", \"#19d3f3\", \"#FF6692\", \"#B6E880\", \"#FF97FF\", \"#FECB52\"], \"font\": {\"color\": \"#2a3f5f\"}, \"geo\": {\"bgcolor\": \"white\", \"lakecolor\": \"white\", \"landcolor\": \"#E5ECF6\", \"showlakes\": true, \"showland\": true, \"subunitcolor\": \"white\"}, \"hoverlabel\": {\"align\": \"left\"}, \"hovermode\": \"closest\", \"mapbox\": {\"style\": \"light\"}, \"paper_bgcolor\": \"white\", \"plot_bgcolor\": \"#E5ECF6\", \"polar\": {\"angularaxis\": {\"gridcolor\": \"white\", \"linecolor\": \"white\", \"ticks\": \"\"}, \"bgcolor\": \"#E5ECF6\", \"radialaxis\": {\"gridcolor\": \"white\", \"linecolor\": \"white\", \"ticks\": \"\"}}, \"scene\": {\"xaxis\": {\"backgroundcolor\": \"#E5ECF6\", \"gridcolor\": \"white\", \"gridwidth\": 2, \"linecolor\": \"white\", \"showbackground\": true, \"ticks\": \"\", \"zerolinecolor\": \"white\"}, \"yaxis\": {\"backgroundcolor\": \"#E5ECF6\", \"gridcolor\": \"white\", \"gridwidth\": 2, \"linecolor\": \"white\", \"showbackground\": true, \"ticks\": \"\", \"zerolinecolor\": \"white\"}, \"zaxis\": {\"backgroundcolor\": \"#E5ECF6\", \"gridcolor\": \"white\", \"gridwidth\": 2, \"linecolor\": \"white\", \"showbackground\": true, \"ticks\": \"\", \"zerolinecolor\": \"white\"}}, \"shapedefaults\": {\"line\": {\"color\": \"#2a3f5f\"}}, \"ternary\": {\"aaxis\": {\"gridcolor\": \"white\", \"linecolor\": \"white\", \"ticks\": \"\"}, \"baxis\": {\"gridcolor\": \"white\", \"linecolor\": \"white\", \"ticks\": \"\"}, \"bgcolor\": \"#E5ECF6\", \"caxis\": {\"gridcolor\": \"white\", \"linecolor\": \"white\", \"ticks\": \"\"}}, \"title\": {\"x\": 0.05}, \"xaxis\": {\"automargin\": true, \"gridcolor\": \"white\", \"linecolor\": \"white\", \"ticks\": \"\", \"title\": {\"standoff\": 15}, \"zerolinecolor\": \"white\", \"zerolinewidth\": 2}, \"yaxis\": {\"automargin\": true, \"gridcolor\": \"white\", \"linecolor\": \"white\", \"ticks\": \"\", \"title\": {\"standoff\": 15}, \"zerolinecolor\": \"white\", \"zerolinewidth\": 2}}}, \"title\": {\"font\": {\"family\": \"Times New Roman\"}}, \"width\": 800, \"xaxis\": {\"linecolor\": \"black\", \"showline\": true, \"title\": {\"text\": \"Time (hour)\"}}, \"yaxis\": {\"linecolor\": \"black\", \"showline\": true, \"title\": {\"text\": \"Energy Supply Load (kWh)\"}}},                        {\"responsive\": true}                    ).then(function(){\n",
       "                            \n",
       "var gd = document.getElementById('a5cd5373-8dc7-4cd1-b625-a743ff580e3c');\n",
       "var x = new MutationObserver(function (mutations, observer) {{\n",
       "        var display = window.getComputedStyle(gd).display;\n",
       "        if (!display || display === 'none') {{\n",
       "            console.log([gd, 'removed!']);\n",
       "            Plotly.purge(gd);\n",
       "            observer.disconnect();\n",
       "        }}\n",
       "}});\n",
       "\n",
       "// Listen for the removal of the full notebook cells\n",
       "var notebookContainer = gd.closest('#notebook-container');\n",
       "if (notebookContainer) {{\n",
       "    x.observe(notebookContainer, {childList: true});\n",
       "}}\n",
       "\n",
       "// Listen for the clearing of the current output cell\n",
       "var outputEl = gd.closest('.output');\n",
       "if (outputEl) {{\n",
       "    x.observe(outputEl, {childList: true});\n",
       "}}\n",
       "\n",
       "                        })                };                });            </script>        </div>"
      ]
     },
     "metadata": {},
     "output_type": "display_data"
    }
   ],
   "source": [
    "labels = ['PV Energy','PENS Energy','Diesel Energy', 'Battery Bank Energy']\n",
    "values = [round(tabla_resultados['energia_PV'].sum(),1), \n",
    "          round(tabla_resultados['energia_ENS'].sum(),1),\n",
    "          round(tabla_resultados['energia_Dg'].sum(),1),           \n",
    "          round(tabla_resultados['energia_descarga_bateria'].sum(),1)]\n",
    "\n",
    "colors = ['orange', 'firebrick', 'seagreen', 'royalBlue']\n",
    "\n",
    "fig = go.Figure(data=[go.Pie(labels=labels, values=values)])\n",
    "\n",
    "fig = go.Figure(data=[go.Pie(labels=labels, values=values, textinfo='label+percent',textposition='outside', pull=[0, 0.2,0, 0], hole = .4,\n",
    "                             #title = 'Supply Load'\n",
    "                           )])\n",
    "\n",
    "\n",
    "\n",
    "fig.update_xaxes(title_text='Time (hour)')\n",
    "fig.update_yaxes(title_text='Energy Supply Load (kWh)')\n",
    "fig.update_xaxes(showline=True, linecolor='black')\n",
    "fig.layout.update(showlegend=False, width=800, height=600) \n",
    "fig.update_yaxes(showline=True, linecolor='black')\n",
    "\n",
    "\n",
    "fig.update_layout(\n",
    "    margin=dict(l=1, r=5, t=5, b=5),\n",
    "    \n",
    "    font_family=\"Times New Roman\",\n",
    "    title_font_family=\"Times New Roman\",\n",
    "    font_size=24\n",
    "    ,\n",
    "    font_color=\"black\",\n",
    "        legend=dict(\n",
    "    orientation=\"h\",\n",
    "    yanchor=\"bottom\",\n",
    "    y=1.02,\n",
    "    xanchor=\"right\",\n",
    "    x=1,\n",
    "        font_size=24)\n",
    "\n",
    ")\n",
    "\n",
    "fig.update_traces(  marker=dict(colors=colors))\n",
    "fig.write_image(os.getcwd()+os.sep+\"graficos_articulo\"+os.sep+\"energy_supply_load_pv_bat.eps\")\n",
    "fig.show()"
   ]
  },
  {
   "cell_type": "code",
   "execution_count": 57,
   "metadata": {
    "ExecuteTime": {
     "end_time": "2022-03-20T00:02:18.231774Z",
     "start_time": "2022-03-20T00:02:18.203776Z"
    }
   },
   "outputs": [],
   "source": [
    "def graficar(tipo, lista_campos, titulo,df):\n",
    "    if tipo == 'bar':\n",
    "        fig = px.bar(df,\n",
    "                     y=lista_campos,\n",
    "                     \n",
    "                     template=\"xgridoff\",\n",
    "                     title=titulo,\n",
    "              width=520,\n",
    "              height=400)\n",
    "    elif tipo == 'linea':\n",
    "        fig = px.line(df,\n",
    "                      y=lista_campos,\n",
    "                      x='hour',\n",
    "                      template=\"xgridoff\",\n",
    "                      title=titulo,\n",
    "                      \n",
    "                      category_orders={\"State\": lista_campos},\n",
    "              width=520,\n",
    "              height=400)\n",
    "        \n",
    "    fig.update_yaxes(nticks=10)\n",
    "    fig.update_xaxes(nticks=15)\n",
    "    fig.update_xaxes(title_text='Time (hour)')\n",
    "    fig.update_yaxes(title_text='Energy [kWh]')\n",
    "    fig.update_yaxes(showline=True, linecolor='black')\n",
    "    fig.update_xaxes(showline=False, linecolor='black')\n",
    "    \n",
    "    if 'SOC(t)_bateria' in lista_campos or 'SoC(t)' in lista_campos:\n",
    "        fig.add_shape(  # add a horizontal \"target\" line\n",
    "            type=\"line\",\n",
    "            line_color=\"gray\",\n",
    "            line_width=2,\n",
    "            opacity=1,\n",
    "            line_dash=\"dot\",\n",
    "            x0=0,\n",
    "            x1=1,\n",
    "            xref=\"paper\",\n",
    "            y0=parametros['p_bat']*0.5,\n",
    "            y1=parametros['p_bat']*0.5,\n",
    "            yref=\"y\")\n",
    "        fig.add_shape(  # add a horizontal \"target\" line\n",
    "            type=\"line\",\n",
    "            line_color=\"gray\",\n",
    "            line_width=2,\n",
    "            opacity=1,\n",
    "            line_dash=\"dot\",\n",
    "            x0=0,\n",
    "            x1=1,\n",
    "            xref=\"paper\",\n",
    "            y0=parametros['p_bat'],\n",
    "            y1=parametros['p_bat'],\n",
    "            yref=\"y\")\n",
    "    fig.update_layout(\n",
    "    font_family=\"Times New Roman\",\n",
    "        legend_title=\"\",\n",
    "    title_font_family=\"Times New Roman\",\n",
    "    font_size=14\n",
    "    ,\n",
    "    font_color=\"black\",\n",
    "        legend=dict(\n",
    "    orientation=\"h\",\n",
    "    yanchor=\"bottom\",\n",
    "    y=1.02,\n",
    "    xanchor=\"right\",\n",
    "    x=1,\n",
    "        font_size=14)\n",
    "\n",
    ")\n",
    "\n",
    "    fig.write_image(os.getcwd()+os.sep+\"graficos_articulo\"+os.sep+\"graficos%s.eps\"%(lista_campos[0]+tipo))\n",
    "    fig.show()\n",
    "\n"
   ]
  },
  {
   "cell_type": "code",
   "execution_count": 58,
   "metadata": {
    "ExecuteTime": {
     "end_time": "2022-03-20T00:02:18.403771Z",
     "start_time": "2022-03-20T00:02:18.327775Z"
    }
   },
   "outputs": [
    {
     "data": {
      "text/html": [
       "<div>\n",
       "<style scoped>\n",
       "    .dataframe tbody tr th:only-of-type {\n",
       "        vertical-align: middle;\n",
       "    }\n",
       "\n",
       "    .dataframe tbody tr th {\n",
       "        vertical-align: top;\n",
       "    }\n",
       "\n",
       "    .dataframe thead th {\n",
       "        text-align: right;\n",
       "    }\n",
       "</style>\n",
       "<table border=\"1\" class=\"dataframe\">\n",
       "  <thead>\n",
       "    <tr style=\"text-align: right;\">\n",
       "      <th></th>\n",
       "      <th>id_simulacion</th>\n",
       "      <th>energia_PV</th>\n",
       "      <th>energia_Dg</th>\n",
       "      <th>bin_diesel</th>\n",
       "      <th>energia_carga_bateria</th>\n",
       "      <th>bin_bat_carga</th>\n",
       "      <th>energia_descarga_bateria</th>\n",
       "      <th>bin_bat_descarga</th>\n",
       "      <th>energia_ENS</th>\n",
       "      <th>SOC(t)_bateria</th>\n",
       "      <th>p_bat_pv</th>\n",
       "      <th>p_bat_dg</th>\n",
       "      <th>suma_pv_dg_bat_descarga</th>\n",
       "      <th>load</th>\n",
       "      <th>recurso_pv_dis</th>\n",
       "      <th>recurso_diesel_dis</th>\n",
       "      <th>porcentaje_carga_dg</th>\n",
       "      <th>porcentaje_energia_dg</th>\n",
       "      <th>porcentaje_carga_bat_dg</th>\n",
       "      <th>porcentaje_SOC_t</th>\n",
       "    </tr>\n",
       "  </thead>\n",
       "  <tbody>\n",
       "    <tr>\n",
       "      <th>0</th>\n",
       "      <td>1007</td>\n",
       "      <td>0.0</td>\n",
       "      <td>0.0</td>\n",
       "      <td>0.0</td>\n",
       "      <td>0.0</td>\n",
       "      <td>0.0</td>\n",
       "      <td>2.0423</td>\n",
       "      <td>1.0</td>\n",
       "      <td>0.000000e+00</td>\n",
       "      <td>97.813571</td>\n",
       "      <td>0.0</td>\n",
       "      <td>0.0</td>\n",
       "      <td>2.0423</td>\n",
       "      <td>2.0423</td>\n",
       "      <td>0.0</td>\n",
       "      <td>0</td>\n",
       "      <td>None</td>\n",
       "      <td>None</td>\n",
       "      <td>None</td>\n",
       "      <td>97.037272</td>\n",
       "    </tr>\n",
       "    <tr>\n",
       "      <th>1</th>\n",
       "      <td>1007</td>\n",
       "      <td>0.0</td>\n",
       "      <td>0.0</td>\n",
       "      <td>0.0</td>\n",
       "      <td>0.0</td>\n",
       "      <td>0.0</td>\n",
       "      <td>2.0410</td>\n",
       "      <td>1.0</td>\n",
       "      <td>0.000000e+00</td>\n",
       "      <td>94.853297</td>\n",
       "      <td>0.0</td>\n",
       "      <td>0.0</td>\n",
       "      <td>2.0410</td>\n",
       "      <td>2.0410</td>\n",
       "      <td>0.0</td>\n",
       "      <td>0</td>\n",
       "      <td>None</td>\n",
       "      <td>None</td>\n",
       "      <td>None</td>\n",
       "      <td>94.100493</td>\n",
       "    </tr>\n",
       "    <tr>\n",
       "      <th>2</th>\n",
       "      <td>1007</td>\n",
       "      <td>0.0</td>\n",
       "      <td>0.0</td>\n",
       "      <td>0.0</td>\n",
       "      <td>0.0</td>\n",
       "      <td>0.0</td>\n",
       "      <td>2.0433</td>\n",
       "      <td>1.0</td>\n",
       "      <td>0.000000e+00</td>\n",
       "      <td>91.915172</td>\n",
       "      <td>0.0</td>\n",
       "      <td>0.0</td>\n",
       "      <td>2.0433</td>\n",
       "      <td>2.0433</td>\n",
       "      <td>0.0</td>\n",
       "      <td>0</td>\n",
       "      <td>None</td>\n",
       "      <td>None</td>\n",
       "      <td>None</td>\n",
       "      <td>91.185687</td>\n",
       "    </tr>\n",
       "    <tr>\n",
       "      <th>3</th>\n",
       "      <td>1007</td>\n",
       "      <td>0.0</td>\n",
       "      <td>0.0</td>\n",
       "      <td>0.0</td>\n",
       "      <td>0.0</td>\n",
       "      <td>0.0</td>\n",
       "      <td>2.0415</td>\n",
       "      <td>1.0</td>\n",
       "      <td>0.000000e+00</td>\n",
       "      <td>89.003329</td>\n",
       "      <td>0.0</td>\n",
       "      <td>0.0</td>\n",
       "      <td>2.0415</td>\n",
       "      <td>2.0415</td>\n",
       "      <td>0.0</td>\n",
       "      <td>0</td>\n",
       "      <td>None</td>\n",
       "      <td>None</td>\n",
       "      <td>None</td>\n",
       "      <td>88.296953</td>\n",
       "    </tr>\n",
       "    <tr>\n",
       "      <th>4</th>\n",
       "      <td>1007</td>\n",
       "      <td>0.0</td>\n",
       "      <td>0.0</td>\n",
       "      <td>0.0</td>\n",
       "      <td>0.0</td>\n",
       "      <td>0.0</td>\n",
       "      <td>2.0671</td>\n",
       "      <td>1.0</td>\n",
       "      <td>0.000000e+00</td>\n",
       "      <td>86.088707</td>\n",
       "      <td>0.0</td>\n",
       "      <td>0.0</td>\n",
       "      <td>2.0671</td>\n",
       "      <td>2.0671</td>\n",
       "      <td>0.0</td>\n",
       "      <td>0</td>\n",
       "      <td>None</td>\n",
       "      <td>None</td>\n",
       "      <td>None</td>\n",
       "      <td>85.405463</td>\n",
       "    </tr>\n",
       "    <tr>\n",
       "      <th>...</th>\n",
       "      <td>...</td>\n",
       "      <td>...</td>\n",
       "      <td>...</td>\n",
       "      <td>...</td>\n",
       "      <td>...</td>\n",
       "      <td>...</td>\n",
       "      <td>...</td>\n",
       "      <td>...</td>\n",
       "      <td>...</td>\n",
       "      <td>...</td>\n",
       "      <td>...</td>\n",
       "      <td>...</td>\n",
       "      <td>...</td>\n",
       "      <td>...</td>\n",
       "      <td>...</td>\n",
       "      <td>...</td>\n",
       "      <td>...</td>\n",
       "      <td>...</td>\n",
       "      <td>...</td>\n",
       "      <td>...</td>\n",
       "    </tr>\n",
       "    <tr>\n",
       "      <th>8755</th>\n",
       "      <td>1007</td>\n",
       "      <td>0.0</td>\n",
       "      <td>0.0</td>\n",
       "      <td>0.0</td>\n",
       "      <td>0.0</td>\n",
       "      <td>0.0</td>\n",
       "      <td>3.6658</td>\n",
       "      <td>1.0</td>\n",
       "      <td>0.000000e+00</td>\n",
       "      <td>63.324159</td>\n",
       "      <td>0.0</td>\n",
       "      <td>0.0</td>\n",
       "      <td>3.6658</td>\n",
       "      <td>3.6658</td>\n",
       "      <td>0.0</td>\n",
       "      <td>0</td>\n",
       "      <td>None</td>\n",
       "      <td>None</td>\n",
       "      <td>None</td>\n",
       "      <td>62.821586</td>\n",
       "    </tr>\n",
       "    <tr>\n",
       "      <th>8756</th>\n",
       "      <td>1007</td>\n",
       "      <td>0.0</td>\n",
       "      <td>0.0</td>\n",
       "      <td>0.0</td>\n",
       "      <td>0.0</td>\n",
       "      <td>0.0</td>\n",
       "      <td>2.1547</td>\n",
       "      <td>1.0</td>\n",
       "      <td>0.000000e+00</td>\n",
       "      <td>60.530463</td>\n",
       "      <td>0.0</td>\n",
       "      <td>0.0</td>\n",
       "      <td>2.1547</td>\n",
       "      <td>2.1547</td>\n",
       "      <td>0.0</td>\n",
       "      <td>0</td>\n",
       "      <td>None</td>\n",
       "      <td>None</td>\n",
       "      <td>None</td>\n",
       "      <td>60.050062</td>\n",
       "    </tr>\n",
       "    <tr>\n",
       "      <th>8757</th>\n",
       "      <td>1007</td>\n",
       "      <td>0.0</td>\n",
       "      <td>0.0</td>\n",
       "      <td>0.0</td>\n",
       "      <td>0.0</td>\n",
       "      <td>0.0</td>\n",
       "      <td>2.0912</td>\n",
       "      <td>1.0</td>\n",
       "      <td>0.000000e+00</td>\n",
       "      <td>57.826797</td>\n",
       "      <td>0.0</td>\n",
       "      <td>0.0</td>\n",
       "      <td>2.0912</td>\n",
       "      <td>2.0912</td>\n",
       "      <td>0.0</td>\n",
       "      <td>0</td>\n",
       "      <td>None</td>\n",
       "      <td>None</td>\n",
       "      <td>None</td>\n",
       "      <td>57.367854</td>\n",
       "    </tr>\n",
       "    <tr>\n",
       "      <th>8758</th>\n",
       "      <td>1007</td>\n",
       "      <td>0.0</td>\n",
       "      <td>0.0</td>\n",
       "      <td>0.0</td>\n",
       "      <td>0.0</td>\n",
       "      <td>0.0</td>\n",
       "      <td>2.0864</td>\n",
       "      <td>1.0</td>\n",
       "      <td>2.220446e-15</td>\n",
       "      <td>55.150624</td>\n",
       "      <td>0.0</td>\n",
       "      <td>0.0</td>\n",
       "      <td>2.0864</td>\n",
       "      <td>2.0864</td>\n",
       "      <td>0.0</td>\n",
       "      <td>0</td>\n",
       "      <td>None</td>\n",
       "      <td>None</td>\n",
       "      <td>None</td>\n",
       "      <td>54.712920</td>\n",
       "    </tr>\n",
       "    <tr>\n",
       "      <th>8759</th>\n",
       "      <td>1007</td>\n",
       "      <td>0.0</td>\n",
       "      <td>0.0</td>\n",
       "      <td>0.0</td>\n",
       "      <td>0.0</td>\n",
       "      <td>0.0</td>\n",
       "      <td>2.0914</td>\n",
       "      <td>1.0</td>\n",
       "      <td>0.000000e+00</td>\n",
       "      <td>52.491400</td>\n",
       "      <td>0.0</td>\n",
       "      <td>0.0</td>\n",
       "      <td>2.0914</td>\n",
       "      <td>2.0914</td>\n",
       "      <td>0.0</td>\n",
       "      <td>0</td>\n",
       "      <td>None</td>\n",
       "      <td>None</td>\n",
       "      <td>None</td>\n",
       "      <td>52.074802</td>\n",
       "    </tr>\n",
       "  </tbody>\n",
       "</table>\n",
       "<p>8760 rows × 20 columns</p>\n",
       "</div>"
      ],
      "text/plain": [
       "      id_simulacion  energia_PV  energia_Dg  bin_diesel  \\\n",
       "0              1007         0.0         0.0         0.0   \n",
       "1              1007         0.0         0.0         0.0   \n",
       "2              1007         0.0         0.0         0.0   \n",
       "3              1007         0.0         0.0         0.0   \n",
       "4              1007         0.0         0.0         0.0   \n",
       "...             ...         ...         ...         ...   \n",
       "8755           1007         0.0         0.0         0.0   \n",
       "8756           1007         0.0         0.0         0.0   \n",
       "8757           1007         0.0         0.0         0.0   \n",
       "8758           1007         0.0         0.0         0.0   \n",
       "8759           1007         0.0         0.0         0.0   \n",
       "\n",
       "      energia_carga_bateria  bin_bat_carga  energia_descarga_bateria  \\\n",
       "0                       0.0            0.0                    2.0423   \n",
       "1                       0.0            0.0                    2.0410   \n",
       "2                       0.0            0.0                    2.0433   \n",
       "3                       0.0            0.0                    2.0415   \n",
       "4                       0.0            0.0                    2.0671   \n",
       "...                     ...            ...                       ...   \n",
       "8755                    0.0            0.0                    3.6658   \n",
       "8756                    0.0            0.0                    2.1547   \n",
       "8757                    0.0            0.0                    2.0912   \n",
       "8758                    0.0            0.0                    2.0864   \n",
       "8759                    0.0            0.0                    2.0914   \n",
       "\n",
       "      bin_bat_descarga   energia_ENS  SOC(t)_bateria  p_bat_pv  p_bat_dg  \\\n",
       "0                  1.0  0.000000e+00       97.813571       0.0       0.0   \n",
       "1                  1.0  0.000000e+00       94.853297       0.0       0.0   \n",
       "2                  1.0  0.000000e+00       91.915172       0.0       0.0   \n",
       "3                  1.0  0.000000e+00       89.003329       0.0       0.0   \n",
       "4                  1.0  0.000000e+00       86.088707       0.0       0.0   \n",
       "...                ...           ...             ...       ...       ...   \n",
       "8755               1.0  0.000000e+00       63.324159       0.0       0.0   \n",
       "8756               1.0  0.000000e+00       60.530463       0.0       0.0   \n",
       "8757               1.0  0.000000e+00       57.826797       0.0       0.0   \n",
       "8758               1.0  2.220446e-15       55.150624       0.0       0.0   \n",
       "8759               1.0  0.000000e+00       52.491400       0.0       0.0   \n",
       "\n",
       "      suma_pv_dg_bat_descarga    load  recurso_pv_dis  recurso_diesel_dis  \\\n",
       "0                      2.0423  2.0423             0.0                   0   \n",
       "1                      2.0410  2.0410             0.0                   0   \n",
       "2                      2.0433  2.0433             0.0                   0   \n",
       "3                      2.0415  2.0415             0.0                   0   \n",
       "4                      2.0671  2.0671             0.0                   0   \n",
       "...                       ...     ...             ...                 ...   \n",
       "8755                   3.6658  3.6658             0.0                   0   \n",
       "8756                   2.1547  2.1547             0.0                   0   \n",
       "8757                   2.0912  2.0912             0.0                   0   \n",
       "8758                   2.0864  2.0864             0.0                   0   \n",
       "8759                   2.0914  2.0914             0.0                   0   \n",
       "\n",
       "     porcentaje_carga_dg porcentaje_energia_dg porcentaje_carga_bat_dg  \\\n",
       "0                   None                  None                    None   \n",
       "1                   None                  None                    None   \n",
       "2                   None                  None                    None   \n",
       "3                   None                  None                    None   \n",
       "4                   None                  None                    None   \n",
       "...                  ...                   ...                     ...   \n",
       "8755                None                  None                    None   \n",
       "8756                None                  None                    None   \n",
       "8757                None                  None                    None   \n",
       "8758                None                  None                    None   \n",
       "8759                None                  None                    None   \n",
       "\n",
       "      porcentaje_SOC_t  \n",
       "0            97.037272  \n",
       "1            94.100493  \n",
       "2            91.185687  \n",
       "3            88.296953  \n",
       "4            85.405463  \n",
       "...                ...  \n",
       "8755         62.821586  \n",
       "8756         60.050062  \n",
       "8757         57.367854  \n",
       "8758         54.712920  \n",
       "8759         52.074802  \n",
       "\n",
       "[8760 rows x 20 columns]"
      ]
     },
     "execution_count": 58,
     "metadata": {},
     "output_type": "execute_result"
    }
   ],
   "source": [
    "tabla_resultados"
   ]
  },
  {
   "cell_type": "code",
   "execution_count": 59,
   "metadata": {
    "ExecuteTime": {
     "end_time": "2022-03-20T00:02:20.135311Z",
     "start_time": "2022-03-20T00:02:19.136808Z"
    }
   },
   "outputs": [],
   "source": [
    "tabla_resultados[['date', 'hora', 'dia', 'mes']] = bd[['date', 'hora', 'dia', 'mes']]\n",
    "tabla_resultados[\"date\"]=tabla_resultados[\"date\"].apply(pd.to_datetime)\n",
    "tabla_resultados[\"Month\"] = tabla_resultados[\"date\"].dt.month_name()\n",
    "dic_fecha = {\n",
    "   'January' :'Jan',\n",
    "    'February':'Feb',\n",
    "    'March':'Mar',\n",
    "    'April':'Apr',\n",
    "    'May':'May',\n",
    "    'June':'Jun',\n",
    "    'July':'Jul',\n",
    "    'August':'Aug',\n",
    "    'September':'Sep',\n",
    "    'October':'Oct',\n",
    "    'November':'Nov',\n",
    "    'December':'Dec'\n",
    "}\n",
    "tabla_resultados[\"Month\"] = tabla_resultados[\"Month\"].apply(lambda x: dic_fecha[x])\n",
    "tabla_resultados[\"hora\"]=tabla_resultados[\"hora\"].apply(lambda x: x+1)\n",
    "#supply_load = tabla_resultados.groupby([\"hora\"])['energia_PV','energia_ENS','energia_Dg','energia_descarga_bateria'].mean().reset_index()\n",
    "#supply_load_2 = tabla_resultados.groupby([\"hora\",\"Month\"])['energia_PV','energia_ENS','energia_Dg','energia_descarga_bateria'].mean().reset_index()\n",
    "#supply_load_3 = tabla_resultados.groupby([\"Month\"])['energia_PV','energia_ENS','energia_Dg','energia_descarga_bateria'].sum().reset_index()\n"
   ]
  },
  {
   "cell_type": "code",
   "execution_count": 60,
   "metadata": {
    "ExecuteTime": {
     "end_time": "2022-03-20T00:02:20.287298Z",
     "start_time": "2022-03-20T00:02:20.267295Z"
    }
   },
   "outputs": [
    {
     "data": {
      "text/plain": [
       "Index(['hour', 'SoC(t)', 'Discharging', 'Charging'], dtype='object')"
      ]
     },
     "execution_count": 60,
     "metadata": {},
     "output_type": "execute_result"
    }
   ],
   "source": [
    "soc.columns"
   ]
  },
  {
   "cell_type": "code",
   "execution_count": 70,
   "metadata": {
    "ExecuteTime": {
     "end_time": "2022-03-20T00:09:33.294617Z",
     "start_time": "2022-03-20T00:09:32.462329Z"
    }
   },
   "outputs": [
    {
     "name": "stderr",
     "output_type": "stream",
     "text": [
      "C:\\Users\\wrope\\anaconda3\\lib\\site-packages\\ipykernel_launcher.py:1: FutureWarning:\n",
      "\n",
      "Indexing with multiple keys (implicitly converted to a tuple of keys) will be deprecated, use a list instead.\n",
      "\n"
     ]
    },
    {
     "data": {
      "application/vnd.plotly.v1+json": {
       "config": {
        "plotlyServerURL": "https://plot.ly"
       },
       "data": [
        {
         "hovertemplate": "variable=SoC(t)<br>hour=%{x}<br>value=%{y}<extra></extra>",
         "legendgroup": "SoC(t)",
         "line": {
          "color": "#1F77B4",
          "dash": "solid"
         },
         "mode": "lines",
         "name": "SoC(t)",
         "orientation": "v",
         "showlegend": true,
         "type": "scatter",
         "x": [
          1,
          2,
          3,
          4,
          5,
          6,
          7,
          8,
          9,
          10,
          11,
          12,
          13,
          14,
          15,
          16,
          17,
          18,
          19,
          20,
          21,
          22,
          23,
          24
         ],
         "xaxis": "x",
         "y": [
          64.40182448602216,
          62.07976272476198,
          59.82200170441074,
          57.63970166681718,
          55.58600052781746,
          53.7004002632197,
          53.04455728018749,
          55.17950686702772,
          57.993134635837734,
          60.37227812609685,
          65.12479103791387,
          71.27252470682188,
          77.4460143595792,
          83.58715844684754,
          87.97006773288959,
          88.48942808795223,
          90.03502711140523,
          86.89360837485083,
          80.39537866487069,
          76.63965224622801,
          74.04435314327336,
          71.54042304901405,
          69.07892250065578,
          66.64667797391833
         ],
         "yaxis": "y"
        },
        {
         "hovertemplate": "variable=Discharging<br>hour=%{x}<br>value=%{y}<extra></extra>",
         "legendgroup": "Discharging",
         "line": {
          "color": "#FF7F0E",
          "dash": "solid"
         },
         "mode": "lines",
         "name": "Discharging",
         "orientation": "v",
         "showlegend": true,
         "type": "scatter",
         "x": [
          1,
          2,
          3,
          4,
          5,
          6,
          7,
          8,
          9,
          10,
          11,
          12,
          13,
          14,
          15,
          16,
          17,
          18,
          19,
          20,
          21,
          22,
          23,
          24
         ],
         "xaxis": "x",
         "y": [
          1.731792871893574,
          1.6981502871249896,
          1.6553740402488903,
          1.6014885522745061,
          1.4965270344068813,
          1.3530246372059422,
          0.48586906405000524,
          0.06834217437601613,
          0.31927092759059217,
          0.6286065437656831,
          0.3501844973913927,
          0.12181787030483315,
          0.11558109589041095,
          0.26706259077104444,
          0.5313684284700985,
          1.2519518089965433,
          0.23905835616438356,
          2.5702989628257398,
          5.488162122445386,
          2.934022536937971,
          1.861230489845482,
          1.7948938650116504,
          1.7743292851988808,
          1.7659449964827911
         ],
         "yaxis": "y"
        },
        {
         "hovertemplate": "variable=Charging<br>hour=%{x}<br>value=%{y}<extra></extra>",
         "legendgroup": "Charging",
         "line": {
          "color": "#2CA02C",
          "dash": "solid"
         },
         "mode": "lines",
         "name": "Charging",
         "orientation": "v",
         "showlegend": true,
         "type": "scatter",
         "x": [
          1,
          2,
          3,
          4,
          5,
          6,
          7,
          8,
          9,
          10,
          11,
          12,
          13,
          14,
          15,
          16,
          17,
          18,
          19,
          20,
          21,
          22,
          23,
          24
         ],
         "xaxis": "x",
         "y": [
          0,
          0,
          0,
          0,
          0,
          0,
          0.3347905102277818,
          2.9412872702088726,
          4.008547040475519,
          3.9135306738191926,
          6.246908978528442,
          7.573887524095225,
          7.651906576986203,
          7.850071692282101,
          6.262242098904592,
          2.852617696350735,
          2.813001834992137,
          0.34605538230690197,
          0,
          0,
          0,
          0,
          0,
          0
         ],
         "yaxis": "y"
        }
       ],
       "layout": {
        "font": {
         "color": "black",
         "family": "Times New Roman",
         "size": 14
        },
        "height": 400,
        "legend": {
         "font": {
          "size": 14
         },
         "orientation": "h",
         "title": {
          "text": ""
         },
         "tracegroupgap": 0,
         "x": 1,
         "xanchor": "right",
         "y": 1.02,
         "yanchor": "bottom"
        },
        "margin": {
         "t": 60
        },
        "shapes": [
         {
          "line": {
           "color": "gray",
           "dash": "dot",
           "width": 2
          },
          "opacity": 1,
          "type": "line",
          "x0": 0,
          "x1": 1,
          "xref": "paper",
          "y0": 50.4,
          "y1": 50.4,
          "yref": "y"
         },
         {
          "line": {
           "color": "gray",
           "dash": "dot",
           "width": 2
          },
          "opacity": 1,
          "type": "line",
          "x0": 0,
          "x1": 1,
          "xref": "paper",
          "y0": 100.8,
          "y1": 100.8,
          "yref": "y"
         }
        ],
        "template": {
         "data": {
          "pie": [
           {
            "automargin": true,
            "type": "pie"
           }
          ]
         },
         "layout": {
          "xaxis": {
           "showgrid": false,
           "title": {
            "standoff": 15
           }
          },
          "yaxis": {
           "title": {
            "standoff": 15
           }
          }
         }
        },
        "title": {
         "font": {
          "family": "Times New Roman"
         }
        },
        "width": 520,
        "xaxis": {
         "anchor": "y",
         "domain": [
          0,
          1
         ],
         "linecolor": "black",
         "nticks": 15,
         "showline": false,
         "title": {
          "text": "Time (hour)"
         }
        },
        "yaxis": {
         "anchor": "x",
         "domain": [
          0,
          1
         ],
         "linecolor": "black",
         "nticks": 10,
         "showline": true,
         "title": {
          "text": "Energy [kWh]"
         }
        }
       }
      },
      "text/html": [
       "<div>                            <div id=\"49a90af7-2ca8-4aba-afdf-850de94b09c6\" class=\"plotly-graph-div\" style=\"height:400px; width:520px;\"></div>            <script type=\"text/javascript\">                require([\"plotly\"], function(Plotly) {                    window.PLOTLYENV=window.PLOTLYENV || {};                                    if (document.getElementById(\"49a90af7-2ca8-4aba-afdf-850de94b09c6\")) {                    Plotly.newPlot(                        \"49a90af7-2ca8-4aba-afdf-850de94b09c6\",                        [{\"hovertemplate\": \"variable=SoC(t)<br>hour=%{x}<br>value=%{y}<extra></extra>\", \"legendgroup\": \"SoC(t)\", \"line\": {\"color\": \"#1F77B4\", \"dash\": \"solid\"}, \"mode\": \"lines\", \"name\": \"SoC(t)\", \"orientation\": \"v\", \"showlegend\": true, \"type\": \"scatter\", \"x\": [1, 2, 3, 4, 5, 6, 7, 8, 9, 10, 11, 12, 13, 14, 15, 16, 17, 18, 19, 20, 21, 22, 23, 24], \"xaxis\": \"x\", \"y\": [64.40182448602216, 62.07976272476198, 59.82200170441074, 57.63970166681718, 55.58600052781746, 53.7004002632197, 53.04455728018749, 55.17950686702772, 57.993134635837734, 60.37227812609685, 65.12479103791387, 71.27252470682188, 77.4460143595792, 83.58715844684754, 87.97006773288959, 88.48942808795223, 90.03502711140523, 86.89360837485083, 80.39537866487069, 76.63965224622801, 74.04435314327336, 71.54042304901405, 69.07892250065578, 66.64667797391833], \"yaxis\": \"y\"}, {\"hovertemplate\": \"variable=Discharging<br>hour=%{x}<br>value=%{y}<extra></extra>\", \"legendgroup\": \"Discharging\", \"line\": {\"color\": \"#FF7F0E\", \"dash\": \"solid\"}, \"mode\": \"lines\", \"name\": \"Discharging\", \"orientation\": \"v\", \"showlegend\": true, \"type\": \"scatter\", \"x\": [1, 2, 3, 4, 5, 6, 7, 8, 9, 10, 11, 12, 13, 14, 15, 16, 17, 18, 19, 20, 21, 22, 23, 24], \"xaxis\": \"x\", \"y\": [1.731792871893574, 1.6981502871249896, 1.6553740402488903, 1.6014885522745061, 1.4965270344068813, 1.3530246372059422, 0.48586906405000524, 0.06834217437601613, 0.31927092759059217, 0.6286065437656831, 0.3501844973913927, 0.12181787030483315, 0.11558109589041095, 0.26706259077104444, 0.5313684284700985, 1.2519518089965433, 0.23905835616438356, 2.5702989628257398, 5.488162122445386, 2.934022536937971, 1.861230489845482, 1.7948938650116504, 1.7743292851988808, 1.7659449964827911], \"yaxis\": \"y\"}, {\"hovertemplate\": \"variable=Charging<br>hour=%{x}<br>value=%{y}<extra></extra>\", \"legendgroup\": \"Charging\", \"line\": {\"color\": \"#2CA02C\", \"dash\": \"solid\"}, \"mode\": \"lines\", \"name\": \"Charging\", \"orientation\": \"v\", \"showlegend\": true, \"type\": \"scatter\", \"x\": [1, 2, 3, 4, 5, 6, 7, 8, 9, 10, 11, 12, 13, 14, 15, 16, 17, 18, 19, 20, 21, 22, 23, 24], \"xaxis\": \"x\", \"y\": [0.0, 0.0, 0.0, 0.0, 0.0, 0.0, 0.3347905102277818, 2.9412872702088726, 4.008547040475519, 3.9135306738191926, 6.246908978528442, 7.573887524095225, 7.651906576986203, 7.850071692282101, 6.262242098904592, 2.852617696350735, 2.813001834992137, 0.34605538230690197, 0.0, 0.0, 0.0, 0.0, 0.0, 0.0], \"yaxis\": \"y\"}],                        {\"font\": {\"color\": \"black\", \"family\": \"Times New Roman\", \"size\": 14}, \"height\": 400, \"legend\": {\"font\": {\"size\": 14}, \"orientation\": \"h\", \"title\": {\"text\": \"\"}, \"tracegroupgap\": 0, \"x\": 1, \"xanchor\": \"right\", \"y\": 1.02, \"yanchor\": \"bottom\"}, \"margin\": {\"t\": 60}, \"shapes\": [{\"line\": {\"color\": \"gray\", \"dash\": \"dot\", \"width\": 2}, \"opacity\": 1, \"type\": \"line\", \"x0\": 0, \"x1\": 1, \"xref\": \"paper\", \"y0\": 50.4, \"y1\": 50.4, \"yref\": \"y\"}, {\"line\": {\"color\": \"gray\", \"dash\": \"dot\", \"width\": 2}, \"opacity\": 1, \"type\": \"line\", \"x0\": 0, \"x1\": 1, \"xref\": \"paper\", \"y0\": 100.8, \"y1\": 100.8, \"yref\": \"y\"}], \"template\": {\"data\": {\"pie\": [{\"automargin\": true, \"type\": \"pie\"}]}, \"layout\": {\"xaxis\": {\"showgrid\": false, \"title\": {\"standoff\": 15}}, \"yaxis\": {\"title\": {\"standoff\": 15}}}}, \"title\": {\"font\": {\"family\": \"Times New Roman\"}}, \"width\": 520, \"xaxis\": {\"anchor\": \"y\", \"domain\": [0.0, 1.0], \"linecolor\": \"black\", \"nticks\": 15, \"showline\": false, \"title\": {\"text\": \"Time (hour)\"}}, \"yaxis\": {\"anchor\": \"x\", \"domain\": [0.0, 1.0], \"linecolor\": \"black\", \"nticks\": 10, \"showline\": true, \"title\": {\"text\": \"Energy [kWh]\"}}},                        {\"responsive\": true}                    ).then(function(){\n",
       "                            \n",
       "var gd = document.getElementById('49a90af7-2ca8-4aba-afdf-850de94b09c6');\n",
       "var x = new MutationObserver(function (mutations, observer) {{\n",
       "        var display = window.getComputedStyle(gd).display;\n",
       "        if (!display || display === 'none') {{\n",
       "            console.log([gd, 'removed!']);\n",
       "            Plotly.purge(gd);\n",
       "            observer.disconnect();\n",
       "        }}\n",
       "}});\n",
       "\n",
       "// Listen for the removal of the full notebook cells\n",
       "var notebookContainer = gd.closest('#notebook-container');\n",
       "if (notebookContainer) {{\n",
       "    x.observe(notebookContainer, {childList: true});\n",
       "}}\n",
       "\n",
       "// Listen for the clearing of the current output cell\n",
       "var outputEl = gd.closest('.output');\n",
       "if (outputEl) {{\n",
       "    x.observe(outputEl, {childList: true});\n",
       "}}\n",
       "\n",
       "                        })                };                });            </script>        </div>"
      ]
     },
     "metadata": {},
     "output_type": "display_data"
    }
   ],
   "source": [
    "soc = tabla_resultados.groupby([\"hora\"])['SOC(t)_bateria','energia_descarga_bateria','energia_carga_bateria'].mean().reset_index()\n",
    "soc.columns=['hour', 'SoC(t)', 'Discharging', 'Charging']\n",
    "graficar(tipo='linea',\n",
    "         lista_campos=['SoC(t)', 'Discharging', 'Charging'],\n",
    "         titulo=\"\",\n",
    "        df=soc)\n",
    "legend_title=\"Legend Title\"\n",
    "\n"
   ]
  },
  {
   "cell_type": "code",
   "execution_count": 62,
   "metadata": {
    "ExecuteTime": {
     "end_time": "2022-03-20T00:02:23.983359Z",
     "start_time": "2022-03-20T00:02:23.250974Z"
    }
   },
   "outputs": [
    {
     "name": "stderr",
     "output_type": "stream",
     "text": [
      "C:\\Users\\wrope\\anaconda3\\lib\\site-packages\\ipykernel_launcher.py:1: FutureWarning:\n",
      "\n",
      "Indexing with multiple keys (implicitly converted to a tuple of keys) will be deprecated, use a list instead.\n",
      "\n"
     ]
    },
    {
     "data": {
      "application/vnd.plotly.v1+json": {
       "config": {
        "plotlyServerURL": "https://plot.ly"
       },
       "data": [
        {
         "hovertemplate": "variable=Charging<br>hour=%{x}<br>value=%{y}<extra></extra>",
         "legendgroup": "Charging",
         "line": {
          "color": "#1F77B4",
          "dash": "solid"
         },
         "mode": "lines",
         "name": "Charging",
         "orientation": "v",
         "showlegend": true,
         "type": "scatter",
         "x": [
          1,
          2,
          3,
          4,
          5,
          6,
          7,
          8,
          9,
          10,
          11,
          12,
          13,
          14,
          15,
          16,
          17,
          18,
          19,
          20,
          21,
          22,
          23,
          24
         ],
         "xaxis": "x",
         "y": [
          0,
          0,
          0,
          0,
          0,
          0,
          0.3347905102277818,
          2.9412872702088726,
          4.008547040475519,
          3.9135306738191926,
          6.246908978528442,
          7.573887524095225,
          7.651906576986203,
          7.850071692282101,
          6.262242098904592,
          2.852617696350735,
          2.813001834992137,
          0.34605538230690197,
          0,
          0,
          0,
          0,
          0,
          0
         ],
         "yaxis": "y"
        },
        {
         "hovertemplate": "variable=PV Energy<br>hour=%{x}<br>value=%{y}<extra></extra>",
         "legendgroup": "PV Energy",
         "line": {
          "color": "#FF7F0E",
          "dash": "solid"
         },
         "mode": "lines",
         "name": "PV Energy",
         "orientation": "v",
         "showlegend": true,
         "type": "scatter",
         "x": [
          1,
          2,
          3,
          4,
          5,
          6,
          7,
          8,
          9,
          10,
          11,
          12,
          13,
          14,
          15,
          16,
          17,
          18,
          19,
          20,
          21,
          22,
          23,
          24
         ],
         "xaxis": "x",
         "y": [
          0,
          0,
          0,
          0,
          0,
          0,
          0.3347905102277818,
          2.9412872702088726,
          4.008547040475519,
          3.9135306738191926,
          6.246908978528442,
          7.573887524095225,
          7.651906576986203,
          7.850071692282101,
          6.262242098904592,
          2.852617696350735,
          2.813001834992137,
          0.34605538230690197,
          0,
          0,
          0,
          0,
          0,
          0
         ],
         "yaxis": "y"
        },
        {
         "hovertemplate": "variable=Diesel Energy<br>hour=%{x}<br>value=%{y}<extra></extra>",
         "legendgroup": "Diesel Energy",
         "line": {
          "color": "#2CA02C",
          "dash": "solid"
         },
         "mode": "lines",
         "name": "Diesel Energy",
         "orientation": "v",
         "showlegend": true,
         "type": "scatter",
         "x": [
          1,
          2,
          3,
          4,
          5,
          6,
          7,
          8,
          9,
          10,
          11,
          12,
          13,
          14,
          15,
          16,
          17,
          18,
          19,
          20,
          21,
          22,
          23,
          24
         ],
         "xaxis": "x",
         "y": [
          0,
          0,
          0,
          0,
          0,
          0,
          0,
          0,
          0,
          0,
          0,
          0,
          0,
          0,
          0,
          0,
          0,
          0,
          0,
          0,
          0,
          0,
          0,
          0
         ],
         "yaxis": "y"
        }
       ],
       "layout": {
        "font": {
         "color": "black",
         "family": "Times New Roman",
         "size": 14
        },
        "height": 400,
        "legend": {
         "font": {
          "size": 14
         },
         "orientation": "h",
         "title": {
          "text": ""
         },
         "tracegroupgap": 0,
         "x": 1,
         "xanchor": "right",
         "y": 1.02,
         "yanchor": "bottom"
        },
        "margin": {
         "t": 60
        },
        "template": {
         "data": {
          "pie": [
           {
            "automargin": true,
            "type": "pie"
           }
          ]
         },
         "layout": {
          "xaxis": {
           "showgrid": false,
           "title": {
            "standoff": 15
           }
          },
          "yaxis": {
           "title": {
            "standoff": 15
           }
          }
         }
        },
        "title": {
         "font": {
          "family": "Times New Roman"
         }
        },
        "width": 520,
        "xaxis": {
         "anchor": "y",
         "domain": [
          0,
          1
         ],
         "linecolor": "black",
         "nticks": 15,
         "showline": false,
         "title": {
          "text": "Time (hour)"
         }
        },
        "yaxis": {
         "anchor": "x",
         "domain": [
          0,
          1
         ],
         "linecolor": "black",
         "nticks": 10,
         "showline": true,
         "title": {
          "text": "Energy [kWh]"
         }
        }
       }
      },
      "text/html": [
       "<div>                            <div id=\"debcf327-9f34-40d0-aeba-d5bd4bba3c6b\" class=\"plotly-graph-div\" style=\"height:400px; width:520px;\"></div>            <script type=\"text/javascript\">                require([\"plotly\"], function(Plotly) {                    window.PLOTLYENV=window.PLOTLYENV || {};                                    if (document.getElementById(\"debcf327-9f34-40d0-aeba-d5bd4bba3c6b\")) {                    Plotly.newPlot(                        \"debcf327-9f34-40d0-aeba-d5bd4bba3c6b\",                        [{\"hovertemplate\": \"variable=Charging<br>hour=%{x}<br>value=%{y}<extra></extra>\", \"legendgroup\": \"Charging\", \"line\": {\"color\": \"#1F77B4\", \"dash\": \"solid\"}, \"mode\": \"lines\", \"name\": \"Charging\", \"orientation\": \"v\", \"showlegend\": true, \"type\": \"scatter\", \"x\": [1, 2, 3, 4, 5, 6, 7, 8, 9, 10, 11, 12, 13, 14, 15, 16, 17, 18, 19, 20, 21, 22, 23, 24], \"xaxis\": \"x\", \"y\": [0.0, 0.0, 0.0, 0.0, 0.0, 0.0, 0.3347905102277818, 2.9412872702088726, 4.008547040475519, 3.9135306738191926, 6.246908978528442, 7.573887524095225, 7.651906576986203, 7.850071692282101, 6.262242098904592, 2.852617696350735, 2.813001834992137, 0.34605538230690197, 0.0, 0.0, 0.0, 0.0, 0.0, 0.0], \"yaxis\": \"y\"}, {\"hovertemplate\": \"variable=PV Energy<br>hour=%{x}<br>value=%{y}<extra></extra>\", \"legendgroup\": \"PV Energy\", \"line\": {\"color\": \"#FF7F0E\", \"dash\": \"solid\"}, \"mode\": \"lines\", \"name\": \"PV Energy\", \"orientation\": \"v\", \"showlegend\": true, \"type\": \"scatter\", \"x\": [1, 2, 3, 4, 5, 6, 7, 8, 9, 10, 11, 12, 13, 14, 15, 16, 17, 18, 19, 20, 21, 22, 23, 24], \"xaxis\": \"x\", \"y\": [0.0, 0.0, 0.0, 0.0, 0.0, 0.0, 0.3347905102277818, 2.9412872702088726, 4.008547040475519, 3.9135306738191926, 6.246908978528442, 7.573887524095225, 7.651906576986203, 7.850071692282101, 6.262242098904592, 2.852617696350735, 2.813001834992137, 0.34605538230690197, 0.0, 0.0, 0.0, 0.0, 0.0, 0.0], \"yaxis\": \"y\"}, {\"hovertemplate\": \"variable=Diesel Energy<br>hour=%{x}<br>value=%{y}<extra></extra>\", \"legendgroup\": \"Diesel Energy\", \"line\": {\"color\": \"#2CA02C\", \"dash\": \"solid\"}, \"mode\": \"lines\", \"name\": \"Diesel Energy\", \"orientation\": \"v\", \"showlegend\": true, \"type\": \"scatter\", \"x\": [1, 2, 3, 4, 5, 6, 7, 8, 9, 10, 11, 12, 13, 14, 15, 16, 17, 18, 19, 20, 21, 22, 23, 24], \"xaxis\": \"x\", \"y\": [0.0, 0.0, 0.0, 0.0, 0.0, 0.0, 0.0, 0.0, 0.0, 0.0, 0.0, 0.0, 0.0, 0.0, 0.0, 0.0, 0.0, 0.0, 0.0, 0.0, 0.0, 0.0, 0.0, 0.0], \"yaxis\": \"y\"}],                        {\"font\": {\"color\": \"black\", \"family\": \"Times New Roman\", \"size\": 14}, \"height\": 400, \"legend\": {\"font\": {\"size\": 14}, \"orientation\": \"h\", \"title\": {\"text\": \"\"}, \"tracegroupgap\": 0, \"x\": 1, \"xanchor\": \"right\", \"y\": 1.02, \"yanchor\": \"bottom\"}, \"margin\": {\"t\": 60}, \"template\": {\"data\": {\"pie\": [{\"automargin\": true, \"type\": \"pie\"}]}, \"layout\": {\"xaxis\": {\"showgrid\": false, \"title\": {\"standoff\": 15}}, \"yaxis\": {\"title\": {\"standoff\": 15}}}}, \"title\": {\"font\": {\"family\": \"Times New Roman\"}}, \"width\": 520, \"xaxis\": {\"anchor\": \"y\", \"domain\": [0.0, 1.0], \"linecolor\": \"black\", \"nticks\": 15, \"showline\": false, \"title\": {\"text\": \"Time (hour)\"}}, \"yaxis\": {\"anchor\": \"x\", \"domain\": [0.0, 1.0], \"linecolor\": \"black\", \"nticks\": 10, \"showline\": true, \"title\": {\"text\": \"Energy [kWh]\"}}},                        {\"responsive\": true}                    ).then(function(){\n",
       "                            \n",
       "var gd = document.getElementById('debcf327-9f34-40d0-aeba-d5bd4bba3c6b');\n",
       "var x = new MutationObserver(function (mutations, observer) {{\n",
       "        var display = window.getComputedStyle(gd).display;\n",
       "        if (!display || display === 'none') {{\n",
       "            console.log([gd, 'removed!']);\n",
       "            Plotly.purge(gd);\n",
       "            observer.disconnect();\n",
       "        }}\n",
       "}});\n",
       "\n",
       "// Listen for the removal of the full notebook cells\n",
       "var notebookContainer = gd.closest('#notebook-container');\n",
       "if (notebookContainer) {{\n",
       "    x.observe(notebookContainer, {childList: true});\n",
       "}}\n",
       "\n",
       "// Listen for the clearing of the current output cell\n",
       "var outputEl = gd.closest('.output');\n",
       "if (outputEl) {{\n",
       "    x.observe(outputEl, {childList: true});\n",
       "}}\n",
       "\n",
       "                        })                };                });            </script>        </div>"
      ]
     },
     "metadata": {},
     "output_type": "display_data"
    }
   ],
   "source": [
    "pv_disp = tabla_resultados.groupby([\"hora\"])['energia_carga_bateria','p_bat_pv',\n",
    "                                             'p_bat_dg'].mean().reset_index()\n",
    "\n",
    "\n",
    "pv_disp.columns=['hour','Charging', 'PV Energy',  'Diesel Energy']\n",
    "\n",
    "graficar(tipo='linea',\n",
    "         lista_campos=['Charging','PV Energy',  'Diesel Energy'],\n",
    "         titulo=\"\",\n",
    "        df = pv_disp )"
   ]
  },
  {
   "cell_type": "code",
   "execution_count": 63,
   "metadata": {
    "ExecuteTime": {
     "end_time": "2022-03-20T00:02:28.744978Z",
     "start_time": "2022-03-20T00:02:28.732979Z"
    }
   },
   "outputs": [
    {
     "data": {
      "text/plain": [
       "Index(['id_simulacion', 'energia_PV', 'energia_Dg', 'bin_diesel',\n",
       "       'energia_carga_bateria', 'bin_bat_carga', 'energia_descarga_bateria',\n",
       "       'bin_bat_descarga', 'energia_ENS', 'SOC(t)_bateria', 'p_bat_pv',\n",
       "       'p_bat_dg', 'suma_pv_dg_bat_descarga', 'load', 'recurso_pv_dis',\n",
       "       'recurso_diesel_dis', 'porcentaje_carga_dg', 'porcentaje_energia_dg',\n",
       "       'porcentaje_carga_bat_dg', 'porcentaje_SOC_t', 'date', 'hora', 'dia',\n",
       "       'mes', 'Month'],\n",
       "      dtype='object')"
      ]
     },
     "execution_count": 63,
     "metadata": {},
     "output_type": "execute_result"
    }
   ],
   "source": [
    "tabla_resultados.columns"
   ]
  },
  {
   "cell_type": "code",
   "execution_count": 64,
   "metadata": {
    "ExecuteTime": {
     "end_time": "2022-03-20T00:02:31.240871Z",
     "start_time": "2022-03-20T00:02:30.526251Z"
    },
    "scrolled": false
   },
   "outputs": [
    {
     "name": "stderr",
     "output_type": "stream",
     "text": [
      "C:\\Users\\wrope\\anaconda3\\lib\\site-packages\\ipykernel_launcher.py:5: FutureWarning:\n",
      "\n",
      "Indexing with multiple keys (implicitly converted to a tuple of keys) will be deprecated, use a list instead.\n",
      "\n"
     ]
    },
    {
     "data": {
      "application/vnd.plotly.v1+json": {
       "config": {
        "plotlyServerURL": "https://plot.ly"
       },
       "data": [
        {
         "hovertemplate": "variable=Available PV Energy<br>hour=%{x}<br>value=%{y}<extra></extra>",
         "legendgroup": "Available PV Energy",
         "line": {
          "color": "#1F77B4",
          "dash": "solid"
         },
         "mode": "lines",
         "name": "Available PV Energy",
         "orientation": "v",
         "showlegend": true,
         "type": "scatter",
         "x": [
          1,
          2,
          3,
          4,
          5,
          6,
          7,
          8,
          9,
          10,
          11,
          12,
          13,
          14,
          15,
          16,
          17,
          18,
          19,
          20,
          21,
          22,
          23,
          24
         ],
         "xaxis": "x",
         "y": [
          0,
          0,
          0,
          0,
          0,
          0.06418602739726029,
          4.144430684931511,
          11.821334794520554,
          12.422730410958916,
          20.484892602739727,
          47.25782246575342,
          72.01937643835612,
          82.57429506849319,
          67.48468465753416,
          30.892203287671215,
          9.098126575342466,
          9.407587397260286,
          4.25952712328767,
          0.08003369863013694,
          0,
          0,
          0,
          0,
          0
         ],
         "yaxis": "y"
        },
        {
         "hovertemplate": "variable=PV Energy to Battery Bank<br>hour=%{x}<br>value=%{y}<extra></extra>",
         "legendgroup": "PV Energy to Battery Bank",
         "line": {
          "color": "#FF7F0E",
          "dash": "solid"
         },
         "mode": "lines",
         "name": "PV Energy to Battery Bank",
         "orientation": "v",
         "showlegend": true,
         "type": "scatter",
         "x": [
          1,
          2,
          3,
          4,
          5,
          6,
          7,
          8,
          9,
          10,
          11,
          12,
          13,
          14,
          15,
          16,
          17,
          18,
          19,
          20,
          21,
          22,
          23,
          24
         ],
         "xaxis": "x",
         "y": [
          0,
          0,
          0,
          0,
          0,
          0,
          0.3347905102277818,
          2.9412872702088726,
          4.008547040475519,
          3.9135306738191926,
          6.246908978528442,
          7.573887524095225,
          7.651906576986203,
          7.850071692282101,
          6.262242098904592,
          2.852617696350735,
          2.813001834992137,
          0.34605538230690197,
          0,
          0,
          0,
          0,
          0,
          0
         ],
         "yaxis": "y"
        },
        {
         "hovertemplate": "variable=PV Energy to Load<br>hour=%{x}<br>value=%{y}<extra></extra>",
         "legendgroup": "PV Energy to Load",
         "line": {
          "color": "#2CA02C",
          "dash": "solid"
         },
         "mode": "lines",
         "name": "PV Energy to Load",
         "orientation": "v",
         "showlegend": true,
         "type": "scatter",
         "x": [
          1,
          2,
          3,
          4,
          5,
          6,
          7,
          8,
          9,
          10,
          11,
          12,
          13,
          14,
          15,
          16,
          17,
          18,
          19,
          20,
          21,
          22,
          23,
          24
         ],
         "xaxis": "x",
         "y": [
          0,
          0,
          0,
          0,
          0,
          0.06418602739726029,
          3.1746273972602803,
          6.052863013698646,
          6.105273972602729,
          5.551173972602754,
          5.319890684931503,
          5.34890575342466,
          5.420709589041094,
          5.572345479452068,
          5.316926575342461,
          4.8267008219178145,
          6.126478356164387,
          3.855300821917807,
          0.08003369863013694,
          0,
          0,
          0,
          0,
          0
         ],
         "yaxis": "y"
        }
       ],
       "layout": {
        "font": {
         "color": "black",
         "family": "Times New Roman",
         "size": 14
        },
        "height": 400,
        "legend": {
         "font": {
          "size": 14
         },
         "orientation": "h",
         "title": {
          "text": ""
         },
         "tracegroupgap": 0,
         "x": 1,
         "xanchor": "right",
         "y": 1.02,
         "yanchor": "bottom"
        },
        "margin": {
         "t": 60
        },
        "template": {
         "data": {
          "pie": [
           {
            "automargin": true,
            "type": "pie"
           }
          ]
         },
         "layout": {
          "xaxis": {
           "showgrid": false,
           "title": {
            "standoff": 15
           }
          },
          "yaxis": {
           "title": {
            "standoff": 15
           }
          }
         }
        },
        "title": {
         "font": {
          "family": "Times New Roman"
         }
        },
        "width": 520,
        "xaxis": {
         "anchor": "y",
         "domain": [
          0,
          1
         ],
         "linecolor": "black",
         "nticks": 15,
         "showline": false,
         "title": {
          "text": "Time (hour)"
         }
        },
        "yaxis": {
         "anchor": "x",
         "domain": [
          0,
          1
         ],
         "linecolor": "black",
         "nticks": 10,
         "showline": true,
         "title": {
          "text": "Energy [kWh]"
         }
        }
       }
      },
      "text/html": [
       "<div>                            <div id=\"aced3740-19ac-44b3-93af-b187a1abb379\" class=\"plotly-graph-div\" style=\"height:400px; width:520px;\"></div>            <script type=\"text/javascript\">                require([\"plotly\"], function(Plotly) {                    window.PLOTLYENV=window.PLOTLYENV || {};                                    if (document.getElementById(\"aced3740-19ac-44b3-93af-b187a1abb379\")) {                    Plotly.newPlot(                        \"aced3740-19ac-44b3-93af-b187a1abb379\",                        [{\"hovertemplate\": \"variable=Available PV Energy<br>hour=%{x}<br>value=%{y}<extra></extra>\", \"legendgroup\": \"Available PV Energy\", \"line\": {\"color\": \"#1F77B4\", \"dash\": \"solid\"}, \"mode\": \"lines\", \"name\": \"Available PV Energy\", \"orientation\": \"v\", \"showlegend\": true, \"type\": \"scatter\", \"x\": [1, 2, 3, 4, 5, 6, 7, 8, 9, 10, 11, 12, 13, 14, 15, 16, 17, 18, 19, 20, 21, 22, 23, 24], \"xaxis\": \"x\", \"y\": [0.0, 0.0, 0.0, 0.0, 0.0, 0.06418602739726029, 4.144430684931511, 11.821334794520554, 12.422730410958916, 20.484892602739727, 47.25782246575342, 72.01937643835612, 82.57429506849319, 67.48468465753416, 30.892203287671215, 9.098126575342466, 9.407587397260286, 4.25952712328767, 0.08003369863013694, 0.0, 0.0, 0.0, 0.0, 0.0], \"yaxis\": \"y\"}, {\"hovertemplate\": \"variable=PV Energy to Battery Bank<br>hour=%{x}<br>value=%{y}<extra></extra>\", \"legendgroup\": \"PV Energy to Battery Bank\", \"line\": {\"color\": \"#FF7F0E\", \"dash\": \"solid\"}, \"mode\": \"lines\", \"name\": \"PV Energy to Battery Bank\", \"orientation\": \"v\", \"showlegend\": true, \"type\": \"scatter\", \"x\": [1, 2, 3, 4, 5, 6, 7, 8, 9, 10, 11, 12, 13, 14, 15, 16, 17, 18, 19, 20, 21, 22, 23, 24], \"xaxis\": \"x\", \"y\": [0.0, 0.0, 0.0, 0.0, 0.0, 0.0, 0.3347905102277818, 2.9412872702088726, 4.008547040475519, 3.9135306738191926, 6.246908978528442, 7.573887524095225, 7.651906576986203, 7.850071692282101, 6.262242098904592, 2.852617696350735, 2.813001834992137, 0.34605538230690197, 0.0, 0.0, 0.0, 0.0, 0.0, 0.0], \"yaxis\": \"y\"}, {\"hovertemplate\": \"variable=PV Energy to Load<br>hour=%{x}<br>value=%{y}<extra></extra>\", \"legendgroup\": \"PV Energy to Load\", \"line\": {\"color\": \"#2CA02C\", \"dash\": \"solid\"}, \"mode\": \"lines\", \"name\": \"PV Energy to Load\", \"orientation\": \"v\", \"showlegend\": true, \"type\": \"scatter\", \"x\": [1, 2, 3, 4, 5, 6, 7, 8, 9, 10, 11, 12, 13, 14, 15, 16, 17, 18, 19, 20, 21, 22, 23, 24], \"xaxis\": \"x\", \"y\": [0.0, 0.0, 0.0, 0.0, 0.0, 0.06418602739726029, 3.1746273972602803, 6.052863013698646, 6.105273972602729, 5.551173972602754, 5.319890684931503, 5.34890575342466, 5.420709589041094, 5.572345479452068, 5.316926575342461, 4.8267008219178145, 6.126478356164387, 3.855300821917807, 0.08003369863013694, 0.0, 0.0, 0.0, 0.0, 0.0], \"yaxis\": \"y\"}],                        {\"font\": {\"color\": \"black\", \"family\": \"Times New Roman\", \"size\": 14}, \"height\": 400, \"legend\": {\"font\": {\"size\": 14}, \"orientation\": \"h\", \"title\": {\"text\": \"\"}, \"tracegroupgap\": 0, \"x\": 1, \"xanchor\": \"right\", \"y\": 1.02, \"yanchor\": \"bottom\"}, \"margin\": {\"t\": 60}, \"template\": {\"data\": {\"pie\": [{\"automargin\": true, \"type\": \"pie\"}]}, \"layout\": {\"xaxis\": {\"showgrid\": false, \"title\": {\"standoff\": 15}}, \"yaxis\": {\"title\": {\"standoff\": 15}}}}, \"title\": {\"font\": {\"family\": \"Times New Roman\"}}, \"width\": 520, \"xaxis\": {\"anchor\": \"y\", \"domain\": [0.0, 1.0], \"linecolor\": \"black\", \"nticks\": 15, \"showline\": false, \"title\": {\"text\": \"Time (hour)\"}}, \"yaxis\": {\"anchor\": \"x\", \"domain\": [0.0, 1.0], \"linecolor\": \"black\", \"nticks\": 10, \"showline\": true, \"title\": {\"text\": \"Energy [kWh]\"}}},                        {\"responsive\": true}                    ).then(function(){\n",
       "                            \n",
       "var gd = document.getElementById('aced3740-19ac-44b3-93af-b187a1abb379');\n",
       "var x = new MutationObserver(function (mutations, observer) {{\n",
       "        var display = window.getComputedStyle(gd).display;\n",
       "        if (!display || display === 'none') {{\n",
       "            console.log([gd, 'removed!']);\n",
       "            Plotly.purge(gd);\n",
       "            observer.disconnect();\n",
       "        }}\n",
       "}});\n",
       "\n",
       "// Listen for the removal of the full notebook cells\n",
       "var notebookContainer = gd.closest('#notebook-container');\n",
       "if (notebookContainer) {{\n",
       "    x.observe(notebookContainer, {childList: true});\n",
       "}}\n",
       "\n",
       "// Listen for the clearing of the current output cell\n",
       "var outputEl = gd.closest('.output');\n",
       "if (outputEl) {{\n",
       "    x.observe(outputEl, {childList: true});\n",
       "}}\n",
       "\n",
       "                        })                };                });            </script>        </div>"
      ]
     },
     "metadata": {},
     "output_type": "display_data"
    }
   ],
   "source": [
    "#Sol disponible\n",
    "pv_disps = tabla_resultados[['recurso_pv_dis','p_bat_pv','energia_PV']]\n",
    "\n",
    "\n",
    "pv_disp = tabla_resultados.groupby([\"hora\"])['recurso_pv_dis','p_bat_pv','energia_PV'].mean().reset_index()\n",
    "\n",
    "\n",
    "pv_disp.columns=['hour','Available PV Energy', 'PV Energy to Battery Bank',  'PV Energy to Load']\n",
    "\n",
    "graficar(tipo='linea',\n",
    "         lista_campos=['Available PV Energy', 'PV Energy to Battery Bank',  'PV Energy to Load'],\n",
    "         titulo=\"\",\n",
    "        df = pv_disp )"
   ]
  },
  {
   "cell_type": "code",
   "execution_count": 65,
   "metadata": {
    "ExecuteTime": {
     "end_time": "2022-03-20T00:02:49.731697Z",
     "start_time": "2022-03-20T00:02:48.967587Z"
    }
   },
   "outputs": [
    {
     "name": "stderr",
     "output_type": "stream",
     "text": [
      "C:\\Users\\wrope\\anaconda3\\lib\\site-packages\\ipykernel_launcher.py:4: SettingWithCopyWarning:\n",
      "\n",
      "\n",
      "A value is trying to be set on a copy of a slice from a DataFrame.\n",
      "Try using .loc[row_indexer,col_indexer] = value instead\n",
      "\n",
      "See the caveats in the documentation: https://pandas.pydata.org/pandas-docs/stable/user_guide/indexing.html#returning-a-view-versus-a-copy\n",
      "\n",
      "C:\\Users\\wrope\\anaconda3\\lib\\site-packages\\ipykernel_launcher.py:6: FutureWarning:\n",
      "\n",
      "Indexing with multiple keys (implicitly converted to a tuple of keys) will be deprecated, use a list instead.\n",
      "\n"
     ]
    },
    {
     "data": {
      "application/vnd.plotly.v1+json": {
       "config": {
        "plotlyServerURL": "https://plot.ly"
       },
       "data": [
        {
         "hovertemplate": "variable=Used PV Energy<br>hour=%{x}<br>value=%{y}<extra></extra>",
         "legendgroup": "Used PV Energy",
         "line": {
          "color": "#1F77B4",
          "dash": "solid"
         },
         "mode": "lines",
         "name": "Used PV Energy",
         "orientation": "v",
         "showlegend": true,
         "type": "scatter",
         "x": [
          1,
          2,
          3,
          4,
          5,
          6,
          7,
          8,
          9,
          10,
          11,
          12,
          13,
          14,
          15,
          16,
          17,
          18,
          19,
          20,
          21,
          22,
          23,
          24
         ],
         "xaxis": "x",
         "y": [
          0,
          0,
          0,
          0,
          0,
          0.06418602739726029,
          3.509417907488063,
          8.994150283907517,
          10.113821013078278,
          9.464704646421945,
          11.566799663459934,
          12.92279327751989,
          13.072616166027297,
          13.42241717173416,
          11.57916867424706,
          7.6793185182685395,
          8.93948019115653,
          4.20135620422471,
          0.08003369863013694,
          0,
          0,
          0,
          0,
          0
         ],
         "yaxis": "y"
        },
        {
         "hovertemplate": "variable=Available PV Energy<br>hour=%{x}<br>value=%{y}<extra></extra>",
         "legendgroup": "Available PV Energy",
         "line": {
          "color": "#FF7F0E",
          "dash": "solid"
         },
         "mode": "lines",
         "name": "Available PV Energy",
         "orientation": "v",
         "showlegend": true,
         "type": "scatter",
         "x": [
          1,
          2,
          3,
          4,
          5,
          6,
          7,
          8,
          9,
          10,
          11,
          12,
          13,
          14,
          15,
          16,
          17,
          18,
          19,
          20,
          21,
          22,
          23,
          24
         ],
         "xaxis": "x",
         "y": [
          0,
          0,
          0,
          0,
          0,
          0.06418602739726029,
          4.144430684931511,
          11.821334794520554,
          12.422730410958916,
          20.484892602739727,
          47.25782246575342,
          72.01937643835612,
          82.57429506849319,
          67.48468465753416,
          30.892203287671215,
          9.098126575342466,
          9.407587397260286,
          4.25952712328767,
          0.08003369863013694,
          0,
          0,
          0,
          0,
          0
         ],
         "yaxis": "y"
        }
       ],
       "layout": {
        "font": {
         "color": "black",
         "family": "Times New Roman",
         "size": 14
        },
        "height": 400,
        "legend": {
         "font": {
          "size": 14
         },
         "orientation": "h",
         "title": {
          "text": ""
         },
         "tracegroupgap": 0,
         "x": 1,
         "xanchor": "right",
         "y": 1.02,
         "yanchor": "bottom"
        },
        "margin": {
         "t": 60
        },
        "template": {
         "data": {
          "pie": [
           {
            "automargin": true,
            "type": "pie"
           }
          ]
         },
         "layout": {
          "xaxis": {
           "showgrid": false,
           "title": {
            "standoff": 15
           }
          },
          "yaxis": {
           "title": {
            "standoff": 15
           }
          }
         }
        },
        "title": {
         "font": {
          "family": "Times New Roman"
         }
        },
        "width": 520,
        "xaxis": {
         "anchor": "y",
         "domain": [
          0,
          1
         ],
         "linecolor": "black",
         "nticks": 15,
         "showline": false,
         "title": {
          "text": "Time (hour)"
         }
        },
        "yaxis": {
         "anchor": "x",
         "domain": [
          0,
          1
         ],
         "linecolor": "black",
         "nticks": 10,
         "showline": true,
         "title": {
          "text": "Energy [kWh]"
         }
        }
       }
      },
      "text/html": [
       "<div>                            <div id=\"0604b9af-78eb-402f-9424-badc3d751b55\" class=\"plotly-graph-div\" style=\"height:400px; width:520px;\"></div>            <script type=\"text/javascript\">                require([\"plotly\"], function(Plotly) {                    window.PLOTLYENV=window.PLOTLYENV || {};                                    if (document.getElementById(\"0604b9af-78eb-402f-9424-badc3d751b55\")) {                    Plotly.newPlot(                        \"0604b9af-78eb-402f-9424-badc3d751b55\",                        [{\"hovertemplate\": \"variable=Used PV Energy<br>hour=%{x}<br>value=%{y}<extra></extra>\", \"legendgroup\": \"Used PV Energy\", \"line\": {\"color\": \"#1F77B4\", \"dash\": \"solid\"}, \"mode\": \"lines\", \"name\": \"Used PV Energy\", \"orientation\": \"v\", \"showlegend\": true, \"type\": \"scatter\", \"x\": [1, 2, 3, 4, 5, 6, 7, 8, 9, 10, 11, 12, 13, 14, 15, 16, 17, 18, 19, 20, 21, 22, 23, 24], \"xaxis\": \"x\", \"y\": [0.0, 0.0, 0.0, 0.0, 0.0, 0.06418602739726029, 3.509417907488063, 8.994150283907517, 10.113821013078278, 9.464704646421945, 11.566799663459934, 12.92279327751989, 13.072616166027297, 13.42241717173416, 11.57916867424706, 7.6793185182685395, 8.93948019115653, 4.20135620422471, 0.08003369863013694, 0.0, 0.0, 0.0, 0.0, 0.0], \"yaxis\": \"y\"}, {\"hovertemplate\": \"variable=Available PV Energy<br>hour=%{x}<br>value=%{y}<extra></extra>\", \"legendgroup\": \"Available PV Energy\", \"line\": {\"color\": \"#FF7F0E\", \"dash\": \"solid\"}, \"mode\": \"lines\", \"name\": \"Available PV Energy\", \"orientation\": \"v\", \"showlegend\": true, \"type\": \"scatter\", \"x\": [1, 2, 3, 4, 5, 6, 7, 8, 9, 10, 11, 12, 13, 14, 15, 16, 17, 18, 19, 20, 21, 22, 23, 24], \"xaxis\": \"x\", \"y\": [0.0, 0.0, 0.0, 0.0, 0.0, 0.06418602739726029, 4.144430684931511, 11.821334794520554, 12.422730410958916, 20.484892602739727, 47.25782246575342, 72.01937643835612, 82.57429506849319, 67.48468465753416, 30.892203287671215, 9.098126575342466, 9.407587397260286, 4.25952712328767, 0.08003369863013694, 0.0, 0.0, 0.0, 0.0, 0.0], \"yaxis\": \"y\"}],                        {\"font\": {\"color\": \"black\", \"family\": \"Times New Roman\", \"size\": 14}, \"height\": 400, \"legend\": {\"font\": {\"size\": 14}, \"orientation\": \"h\", \"title\": {\"text\": \"\"}, \"tracegroupgap\": 0, \"x\": 1, \"xanchor\": \"right\", \"y\": 1.02, \"yanchor\": \"bottom\"}, \"margin\": {\"t\": 60}, \"template\": {\"data\": {\"pie\": [{\"automargin\": true, \"type\": \"pie\"}]}, \"layout\": {\"xaxis\": {\"showgrid\": false, \"title\": {\"standoff\": 15}}, \"yaxis\": {\"title\": {\"standoff\": 15}}}}, \"title\": {\"font\": {\"family\": \"Times New Roman\"}}, \"width\": 520, \"xaxis\": {\"anchor\": \"y\", \"domain\": [0.0, 1.0], \"linecolor\": \"black\", \"nticks\": 15, \"showline\": false, \"title\": {\"text\": \"Time (hour)\"}}, \"yaxis\": {\"anchor\": \"x\", \"domain\": [0.0, 1.0], \"linecolor\": \"black\", \"nticks\": 10, \"showline\": true, \"title\": {\"text\": \"Energy [kWh]\"}}},                        {\"responsive\": true}                    ).then(function(){\n",
       "                            \n",
       "var gd = document.getElementById('0604b9af-78eb-402f-9424-badc3d751b55');\n",
       "var x = new MutationObserver(function (mutations, observer) {{\n",
       "        var display = window.getComputedStyle(gd).display;\n",
       "        if (!display || display === 'none') {{\n",
       "            console.log([gd, 'removed!']);\n",
       "            Plotly.purge(gd);\n",
       "            observer.disconnect();\n",
       "        }}\n",
       "}});\n",
       "\n",
       "// Listen for the removal of the full notebook cells\n",
       "var notebookContainer = gd.closest('#notebook-container');\n",
       "if (notebookContainer) {{\n",
       "    x.observe(notebookContainer, {childList: true});\n",
       "}}\n",
       "\n",
       "// Listen for the clearing of the current output cell\n",
       "var outputEl = gd.closest('.output');\n",
       "if (outputEl) {{\n",
       "    x.observe(outputEl, {childList: true});\n",
       "}}\n",
       "\n",
       "                        })                };                });            </script>        </div>"
      ]
     },
     "metadata": {},
     "output_type": "display_data"
    }
   ],
   "source": [
    "#Sol disponible\n",
    "pv_disps = tabla_resultados[['hora','recurso_pv_dis','p_bat_pv','energia_PV']]\n",
    "\n",
    "pv_disps['bat_mas_load_pv'] = pv_disps['p_bat_pv']+pv_disps['energia_PV']\n",
    "\n",
    "pv_disps = pv_disps.groupby([\"hora\"])['bat_mas_load_pv','recurso_pv_dis'].mean().reset_index()\n",
    "\n",
    "\n",
    "pv_disps.columns=['hour','Used PV Energy','Available PV Energy']\n",
    "\n",
    "graficar(tipo='linea',\n",
    "         lista_campos=['Used PV Energy','Available PV Energy'],\n",
    "         titulo=\"\",\n",
    "        df = pv_disps )"
   ]
  },
  {
   "cell_type": "code",
   "execution_count": 66,
   "metadata": {
    "ExecuteTime": {
     "end_time": "2022-03-20T00:02:51.940041Z",
     "start_time": "2022-03-20T00:02:51.234492Z"
    },
    "scrolled": false
   },
   "outputs": [
    {
     "data": {
      "application/vnd.plotly.v1+json": {
       "config": {
        "plotlyServerURL": "https://plot.ly"
       },
       "data": [
        {
         "alignmentgroup": "True",
         "hovertemplate": "variable=Charging<br>index=%{x}<br>value=%{y}<extra></extra>",
         "legendgroup": "Charging",
         "marker": {
          "color": "#1F77B4"
         },
         "name": "Charging",
         "offsetgroup": "Charging",
         "orientation": "v",
         "showlegend": true,
         "textposition": "auto",
         "type": "bar",
         "x": [
          0,
          1,
          2,
          3,
          4,
          5,
          6,
          7,
          8,
          9,
          10,
          11,
          12,
          13,
          14,
          15,
          16,
          17,
          18,
          19,
          20,
          21,
          22
         ],
         "xaxis": "x",
         "y": [
          0,
          0,
          0,
          0,
          0,
          0,
          0,
          3.6917999999999997,
          10.163415840187113,
          1.3415000000000008,
          5.507584309451175,
          3.3150059787803867,
          2.170595489029722,
          1.5732734455109398,
          0,
          0,
          0,
          0,
          0,
          0,
          0,
          0,
          0
         ],
         "yaxis": "y"
        },
        {
         "alignmentgroup": "True",
         "hovertemplate": "variable=Discharging<br>index=%{x}<br>value=%{y}<extra></extra>",
         "legendgroup": "Discharging",
         "marker": {
          "color": "#FF7F0E"
         },
         "name": "Discharging",
         "offsetgroup": "Discharging",
         "orientation": "v",
         "showlegend": true,
         "textposition": "auto",
         "type": "bar",
         "x": [
          0,
          1,
          2,
          3,
          4,
          5,
          6,
          7,
          8,
          9,
          10,
          11,
          12,
          13,
          14,
          15,
          16,
          17,
          18,
          19,
          20,
          21,
          22
         ],
         "xaxis": "x",
         "y": [
          -2.0423000000000258,
          -2.041,
          -2.0433,
          -2.0415,
          -2.0671,
          -2.8684999999999996,
          -2.0542000000000002,
          0,
          0,
          0,
          0,
          0,
          0,
          0,
          -4.6792,
          -2.3552,
          -1.9826000000000006,
          -5.406500000000001,
          -6.697100000000001,
          -4.1274,
          -1.9276,
          -1.8192,
          -1.7999
         ],
         "yaxis": "y"
        }
       ],
       "layout": {
        "barmode": "relative",
        "font": {
         "color": "black",
         "family": "Times New Roman",
         "size": 14
        },
        "height": 400,
        "legend": {
         "font": {
          "size": 14
         },
         "orientation": "h",
         "title": {
          "text": ""
         },
         "tracegroupgap": 0,
         "x": 1,
         "xanchor": "right",
         "y": 1.02,
         "yanchor": "bottom"
        },
        "margin": {
         "t": 60
        },
        "template": {
         "data": {
          "pie": [
           {
            "automargin": true,
            "type": "pie"
           }
          ]
         },
         "layout": {
          "xaxis": {
           "showgrid": false,
           "title": {
            "standoff": 15
           }
          },
          "yaxis": {
           "title": {
            "standoff": 15
           }
          }
         }
        },
        "title": {
         "font": {
          "family": "Times New Roman"
         }
        },
        "width": 520,
        "xaxis": {
         "anchor": "y",
         "domain": [
          0,
          1
         ],
         "linecolor": "black",
         "nticks": 15,
         "showline": false,
         "title": {
          "text": "Time (hour)"
         }
        },
        "yaxis": {
         "anchor": "x",
         "domain": [
          0,
          1
         ],
         "linecolor": "black",
         "nticks": 10,
         "showline": true,
         "title": {
          "text": "Energy [kWh]"
         }
        }
       }
      },
      "text/html": [
       "<div>                            <div id=\"f760c034-6648-40df-b18e-1e9e3b5ab609\" class=\"plotly-graph-div\" style=\"height:400px; width:520px;\"></div>            <script type=\"text/javascript\">                require([\"plotly\"], function(Plotly) {                    window.PLOTLYENV=window.PLOTLYENV || {};                                    if (document.getElementById(\"f760c034-6648-40df-b18e-1e9e3b5ab609\")) {                    Plotly.newPlot(                        \"f760c034-6648-40df-b18e-1e9e3b5ab609\",                        [{\"alignmentgroup\": \"True\", \"hovertemplate\": \"variable=Charging<br>index=%{x}<br>value=%{y}<extra></extra>\", \"legendgroup\": \"Charging\", \"marker\": {\"color\": \"#1F77B4\"}, \"name\": \"Charging\", \"offsetgroup\": \"Charging\", \"orientation\": \"v\", \"showlegend\": true, \"textposition\": \"auto\", \"type\": \"bar\", \"x\": [0, 1, 2, 3, 4, 5, 6, 7, 8, 9, 10, 11, 12, 13, 14, 15, 16, 17, 18, 19, 20, 21, 22], \"xaxis\": \"x\", \"y\": [0.0, 0.0, 0.0, 0.0, 0.0, 0.0, 0.0, 3.6917999999999997, 10.163415840187113, 1.3415000000000008, 5.507584309451175, 3.3150059787803867, 2.170595489029722, 1.5732734455109398, 0.0, 0.0, 0.0, 0.0, 0.0, 0.0, 0.0, 0.0, 0.0], \"yaxis\": \"y\"}, {\"alignmentgroup\": \"True\", \"hovertemplate\": \"variable=Discharging<br>index=%{x}<br>value=%{y}<extra></extra>\", \"legendgroup\": \"Discharging\", \"marker\": {\"color\": \"#FF7F0E\"}, \"name\": \"Discharging\", \"offsetgroup\": \"Discharging\", \"orientation\": \"v\", \"showlegend\": true, \"textposition\": \"auto\", \"type\": \"bar\", \"x\": [0, 1, 2, 3, 4, 5, 6, 7, 8, 9, 10, 11, 12, 13, 14, 15, 16, 17, 18, 19, 20, 21, 22], \"xaxis\": \"x\", \"y\": [-2.0423000000000258, -2.041, -2.0433, -2.0415, -2.0671, -2.8684999999999996, -2.0542000000000002, -0.0, -0.0, -0.0, -0.0, -0.0, -0.0, -0.0, -4.6792, -2.3552, -1.9826000000000006, -5.406500000000001, -6.697100000000001, -4.1274, -1.9276, -1.8192, -1.7999], \"yaxis\": \"y\"}],                        {\"barmode\": \"relative\", \"font\": {\"color\": \"black\", \"family\": \"Times New Roman\", \"size\": 14}, \"height\": 400, \"legend\": {\"font\": {\"size\": 14}, \"orientation\": \"h\", \"title\": {\"text\": \"\"}, \"tracegroupgap\": 0, \"x\": 1, \"xanchor\": \"right\", \"y\": 1.02, \"yanchor\": \"bottom\"}, \"margin\": {\"t\": 60}, \"template\": {\"data\": {\"pie\": [{\"automargin\": true, \"type\": \"pie\"}]}, \"layout\": {\"xaxis\": {\"showgrid\": false, \"title\": {\"standoff\": 15}}, \"yaxis\": {\"title\": {\"standoff\": 15}}}}, \"title\": {\"font\": {\"family\": \"Times New Roman\"}}, \"width\": 520, \"xaxis\": {\"anchor\": \"y\", \"domain\": [0.0, 1.0], \"linecolor\": \"black\", \"nticks\": 15, \"showline\": false, \"title\": {\"text\": \"Time (hour)\"}}, \"yaxis\": {\"anchor\": \"x\", \"domain\": [0.0, 1.0], \"linecolor\": \"black\", \"nticks\": 10, \"showline\": true, \"title\": {\"text\": \"Energy [kWh]\"}}},                        {\"responsive\": true}                    ).then(function(){\n",
       "                            \n",
       "var gd = document.getElementById('f760c034-6648-40df-b18e-1e9e3b5ab609');\n",
       "var x = new MutationObserver(function (mutations, observer) {{\n",
       "        var display = window.getComputedStyle(gd).display;\n",
       "        if (!display || display === 'none') {{\n",
       "            console.log([gd, 'removed!']);\n",
       "            Plotly.purge(gd);\n",
       "            observer.disconnect();\n",
       "        }}\n",
       "}});\n",
       "\n",
       "// Listen for the removal of the full notebook cells\n",
       "var notebookContainer = gd.closest('#notebook-container');\n",
       "if (notebookContainer) {{\n",
       "    x.observe(notebookContainer, {childList: true});\n",
       "}}\n",
       "\n",
       "// Listen for the clearing of the current output cell\n",
       "var outputEl = gd.closest('.output');\n",
       "if (outputEl) {{\n",
       "    x.observe(outputEl, {childList: true});\n",
       "}}\n",
       "\n",
       "                        })                };                });            </script>        </div>"
      ]
     },
     "metadata": {},
     "output_type": "display_data"
    }
   ],
   "source": [
    "bat_c = tabla_resultados.head(23)[['energia_carga_bateria','energia_descarga_bateria']]\n",
    "bat_c['energia_descarga_bateria'] = bat_c['energia_descarga_bateria']*-1\n",
    "\n",
    "bat_c.columns = ['Charging','Discharging']\n",
    "\n",
    "graficar(tipo='bar',\n",
    "         lista_campos=['Charging','Discharging'],\n",
    "         titulo=\"\",\n",
    "        df = bat_c)"
   ]
  },
  {
   "cell_type": "code",
   "execution_count": 67,
   "metadata": {
    "ExecuteTime": {
     "end_time": "2022-03-20T00:06:30.995457Z",
     "start_time": "2022-03-20T00:06:30.975458Z"
    }
   },
   "outputs": [
    {
     "data": {
      "text/plain": [
       "Index(['id_simulacion', 'energia_PV', 'energia_Dg', 'bin_diesel',\n",
       "       'energia_carga_bateria', 'bin_bat_carga', 'energia_descarga_bateria',\n",
       "       'bin_bat_descarga', 'energia_ENS', 'SOC(t)_bateria', 'p_bat_pv',\n",
       "       'p_bat_dg', 'suma_pv_dg_bat_descarga', 'load', 'recurso_pv_dis',\n",
       "       'recurso_diesel_dis', 'porcentaje_carga_dg', 'porcentaje_energia_dg',\n",
       "       'porcentaje_carga_bat_dg', 'porcentaje_SOC_t', 'date', 'hora', 'dia',\n",
       "       'mes', 'Month'],\n",
       "      dtype='object')"
      ]
     },
     "execution_count": 67,
     "metadata": {},
     "output_type": "execute_result"
    }
   ],
   "source": [
    "tabla_resultados.columns"
   ]
  },
  {
   "cell_type": "code",
   "execution_count": 68,
   "metadata": {
    "ExecuteTime": {
     "end_time": "2022-03-20T00:06:34.079204Z",
     "start_time": "2022-03-20T00:06:33.196725Z"
    }
   },
   "outputs": [
    {
     "data": {
      "application/vnd.plotly.v1+json": {
       "config": {
        "plotlyServerURL": "https://plot.ly"
       },
       "data": [
        {
         "alignmentgroup": "True",
         "hovertemplate": "variable=Battery Bank Energy<br>index=%{x}<br>value=%{y}<extra></extra>",
         "legendgroup": "Battery Bank Energy",
         "marker": {
          "color": "#1F77B4"
         },
         "name": "Battery Bank Energy",
         "offsetgroup": "Battery Bank Energy",
         "orientation": "v",
         "showlegend": true,
         "textposition": "auto",
         "type": "bar",
         "x": [
          0,
          1,
          2,
          3,
          4,
          5,
          6,
          7,
          8,
          9,
          10,
          11,
          12,
          13,
          14,
          15,
          16,
          17,
          18,
          19,
          20,
          21,
          22,
          23
         ],
         "xaxis": "x",
         "y": [
          1.9797,
          1.9811,
          2.0027,
          1.9876000000000005,
          1.9764,
          1.8931,
          0,
          0,
          0,
          0,
          0,
          0,
          0,
          0,
          0,
          4.2171,
          0,
          3.8439,
          6.3428,
          2.9836,
          2.028,
          1.9694,
          1.9701,
          1.9711
         ],
         "yaxis": "y"
        },
        {
         "alignmentgroup": "True",
         "hovertemplate": "variable=PV Energy<br>index=%{x}<br>value=%{y}<extra></extra>",
         "legendgroup": "PV Energy",
         "marker": {
          "color": "#FF7F0E"
         },
         "name": "PV Energy",
         "offsetgroup": "PV Energy",
         "orientation": "v",
         "showlegend": true,
         "textposition": "auto",
         "type": "bar",
         "x": [
          0,
          1,
          2,
          3,
          4,
          5,
          6,
          7,
          8,
          9,
          10,
          11,
          12,
          13,
          14,
          15,
          16,
          17,
          18,
          19,
          20,
          21,
          22,
          23
         ],
         "xaxis": "x",
         "y": [
          0,
          0,
          0,
          0,
          0,
          0.0719,
          4.2027,
          7.3592,
          7.6181,
          7.5425,
          6.552,
          5.8154,
          5.8275,
          6.0838,
          6.0949,
          2.3813,
          6.8878,
          3.2482,
          0,
          0,
          0,
          0,
          0,
          0
         ],
         "yaxis": "y"
        },
        {
         "alignmentgroup": "True",
         "hovertemplate": "variable=Diesel Energy<br>index=%{x}<br>value=%{y}<extra></extra>",
         "legendgroup": "Diesel Energy",
         "marker": {
          "color": "#2CA02C"
         },
         "name": "Diesel Energy",
         "offsetgroup": "Diesel Energy",
         "orientation": "v",
         "showlegend": true,
         "textposition": "auto",
         "type": "bar",
         "x": [
          0,
          1,
          2,
          3,
          4,
          5,
          6,
          7,
          8,
          9,
          10,
          11,
          12,
          13,
          14,
          15,
          16,
          17,
          18,
          19,
          20,
          21,
          22,
          23
         ],
         "xaxis": "x",
         "y": [
          0,
          0,
          0,
          0,
          0,
          0,
          0,
          0,
          0,
          0,
          0,
          0,
          0,
          0,
          0,
          0,
          0,
          0,
          0,
          0,
          0,
          0,
          0,
          0
         ],
         "yaxis": "y"
        },
        {
         "alignmentgroup": "True",
         "hovertemplate": "variable=PENS Energy<br>index=%{x}<br>value=%{y}<extra></extra>",
         "legendgroup": "PENS Energy",
         "marker": {
          "color": "#D62728"
         },
         "name": "PENS Energy",
         "offsetgroup": "PENS Energy",
         "orientation": "v",
         "showlegend": true,
         "textposition": "auto",
         "type": "bar",
         "x": [
          0,
          1,
          2,
          3,
          4,
          5,
          6,
          7,
          8,
          9,
          10,
          11,
          12,
          13,
          14,
          15,
          16,
          17,
          18,
          19,
          20,
          21,
          22,
          23
         ],
         "xaxis": "x",
         "y": [
          0,
          0,
          0,
          0,
          0,
          0,
          0,
          0,
          0,
          0,
          0,
          0,
          0,
          0,
          0,
          0,
          0,
          0,
          0,
          0,
          0,
          0,
          0,
          0
         ],
         "yaxis": "y"
        }
       ],
       "layout": {
        "barmode": "relative",
        "font": {
         "color": "black",
         "family": "Times New Roman",
         "size": 14
        },
        "height": 400,
        "legend": {
         "font": {
          "size": 14
         },
         "orientation": "h",
         "title": {
          "text": ""
         },
         "tracegroupgap": 0,
         "x": 1,
         "xanchor": "right",
         "y": 1.02,
         "yanchor": "bottom"
        },
        "margin": {
         "t": 60
        },
        "template": {
         "data": {
          "pie": [
           {
            "automargin": true,
            "type": "pie"
           }
          ]
         },
         "layout": {
          "xaxis": {
           "showgrid": false,
           "title": {
            "standoff": 15
           }
          },
          "yaxis": {
           "title": {
            "standoff": 15
           }
          }
         }
        },
        "title": {
         "font": {
          "family": "Times New Roman"
         }
        },
        "width": 520,
        "xaxis": {
         "anchor": "y",
         "domain": [
          0,
          1
         ],
         "linecolor": "black",
         "nticks": 15,
         "showline": false,
         "title": {
          "text": "Time (hour)"
         }
        },
        "yaxis": {
         "anchor": "x",
         "domain": [
          0,
          1
         ],
         "linecolor": "black",
         "nticks": 10,
         "showline": true,
         "title": {
          "text": "Energy [kWh]"
         }
        }
       }
      },
      "text/html": [
       "<div>                            <div id=\"7ddff8ed-a503-4eab-a425-2455e6ea42fd\" class=\"plotly-graph-div\" style=\"height:400px; width:520px;\"></div>            <script type=\"text/javascript\">                require([\"plotly\"], function(Plotly) {                    window.PLOTLYENV=window.PLOTLYENV || {};                                    if (document.getElementById(\"7ddff8ed-a503-4eab-a425-2455e6ea42fd\")) {                    Plotly.newPlot(                        \"7ddff8ed-a503-4eab-a425-2455e6ea42fd\",                        [{\"alignmentgroup\": \"True\", \"hovertemplate\": \"variable=Battery Bank Energy<br>index=%{x}<br>value=%{y}<extra></extra>\", \"legendgroup\": \"Battery Bank Energy\", \"marker\": {\"color\": \"#1F77B4\"}, \"name\": \"Battery Bank Energy\", \"offsetgroup\": \"Battery Bank Energy\", \"orientation\": \"v\", \"showlegend\": true, \"textposition\": \"auto\", \"type\": \"bar\", \"x\": [0, 1, 2, 3, 4, 5, 6, 7, 8, 9, 10, 11, 12, 13, 14, 15, 16, 17, 18, 19, 20, 21, 22, 23], \"xaxis\": \"x\", \"y\": [1.9797, 1.9811, 2.0027, 1.9876000000000005, 1.9764, 1.8931, 0.0, 0.0, 0.0, 0.0, 0.0, 0.0, 0.0, 0.0, 0.0, 4.2171, 0.0, 3.8439, 6.3428, 2.9836, 2.028, 1.9694, 1.9701, 1.9711], \"yaxis\": \"y\"}, {\"alignmentgroup\": \"True\", \"hovertemplate\": \"variable=PV Energy<br>index=%{x}<br>value=%{y}<extra></extra>\", \"legendgroup\": \"PV Energy\", \"marker\": {\"color\": \"#FF7F0E\"}, \"name\": \"PV Energy\", \"offsetgroup\": \"PV Energy\", \"orientation\": \"v\", \"showlegend\": true, \"textposition\": \"auto\", \"type\": \"bar\", \"x\": [0, 1, 2, 3, 4, 5, 6, 7, 8, 9, 10, 11, 12, 13, 14, 15, 16, 17, 18, 19, 20, 21, 22, 23], \"xaxis\": \"x\", \"y\": [0.0, 0.0, 0.0, 0.0, 0.0, 0.0719, 4.2027, 7.3592, 7.6181, 7.5425, 6.552, 5.8154, 5.8275, 6.0838, 6.0949, 2.3813, 6.8878, 3.2482, 0.0, 0.0, 0.0, 0.0, 0.0, 0.0], \"yaxis\": \"y\"}, {\"alignmentgroup\": \"True\", \"hovertemplate\": \"variable=Diesel Energy<br>index=%{x}<br>value=%{y}<extra></extra>\", \"legendgroup\": \"Diesel Energy\", \"marker\": {\"color\": \"#2CA02C\"}, \"name\": \"Diesel Energy\", \"offsetgroup\": \"Diesel Energy\", \"orientation\": \"v\", \"showlegend\": true, \"textposition\": \"auto\", \"type\": \"bar\", \"x\": [0, 1, 2, 3, 4, 5, 6, 7, 8, 9, 10, 11, 12, 13, 14, 15, 16, 17, 18, 19, 20, 21, 22, 23], \"xaxis\": \"x\", \"y\": [0.0, 0.0, 0.0, 0.0, 0.0, 0.0, 0.0, 0.0, 0.0, 0.0, 0.0, 0.0, 0.0, 0.0, 0.0, 0.0, 0.0, 0.0, 0.0, 0.0, 0.0, 0.0, 0.0, 0.0], \"yaxis\": \"y\"}, {\"alignmentgroup\": \"True\", \"hovertemplate\": \"variable=PENS Energy<br>index=%{x}<br>value=%{y}<extra></extra>\", \"legendgroup\": \"PENS Energy\", \"marker\": {\"color\": \"#D62728\"}, \"name\": \"PENS Energy\", \"offsetgroup\": \"PENS Energy\", \"orientation\": \"v\", \"showlegend\": true, \"textposition\": \"auto\", \"type\": \"bar\", \"x\": [0, 1, 2, 3, 4, 5, 6, 7, 8, 9, 10, 11, 12, 13, 14, 15, 16, 17, 18, 19, 20, 21, 22, 23], \"xaxis\": \"x\", \"y\": [0.0, 0.0, 0.0, 0.0, 0.0, 0.0, 0.0, 0.0, 0.0, 0.0, 0.0, 0.0, 0.0, 0.0, 0.0, 0.0, 0.0, 0.0, 0.0, 0.0, 0.0, 0.0, 0.0, 0.0], \"yaxis\": \"y\"}],                        {\"barmode\": \"relative\", \"font\": {\"color\": \"black\", \"family\": \"Times New Roman\", \"size\": 14}, \"height\": 400, \"legend\": {\"font\": {\"size\": 14}, \"orientation\": \"h\", \"title\": {\"text\": \"\"}, \"tracegroupgap\": 0, \"x\": 1, \"xanchor\": \"right\", \"y\": 1.02, \"yanchor\": \"bottom\"}, \"margin\": {\"t\": 60}, \"template\": {\"data\": {\"pie\": [{\"automargin\": true, \"type\": \"pie\"}]}, \"layout\": {\"xaxis\": {\"showgrid\": false, \"title\": {\"standoff\": 15}}, \"yaxis\": {\"title\": {\"standoff\": 15}}}}, \"title\": {\"font\": {\"family\": \"Times New Roman\"}}, \"width\": 520, \"xaxis\": {\"anchor\": \"y\", \"domain\": [0.0, 1.0], \"linecolor\": \"black\", \"nticks\": 15, \"showline\": false, \"title\": {\"text\": \"Time (hour)\"}}, \"yaxis\": {\"anchor\": \"x\", \"domain\": [0.0, 1.0], \"linecolor\": \"black\", \"nticks\": 10, \"showline\": true, \"title\": {\"text\": \"Energy [kWh]\"}}},                        {\"responsive\": true}                    ).then(function(){\n",
       "                            \n",
       "var gd = document.getElementById('7ddff8ed-a503-4eab-a425-2455e6ea42fd');\n",
       "var x = new MutationObserver(function (mutations, observer) {{\n",
       "        var display = window.getComputedStyle(gd).display;\n",
       "        if (!display || display === 'none') {{\n",
       "            console.log([gd, 'removed!']);\n",
       "            Plotly.purge(gd);\n",
       "            observer.disconnect();\n",
       "        }}\n",
       "}});\n",
       "\n",
       "// Listen for the removal of the full notebook cells\n",
       "var notebookContainer = gd.closest('#notebook-container');\n",
       "if (notebookContainer) {{\n",
       "    x.observe(notebookContainer, {childList: true});\n",
       "}}\n",
       "\n",
       "// Listen for the clearing of the current output cell\n",
       "var outputEl = gd.closest('.output');\n",
       "if (outputEl) {{\n",
       "    x.observe(outputEl, {childList: true});\n",
       "}}\n",
       "\n",
       "                        })                };                });            </script>        </div>"
      ]
     },
     "metadata": {},
     "output_type": "display_data"
    }
   ],
   "source": [
    "energy_to_load = tabla_resultados.tail(120)[['energia_descarga_bateria','energia_PV','energia_Dg','energia_ENS']].head(24).reset_index(drop=True)\n",
    "\n",
    "energy_to_load.columns = ['Battery Bank Energy','PV Energy','Diesel Energy','PENS Energy']\n",
    "\n",
    "graficar(tipo='bar',\n",
    "         lista_campos=['Battery Bank Energy','PV Energy','Diesel Energy','PENS Energy'],\n",
    "         titulo=\"\",\n",
    "        df = energy_to_load)"
   ]
  },
  {
   "cell_type": "code",
   "execution_count": 18,
   "metadata": {
    "ExecuteTime": {
     "end_time": "2021-06-30T02:54:28.814610Z",
     "start_time": "2021-06-30T02:54:27.680519Z"
    }
   },
   "outputs": [
    {
     "name": "stderr",
     "output_type": "stream",
     "text": [
      "C:\\Users\\wrope\\anaconda3\\lib\\site-packages\\ipykernel_launcher.py:1: FutureWarning:\n",
      "\n",
      "Indexing with multiple keys (implicitly converted to a tuple of keys) will be deprecated, use a list instead.\n",
      "\n"
     ]
    },
    {
     "data": {
      "application/vnd.plotly.v1+json": {
       "config": {
        "plotlyServerURL": "https://plot.ly"
       },
       "data": [
        {
         "alignmentgroup": "True",
         "hovertemplate": "variable=energia_descarga_bateria<br>index=%{x}<br>value=%{y}<extra></extra>",
         "legendgroup": "energia_descarga_bateria",
         "marker": {
          "color": "#1F77B4"
         },
         "name": "energia_descarga_bateria",
         "offsetgroup": "energia_descarga_bateria",
         "orientation": "v",
         "showlegend": true,
         "textposition": "auto",
         "type": "bar",
         "x": [
          0,
          1,
          2,
          3,
          4,
          5,
          6,
          7,
          8,
          9,
          10,
          11,
          12,
          13,
          14,
          15,
          16,
          17,
          18,
          19,
          20,
          21,
          22,
          23
         ],
         "xaxis": "x",
         "y": [
          -1.731792871893574,
          -1.6981502871249896,
          -1.6553740402488903,
          -1.6014885522745061,
          -1.4965270344068813,
          -1.3530246372059422,
          -0.48586906405000524,
          -0.06834217437601613,
          -0.31927092759059217,
          -0.6286065437656831,
          -0.3501844973913927,
          -0.12181787030483315,
          -0.11558109589041095,
          -0.26706259077104444,
          -0.5313684284700985,
          -1.2519518089965433,
          -0.23905835616438356,
          -2.5702989628257398,
          -5.488162122445386,
          -2.934022536937971,
          -1.861230489845482,
          -1.7948938650116504,
          -1.7743292851988808,
          -1.7659449964827911
         ],
         "yaxis": "y"
        },
        {
         "alignmentgroup": "True",
         "hovertemplate": "variable=energia_carga_bateria<br>index=%{x}<br>value=%{y}<extra></extra>",
         "legendgroup": "energia_carga_bateria",
         "marker": {
          "color": "#FF7F0E"
         },
         "name": "energia_carga_bateria",
         "offsetgroup": "energia_carga_bateria",
         "orientation": "v",
         "showlegend": true,
         "textposition": "auto",
         "type": "bar",
         "x": [
          0,
          1,
          2,
          3,
          4,
          5,
          6,
          7,
          8,
          9,
          10,
          11,
          12,
          13,
          14,
          15,
          16,
          17,
          18,
          19,
          20,
          21,
          22,
          23
         ],
         "xaxis": "x",
         "y": [
          0,
          0,
          0,
          0,
          0,
          0,
          0.3347905102277818,
          2.9412872702088726,
          4.008547040475519,
          3.9135306738191926,
          6.246908978528442,
          7.573887524095225,
          7.651906576986203,
          7.850071692282101,
          6.262242098904592,
          2.852617696350735,
          2.813001834992137,
          0.34605538230690197,
          0,
          0,
          0,
          0,
          0,
          0
         ],
         "yaxis": "y"
        }
       ],
       "layout": {
        "barmode": "relative",
        "font": {
         "color": "black",
         "family": "Times New Roman",
         "size": 14
        },
        "height": 400,
        "legend": {
         "font": {
          "size": 14
         },
         "orientation": "h",
         "title": {
          "text": "variable"
         },
         "tracegroupgap": 0,
         "x": 1,
         "xanchor": "right",
         "y": 1.02,
         "yanchor": "bottom"
        },
        "margin": {
         "t": 60
        },
        "template": {
         "data": {
          "pie": [
           {
            "automargin": true,
            "type": "pie"
           }
          ]
         },
         "layout": {
          "xaxis": {
           "showgrid": false,
           "title": {
            "standoff": 15
           }
          },
          "yaxis": {
           "title": {
            "standoff": 15
           }
          }
         }
        },
        "title": {
         "font": {
          "family": "Times New Roman"
         }
        },
        "width": 520,
        "xaxis": {
         "anchor": "y",
         "domain": [
          0,
          1
         ],
         "linecolor": "black",
         "nticks": 15,
         "showline": false,
         "title": {
          "text": "Time (hour)"
         }
        },
        "yaxis": {
         "anchor": "x",
         "domain": [
          0,
          1
         ],
         "linecolor": "black",
         "nticks": 10,
         "showline": true,
         "title": {
          "text": "Energy [kWh]"
         }
        }
       }
      },
      "text/html": [
       "<div>                            <div id=\"a49c25db-400b-4478-a085-f07764512598\" class=\"plotly-graph-div\" style=\"height:400px; width:520px;\"></div>            <script type=\"text/javascript\">                require([\"plotly\"], function(Plotly) {                    window.PLOTLYENV=window.PLOTLYENV || {};                                    if (document.getElementById(\"a49c25db-400b-4478-a085-f07764512598\")) {                    Plotly.newPlot(                        \"a49c25db-400b-4478-a085-f07764512598\",                        [{\"alignmentgroup\": \"True\", \"hovertemplate\": \"variable=energia_descarga_bateria<br>index=%{x}<br>value=%{y}<extra></extra>\", \"legendgroup\": \"energia_descarga_bateria\", \"marker\": {\"color\": \"#1F77B4\"}, \"name\": \"energia_descarga_bateria\", \"offsetgroup\": \"energia_descarga_bateria\", \"orientation\": \"v\", \"showlegend\": true, \"textposition\": \"auto\", \"type\": \"bar\", \"x\": [0, 1, 2, 3, 4, 5, 6, 7, 8, 9, 10, 11, 12, 13, 14, 15, 16, 17, 18, 19, 20, 21, 22, 23], \"xaxis\": \"x\", \"y\": [-1.731792871893574, -1.6981502871249896, -1.6553740402488903, -1.6014885522745061, -1.4965270344068813, -1.3530246372059422, -0.48586906405000524, -0.06834217437601613, -0.31927092759059217, -0.6286065437656831, -0.3501844973913927, -0.12181787030483315, -0.11558109589041095, -0.26706259077104444, -0.5313684284700985, -1.2519518089965433, -0.23905835616438356, -2.5702989628257398, -5.488162122445386, -2.934022536937971, -1.861230489845482, -1.7948938650116504, -1.7743292851988808, -1.7659449964827911], \"yaxis\": \"y\"}, {\"alignmentgroup\": \"True\", \"hovertemplate\": \"variable=energia_carga_bateria<br>index=%{x}<br>value=%{y}<extra></extra>\", \"legendgroup\": \"energia_carga_bateria\", \"marker\": {\"color\": \"#FF7F0E\"}, \"name\": \"energia_carga_bateria\", \"offsetgroup\": \"energia_carga_bateria\", \"orientation\": \"v\", \"showlegend\": true, \"textposition\": \"auto\", \"type\": \"bar\", \"x\": [0, 1, 2, 3, 4, 5, 6, 7, 8, 9, 10, 11, 12, 13, 14, 15, 16, 17, 18, 19, 20, 21, 22, 23], \"xaxis\": \"x\", \"y\": [0.0, 0.0, 0.0, 0.0, 0.0, 0.0, 0.3347905102277818, 2.9412872702088726, 4.008547040475519, 3.9135306738191926, 6.246908978528442, 7.573887524095225, 7.651906576986203, 7.850071692282101, 6.262242098904592, 2.852617696350735, 2.813001834992137, 0.34605538230690197, 0.0, 0.0, 0.0, 0.0, 0.0, 0.0], \"yaxis\": \"y\"}],                        {\"barmode\": \"relative\", \"font\": {\"color\": \"black\", \"family\": \"Times New Roman\", \"size\": 14}, \"height\": 400, \"legend\": {\"font\": {\"size\": 14}, \"orientation\": \"h\", \"title\": {\"text\": \"variable\"}, \"tracegroupgap\": 0, \"x\": 1, \"xanchor\": \"right\", \"y\": 1.02, \"yanchor\": \"bottom\"}, \"margin\": {\"t\": 60}, \"template\": {\"data\": {\"pie\": [{\"automargin\": true, \"type\": \"pie\"}]}, \"layout\": {\"xaxis\": {\"showgrid\": false, \"title\": {\"standoff\": 15}}, \"yaxis\": {\"title\": {\"standoff\": 15}}}}, \"title\": {\"font\": {\"family\": \"Times New Roman\"}}, \"width\": 520, \"xaxis\": {\"anchor\": \"y\", \"domain\": [0.0, 1.0], \"linecolor\": \"black\", \"nticks\": 15, \"showline\": false, \"title\": {\"text\": \"Time (hour)\"}}, \"yaxis\": {\"anchor\": \"x\", \"domain\": [0.0, 1.0], \"linecolor\": \"black\", \"nticks\": 10, \"showline\": true, \"title\": {\"text\": \"Energy [kWh]\"}}},                        {\"responsive\": true}                    ).then(function(){\n",
       "                            \n",
       "var gd = document.getElementById('a49c25db-400b-4478-a085-f07764512598');\n",
       "var x = new MutationObserver(function (mutations, observer) {{\n",
       "        var display = window.getComputedStyle(gd).display;\n",
       "        if (!display || display === 'none') {{\n",
       "            console.log([gd, 'removed!']);\n",
       "            Plotly.purge(gd);\n",
       "            observer.disconnect();\n",
       "        }}\n",
       "}});\n",
       "\n",
       "// Listen for the removal of the full notebook cells\n",
       "var notebookContainer = gd.closest('#notebook-container');\n",
       "if (notebookContainer) {{\n",
       "    x.observe(notebookContainer, {childList: true});\n",
       "}}\n",
       "\n",
       "// Listen for the clearing of the current output cell\n",
       "var outputEl = gd.closest('.output');\n",
       "if (outputEl) {{\n",
       "    x.observe(outputEl, {childList: true});\n",
       "}}\n",
       "\n",
       "                        })                };                });            </script>        </div>"
      ]
     },
     "metadata": {},
     "output_type": "display_data"
    },
    {
     "name": "stderr",
     "output_type": "stream",
     "text": [
      "C:\\Users\\wrope\\anaconda3\\lib\\site-packages\\ipykernel_launcher.py:9: FutureWarning:\n",
      "\n",
      "Indexing with multiple keys (implicitly converted to a tuple of keys) will be deprecated, use a list instead.\n",
      "\n"
     ]
    },
    {
     "ename": "ValueError",
     "evalue": "Value of 'x' is not the name of a column in 'data_frame'. Expected one of ['hora', 'p_bat_pv', 'energia_carga_bateria', 'p_bat_dg'] but received: hour",
     "output_type": "error",
     "traceback": [
      "\u001b[1;31m---------------------------------------------------------------------------\u001b[0m",
      "\u001b[1;31mValueError\u001b[0m                                Traceback (most recent call last)",
      "\u001b[1;32m<ipython-input-18-e2092f7762fe>\u001b[0m in \u001b[0;36m<module>\u001b[1;34m\u001b[0m\n\u001b[0;32m     13\u001b[0m          \u001b[0mlista_campos\u001b[0m\u001b[1;33m=\u001b[0m\u001b[1;33m[\u001b[0m\u001b[1;34m'p_bat_pv'\u001b[0m\u001b[1;33m,\u001b[0m\u001b[1;34m'energia_carga_bateria'\u001b[0m\u001b[1;33m,\u001b[0m\u001b[1;34m'p_bat_dg'\u001b[0m\u001b[1;33m]\u001b[0m\u001b[1;33m,\u001b[0m\u001b[1;33m\u001b[0m\u001b[1;33m\u001b[0m\u001b[0m\n\u001b[0;32m     14\u001b[0m          \u001b[0mtitulo\u001b[0m\u001b[1;33m=\u001b[0m\u001b[1;34m\"\"\u001b[0m\u001b[1;33m,\u001b[0m\u001b[1;33m\u001b[0m\u001b[1;33m\u001b[0m\u001b[0m\n\u001b[1;32m---> 15\u001b[1;33m         df = pv_disp )\n\u001b[0m\u001b[0;32m     16\u001b[0m \u001b[1;33m\u001b[0m\u001b[0m\n\u001b[0;32m     17\u001b[0m \u001b[0mdg_disp\u001b[0m \u001b[1;33m=\u001b[0m \u001b[0mtabla_resultados\u001b[0m\u001b[1;33m.\u001b[0m\u001b[0mgroupby\u001b[0m\u001b[1;33m(\u001b[0m\u001b[1;33m[\u001b[0m\u001b[1;34m\"hora\"\u001b[0m\u001b[1;33m]\u001b[0m\u001b[1;33m)\u001b[0m\u001b[1;33m[\u001b[0m\u001b[1;34m'energia_Dg'\u001b[0m\u001b[1;33m,\u001b[0m\u001b[1;34m'p_bat_dg'\u001b[0m\u001b[1;33m]\u001b[0m\u001b[1;33m.\u001b[0m\u001b[0mmean\u001b[0m\u001b[1;33m(\u001b[0m\u001b[1;33m)\u001b[0m\u001b[1;33m.\u001b[0m\u001b[0mreset_index\u001b[0m\u001b[1;33m(\u001b[0m\u001b[1;33m)\u001b[0m\u001b[1;33m\u001b[0m\u001b[1;33m\u001b[0m\u001b[0m\n",
      "\u001b[1;32m<ipython-input-8-779116874345>\u001b[0m in \u001b[0;36mgraficar\u001b[1;34m(tipo, lista_campos, titulo, df)\u001b[0m\n\u001b[0;32m     16\u001b[0m                       \u001b[0mcategory_orders\u001b[0m\u001b[1;33m=\u001b[0m\u001b[1;33m{\u001b[0m\u001b[1;34m\"State\"\u001b[0m\u001b[1;33m:\u001b[0m \u001b[0mlista_campos\u001b[0m\u001b[1;33m}\u001b[0m\u001b[1;33m,\u001b[0m\u001b[1;33m\u001b[0m\u001b[1;33m\u001b[0m\u001b[0m\n\u001b[0;32m     17\u001b[0m               \u001b[0mwidth\u001b[0m\u001b[1;33m=\u001b[0m\u001b[1;36m520\u001b[0m\u001b[1;33m,\u001b[0m\u001b[1;33m\u001b[0m\u001b[1;33m\u001b[0m\u001b[0m\n\u001b[1;32m---> 18\u001b[1;33m               height=400)\n\u001b[0m\u001b[0;32m     19\u001b[0m     \u001b[0mfig\u001b[0m\u001b[1;33m.\u001b[0m\u001b[0mupdate_yaxes\u001b[0m\u001b[1;33m(\u001b[0m\u001b[0mnticks\u001b[0m\u001b[1;33m=\u001b[0m\u001b[1;36m10\u001b[0m\u001b[1;33m)\u001b[0m\u001b[1;33m\u001b[0m\u001b[1;33m\u001b[0m\u001b[0m\n\u001b[0;32m     20\u001b[0m     \u001b[0mfig\u001b[0m\u001b[1;33m.\u001b[0m\u001b[0mupdate_xaxes\u001b[0m\u001b[1;33m(\u001b[0m\u001b[0mnticks\u001b[0m\u001b[1;33m=\u001b[0m\u001b[1;36m15\u001b[0m\u001b[1;33m)\u001b[0m\u001b[1;33m\u001b[0m\u001b[1;33m\u001b[0m\u001b[0m\n",
      "\u001b[1;32m~\\anaconda3\\lib\\site-packages\\plotly\\express\\_chart_types.py\u001b[0m in \u001b[0;36mline\u001b[1;34m(data_frame, x, y, line_group, color, line_dash, hover_name, hover_data, custom_data, text, facet_row, facet_col, facet_col_wrap, facet_row_spacing, facet_col_spacing, error_x, error_x_minus, error_y, error_y_minus, animation_frame, animation_group, category_orders, labels, orientation, color_discrete_sequence, color_discrete_map, line_dash_sequence, line_dash_map, log_x, log_y, range_x, range_y, line_shape, render_mode, title, template, width, height)\u001b[0m\n\u001b[0;32m    250\u001b[0m     \u001b[0ma\u001b[0m \u001b[0mpolyline\u001b[0m \u001b[0mmark\u001b[0m \u001b[1;32min\u001b[0m \u001b[1;36m2\u001b[0m\u001b[0mD\u001b[0m \u001b[0mspace\u001b[0m\u001b[1;33m.\u001b[0m\u001b[1;33m\u001b[0m\u001b[1;33m\u001b[0m\u001b[0m\n\u001b[0;32m    251\u001b[0m     \"\"\"\n\u001b[1;32m--> 252\u001b[1;33m     \u001b[1;32mreturn\u001b[0m \u001b[0mmake_figure\u001b[0m\u001b[1;33m(\u001b[0m\u001b[0margs\u001b[0m\u001b[1;33m=\u001b[0m\u001b[0mlocals\u001b[0m\u001b[1;33m(\u001b[0m\u001b[1;33m)\u001b[0m\u001b[1;33m,\u001b[0m \u001b[0mconstructor\u001b[0m\u001b[1;33m=\u001b[0m\u001b[0mgo\u001b[0m\u001b[1;33m.\u001b[0m\u001b[0mScatter\u001b[0m\u001b[1;33m)\u001b[0m\u001b[1;33m\u001b[0m\u001b[1;33m\u001b[0m\u001b[0m\n\u001b[0m\u001b[0;32m    253\u001b[0m \u001b[1;33m\u001b[0m\u001b[0m\n\u001b[0;32m    254\u001b[0m \u001b[1;33m\u001b[0m\u001b[0m\n",
      "\u001b[1;32m~\\anaconda3\\lib\\site-packages\\plotly\\express\\_core.py\u001b[0m in \u001b[0;36mmake_figure\u001b[1;34m(args, constructor, trace_patch, layout_patch)\u001b[0m\n\u001b[0;32m   1859\u001b[0m     \u001b[0mapply_default_cascade\u001b[0m\u001b[1;33m(\u001b[0m\u001b[0margs\u001b[0m\u001b[1;33m)\u001b[0m\u001b[1;33m\u001b[0m\u001b[1;33m\u001b[0m\u001b[0m\n\u001b[0;32m   1860\u001b[0m \u001b[1;33m\u001b[0m\u001b[0m\n\u001b[1;32m-> 1861\u001b[1;33m     \u001b[0margs\u001b[0m \u001b[1;33m=\u001b[0m \u001b[0mbuild_dataframe\u001b[0m\u001b[1;33m(\u001b[0m\u001b[0margs\u001b[0m\u001b[1;33m,\u001b[0m \u001b[0mconstructor\u001b[0m\u001b[1;33m)\u001b[0m\u001b[1;33m\u001b[0m\u001b[1;33m\u001b[0m\u001b[0m\n\u001b[0m\u001b[0;32m   1862\u001b[0m     \u001b[1;32mif\u001b[0m \u001b[0mconstructor\u001b[0m \u001b[1;32min\u001b[0m \u001b[1;33m[\u001b[0m\u001b[0mgo\u001b[0m\u001b[1;33m.\u001b[0m\u001b[0mTreemap\u001b[0m\u001b[1;33m,\u001b[0m \u001b[0mgo\u001b[0m\u001b[1;33m.\u001b[0m\u001b[0mSunburst\u001b[0m\u001b[1;33m]\u001b[0m \u001b[1;32mand\u001b[0m \u001b[0margs\u001b[0m\u001b[1;33m[\u001b[0m\u001b[1;34m\"path\"\u001b[0m\u001b[1;33m]\u001b[0m \u001b[1;32mis\u001b[0m \u001b[1;32mnot\u001b[0m \u001b[1;32mNone\u001b[0m\u001b[1;33m:\u001b[0m\u001b[1;33m\u001b[0m\u001b[1;33m\u001b[0m\u001b[0m\n\u001b[0;32m   1863\u001b[0m         \u001b[0margs\u001b[0m \u001b[1;33m=\u001b[0m \u001b[0mprocess_dataframe_hierarchy\u001b[0m\u001b[1;33m(\u001b[0m\u001b[0margs\u001b[0m\u001b[1;33m)\u001b[0m\u001b[1;33m\u001b[0m\u001b[1;33m\u001b[0m\u001b[0m\n",
      "\u001b[1;32m~\\anaconda3\\lib\\site-packages\\plotly\\express\\_core.py\u001b[0m in \u001b[0;36mbuild_dataframe\u001b[1;34m(args, constructor)\u001b[0m\n\u001b[0;32m   1376\u001b[0m \u001b[1;33m\u001b[0m\u001b[0m\n\u001b[0;32m   1377\u001b[0m     df_output, wide_id_vars = process_args_into_dataframe(\n\u001b[1;32m-> 1378\u001b[1;33m         \u001b[0margs\u001b[0m\u001b[1;33m,\u001b[0m \u001b[0mwide_mode\u001b[0m\u001b[1;33m,\u001b[0m \u001b[0mvar_name\u001b[0m\u001b[1;33m,\u001b[0m \u001b[0mvalue_name\u001b[0m\u001b[1;33m\u001b[0m\u001b[1;33m\u001b[0m\u001b[0m\n\u001b[0m\u001b[0;32m   1379\u001b[0m     )\n\u001b[0;32m   1380\u001b[0m \u001b[1;33m\u001b[0m\u001b[0m\n",
      "\u001b[1;32m~\\anaconda3\\lib\\site-packages\\plotly\\express\\_core.py\u001b[0m in \u001b[0;36mprocess_args_into_dataframe\u001b[1;34m(args, wide_mode, var_name, value_name)\u001b[0m\n\u001b[0;32m   1181\u001b[0m                         \u001b[1;32mif\u001b[0m \u001b[0margument\u001b[0m \u001b[1;33m==\u001b[0m \u001b[1;34m\"index\"\u001b[0m\u001b[1;33m:\u001b[0m\u001b[1;33m\u001b[0m\u001b[1;33m\u001b[0m\u001b[0m\n\u001b[0;32m   1182\u001b[0m                             \u001b[0merr_msg\u001b[0m \u001b[1;33m+=\u001b[0m \u001b[1;34m\"\\n To use the index, pass it in directly as `df.index`.\"\u001b[0m\u001b[1;33m\u001b[0m\u001b[1;33m\u001b[0m\u001b[0m\n\u001b[1;32m-> 1183\u001b[1;33m                         \u001b[1;32mraise\u001b[0m \u001b[0mValueError\u001b[0m\u001b[1;33m(\u001b[0m\u001b[0merr_msg\u001b[0m\u001b[1;33m)\u001b[0m\u001b[1;33m\u001b[0m\u001b[1;33m\u001b[0m\u001b[0m\n\u001b[0m\u001b[0;32m   1184\u001b[0m                 \u001b[1;32melif\u001b[0m \u001b[0mlength\u001b[0m \u001b[1;32mand\u001b[0m \u001b[0mlen\u001b[0m\u001b[1;33m(\u001b[0m\u001b[0mdf_input\u001b[0m\u001b[1;33m[\u001b[0m\u001b[0margument\u001b[0m\u001b[1;33m]\u001b[0m\u001b[1;33m)\u001b[0m \u001b[1;33m!=\u001b[0m \u001b[0mlength\u001b[0m\u001b[1;33m:\u001b[0m\u001b[1;33m\u001b[0m\u001b[1;33m\u001b[0m\u001b[0m\n\u001b[0;32m   1185\u001b[0m                     raise ValueError(\n",
      "\u001b[1;31mValueError\u001b[0m: Value of 'x' is not the name of a column in 'data_frame'. Expected one of ['hora', 'p_bat_pv', 'energia_carga_bateria', 'p_bat_dg'] but received: hour"
     ]
    }
   ],
   "source": [
    "bat_c = tabla_resultados.groupby([\"hora\"])['energia_descarga_bateria','energia_carga_bateria'].mean().reset_index()\n",
    "bat_c['energia_descarga_bateria'] = bat_c['energia_descarga_bateria']*-1\n",
    "\n",
    "graficar(tipo='bar',\n",
    "         lista_campos=['energia_descarga_bateria','energia_carga_bateria'],\n",
    "         titulo=\"\",\n",
    "        df = bat_c)\n",
    "\n",
    "pv_disp = tabla_resultados.groupby([\"hora\"])['p_bat_pv','energia_carga_bateria',\n",
    "                                             'p_bat_dg'].mean().reset_index()\n",
    "\n",
    "graficar(tipo='linea',\n",
    "         lista_campos=['p_bat_pv','energia_carga_bateria','p_bat_dg'],\n",
    "         titulo=\"\",\n",
    "        df = pv_disp )\n",
    "\n",
    "dg_disp = tabla_resultados.groupby([\"hora\"])['energia_Dg','p_bat_dg'].mean().reset_index()\n",
    "\n",
    "graficar(tipo='bar',\n",
    "         lista_campos=['energia_Dg','p_bat_dg'],\n",
    "         titulo=\"\",\n",
    "        df = dg_disp )"
   ]
  },
  {
   "cell_type": "code",
   "execution_count": null,
   "metadata": {},
   "outputs": [],
   "source": []
  }
 ],
 "metadata": {
  "hide_input": false,
  "kernelspec": {
   "display_name": "Python 3",
   "language": "python",
   "name": "python3"
  },
  "language_info": {
   "codemirror_mode": {
    "name": "ipython",
    "version": 3
   },
   "file_extension": ".py",
   "mimetype": "text/x-python",
   "name": "python",
   "nbconvert_exporter": "python",
   "pygments_lexer": "ipython3",
   "version": "3.7.6"
  },
  "toc": {
   "base_numbering": 1,
   "nav_menu": {},
   "number_sections": true,
   "sideBar": true,
   "skip_h1_title": false,
   "title_cell": "Table of Contents",
   "title_sidebar": "Contents",
   "toc_cell": false,
   "toc_position": {},
   "toc_section_display": true,
   "toc_window_display": false
  },
  "varInspector": {
   "cols": {
    "lenName": 16,
    "lenType": 16,
    "lenVar": 40
   },
   "kernels_config": {
    "python": {
     "delete_cmd_postfix": "",
     "delete_cmd_prefix": "del ",
     "library": "var_list.py",
     "varRefreshCmd": "print(var_dic_list())"
    },
    "r": {
     "delete_cmd_postfix": ") ",
     "delete_cmd_prefix": "rm(",
     "library": "var_list.r",
     "varRefreshCmd": "cat(var_dic_list()) "
    }
   },
   "types_to_exclude": [
    "module",
    "function",
    "builtin_function_or_method",
    "instance",
    "_Feature"
   ],
   "window_display": false
  }
 },
 "nbformat": 4,
 "nbformat_minor": 2
}
